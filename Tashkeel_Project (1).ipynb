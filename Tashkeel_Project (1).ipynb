{
  "nbformat": 4,
  "nbformat_minor": 0,
  "metadata": {
    "colab": {
      "name": "Tashkeel_Project.ipynb",
      "provenance": [],
      "collapsed_sections": [],
      "toc_visible": true
    },
    "kernelspec": {
      "name": "python3",
      "display_name": "Python 3"
    },
    "language_info": {
      "name": "python"
    }
  },
  "cells": [
    {
      "cell_type": "markdown",
      "metadata": {
        "id": "IaNiw0J5UeqC"
      },
      "source": [
        "# Tashkeel Project "
      ]
    },
    {
      "cell_type": "markdown",
      "metadata": {
        "id": "itG2bD5RUybK"
      },
      "source": [
        "#AraVec Word Embbedding \n",
        "\n",
        "####Please Follow this notbook to refernce word embbeding step\n",
        "\n",
        "https://github.com/bakrianoo/aravec/blob/master/aravec-with-spacy.ipynb"
      ]
    },
    {
      "cell_type": "code",
      "metadata": {
        "colab": {
          "base_uri": "https://localhost:8080/"
        },
        "id": "amj9dDrC5GcF",
        "outputId": "fdc8b38c-570c-42f3-9d47-97635d0d09c5"
      },
      "source": [
        "!pip install gensim spacy nltk"
      ],
      "execution_count": null,
      "outputs": [
        {
          "output_type": "stream",
          "name": "stdout",
          "text": [
            "Requirement already satisfied: gensim in /usr/local/lib/python3.7/dist-packages (3.6.0)\n",
            "Requirement already satisfied: spacy in /usr/local/lib/python3.7/dist-packages (2.2.4)\n",
            "Requirement already satisfied: nltk in /usr/local/lib/python3.7/dist-packages (3.2.5)\n",
            "Requirement already satisfied: six>=1.5.0 in /usr/local/lib/python3.7/dist-packages (from gensim) (1.15.0)\n",
            "Requirement already satisfied: scipy>=0.18.1 in /usr/local/lib/python3.7/dist-packages (from gensim) (1.4.1)\n",
            "Requirement already satisfied: numpy>=1.11.3 in /usr/local/lib/python3.7/dist-packages (from gensim) (1.19.5)\n",
            "Requirement already satisfied: smart-open>=1.2.1 in /usr/local/lib/python3.7/dist-packages (from gensim) (5.2.1)\n",
            "Requirement already satisfied: requests<3.0.0,>=2.13.0 in /usr/local/lib/python3.7/dist-packages (from spacy) (2.23.0)\n",
            "Requirement already satisfied: plac<1.2.0,>=0.9.6 in /usr/local/lib/python3.7/dist-packages (from spacy) (1.1.3)\n",
            "Requirement already satisfied: tqdm<5.0.0,>=4.38.0 in /usr/local/lib/python3.7/dist-packages (from spacy) (4.62.3)\n",
            "Requirement already satisfied: catalogue<1.1.0,>=0.0.7 in /usr/local/lib/python3.7/dist-packages (from spacy) (1.0.0)\n",
            "Requirement already satisfied: setuptools in /usr/local/lib/python3.7/dist-packages (from spacy) (57.4.0)\n",
            "Requirement already satisfied: thinc==7.4.0 in /usr/local/lib/python3.7/dist-packages (from spacy) (7.4.0)\n",
            "Requirement already satisfied: murmurhash<1.1.0,>=0.28.0 in /usr/local/lib/python3.7/dist-packages (from spacy) (1.0.6)\n",
            "Requirement already satisfied: preshed<3.1.0,>=3.0.2 in /usr/local/lib/python3.7/dist-packages (from spacy) (3.0.6)\n",
            "Requirement already satisfied: wasabi<1.1.0,>=0.4.0 in /usr/local/lib/python3.7/dist-packages (from spacy) (0.8.2)\n",
            "Requirement already satisfied: srsly<1.1.0,>=1.0.2 in /usr/local/lib/python3.7/dist-packages (from spacy) (1.0.5)\n",
            "Requirement already satisfied: blis<0.5.0,>=0.4.0 in /usr/local/lib/python3.7/dist-packages (from spacy) (0.4.1)\n",
            "Requirement already satisfied: cymem<2.1.0,>=2.0.2 in /usr/local/lib/python3.7/dist-packages (from spacy) (2.0.6)\n",
            "Requirement already satisfied: importlib-metadata>=0.20 in /usr/local/lib/python3.7/dist-packages (from catalogue<1.1.0,>=0.0.7->spacy) (4.8.2)\n",
            "Requirement already satisfied: zipp>=0.5 in /usr/local/lib/python3.7/dist-packages (from importlib-metadata>=0.20->catalogue<1.1.0,>=0.0.7->spacy) (3.6.0)\n",
            "Requirement already satisfied: typing-extensions>=3.6.4 in /usr/local/lib/python3.7/dist-packages (from importlib-metadata>=0.20->catalogue<1.1.0,>=0.0.7->spacy) (3.10.0.2)\n",
            "Requirement already satisfied: chardet<4,>=3.0.2 in /usr/local/lib/python3.7/dist-packages (from requests<3.0.0,>=2.13.0->spacy) (3.0.4)\n",
            "Requirement already satisfied: idna<3,>=2.5 in /usr/local/lib/python3.7/dist-packages (from requests<3.0.0,>=2.13.0->spacy) (2.10)\n",
            "Requirement already satisfied: urllib3!=1.25.0,!=1.25.1,<1.26,>=1.21.1 in /usr/local/lib/python3.7/dist-packages (from requests<3.0.0,>=2.13.0->spacy) (1.24.3)\n",
            "Requirement already satisfied: certifi>=2017.4.17 in /usr/local/lib/python3.7/dist-packages (from requests<3.0.0,>=2.13.0->spacy) (2021.10.8)\n"
          ]
        }
      ]
    },
    {
      "cell_type": "markdown",
      "metadata": {
        "id": "ykfUtJGgWeEP"
      },
      "source": [
        "## Cleaning the text  to estimate the embedding vector"
      ]
    },
    {
      "cell_type": "code",
      "metadata": {
        "id": "gV3qSNO_5JGh"
      },
      "source": [
        "import gensim\n",
        "import re\n",
        "import spacy\n",
        "\n",
        "                                ##        BIG NOTE       ##\n",
        "\n",
        "# We will not use this cleaning function we implment our cleaning function , thus we didnot use it \n",
        "# for volwelized input , we include it here as following up for the refernced notebook (AraVec with spacy) \n",
        "\n",
        "\n",
        "\n",
        "\n",
        "# Clean/Normalize Arabic Text\n",
        "def clean_str(text):\n",
        "    search = [\"أ\",\"إ\",\"آ\",\"ة\",\"_\",\"-\",\"/\",\".\",\"،\",\" و \",\" يا \",'\"',\"ـ\",\"'\",\"ى\",\"\\\\\",'\\n', '\\t','&quot;','?','؟','!']\n",
        "    replace = [\"ا\",\"ا\",\"ا\",\"ه\",\" \",\" \",\"\",\"\",\"\",\" و\",\" يا\",\"\",\"\",\"\",\"ي\",\"\",' ', ' ',' ',' ? ',' ؟ ',' ! ']\n",
        "    \n",
        "    #remove tashkeel\n",
        "    p_tashkeel = re.compile(r'[\\u0617-\\u061A\\u064B-\\u0652]')\n",
        "    text = re.sub(p_tashkeel,\"\", text)\n",
        "    \n",
        "    #remove longation\n",
        "    p_longation = re.compile(r'(.)\\1+')\n",
        "    subst = r\"\\1\\1\"\n",
        "    text = re.sub(p_longation, subst, text)\n",
        "    \n",
        "    text = text.replace('وو', 'و')\n",
        "    text = text.replace('يي', 'ي')\n",
        "    text = text.replace('اا', 'ا')\n",
        "    \n",
        "    for i in range(0, len(search)):\n",
        "        text = text.replace(search[i], replace[i])\n",
        "    \n",
        "    #trim    \n",
        "    text = text.strip()\n",
        "\n",
        "    return text"
      ],
      "execution_count": null,
      "outputs": []
    },
    {
      "cell_type": "markdown",
      "metadata": {
        "id": "ht2u-V7DWxsY"
      },
      "source": [
        "### We used \"tweet_cbow_100\" model from AraVec to estimate word vector"
      ]
    },
    {
      "cell_type": "code",
      "metadata": {
        "colab": {
          "base_uri": "https://localhost:8080/"
        },
        "id": "d0ZWdWLi7mAy",
        "outputId": "ad615a46-a90d-4672-dd89-8ca96c6288a6"
      },
      "source": [
        "# Download via terminal commands\n",
        "!wget \"https://archive.org/download/aravec2.0/tweet_cbow_100.zip\"\n",
        "\n",
        "                                ## BIG NOTE ##\n",
        "\n",
        "'''\n",
        "- we don't follow here AraVec with spacy notebook , because we will not use the our selected pretrained model \n",
        "which is \"tweet_cbow_100\"\n",
        "\n",
        "\n",
        "'''"
      ],
      "execution_count": null,
      "outputs": [
        {
          "output_type": "stream",
          "name": "stdout",
          "text": [
            "--2021-11-20 20:17:50--  https://archive.org/download/aravec2.0/tweet_cbow_100.zip\n",
            "Resolving archive.org (archive.org)... 207.241.224.2\n",
            "Connecting to archive.org (archive.org)|207.241.224.2|:443... connected.\n",
            "HTTP request sent, awaiting response... 302 Found\n",
            "Location: https://ia903107.us.archive.org/0/items/aravec2.0/tweet_cbow_100.zip [following]\n",
            "--2021-11-20 20:17:51--  https://ia903107.us.archive.org/0/items/aravec2.0/tweet_cbow_100.zip\n",
            "Resolving ia903107.us.archive.org (ia903107.us.archive.org)... 207.241.232.147\n",
            "Connecting to ia903107.us.archive.org (ia903107.us.archive.org)|207.241.232.147|:443... connected.\n",
            "HTTP request sent, awaiting response... 200 OK\n",
            "Length: 253946430 (242M) [application/zip]\n",
            "Saving to: ‘tweet_cbow_100.zip’\n",
            "\n",
            "tweet_cbow_100.zip  100%[===================>] 242.18M  1.88MB/s    in 2m 17s  \n",
            "\n",
            "2021-11-20 20:20:08 (1.76 MB/s) - ‘tweet_cbow_100.zip’ saved [253946430/253946430]\n",
            "\n"
          ]
        }
      ]
    },
    {
      "cell_type": "code",
      "metadata": {
        "colab": {
          "base_uri": "https://localhost:8080/"
        },
        "id": "v9xGn0k39DUZ",
        "outputId": "ef00def5-35cc-4d28-8278-91b955654694"
      },
      "source": [
        "!unzip \"/content/tweet_cbow_100.zip\""
      ],
      "execution_count": null,
      "outputs": [
        {
          "output_type": "stream",
          "name": "stdout",
          "text": [
            "Archive:  /content/tweet_cbow_100.zip\n",
            "  inflating: tweets_cbow_100         \n",
            "  inflating: tweets_cbow_100.trainables.syn1neg.npy  \n",
            "  inflating: tweets_cbow_100.wv.vectors.npy  \n"
          ]
        }
      ]
    },
    {
      "cell_type": "code",
      "metadata": {
        "colab": {
          "base_uri": "https://localhost:8080/"
        },
        "id": "09j22joR8z5A",
        "outputId": "d7f999ec-5253-43be-e63e-a157987b0b2a"
      },
      "source": [
        "# load the AraVec model\n",
        "model = gensim.models.Word2Vec.load(\"/content/tweets_cbow_100\")\n",
        "print(\"We've\",len(model.wv.index2word),\"vocabularies\")"
      ],
      "execution_count": null,
      "outputs": [
        {
          "output_type": "stream",
          "name": "stdout",
          "text": [
            "We've 331679 vocabularies\n"
          ]
        }
      ]
    },
    {
      "cell_type": "code",
      "metadata": {
        "id": "8GJzXer65LsU"
      },
      "source": [
        "# make a directory called \"spacyModel\"\n",
        "%mkdir spacyModel"
      ],
      "execution_count": null,
      "outputs": []
    },
    {
      "cell_type": "code",
      "metadata": {
        "id": "SjelgNnk5cU3"
      },
      "source": [
        "# export the word2vec fomart to the directory\n",
        "model.wv.save_word2vec_format(\"./spacyModel/aravec.txt\")"
      ],
      "execution_count": null,
      "outputs": []
    },
    {
      "cell_type": "code",
      "metadata": {
        "id": "po8Pu27D5Rbl"
      },
      "source": [
        "# using `gzip` to compress the .txt file\n",
        "!gzip ./spacyModel/aravec.txt"
      ],
      "execution_count": null,
      "outputs": []
    },
    {
      "cell_type": "code",
      "metadata": {
        "colab": {
          "base_uri": "https://localhost:8080/"
        },
        "id": "TD9otyII-EbK",
        "outputId": "6c6c77c0-58f9-457e-e13a-9aa6f639df9b"
      },
      "source": [
        "!python -m spacy  init-model ar spacy.aravec.model --vectors-loc ./spacyModel/aravec.txt.gz"
      ],
      "execution_count": null,
      "outputs": [
        {
          "output_type": "stream",
          "name": "stdout",
          "text": [
            "\u001b[2K\u001b[38;5;2m✔ Successfully created model\u001b[0m\n",
            "331679it [00:14, 22651.38it/s]\n",
            "\u001b[2K\u001b[38;5;2m✔ Loaded vectors from spacyModel/aravec.txt.gz\u001b[0m\n",
            "\u001b[38;5;2m✔ Sucessfully compiled vocab\u001b[0m\n",
            "331867 entries, 331679 vectors\n"
          ]
        }
      ]
    },
    {
      "cell_type": "code",
      "metadata": {
        "id": "E8klhd7J-QiY"
      },
      "source": [
        "# load AraVec Spacy model\n",
        "nlp = spacy.load(\"./spacy.aravec.model/\")"
      ],
      "execution_count": null,
      "outputs": []
    },
    {
      "cell_type": "code",
      "metadata": {
        "id": "_oS1u2dW-X67"
      },
      "source": [
        "# Define the preprocessing Class\n",
        "class Preprocessor:\n",
        "    def __init__(self, tokenizer, **cfg):\n",
        "        self.tokenizer = tokenizer\n",
        "\n",
        "    def __call__(self, text):\n",
        "        preprocessed = clean_str(text)\n",
        "        return self.tokenizer(preprocessed)"
      ],
      "execution_count": null,
      "outputs": []
    },
    {
      "cell_type": "code",
      "metadata": {
        "id": "9DxncGVi-apI"
      },
      "source": [
        "# Apply the `Preprocessor` Class\n",
        "nlp.tokenizer = Preprocessor(nlp.tokenizer)"
      ],
      "execution_count": null,
      "outputs": []
    },
    {
      "cell_type": "markdown",
      "metadata": {
        "id": "vQDoPqNsXBSk"
      },
      "source": [
        "### Now we can calculate word vector for arabic word \n",
        "\n",
        "Please note that \"tweets_cbow_100\" 's size output is 100 , there are other pretrained models can vary the output size depending on the corpus that the model trained on ."
      ]
    },
    {
      "cell_type": "code",
      "metadata": {
        "colab": {
          "base_uri": "https://localhost:8080/"
        },
        "id": "6wcDswnf-fP_",
        "outputId": "a723b6dc-1c29-43ff-acb7-b6803e324b9b"
      },
      "source": [
        "nlp(\"قطة\").vector"
      ],
      "execution_count": null,
      "outputs": [
        {
          "output_type": "execute_result",
          "data": {
            "text/plain": [
              "array([ 0.466963  ,  0.11964946,  2.1654284 ,  0.7553664 , -1.3066205 ,\n",
              "       -3.372294  , -1.1762583 , -2.8573835 , -0.8307226 , -0.08351412,\n",
              "        1.4643288 ,  0.09544692,  2.311304  ,  1.49703   , -3.1136436 ,\n",
              "       -0.69648623, -1.0478779 , -2.2035904 , -2.0805647 ,  3.8258064 ,\n",
              "       -0.63590115,  1.9480709 ,  1.8645115 , -0.44009277, -1.3259087 ,\n",
              "       -0.21235421,  1.2734525 ,  0.17556097, -2.156691  ,  1.0667509 ,\n",
              "        0.99593955,  1.1989368 ,  0.918339  , -0.20591508, -0.3545398 ,\n",
              "       -1.0034966 ,  0.9294279 , -2.648237  , -2.8392222 , -2.5833333 ,\n",
              "       -0.6668234 , -0.37400967, -2.526247  ,  0.72259814, -2.495085  ,\n",
              "       -0.3539619 , -1.0561675 , -2.0031786 ,  0.54362005, -2.7470937 ,\n",
              "       -1.5453217 ,  0.9318055 , -0.14287415, -0.8798418 , -0.84945273,\n",
              "       -0.6337022 ,  0.6706522 ,  1.1911404 ,  2.474345  , -2.9734492 ,\n",
              "       -3.4404132 ,  0.94080114, -3.563805  , -0.07763401, -1.3103951 ,\n",
              "        1.184813  , -1.5653925 ,  0.76804304,  0.15939131,  0.9487024 ,\n",
              "       -0.06769291, -0.5365897 , -0.9926843 , -0.11230335,  1.659325  ,\n",
              "       -0.28363705,  2.9439433 ,  0.72455764,  0.6515079 , -2.9565766 ,\n",
              "       -1.1520491 , -0.71199787, -1.3264647 ,  2.1840448 ,  1.0899066 ,\n",
              "       -0.00533679,  0.6006916 ,  4.2288237 , -0.73180884, -0.28100085,\n",
              "        4.6663184 , -1.4953693 ,  0.82288617,  0.1119516 , -0.57197875,\n",
              "       -0.60645586,  0.48354092,  1.9214662 , -0.57657   ,  1.3427706 ],\n",
              "      dtype=float32)"
            ]
          },
          "metadata": {},
          "execution_count": 19
        }
      ]
    },
    {
      "cell_type": "markdown",
      "metadata": {
        "id": "XL5543tqc80X"
      },
      "source": [
        "### BIG NOTE \n",
        "\n",
        "##### we will use nlp(text).vector below after reading and cleaning the text , we here just call it to be ready to use ."
      ]
    },
    {
      "cell_type": "markdown",
      "metadata": {
        "id": "jqna6jzeZ-TV"
      },
      "source": [
        "# Preprocessing"
      ]
    },
    {
      "cell_type": "markdown",
      "metadata": {
        "id": "QYL0drPiZv3z"
      },
      "source": [
        "## Importing  Libraries "
      ]
    },
    {
      "cell_type": "code",
      "metadata": {
        "id": "m5wMFRyu_c_H"
      },
      "source": [
        "import pandas as pd\n",
        "import numpy as np\n",
        "import matplotlib.pyplot as plt\n",
        "import string\n",
        "import re\n",
        "import nltk\n",
        "from nltk.corpus import stopwords\n",
        "from sklearn.model_selection import train_test_split, GridSearchCV\n",
        "from sklearn.feature_extraction.text import TfidfVectorizer\n",
        "from sklearn.pipeline import make_pipeline\n",
        "from sklearn.linear_model import LogisticRegression\n",
        "from sklearn.ensemble import RandomForestClassifier\n",
        "from sklearn.naive_bayes import MultinomialNB\n",
        "from sklearn.svm import SVC\n",
        "from sklearn.metrics import confusion_matrix,accuracy_score, classification_report\n"
      ],
      "execution_count": null,
      "outputs": []
    },
    {
      "cell_type": "code",
      "metadata": {
        "colab": {
          "base_uri": "https://localhost:8080/"
        },
        "id": "IQr5Be7LGwE2",
        "outputId": "170b473a-31cd-42ce-c7e3-8dd98543f7e7"
      },
      "source": [
        "nltk.download('punkt')"
      ],
      "execution_count": null,
      "outputs": [
        {
          "output_type": "stream",
          "name": "stdout",
          "text": [
            "[nltk_data] Downloading package punkt to /root/nltk_data...\n",
            "[nltk_data]   Unzipping tokenizers/punkt.zip.\n"
          ]
        },
        {
          "output_type": "execute_result",
          "data": {
            "text/plain": [
              "True"
            ]
          },
          "metadata": {},
          "execution_count": 31
        }
      ]
    },
    {
      "cell_type": "code",
      "metadata": {
        "colab": {
          "base_uri": "https://localhost:8080/"
        },
        "id": "v-1FOSD3G82K",
        "outputId": "66123132-b06a-4ef4-94ad-8359438bdced"
      },
      "source": [
        "!pip install -U -q scipy"
      ],
      "execution_count": null,
      "outputs": [
        {
          "output_type": "stream",
          "name": "stdout",
          "text": [
            "\u001b[K     |████████████████████████████████| 38.2 MB 19 kB/s \n",
            "\u001b[31mERROR: pip's dependency resolver does not currently take into account all the packages that are installed. This behaviour is the source of the following dependency conflicts.\n",
            "albumentations 0.1.12 requires imgaug<0.2.7,>=0.2.5, but you have imgaug 0.2.9 which is incompatible.\u001b[0m\n",
            "\u001b[?25h"
          ]
        }
      ]
    },
    {
      "cell_type": "markdown",
      "metadata": {
        "id": "whujbAUTamTg"
      },
      "source": [
        "# Reading the dataset"
      ]
    },
    {
      "cell_type": "code",
      "metadata": {
        "id": "1UJeIxZ3G_iH"
      },
      "source": [
        "from scipy import io\n",
        "v = io.loadmat('traindb.mat')"
      ],
      "execution_count": null,
      "outputs": []
    },
    {
      "cell_type": "markdown",
      "metadata": {
        "id": "LfCRgvAzaqcL"
      },
      "source": [
        "# Split to v(vowelized) text and u(un-vowelized) text"
      ]
    },
    {
      "cell_type": "code",
      "metadata": {
        "id": "Z1TfW1StHEPo"
      },
      "source": [
        "vtxt_cell = [[row.flat[0] for row in line] for line in v['vtxt_cell'][0]]\n",
        "uvtxt_cell = [[row.flat[0] for row in line] for line in v['uvtxt_cell'][0]]"
      ],
      "execution_count": null,
      "outputs": []
    },
    {
      "cell_type": "markdown",
      "metadata": {
        "id": "CfaKjBJCa7Jz"
      },
      "source": [
        "# Tokenization "
      ]
    },
    {
      "cell_type": "code",
      "metadata": {
        "id": "njVdjzG2HLP7"
      },
      "source": [
        "each_sentence_tokenaized = []\n",
        "for each_vtxr in vtxt_cell:\n",
        "  each_vtxr= str(each_vtxr)\n",
        "  w = nltk.word_tokenize(each_vtxr)\n",
        "  each_sentence_tokenaized.append(w)"
      ],
      "execution_count": null,
      "outputs": []
    },
    {
      "cell_type": "markdown",
      "metadata": {
        "id": "shbU5IHya-ib"
      },
      "source": [
        "# Removing Punctuations "
      ]
    },
    {
      "cell_type": "code",
      "metadata": {
        "id": "3M5LXnNjHOvM"
      },
      "source": [
        "arabic_punctuations = '''`÷×؛<>_()*&^%][ـ،/:\"؟.,'{}~¦+|!”…“–ـ'''\n",
        "english_punctuations = string.punctuation\n",
        "punctuations_list = arabic_punctuations + english_punctuations"
      ],
      "execution_count": null,
      "outputs": []
    },
    {
      "cell_type": "code",
      "metadata": {
        "id": "M-K_bjF8HRJ8"
      },
      "source": [
        "w_nopun = str.maketrans('', '', punctuations_list) #remove punctuationa"
      ],
      "execution_count": null,
      "outputs": []
    },
    {
      "cell_type": "code",
      "metadata": {
        "id": "p2_NAVo6HUaM"
      },
      "source": [
        "each_sentence_tokenaized_updated = []\n",
        "for sentence in each_sentence_tokenaized:\n",
        "  words=[]\n",
        "  for each_word in sentence:\n",
        "    preprocessed_word=str(each_word).translate(w_nopun)\n",
        "    words.append(preprocessed_word)\n",
        "  each_sentence_tokenaized_updated.append(words)"
      ],
      "execution_count": null,
      "outputs": []
    },
    {
      "cell_type": "markdown",
      "metadata": {
        "id": "Qnr2jz2vbNMX"
      },
      "source": [
        "#Removing non arabic symbols"
      ]
    },
    {
      "cell_type": "code",
      "metadata": {
        "id": "njtqQRdDHYdB"
      },
      "source": [
        "#remove_non_arabic_symbols fct\n",
        "final_version_Sentences_preprocessed = []\n",
        "for sentence in each_sentence_tokenaized_updated:\n",
        "  wordssssss = []\n",
        "  for each_word in sentence:\n",
        "    ch = re.sub(r'[^\\u0600-\\u06FF]','', each_word)\n",
        "    wordssssss.append(ch)\t\t\n",
        "  final_version_Sentences_preprocessed.append(wordssssss)"
      ],
      "execution_count": null,
      "outputs": []
    },
    {
      "cell_type": "markdown",
      "metadata": {
        "id": "Q5RDM0W1bbGI"
      },
      "source": [
        "# Another Cleaning Step ☹"
      ]
    },
    {
      "cell_type": "code",
      "metadata": {
        "colab": {
          "base_uri": "https://localhost:8080/"
        },
        "id": "nRGfrLzMHb0Z",
        "outputId": "2c8a619b-02b0-418b-8c3a-0d1fe538eb8f"
      },
      "source": [
        "for sentence in final_version_Sentences_preprocessed:\n",
        "  for word in sentence:\n",
        "    if word == \"\":\n",
        "      sentence.remove(word)\n",
        "      final_version_Sentences_preprocessed.append(sentence)\n",
        "\n",
        "\n",
        "print(len(final_version_Sentences_preprocessed))\n",
        "print(final_version_Sentences_preprocessed[0])"
      ],
      "execution_count": null,
      "outputs": [
        {
          "output_type": "stream",
          "name": "stdout",
          "text": [
            "12826\n",
            "['لِلِاسْتِشْرَاقِ', 'أَهْدَافٌ', 'كَثِيرَةٌ', 'مِنْهَا', 'اَلدِّينِيَّةُ', 'وَالِاسْتِعْمَارِيَّةُ', 'وَالْعِلْمِيَّةُ', 'وَالِاقْتِصَادِيَّةُ', 'وَالتِّجَارِيَّةُ', 'وَسَوْفَ', 'نُلْقِي', 'ضَوْءً', 'سَرِيعً', 'عَلَى', 'هَذِهِ', 'الْأَهْدَافِ']\n"
          ]
        }
      ]
    },
    {
      "cell_type": "markdown",
      "metadata": {
        "id": "hafmkNNLb1SI"
      },
      "source": [
        "# Appending each tokenized word in one array "
      ]
    },
    {
      "cell_type": "code",
      "metadata": {
        "id": "oPTRtk7IHg0W"
      },
      "source": [
        "qqq = []\n",
        "\n",
        "for sentence in final_version_Sentences_preprocessed:\n",
        "  for word in sentence:\n",
        "    qqq.append(word)"
      ],
      "execution_count": null,
      "outputs": []
    },
    {
      "cell_type": "markdown",
      "metadata": {
        "id": "P6C5rdKscEUc"
      },
      "source": [
        "# Same Staps applied for u text (un-vowelized ) text "
      ]
    },
    {
      "cell_type": "code",
      "metadata": {
        "colab": {
          "base_uri": "https://localhost:8080/"
        },
        "id": "JmshXZOmHl8a",
        "outputId": "3537f58b-68bc-4a7e-fd77-ba583bf9e22f"
      },
      "source": [
        "uvtxt_cell"
      ],
      "execution_count": null,
      "outputs": [
        {
          "output_type": "execute_result",
          "data": {
            "text/plain": [
              "[['\\ufeffللاستشراق أهداف كثيرة منها: الدينية، والاستعمارية، والعلمية، والاقتصادية، والتجارية. وسوف نلقي ضوء سريع على هذه الأهداف.\\n'],\n",
              " ['أول: الأهداف الدينية:\\n'],\n",
              " ['لقد أذهل النصارى المد الإسلامي السريع للإسلام، والذي زحف على المعاقل المسيحية وطرق أبوابها، ومن هنا كانت البابوية في روما في مواجهة هذا الزحف عن طريق الاستشراق، فدفعت بالرهبان والقسس إلى دراسة اللغة العربية والعلوم الإسلامية لكي يحققوا غايتين:\\n'],\n",
              " ['الأولى: انتزاع مقومات الفكر الإسلامي، وذلك بالتشكيك فيه وإثارة الشبهات حوله، كوسيلة لفرض الثقافة الغربية التي تحاول تطويق الثقافة الإسلامية وصهرها في بوتقة الثقافة الغربية.\\n'],\n",
              " ['الثانية: محاولة إسقاط النفوذ الإسلامي وتطويقه حتى لا ينتشر في أماكن أخرى من العالم الغربي.\\n'],\n",
              " ['ثاني: أهداف استعمارية:\\n'],\n",
              " ['فمنذ فشل أسلوب القوة العسكرية أثناء الحروب الصليبية تبنى الاستعمار حركة الاستشراق واستعان بالمستشرقين واعتبرهم طلائعه الذين يتعرفون على الأفكار ويقومون بالدعايات وإثارة المنازعات وإشعال الخلافات، كما قام المستشرقون بالتجسس على البلاد والتعرف على أحوالها، وكتابة التقارير عنها، لذلك نلاحظ أن كثير من هؤلاء المستشرقين لم يكونوا علماء بحق، وإنما كانوا سياسيين ينفذون رغبات الاستعمار الغربي . فالمستشرقون في جمهورهم لا يخلو من أن يكون قسيس أو استعماري أو يهودي، وقد يشذ أفراد.\\n'],\n",
              " ['ثالث: خدمة مخططات اليهود:\\n'],\n",
              " ['كذلك كان من أهداف حركة الاستشراق خدمة مخططات اليهود في هدم الإسلام والتمكين لهم في فلسطين عن طريق تشويه التاريخ العام، وتأكيد حق اليهود في فلسطين، وذلك ما يشير إليه المرحوم الدكتور محمد البهي بقوله: إن هؤلاء أقبلوا على الاستشراق لأسباب دينية، وهي محاولة إضعاف الإسلام والتشكيك في قيمته وإثبات فضل اليهود على الإسلام بادعاء أن اليهودية هي مصدر الإسلام الأول، ولأسباب سياسية تتصل بخدمة الصهيونية فكرة أول، ثم دولة ثاني. ولا يغيب عن بالنا أن المستشرقين هم الذين طرحوا على إنجلترا فكرة إنشاء وطن قومي لليهود في فلسطين في مؤتمر لندن المنعقد في سنة سبع وتسعمئة وألف.\\n'],\n",
              " ['هذه هي الأهداف الأساسية لحركة الاستشراق. وهناك أهداف أخرى جانبية منها: أهداف تجارية، حيث عنها بعض المرتزقة ربحوا مادي من وراء طبع ونشر علوم المسلمين ومخطوطاتهم. وهناك أهداف علمية، حيث إن الأوربيين أرادوا أن ينتزعوا عن جهلهم وتخلفهم، فأرسلوا المستشرقين لنقل العلوم الإسلامية والكشف عما تكنه هذه العلوم من كنوز ثمينة، كما أنشأوا مراكز البحوث وكراسي اللغات وأقسام الآداب، وشعب التاريخ والأديان، وكذلك أرسلوا البعثات العلمية المنظمة، ومنها: البعثة الفرنسية برئاسة الأميرة إليزابيث ابنة خالة لويس السادس ملك فرنسا. والبعثة الإنجليزية برئاسة الأميرة دوبان ابنة الأمير جورج صاحب مقاطعة ويلز.\\n'],\n",
              " ['وقد استفادت أوربا من هذه البعثات العلمية فوائد لا تحصى ولا تعد، حيث أصبح أفرادها بعد عودتهم شعلة علمية تضيء مجاهل أوربا.\\n'],\n",
              " ['وهناك عدد محدود من المستشرقين يعدون على أصابع اليدين كانوا يقصدون إلى أهداف علمية نبيلة تحاول البحث عن الحق لذاته وتدرس الإسلام بموضوعية ونزاهة إلى حد ما، ومن هؤلاء: موريس بوكاي، جوستاف لوبان، سجريد هونكه، توماس كاريل، توماس أرنولد، برناردشو، ليوبل فاس، روجيه جارودي ، هادريان ريلاند، يوهان رايكه.\\n'],\n",
              " ['منهج المستشرقين:\\n'],\n",
              " ['درس المستشرقون الإسلام بكل صوره عقيدة وشريعة وفكر ونظام وحضارة ومصادر فلسفة. ودراسة الإسلام في حد ذاتها شيء مفيد ولا تضره في شيء؛ لأنه حق، والحق أحق أن يتبع، فالإسلام كالجبال الراسيات، ومهما افتروا عليه من أباطيل لن ينالوا منه شيئ، بل إنهم حينئذ وإياه كما يقول الشاعر: كناطح صخرة يوم ليوهنها، فلم يضرها وأوهى قرنه الوعل. نعم، لا خوف على الإسلام من المستشرقين، وإنما الخوف عليهم منه، فحين يستقيم منهج الدراسة عندهم، ويدرسونه دراسة موضوعية لا بد أن ينتهي بهم الأمر إلى اعتناقه، إلا أن المستشرقين في دراستهم للإسلام وقعوا في كثير من الأخطاء المنهجية، ومنها:\\n'],\n",
              " ['أول: إيمانهم بأفكار مسبقة: فقد درسوا الإسلام وفي أذهانهم فكرة أساسية هي أن الإسلام دين باطل لا بد من هدمه والقضاء عليه، فكان الواحد منهم يبدأ أبحاثه عن الإسلام بهذا الحكم الذي آمن به، وهذا مخالف لمنهج البحث العلمي الذي يحتم على الباحث أن يبدأ بحثه وهو خالي الذهن من الأحكام، ثم يصل إلى أحكامه من خلال الأدلة والبراهين الواقعية.\\n'],\n",
              " ['أما حضرات المستشرقين فقد دخلوا ميادين البحث الإسلامي بضمائر مدخولة ولم تغامرهم أبد نية التجرد للحق والإخلاص له، بل إنهم كان يعز عليهم أن يقولوا كلمة الحق إن كان فيها ما ينصف الإسلام أو يكشف حقيقة من حقائقه.\\n'],\n",
              " ['وقد يقول قائل إننا نستشهد على اتهام المستشرقين بكلام أعدائهم من المسلمين، ولذلك ننقل من كلام المستشرق هانوتو قوله: وأفضل الطرق لتثبيت ولاية المستعمر الأوربي على البلاد الإسلامية هو تشويه الدين الإسلامي وتصويره في نفوس معتقديه بإبراز الخلافات المذهبية، مع شرح مبادئ الإسلام شرح يشوهها وينحرف بها عن قيمها الأصلية.\\n'],\n",
              " ['وهكذا يعترف واحد منهم بأنهم  درسوا الإسلام بهدف تشويهه والانحراف به عن قيمه الأصلية. ويشير المستشرق الفرنسي موريس بوكاي إلى أن معظم الناس في الغرب قد تربوا على سوء فهم الإسلام والقرآن، حيث حاول المستشرقون غير المنصفين أن يشوهوا صورة القرآن في أعين الناشئة.\\n'],\n",
              " ['يقول بوكاي: كنت أتعلم عندما كنت شاب أن محمد هو الذي ألف القرآن، ولقد قيل لي مرار وتكرار أن مؤلف القرآن قد جمع ببساطة قصص من التوراة والإنجيل بشكل مختلف شيئ قليل. ويقول بوكاي: إنه ظل فترة على هذا الاعتقاد حتى درس الإسلام بنفسه فاكتشف زيف وتضليل هؤلاء المستشرقين.\\n'],\n",
              " ['وإنه لأمر عجيب أن يدرس المستشرقون كل المذاهب والديانات بروح العلم والموضوعية إلا الإسلام.\\n'],\n",
              " ['حين درسوا البوذية والكونفوشيوسية وغيرها من الفلسفات البشرية وقفوا منها موقف عقلي متزن، أما حين درسوا الإسلام فقد اختلفت موازينهم العقلية والفكرية، وعالجوا الإسلام لا على أنه موضوع بحث علمي، بل كمتهم يقف أمام قضائه غير العدل، بل إن بعضهم مثل دور المدعي العام الذي يحاول إثبات الجريمة بأية صورة من الصور ويتلمس لإثباتها الأوهام والمعاذير الواهية.\\n'],\n",
              " ['وتذكرنا أساليب المستشرقين هذه بأساليب محاكم التفتيش التي أنشأها النصارى في الأندلس، والتي كانت تقوم على الإيمان بفكرة مسبقة لا سبيل إلى مناقشتها، وهي قداسة آراء الكنيسة وتكفير كل من يخالفها حتى ولو كان على صواب. هكذا درسوا الإسلام وفي أذهانهم مقدمة ثابتة، وهي أنه دين باطل، وفي سبيل إيمانهم بهذه المقدمة ضربوا عرض الحائط بكل الأدلة الحسية والعقلية التي تهدم مقدمتهم، وفي الوقت ذاته خلقوا من الوهم أدلة باطلة تؤيد دعواهم.\\n'],\n",
              " ['وما أصدق الشيخ محمد الغزالي حين يحكم على منهج المستشرقين فيقول: إن الاستشراق كهانة جديدة تلبس مسوح العلم والرهبانية في البحث، وهي أبعد ما تكون عن بيئة العلم والتجرد، وجمهرة المستشرقين مستأجرون لإهانة الإسلام وتشويه محاسنه والافتراء عليه.\\n'],\n",
              " ['ثاني: المصادر: لكي تدرس أية عقيدة من العقائد أو فكرة من الأفكار لا بد من دراستها من خلال مصادرها الأساسية ولا يصح دراستها من خلال مصادر الأعداء أو المصادر الثانوية. ولكن المستشرقين في دراستهم للإسلام لم يعتمدوا على الكتب الأساسية، وإنما اعتمدوا على الكتب المدسوسة على الإسلام المليئة بالإسرائيليات والغرائب والخرافات، ومن خلال ذلك يولدون ما يشاءون من النصوص التي يتصيدونها من مصادر تعجبهم.\\n'],\n",
              " ['\\u200fقال الشافعي\\u200f\\u200f\\u200f:\\u200f فمن رأى الماء الدافق متلذذ أو غير متلذذ فعليه الغسل، وكذلك لو جامع فخرج منه ماء دافق فاغتسل ثم خرج منه ماء دافق بعد الغسل أعاد الغسل، وسواء كان ذلك قبل البول أو بعد ما بال إذا جعلت الماء الدافق علم لإيجاب الغسل، وهو قبل البول وبعده سواء\\u200f. والماء الدافق الثخين الذي يكون منه الولد والرائحة التي تشبه رائحة الطلع\\u200f.\\u200f \\n'],\n",
              " ['وإن كان الماء الدافق من رجل وتغير لعلة به أو خلقة في مائه بشيء خرج منه الماء الدافق الذي نعرفه أوجبت عليه الغسل\\u200f.\\u200f وإذا غيب الرجل ذكره في فرج امرأة متلذذ أو غير متلذذ، ومتحرك بها أو مستكره لذكره، أو أدخلت هي فرجه في فرجها وهو يعلم أو هو نائم لا يعلم، أوجب عليه وعليها الغسل. وكذلك كل فرج أو دبر أو غيره من امرأة أو بهيمة، وجب عليه الغسل إذا غيب الحشفة فيه، مع معصية الله تعالى في إتيان ذلك من غير امرأته، وهو محرم عليه إتيان امرأته في دبرها عندنا. وكذلك لو غيبه في امرأته وهي ميتة، وإن غيبه في دم أو خمر أو غير ذات روح من محرم أو غيره لم يجب عليه غسل حتى يأتي منه الماء الدافق\\u200f.\\u200f \\n'],\n",
              " ['وهكذا إن استمنى فلم ينزل لم يجب عليه غسل؛ لأن الكف ليس بفرج وإذا ماس به شيئ من الأنجاس غسله ولم يتوضأ، وإذا ماس ذكره توضأ للمسه إياه إذا أفضى إليه، فإن غسله وبينه وبين يديه ثوب أو رقعة طهر ولم يكن عليه وضوء\\u200f.\\u200f ولو نال من امرأته ما دون أن يغيبه في فرجها ولم ينزل لم يوجب ذلك غسل، ولا نوجب الغسل إلا أن يغيبه في الفرج نفسه أو الدبر، فأما الفم أو غير ذلك من جسدها فلا يوجب غسل إذا لم ينزل، ويتوضأ من إفضائه ببعضه إليها. ولو أنزلت هي في هذه الحال اغتسلت وكذلك في كل حال أنزل فيها، فأيهما أنزل بحال اغتسل\\u200f.\\u200f ولو شك رجل أنزل أو لم ينزل لم يجب عليه الغسل حتى يستيقن بالإنزال، والاحتياط أن يغتسل\\u200f.\\u200f ولو وجد في ثوبه ماء دافق ولا يذكر أنه جاء منه ماء دافق باحتلام ولا بغيره أحببت أن يغتسل ويعيد الصلاة ويتأخى فيعيد بقدر ما يرى أن ذلك الاحتلام كان، أو ما كان من الصلوات بعد نوم رأى فيه شيئ يشبه أن يكون احتلم فيه\\u200f.\\u200f \\n'],\n",
              " ['ولا يبين لي أن يجب هذا عليه وإن كان رأى في المنام شيئ ولم يعلم أنه أنزل إلا أن يكون لا يلبس ثوبه غيره فيعلم أن الاحتلام كان منه، فإذا كان هكذا وجب عليه الغسل في الوقت الذي لا يشك أن الاحتلام كان قبله، وكذلك إن أحدث نومة نامها، فإن كان صلى بعده صلاة أعادها، وإن كان لم يصل بعده صلاة اغتسل لما يستقبل.\\u200f \\n'],\n",
              " ['ولا أعلمه يجب الغسل من غير الجنابة وجوب لا تجزئ الصلاة إلا به\\u200f.\\u200f وأولى الغسل عندي أن يجب بعد غسل الجنابة من غسل الميت ولا أحب تركه بحال ولا ترك الوضوء من مسه مفضي إليه\\u200f.\\u200f \\n'],\n",
              " ['ثم الغسل للجمعة ولا يبين أن لو تركهما تارك ثم صلى اغتسل وأعاد، إنما منعني من إيجاب الغسل من غسل الميت أن في إسناده رجل لم أقع من معرفة ثبت حديثه إلى يومي هذا على ما يقنعني، فإن وجدت من يقنعني من معرفة ثبت حديثه أوجبت الوضوء من مس الميت مفضي إليه، فإنهما في حديث واحد\\u200f.\\u200f فأما غسل الجمعة فإن الدلالة عندنا أنه إنما أمر به على الاختيار\\u200f.\\u200f \\n'],\n",
              " ['\\u200f وإذا أسلم المشرك أحببت له أن يغتسل ويحلق شعره، فإن لم يفعل ولم يكن جنب أجزأه أن يتوضأ ويصلي\\u200f.\\u200f \\n'],\n",
              " ['وقد قيل: قلما جن إنسان إلا أنزل، فإن كان هذا هكذا اغتسل المجنون للإنزال، وإن شك فيه أحببت له الاغتسال احتياط ولم أوجب ذلك عليه حتى يستيقن الإنزال\\u200f.\\u200f \\n'],\n",
              " ['\\u200fوإذا دنا الرجل من امرأته فخرج منه المذي، وجب عليه الوضوء؛ لأنه حدث خرج من ذكره، ولو أفضى إلى جسدها بيده وجب عليه الوضوء من الوجهين، وكفاه منه وضوء واحد، وكذلك من وجب عليه وضوء لجميع ما يوجب الوضوء ثم توضأ بعد ذلك كله وضوء واحد أجزأه، ولا يجب عليه بالمذي الغسل\\u200f.\\u200f \\n'],\n",
              " ['فكان فرض الله الغسل مطلق لم يذكر فيه شيئ يبدأ به قبل شيء، فإذا جاء المغتسل بالغسل أجزأه ، والله أعلم، كيفما جاء به، وكذلك لا وقت في الماء في الغسل إلا أن يأتي بغسل جميع بدنه\\u200f.\\u200f \\n'],\n",
              " ['فإذا كانت المرأة ذات شعر تشد ضفرها فليس عليها أن تنقضه في غسل الجنابة، وغسلها من الحيض كغسلها من الجنابة، لا يختلفان، يكفيها في كل ما يكفيها في كل\\u200f. وكذلك الرجل يشد ضفر رأسه أو يعقصه فلا يحله، ويشرب الماء أصول شعره\\u200f. فإن لبد رأسه بشيء يحول بين الماء وبين أن يصل إلى شعره وأصوله كان عليه غسله حتى يصل إلى بشرته وشعره، وإن لبده بشيء لا يحول دون ذلك فهو كالعقص والضفر الذي لا يمنع الماء الوصول إليه، وليس عليه حله، ويكفيه أن يصل الماء إلى الشعر والبشرة\\u200f.\\u200f \\n'],\n",
              " [' ولا أحب لأحد أن يحفن على رأسه في الجنابة أقل من ثلاث، وأحب له أن يغلغل الماء في أصول شعره حتى يعلم أن الماء قد وصل إلى أصوله وبشرته، وإن صب على رأسه صب واحد يعلم أنه قد تغلغل الماء في أصوله وأتى على شعره وبشرته أجزأه، وذلك أكثر من ثلاث غرفات، يقطع بين كل غرفة منها\\u200f. فإن كان شعره ملبد كثير فغرف عليه ثلاث غرفات، وكان يعلم أن الماء لم يتغلغل في جميع أصول الشعر ويأت على جميع شعره كله فعليه أن يغرف على رأسه ويغلغل الماء حتى يعلم علم مثله أن قد وصل الماء إلى الشعر والبشرة\\u200f.\\u200f \\n'],\n",
              " ['وإن كان محلوق أو أصلع أو أقرع يعلم أن الماء يأتي على باقي شعره وبشرته في غرفة عامة أجزأته، وأحب له أن يكون ثلاث، وإنما أمر النبي -صلى الله عليه وسلم - أم سلمة بثلاث للضفر، وأنا أرى أنه أقل ما يصير الماء إلى بشرتها، وكان النبي - صلى الله عليه وسلم - ذا لمة يغرف عليها الماء ثلاث، وكذلك كان وضوؤه في عامة عمره ثلاث للاختيار - صلى الله عليه وسلم -  وواحدة سابغة كافية في الغسل والوضوء؛ لأنه يقع بها اسم غسل ووضوء، إذا علم أنها قد جاءت على الشعر والبشر\\u200f.\\u200f \\n'],\n",
              " ['ولا أحب لأحد أن يدع المضمضة والاستنشاق في غسل الجنابة، وإن تركه أحببت له أن يتمضمض فإن لم يفعل لم يكن عليه أن يعود لصلاة إن صلاها\\u200f. وليس عليه أن ينضح في عينيه الماء ولا يغسلهما؛ لأنهما ليستا ظاهرتين من بدنه؛ لأن دونهما جفون\\u200f. وعليه أن يغسل ظاهر أذنيه وباطنهما؛ لأنهما ظاهرتان، ويدخل الماء فيما ظهر من الصماخ، وليس عليه أن يدخل الماء فيما بطن منه\\u200f.\\u200f \\n'],\n",
              " ['وأحب له أن يدلك ما يقدر عليه من جسده، فإن لم يفعل وأتى الماء على جسده أجزأه\\u200f.\\u200f وكذلك إن انغمس في نهر أو بئر فأتى الماء على شعره وبشره أجزأه إذا غسل شيئ إن كان أصابه، وكذلك إن ثبت تحت ميزاب حتى يأتي الماء على شعره وبشره\\u200f. وكذلك إن ثبت تحت مطر حتى يأتي الماء على شعره وبشره\\u200f.\\u200f \\n'],\n",
              " ['ولا يطهر بالغسل في شيء مما وصف إلا أن ينوي بالغسل الطهارة، وكذلك الوضوء لا يجزئه إلا أن ينوي به الطهارة، وإن نوى بالغسل الطهارة من الجنابة.\\n'],\n",
              " ['لا يذكر لهذا اليوم اسم, ولا يستطيع أن يضعه حيث وضعه الله من الشهر والسنة, بل لا يستطيع أن يذكر من هذا اليوم وقت بعينه, وإنما يقرب ذلك تقريب. \\n'],\n",
              " ['وأكبر ظنه أن هذا الوقت كان يقع من ذلك اليوم في فجره أو في عشائه. يرجح ذلك لأنه يذكر أن وجهه تلقى في ذلك الوقت هواء فيه شيء من البرد الخفيف الذي لم تذهب به حرارة الشمس. ويرجح ذلك لأنه على جهله حقيقة النور والظلمة, يكاد يذكر أنه تلقى حين خرج من البيت نور هادئ خفيف لطيف كأن الظلمة تغشى بعض حواشيه. ثم يرجح ذلك لأنه يكاد يذكر أنه حين تلقى هذا الهواء وهذا الضياء لم يأنس من حوله حركة يقظة قوية, وإنما آنس حركة مستيقظة من نوم أو مقبلة عليه. وإذا كان قد بقي له من هذا الوقت ذكرى واضحة بينة لا سبيل إلى الشك فيها, فإنما هي ذكرى هذا السياج الذي كان يقوم أمامه من القصب, والذي لم يكن بينه وبين باب الدار إلا خطوات قصار. هو يذكر هذا السياج كأنه رآه أمس. يذكر أن قصب هذا السياج كان أطول من قامته, فكان من العسير عليه أن يتخطاه إلى ما وراءه. ويذكر أن قصب هذا السياج كان مقترب كأنما كان متلاصق, فلم يكن يستطيع أن ينسل في ثناياه. ويذكر أن قصب هذا السياج كان يمتد عن شماله إلى حيث لا يعلم له نهاية, وكان يمتد عن يمينه إلى آخر الدنيا من هذه الناحية. وكان آخر الدنيا من هذه الناحية قريب, فقد كانت تنتهي إلى قناة عرفها حين تقدمت به السن, وكان لها في حياته ـ أو قل في خياله ـ تأثير عظيم. \\n'],\n",
              " ['يذكر هذا كله, ويذكر أنه كان يحسد الأرانب التي كانت تخرج من الدار كما يخرج منها, وتتخطى السياج وثب من فوق, أو انسياب بين قصبه, إلى حيث تقرض ما كان وراءه من نبت أخضر, يذكر منه الكرنب خاصة. \\n'],\n",
              " ['ثم يذكر أنه كان يحب الخروج من الدار إذا غربت الشمس وتعشى الناس, فيعتمد على قصب هذا السياج, مفكر مغرق في التفكير, حتى يرده إلى ما حوله صوت الشاعر قد جلس على مسافة من شماله, والتف حوله الناس وأخذ ينشدهم في نغمة عذبة غريبة أخبار أبي زيد وخليفة ودياب, وهم سكوت إلا حين يستخفهم الطرب أو تستفزهم الشهوة, فيستعيدون ويتمارون ويختصمون, ويسكت الشاعر حتى يفرغوا من لغطهم بعد وقت قصير أو طويل, ثم يستأنف إنشاده العذب بنغمته التي لا تكاد تتغير. \\n'],\n",
              " ['ثم يذكر أنه كان لا يخرج ليلة إلى موقفه من السياج إلا وفي نفسه حسرة لاذعة, لأنه كان يقدر أن سيقطع عليه استماعه لنشيد الشاعر حين تدعوه أخته إلى الدخول فيأبى فتخرج فتشده من ثوبه فيمتنع عليها, فتحمله بين ذراعيها كأنه الثمامة, وتعدو به إلى حيث تنيمه على الأرض وتضع رأسه على فخذ أمه, ثم تعمد هذه إلى عينيه المظلمتين فتفتحهما واحدة بعد الأخرى, وتقطر فيهما سائل يؤذيه ولا يجدي عليه خير, وهو يألم ولكنه لا يشكو ولا يبكي لأنه كان يكره أن يكون كأخته الصغيرة بكاء شكاء. \\n'],\n",
              " ['ثم ينقل إلى زاوية في حجرة صغيرة, فتنيمه أخته على حصير قد بسط عليها لحاف, وتلقي عليه لحاف آخر, وتذره، وإن في نفسه لحسرات, وإنه ليمد سمعه مد يكاد يخترق به الحائط لعله يستطيع أن يصله بهذه النغمات الحلوة التي يرددها الشاعر في الهواء الطلق تحت السماء. ثم يأخذه النوم, فما يحس إلا وقد استيقظ والناس نيام, ومن حوله إخوته وأخواته يغطون فيسرفون في الغطيط, فيلقي اللحاف عن وجهه في خيفة وتردد, لأنه كان يكره أن ينام مكشوف الوجه. وكان واثق أنه إن كشف وجهه أثناء الليل أو أخرج أحد أطرافه من اللحاف, فلا بد من أن يعبث به عفريت من العفاريت الكثيرة التي كانت تعمر أقطار البيت وتملأ أرجاءه ونواحيه, والتي كانت تهبط تحت الأرض ما أضاءت الشمس واضطرب الناس. فإذا أوت الشمس إلى كهفها, والناس إلى مضاجعهم, وأطفئت السرج, وهدأت الأصوات, صعدت هذه العفاريت من تحت الأرض وملأت الفضاء حركة واضطراب وتهامس وصياح. \\n'],\n",
              " ['وكان كثير ما يستيقظ فيسمع تجاوب الديكة وتصايح الدجاج, ويجتهد في أن يميز بين هذه الأصوات المختلفة. فأما بعضها فكانت أصوات ديكة حق, وأما بعضها الآخر فكانت أصوات عفاريت تتشكل بأشكال الديكة وتقلدها عبث وكيد. ولم يكن يحفل بهذه الأصوات ولا يهابها, لأنها كانت تصل إليه من بعيد. إنما كان يخاف الخوف كله أصوات أخرى لم يكن يتبينها إلا بمشقة وجهد, كانت تنبعث من زوايا الحجرة نحيفة ضئيلة, يمثل بعضها أزيز المرجل يغلي على النار, ويمثل بعضها الآخر حركة متاع خفيف ينقل من مكان إلى مكان, ويمثل بعضها خشب ينقصم أو عود ينحطم.\\n'],\n",
              " ['وكان يخاف أشد الخوف أشخاص يتمثلها قد وقفت على باب الحجرة فسدته سد, وأخذت تأتي بحركات مختلفة أشبه شيء بحركات المتصوفة في حلقات الذكر. وكان يعتقد أن ليس له حصن من كل هذه الأشباح المخوفة والأصوات المنكرة, إلا أن يلتف في لحافه من الرأس إلى القدم, دون أن يدع بينه وبين الهواء منفذ أو ثغرة. وكان واثق أنه إن ترك ثغرة في لحافه فلا بد من أن تمتد منها يد عفريت إلى جسمه فتناله بالغمز والعبث. \\n'],\n",
              " ['لذلك كان يقضي ليله خائف مضطرب, إلا حين يغلبه النوم, وما كان يغلبه النوم إلا قليلا. كان يستيقظ مبكر، أو قل كان يستيقظ في السحر, ويقضي شطر طويلا من الليل في هذه الأهوال والأوجال والخوف من العفاريت, حتى إذا وصلت إلى سمعه أصوات النساء يعدن إلى بيوتهن وقد ملأن جرارهن من القناة وهن يتغنين, عرف أن قد بزغ الفجر, وأن قد هبطت العفاريت إلى مستقرها من الأرض السفلى, فاستحال هو عفريت, وأخذ يتحدث إلى نفسه بصوت عال, ويتغنى بما حفظ من نشيد الشاعر, ويغمز من حوله من إخوته وأخواته, حتى يوقظهم واحد واحد. فإذا تم له ذلك, فهناك الصياح والغناء, وهناك الضجيج والعجيج, وهناك الضوضاء التي لم يكن يضع لها حد إلا نهوض الشيخ من سريره, ودعاؤه بالإبريق ليتوضأ. \\n'],\n",
              " ['حينئذ تخفت الأصوات وتهدأ الحركة, حتى يتوضأ الشيخ ويصلي ويقرأ ورده ويشرب قهوته ويمضي إلى عمله. فإذا أغلق الباب من دونه نهضت الجماعة كلها من الفراش, وانسابت في البيت صائحة لاعبة حتى تختلط بما في البيت من طير وماشية. \\n'],\n",
              " ['كان مطمئن إلى أن الدنيا تنتهي عن يمينه بهذه القناة التي لم يكن بينه وبينها إلا خطوات معدودة. ولم لا ? وهو لم يكن يرى عرض هذه القناة, ولم يكن يقدر أن هذا العرض ضئيل بحيث يستطيع الشاب النشيط أن يثب من إحدى الحافتين فيبلغ الأخرى, ولم يكن يقدر أن حياة الناس والحيوان والنبات تتصل من وراء هذه القناة على نحو ما هي من دونها, ولم يكن يقدر أن الرجل يستطيع أن يعبر هذه القناة ممتلئة دون أن يبلغ الماء إبطيه, ولم يكن يقدر أن الماء ينقطع من حين إلى حين عن هذه القناة, فإذا هي حفرة مستطيلة يعبث فيها الصبيان, ويبحثون في أرضها الرخوة عما تخلف من صغار السمك فمات لانقطاع الماء عنه. \\n'],\n",
              " ['الجزء الأول:\\n'],\n",
              " ['القسم الأول في حلى المعاهد والأماكن والمنازل والمساكن في اسم هذه المدينة ووضعها على إجمال واختصار. يقال: غرناطة، ويقال: إغرناطة، وكلاهما أعجمي، وهي مدينة كورة إلبيرة، فبينهما فرسخان وثلثا فرسخ.\\u200f \\n'],\n",
              " ['وإلبيرة من أعظم كور الأندلس ومتوسطة ما اشتمل عليه الفتح من البلاد، وتسمى في تاريخ الأمم السالفة من الروم سنام الأندلس، وتدعى في القديم بقسطيلية.\\u200f \\n'],\n",
              " ['وكان لها من الشهرة والعمارة ولأهلها من الثروة والعدة، وبها من الفقهاء والعلماء ما هو مشهور.\\u200f \\n'],\n",
              " ['قال أبو مروان بن حيان\\u200f:\\u200f كان يجتمع بباب المسجد الجامع من إلبيرة خمسون حكمة كلها من فضة لكثرة الأشراف بها\\u200f.\\u200f \\n'],\n",
              " ['ويدل على ذلك آثارها الخالدة وأعلامها الماثلة كطلل مسجدها الجامع الذي تحامى استطالة البلى، كسلت عن طمس معالمه أكف الردى إلى بلوغ ما فسح له من المدى\\u200f.\\u200f \\n'],\n",
              " ['بناه الأمير محمد بن عبد الرحمن بن الحكم أمير المؤمنين الخليفة بقرطبة رحمه الله على تأسيس حنش بن عبد الله الصنعاني الشافعي رحمه الله. وعلى محرابه لهذا الوقت\\u200f:\\u200f بسم الله العظيم بنيت لله، أمر ببنائها الأمير محمد بن عبد الرحمن أكرمه الله رجاء ثوابه العظيم وتوسيع لرعيته، فتم بعون الله على يدي عبد الله بن عبد الله عامله على كورة إلبيرة في ذي قعدة سنة خمسين ومئتين\\u200f.\\u200f \\n'],\n",
              " ['ولم تزل الأيام تخيف ساكنها، والعفاء يتبوأ مساكنها والفتن الإسلامية تجوس أماكنها حتى شملها الخراب، وتقسم قاطنها الاغتراب، وكل الذي فوق التراب تراب\\u200f.\\u200f \\n'],\n",
              " ['وانتقل أهلها مدة أيام الفتنة البربرية سنة أربعمئة من الهجرة فما بعدها، ولجأوا إلى مدينة غرناطة، فصارت حاضرة الصقع وأم المصر وبيضة ذلك الحق، لحصانة وضعها وطيب هوائها ودرور مائها ووفور مدته، فأمن فيها الخائف ونظم النشر ورسخت الأقدام وتأثل المصر وهلم جر\\u200f.\\u200f \\n'],\n",
              " ['فهي بالأندلس قطب بلاد الأندلس ودار الملك وقرى الإمارة أبقاها الله متبوأ الكلمة إلى أن يرث الله الأرض ومن عليها بقدرته\\u200f.\\u200f \\n'],\n",
              " ['من كتاب إلبيرة\\u200f.\\u200f \\n'],\n",
              " ['قال\\u200f:\\u200f بعد ذكر إلبيرة وقد خلفها بعد ذلك كله مدينة غرناطة من أعظم مدنها وأقدمها، عندما انقلبت العمارة إليها من إلبيرة، ودارت أفلاك البلاد الأندلسية، فهي في وقتنا هذا قاعدة الدنيا وقرارة العليا وحاضرة السلطان وقبة العدل والإحسان\\u200f.\\u200f \\n'],\n",
              " ['لا يعدلها في داخلها ولا خارجها بلد من البلدان، ولا يضاهيها في اتساع عمارتها وطيب قرارتها وطن من الأوطان\\u200f. ولا يأتي على حصر أوصاف جمالها وعد أصناف جلالها قلم البيان\\u200f.\\u200f \\n'],\n",
              " ['أدام الله فيها العز للمسلمين والإسلام، وحرسها ومن اشتملت عليه من خلفائه وأنصار لوائه بعينه التي لا تنام وركنه الذي لا يرام\\u200f.\\u200f \\n'],\n",
              " ['وهذه المدينة من معمور الإقليم الخامس يبتدئ من الشرق من بلاد يأجوج ومأجوج، ثم يمر على شمال خراسان، ويمر على سواحل الشأم مما يلي الشمال، ويمر على بلاد الأندلس قرطبة وإشبيلية وما والاها إلى البحر المحيط الغربي\\u200f.\\u200f \\n'],\n",
              " ['وقال صاعد بن أحمد: في كتاب الطبقات إلى معظم الأندلس في الإقليم الخامس، وطائفة منها في الإقليم الرابع كمدينة إشبيلية ومالقة وغرناطة وألمرية ومرسية\\u200f.\\u200f \\n'],\n",
              " ['وذكر العلماء بصناعة الأحكام أن طالعها الذي اختطت به السرطان، ونحلوها لأجل ذلك مزايا وحظوظ من السعادة اقتضاها تسيير أحكام القرانات الانتقالية على عهد تأليف هذا الموضع\\u200f.\\u200f \\n'],\n",
              " ['وطولها سبع وعشرون درجة وثلاثون دقيقة، وعرضها سبع وثلاثون درجة وعشر دقائق\\u200f.\\u200f \\n'],\n",
              " ['وهي مساوية في الطول بأمر يسير لقرطبة وميورقة وألمرية، وتقرب في العرض من إشبيلية وألمرية وشاطبة وطرطوشة وسردانية وأنطاكية والرقة\\u200f؛ كل ذلك بأقل من درجة\\u200f.\\u200f \\n'],\n",
              " ['فهي شامية في أكثر أحوالها، قريبة من الاعتدال، وبينها وبين قرطبة - أعادها الله تعالى - تسعون ميل\\u200f. وهي منها بين شرق وقبلة\\u200f.\\u200f \\n'],\n",
              " ['وبحر الشأم يحول ويحاجز بين الأندلس وبلاد العدوة وبين غرب وقبلة على أربعة برد\\u200f.\\u200f \\n'],\n",
              " ['والجبال بين شرق وقبلة، والبراجلات بين شرق وجوف، والكنبانية بين غرب وقبلة وبين جوف وغرب، فهي لمكان جوار الساحل ممارة بالبواكر الساحلية، طيبة البحار وركاب لجهاد البحر ولمكان استقبال الجبال المقصودة بالفواكه المتأخرة اللحاق معللة بالمدخرات استدبار الكنبانية واضطبار البراجلات، بحر من بحور الحنطة، ومعدن للحبوب المفضلة، ولمكان شلير جبل الثلج أحد مشاهير جبال الأرض الذي ينزل به الثلج شتاء وصيف، وهو على قبلة منها على فرسخين، وينساب منه ستة وثلاثون نهر من فوهات الماء، وتنبجس من سفوحه العيون، صح منها الهواء، واطردت في أرجائها وساحاتها المياه، وتعددت الجنات بها والبساتين، والتفت الأدواح، وشمر الرواد على منابت العشب في مظان العقار مستودعات الأدوية والترياقية\\u200f.\\u200f \\n'],\n",
              " ['وبردها لذلك في المنقلب الشتوي شديد، وتجمد بسببه الأدهان والمائعات، ويتراكم بساحاتها الثلج في بعض السنين، فجسوم أهلها لصحة الهواء صلبة، وهي دار منعة وكرسي ملك ومقام حصانة\\u200f.\\u200f \\n'],\n",
              " ['وكان ابن غانية يقول للمرابطين في مرض موته وقد عول عليها للامتساك بدعوتهم\\u200f:\\u200f الأندلس درقة وغرناطة قبضتها، فإذا جشمتم يا معشر المرابطين القبضة لم تخرج الدرقة من أيديكم\\u200f.\\u200f \\n'],\n",
              " ['ومن أبدع ما قيل في الاعتذار عن شدة بردها ما هو غريب في معناه، قول شيخنا القاضي أبي بكر بن شبرين - رحمه الله -\\u200f:\\u200f رعى الله من غرناطة متبوأ يسر كئيب أو يجير طريد تبرم منها صاحبي عندما رأى مسارحها بالبرد عدن جليد، هي الثغر صان الله من أهلت به، وما خير ثغر لا يكون برود. وقال الرازي عند ذكر كورة إلبيرة\\u200f:\\u200f ويتصل بأحواز قبرة كورة إلبيرة، وهي بين الشرق والقبلة، وأرضها سقي غزيرة الأنهار كثيرة الثمار ملتفة الأشجار، أكثرها أدواح الجوز، ويحسن فيها قصب السكر، ولها معادن جوهرية من ذهب وفضة ورصاص وحديد\\u200f.\\u200f \\n'],\n",
              " ['وكورة إلبيرة أشرف الكور، نزلها جند دمشق\\u200f.\\u200f \\n'],\n",
              " ['وقال\\u200f:\\u200f لها من المدن الشريفة مدينة قسطلية، وهي حاضرة إلبيرة، وفحصها لا يشبه بشيء من بقاع الأرض طيب ولا شرف إلا بالغوطة غوطة دمشق\\u200f.\\u200f \\n'],\n",
              " ['وقال بعض المؤرخين\\u200f:\\u200f ومن كرم أرضنا أنها لا تعدم زريعة بعد زريعة ورعي بعد رعي طول العام، وفي عمالتها المعادن الجوهرية من الذهب والفضة والرصاص والحديد والتوتية\\u200f.\\u200f \\n'],\n",
              " ['وبناحية دلاية من عملها عود اليلنجوج لا يفوقه العود الهندي ذك وعطر رائحة\\u200f.\\u200f \\n'],\n",
              " ['وقد سيق منه لخيران صاحب ألمرية أصل كان منبته بين أحجار هناك\\u200f.\\u200f \\n'],\n",
              " ['وبجبل شلير منها سنبل فائق الطيب، وبه الجنطيانا يحمل منه إلى جميع الآفاق، وهو عقير رفيع ومكانه من الأدوية الترياقية مكانه\\u200f. وبه المرقشينة على اختلافها واللازورد\\u200f. وبفحصها وما يتصل به القرمز\\u200f.\\u200f \\n'],\n",
              " ['وبها من العقار والأدوية النباتية والمعدنية ما لا يحتمل ذكرها الإيجاز\\u200f.\\u200f \\n'],\n",
              " ['وكفى بالحرير الذي فضلت به فخر وقيتة وغلة شريفة وفائدة عظيمة، تمتاره منها البلاد وتجلبه الرفاق، وفضيلة لا يشاركها فيها إلا البلاد العراقية\\u200f.\\u200f \\n'],\n",
              " ['وفحصها الأفيح المشبه بالغوطة الدمشقية حديث الركاب وسمر الليالي، قد دحاه الله في بسيط سهل تخترقه المذانب وتتخلله الأنهار جداول، وتتزاحم فيه القرى والجنات في ذرع أربعين ميل أو نحوها، تنبو العين فيها عن وجهه، ولا تتخطى المحاسن منها إلا مقدار رقعة الهضاب والجبال المتطامية منه بشكل ثلثي دارة، قد عرت منه المدينة فيما يلي المركز لجهة القبلة مستندة إلى أطواد سامية وهضاب عالية ومناظر مشرفة، فهي قيد البصر ومنتهى الحسن ومعنى الكمال. \\n'],\n",
              " ['قصة أهل البصرة من المسجديين:\\n'],\n",
              " ['قال أصحابنا من المسجديين\\u200f:\\u200f اجتمع ناس في المسجد ممن ينتحل الاقتصاد في النفقة والتنمية للمال من أصحاب الجمع والمنع\\u200f. وقد كان هذا المذهب صار عندهم كالنسب الذي يجمع على التحاب، وكان الذي يجمع على التناصر\\u200f. وكانوا إذا التقوا في حلقهم تذاكروا هذا الباب وتطارحوه وتدارسوه\\u200f.\\u200f \\n'],\n",
              " ['فقال شيخ منهم\\u200f:\\u200f ماء بئرنا - كما قد علمتم - ملح أجاج لا يقربه الحمار ولا تسيغه الإبل وتموت عليه النخل\\u200f، والنهر منا بعيد\\u200f، وفي تكلف العذب علينا مؤنة\\u200f. فكنا نمزج منه للحمار فاعتل عنه وانتفض علينا من أجله\\u200f، فصرنا بعد ذلك نسقيه العذب صرف\\u200f. وكنت أنا والنعجة كثير ما نغتسل بالعذب مخافة أن يعتري جلودنا منه مثل ما اعترى جوف الحمار\\u200f. فكان ذلك الماء العذب الصافي يذهب باطل. ثم انفتح لي باب من الإصلاح فعمدت إلى ذلك المتوضأ فجعلت في ناحية منه حفرة وصهرجتها وملستها حتى صارت كأنها صخرة منقورة\\u200f، وصوبت إليها المسيل، فنحن الآن إذا اغتسلنا صار الماء إليها صافي لم يخالطه شيء، والحمار أيض لا تقزز له منه\\u200f، وليس علينا حرج في سقيه منه، وما علمنا أن كتاب حرمه ولا سنة نهت عنه\\u200f، فربحنا هذه منذ أيام، وأسقطنا مؤنة عن النفس والمال مال القوم، وهذا بتوفيق الله ومنه\\u200f.\\u200f \\n'],\n",
              " ['فأقبل عليهم شيخ فقال\\u200f:\\u200f هل شعرتم بموت مريم الصناع، فإنها كانت من ذوات الاقتصاد وصاحبة إصلاح\\u200f.\\u200f قالوا\\u200f:\\u200f فحدثنا عنها\\u200f. قال\\u200f:\\u200f نوادرها كثيرة وحديثها طويل\\u200f، ولكني أخبركم عن واحدة فيها كفاية\\u200f. قالوا\\u200f:\\u200f وما هي؟ قال\\u200f:\\u200f زوجت ابنتها وهي بنت اثنتي عشرة، فحلتها الذهب والفضة وكستها المروى والوشي والقز والخز وعلقت المعصفر ودقت الطيب وعظمت أمرها من قدرها عند الأحماء\\u200f. فقال لها زوجها\\u200f:\\u200f أنى هذا يا مريم؟! قالت\\u200f:\\u200f هو من عند الله\\u200f.\\u200f قال\\u200f:\\u200f دعي عنك الجملة وهاتي التفسير\\u200f. والله ما كنت ذات مال قديم ولا ورثته حديث\\u200f.وما أنت بخائنة في نفسك ولا في مال بعلك\\u200f، إلا أن تكوني قد وقعت على كنز\\u200f!\\u200f وكيف دار الأمر فقد أسقطت عني مؤنة وكفيتني هذه النائبة\\u200f. قالت\\u200f:\\u200f اعلم أني منذ يوم ولدتها إلى أن زوجتها كنت أرفع من دقيق كل عجنة حفنة\\u200f، وكنا - كما قد علمت - نخبز في كل يوم مرة\\u200f، فإذا اجتمع من ذلك مكوك بعته\\u200f.\\u200f \\n'],\n",
              " ['قال زوجها\\u200f:\\u200f ثبت الله رأيك وأرشدك\\u200f!\\u200f ولقد أسعد الله من كنت له سكن، وبارك لمن جعلت له إلف\\u200f!\\u200f ولهذا وشبهه قال رسول الله - صلى الله عليه وسلم -\\u200f:\\u200f من الذود إلى الذود إبل\\u200f. وإني لأرجو أن يخرج ولدك على عرقك الصالح وعلى مذهبك المحمود\\u200f.\\u200f \\n'],\n",
              " ['فنهض القوم بأجمعهم إلى جنازتها وصلوا عليها\\u200f. ثم انكفؤا إلى زوجها فعزوه على مصيبته وشاركوه في حزنه، ثم اندفع شيخ منهم، فقال\\u200f:\\u200f يا قوم لا تحقروا صغار الأمور فإن كل كبير صغير\\u200f، ومتى شاء الله أن يعظم صغير عظمه وأن يكثر قليل كثره\\u200f.\\u200f \\n'],\n",
              " ['وهل بيوت الأموال إلا درهم إلى درهم، وهل الذهب إلا قيراط إلى جنب قيراط، وليس كذلك رمل عالج وماء البحر، وهل اجتمعت أموال بيوت إلا بدرهم من هاهنا ودرهم من هاهنا، فقد رأيت صاحب سفط قد اعتقد مئة جريب في أرض العرب، ولربما رأيته يبيع الفلفل بقيراط الحمص بقيراط، فأعلم أنه لم يربح في ذلك الفلفل إلا الحبة والحبتين من خشب الفلفل، فلم يزل يجمع من الصغار الكبار حتى اجتمع ما اشترى به مئة جريب\\u200f!\\u200f \\n'],\n",
              " ['ثم قال\\u200f:\\u200f اشتكيت أيام صدري من سعال كان أصابني، فأمرني قوم بالفانيذ السكري، وأشار علي آخرون بالحريرة تتخذ من النشاستج والسكر ودهن اللوز وأشباه ذلك\\u200f.\\u200f فاستثقلت المؤنة وكرهت الكلفة ورجوت العافية\\u200f. فبينا أنا أدافع الأيام إذ قال لي بعض الموفقين\\u200f:\\u200f عليك بماء النخالة فاحسه حار\\u200f. فحسوت، فإذا هو طيب جد، وإذا هو يعصم\\u200f،\\u200f فما جعت ولا اشتهيت الغذاء في ذلك اليوم إلى الظهر\\u200f. ثم ما فرغت من غدائي وغسل يدي حتى قلت للعجوز\\u200f:\\u200f لم لا تطبخين لعيالنا في كل غداة نخالة، فإن ماءها جلاء للصدر، وقوتها غذاء وعصمة، ثم تجففين بعد النخالة فتعود كما كانت، فتبيعين إذا الجميع بمثل الثمن الأول، ونكون قد ربحنا فضل ما بين الحالين\\u200f!\\u200f قالت\\u200f:\\u200f أرجو أن يكون الله قد جمع بهذا السعال مصالح كثيرة لما فتح الله لك بهذه النخالة التي فيها صلاح بدنك ومعاشك\\u200f!\\u200f وما أشك أن تلك المشهورة كانت من التوفيق\\u200f! قال القوم\\u200f:\\u200f صدقت، مثل هذا لا يكتسب بالرأي ولا يكون إلا سماوي\\u200f.\\u200f \\n'],\n",
              " ['ثم أقبل عليهم شيخ فقال\\u200f:\\u200f كنا نلقى من الحراق والقداحة جهد؛ لأن الحجارة كانت إذا انكسرت حروفها واستدارت كلت ولم تقدح قدح خير وأصلدت فلم تور وربما أعجلنا المطر والوكف\\u200f. وقد كان الحجر أيض يأخذ من حروف القداحة حتى يدعها كالقوس\\u200f. فكنت أشتري المرقشيتا بالغلاء والقداحة الغليظة بالثمن الموجع\\u200f، وكان علينا أيض في صنعة الحراق وفي معالجة القطنة مؤنة وله ريح كريهة\\u200f. والحراق لا يجيء من الخرق المصبوغة ولا من الخرق الوسخة ولا من الكتان ولا من الخلقان، فكنا نشتريه بأغلى الثمن\\u200f.\\n'],\n",
              " ['فتذاكرنا منذ أيام أهل البدو والأعراب وقدحهم النار بالمرخ والعفار\\u200f.\\u200f فزعم لنا صديقنا الثوري وهو - ما علمت - أحد المرشدين أن عراجين الأعذاق تنوب عن ذلك أجمع\\u200f، وعلمني كيف تعالج. ونحن نؤتى بها من أرضنا بلا كلفة، فالخادم اليوم لا تقدح ولا توري إلا بالعرجون.\\n'],\n",
              " ['قال القوم\\u200f:\\u200f قد مرت بنا اليوم فوائد كثيرة. ولهذا قال الأول\\u200f:\\u200f مذاكرة الرجال تلقح الألباب\\u200f.\\u200f \\n'],\n",
              " ['ثم اندفع شيخ منهم فقال\\u200f:\\u200f لم أر في وضع الأمور في مواضعها وفي توفيتها غاية حقوقها كمعاذة العنبرية\\u200f. قالوا\\u200f:\\u200f وما شأن معاذة هذه؟\\n'],\n",
              " ['قال\\u200f:\\u200f أهدى إليها العام ابن عم لها أضحية، فرأيتها كئيبة حزينة مفكرة مطرقة\\u200f. فقلت لها\\u200f:\\u200f مالك يا معاذة؟! قالت\\u200f:\\u200f أنا امرأة أرملة وليس لي قيم، ولا عهد لي بتدبير لحم الأضاحي، وقد ذهب الذين كانوا يدبرونه ويقومون بحقه، وقد خفت أن يضيع بعض هذه الشاة، ولست أعرف وضع جميع أجزائها في أماكنها. وقد علمت أن الله لم يخلق فيها ولا في غيرها شيئ لا منفعة فيه، ولكن المرء يعجز لا محالة، ولست أخاف من تضييع القليل إلا أنه يجر تضييع الكثير. أما القرن فالوجه فيه معروف، وهو أن يجعل كالخطاف ويسمر في جذع من جذوع السقف فيعلق عليه الزبيل والكيران وكل ما خيف عليه من الفأر والنمل والسنانير وبنات وردان والحيات وغير ذلك\\u200f. وأما المصران فإنه لأوتار المندفة، وبنا إلى ذلك أعظم الحاجة\\u200f. وأما قحف الرأس واللحيان وسائر العظام، فسبيله أن يكسر بعد أن يعرق ثم يطبخ\\u200f، فما ارتفع من الدسم كان للمصباح وللإدام وللعصيدة ولغير ذلك، ثم تؤخذ تلك العظام فيوقد بها، فلم ير الناس وقود قط أصفى ولا أحسن لهب منها، وإذا كانت كذلك فهي أسرع في القدر لقلة ما يخالطها من الدخان\\u200f. وأما الإهاب فالجلد نفسه حراب. وللصوف وجوه لا تدفع. وأما الفرث والبعر فحطب إذا جفف عجيب\\u200f.\\u200f \\n'],\n",
              " ['أصول الإيمان:\\n'],\n",
              " ['الأصل الأول: قاعدة الاعتقاد الذي هو أصل الإيمان:\\n'],\n",
              " ['اعلم أنك مخلوق ولك خالق، وهو خالق العالم وجميع ما في العالم، وأنه لا شريك له، فرد لا مثل له، كان في الأزل وليس لكونه زوال، ويكون مع الأبد وليس لبقائه فناء، وجوده في الأبد والأزل وما للعدم إليه سبيل، وهو موجود بذاته، وكل أحد محتاج إليه، وليس له إلى أحد احتياج، وجوده به، ووجود كل شيء به\\u200f.\\u200f \\n'],\n",
              " ['الأصل الثاني في تنزيه الخالق تعالى: \\n'],\n",
              " ['اعلم أن البارئ تعالى ذكره ليس له صورة ولا مثل، وأنه لا ينزل ولا يحل في قالب وأنه تعالى منزه عن الكيف والكم وعن لماذا وكم، وأنه لا يشبه شيئ، ولا يشبهه شيء، وكل ما يخطر في الوهم والخيال والفكر من التخيل والتمثيل والتكيف فإنه منزه عن ذلك؛ لأن ذلك من صفات المخلوقين، وهو خالقها فلا يوصف بها، وأنه تعالى جده ليس في مكان ولا على مكان، فإن المكان لا يحصره، وكل ما في العالم فإنه تحت عرشه، وعرشه تحت قدرته وتسخيره، وأنه قبل العرش كان متره عن المكان، وليس العرش بحامل له بل العرش وحملته يحملهم لطفه وقدرته\\u200f.\\u200f \\n'],\n",
              " ['الأصل الرابع في العلم: \\n'],\n",
              " ['وأنه تعالى عالم بكل معلوم وعلمه محيط بكل شيء، فليس شيء في العلا إلى الثرى إلا قد أحاط به علمه؛ لأن الأشياء جميعها بعلمه ظهرت، وبإرادته خلقها وبقدرته كونها، وأنه تعالى يعلم عدة رمال القفار وقطرات الأمطار وورق الأشجار وغوامض الأفكار وما دارت عليه الرياح والهواء في علمه ظاهر مثل عدد نجوم السماء\\u200f.\\u200f \\n'],\n",
              " ['وأن جميع ما في العالم بإرادته ومشيئته وليس شيء من قليل أو كثير، صغير أو كبير، خير أو شر، نفع أو ضر، زيادة أو نقصان، راحة أو تعب، صحة أو سقم، إلا بحكمته وتدبيره ومشيئته وتقديره\\u200f.\\u200f \\n'],\n",
              " ['لو اجتمع الإنس والجن والملائكة والشياطين على أن يحركوا في العالم ذرة أو يسكنوها أو ينقصوا منها أو يزيدوا فيها بغير إرادته وحوله وقوته لعجزوا عن ذلك، ولم يقدروا، وما شاء الله كان وما لا يشاء لا يكون ولا ترد مشيئته، ومهما كان ويكون أو هو كائن فإنه بتدبيره وأمره وتسخيره\\u200f.\\u200f \\n'],\n",
              " ['الأصل الخامس والسادس في أنه سميع بصير:\\n'],\n",
              " ['وكما أنه عالم بجميع المعلومات فإنه سميع لكل مسموع، بصير لكل مبصر، وأنه بسمع واحد وبصر واحد، يرى دبيب النملة في الليلة المظلمة، ولا يخفى عن سمعه صوت الدود تحت أطباق الأرض، وأن سمعه ليس بأذن، وبصره ليس بعين\\u200f.\\u200f \\n'],\n",
              " ['وكما أن علمه لا يصدر عن فكرة ففعله بغير آلة وعدة، يقول للشيء: كن فيكون\\u200f.\\u200f \\n'],\n",
              " ['الأصل السابع في الكلام: \\n'],\n",
              " ['وأن أمره تعالى على جميع الخلق نافذ واجب مهما أخبره من وعد ووعيد فإنه حق وأمره كلامه\\u200f.\\u200f \\n'],\n",
              " ['وكما أنه عالم مريد قدير سميع بصير فهو متكلم، وكلامه بغير حلق ولا لسان ولا فم ولا أسنان. والقرآن والتوراة والإنجيل والزبور والكتب المنزلة على الأنبياء - عليهم السلام - جميعها كلامه\\u200f.\\u200f \\n'],\n",
              " ['وكلامه صفته، وكل صفاته قديمة، وكما أن الكلام عند الآدمي حرف وصوت فكلام الله منزه عن الأصوات والحروف\\u200f.\\u200f\\n'],\n",
              " ['الأصل الثامن في أفعاله تعالى:\\n'],\n",
              " ['وأن جميع ما في العالم مخلوق له تعالى وليس معه شريك ولا خالق، بل هو الخالق الواحد، ومهما خلقه من تعب ومرض وفقر وعجز وجهل فعدل منه، ولا يمكن الظلم في أفعاله؛ لأن الظالم هو الذي يتصرف في ملك غيره، والخالق تعالى لا يتصرف إلا في ملكه وليس معه مالك سواه. وكل ما يكون وهو كائن فهو ملك له، وهو المالك بلا شبيه ولا شريك وليس لأحد عليه اعتراض بلم وكيف ولكن، له الحكم والأمر في كل أفعاله، وما لأحد غير التسليم والنظر إلى صنعه والرضا بقضائه\\u200f.\\u200f الأصل التاسع في ذكر الآخرة: \\n'],\n",
              " ['وأنه تعالى خلق العالم من نوعين جسد وروح، وجعل الجسد منزل للروح، لتأخذ زاد لآخرتها من هذا العالم، وجعل لكل روح مدة مقدرة تكون في الجسد، فآخر تلك المدة هو أجل تلك الروح من غير زيادة ولا نقصان، فإذا جاء الأجل فرق بين الروح والجسد، وإذا وضع الميت في قبره أعيدت روحه إلى جسده ليجيب سؤال منكر ونكير، وهما شخصان هائلان عظيمان، فيسألانه من ربك ومن نبيك، فإن استعجم ولم يجب عذباه وملآ قبره حيات وعقارب\\u200f.\\u200f \\n'],\n",
              " ['ويوم القيامة يوم الحساب والمكافأة والمناقشة والمجازاة، ترد الروح إلى الجسد، وتنشر الصحف، وتعرض الأعمال على الخلائق، فينظر كل إنسان في كتابه فيرى أعماله ويشاهد أفعاله ويعلم مقدار طاعته ومعصيته، وتوزن أعماله في ميزان الأعمال، ثم يؤمر بالجواز على الصراط\\u200f.\\u200f \\n'],\n",
              " ['والصراط أدق من الشعرة وأحد من الشفرة، فكل من كان في هذا العالم على الطريقة المستقيمة الصالحة وسلوك المحجة الواضحة عبر على الصراط وجازه في راحة واستراحة، وإن لم يكن على السيرة المحمودة والأعمال الصالحة الرشيدة وعصى مولاه واتبع هواه فإنه لا يجد الطريق على الصراط ولا يهتدي إلى الجواز ويقع في جهنم\\u200f.\\u200f \\n'],\n",
              " ['والكل يوقفون على الصراط ويسألون عن أفعالهم، فيسأل الصادقون عن صدقهم، ويمتحن المراؤون والمنافقون ويفضحون. فمن الناس قوم يدخلون الجنة بغير حساب، وجماعة يحاسبون بالرفق والمسامحة، وجماعة يحاسبون بالصعوبة والمناقشة والمحاققة، ثم يسحب الكفار إلى نار جهنم بحيث لا يجدون خلاص، ويدخل أهل الجنة الجنة، ويؤمر بالعصاة إلى النار، وكل من نالته شفاعة الأنبياء والعلماء والأكابر عفي عنه، وكل من ليس له شفيع عوقب بمقدار إثمه، وعذب بقدر جرمه ثم يدخل الجنة، إن كان قد سلم معه إيمانه\\u200f.\\u200f \\n'],\n",
              " ['الأصل العاشر في ذكر رسول الله صلى الله عليه وسلم: \\n'],\n",
              " ['ولما قدر الله تعالى هذا التقدير، وجعل الإنسان وأحواله واكتسابه وأعماله منها ما هو سبب لسعادته، ومنها ما هو سبب لشقاوته، والإنسان لا يقدر أن يعرف ذلك من تلقاء نفسه. خلق الله تعالى بحكم فضله ورحمته وطوله ومنته ملائكة، وبعثهم إلى أشخاص قد حكم لهم بالسعادة في الأزل، وهم الأنبياء - عليهم الصلاة والسلام - ، فأرسلهم إلى الخلق ليوضحوا لهم طرق السعادة والشقاوة؛ لئلا يكون للناس على الله حجة. وأرسل نبينا محمد - صلى الله عليه وسلم – آخر، وجعله بشير ونذير، فأوصل نبوته إلى درجة الكمال، فلم يبق للزيادة فيه مجال، ولهذا جعله خاتم الأنبياء، فلا نبي بعده، وأمر الخلائق من الإنس والجن بطاعته واتباعه، وجعله سيد الأولين والآخرين، وجعل أصحابه خير أصحاب الأنبياء صلوات الله عليهم أجمعين\\u200f.\\u200f \\n'],\n",
              " ['ذكر فروع شجرة الإيمان:\\n'],\n",
              " ['اعلم أن كل ما كان في قلب الإنسان من معرفة واعتقاد فذلك أصل الإيمان، وما كان جاري على أعضائه السبعة من الطاعة والعدل، فذلك فرع الإيمان\\u200f.\\u200f \\n'],\n",
              " ['فإذا كان الفرع ذاوي دل على ضعف الأصل، فإنه لا يثبت عند الموت، وعمل البدن عنوان إيمان القلب\\u200f.\\u200f \\n'],\n",
              " ['والأعمال التي هي فروع الإيمان هي تجنب المحارم وأداء الفرائض، وهما قسمان\\u200f:\\u200f أحدهما بينك وبين الله تعالى مثل الصوم والصلاة والحج والزكاة واجتناب شرب الشراب والعفة عن الحرام\\u200f.\\u200f \\n'],\n",
              " ['والأخرى بينك وبين الخلق، وهي العدل في الرعية والكف عن الظلم\\u200f.\\n'],\n",
              " ['من الفوارق بين التربية الإسلامية والتربية الغربية:\\n'],\n",
              " ['هناك فوارق كثيرة وكبيرة بين التربية في الإسلام والتربية في الغرب، وليست هذه الفوارق في الظاهر، بل هي في الباطن، ليست في العرض، وإنما في الجوهر.\\n'],\n",
              " ['وإذا كان بين المربين وأئمة التربية في الغرب من يدعو إلى مكارم الأخلاق ويشترطها في التربية فإن ذلك لا يطوي شقة الخلاف بين الإسلام والغرب، بل تبقى الفوارق على كثرتها كما هي ولا تزداد؛ لأن مفهوم  مكارم الأخلاق مختلف بينهما.\\n'],\n",
              " ['يقول أوبير - كما مر في الفصل السابق - : \" إن التربية التي نتحدث عنها جزء لا يتجزأ من الأخلاق، إنها امتداد مقبل للعمل الأخلاقي الحاضر، إنها تهيئة للعمل الخلقي المستقبل، ومحال على من يملك وجهة نظر شخصية في تهيئة الأخلاق ألا يربط بها مفاهيمه التربوية\".\\n'],\n",
              " ['وهذه دعوة كريمة لا نملك إلا قدرها حق قدرها والإشادة بها؛ لأن لنا أسوة حسنة برسول الله صلى الله عليه وسلم، فقد كانت سفانة ابنة جواد العرب المعطاء السخي حاتم الطائي في الأسر، فرأى الرسول الكريم أن يمن المسلمون عليها بالعفو من أجل أبيها الذي قال فيه صلى الله عليه وسلم:\" إنه كان يحب مكارم الأخلاق\"، وأخذ المسلمون برأي رسولهم الذي يدعو إلى هذه المكارم ويشجع عليها.\\n'],\n",
              " ['وهل نأخذ بالتربية الغربية ونطبق مناهجها على أطفال المسلمين وفتيانهم، ما داموا يرون ضرورة التقيد بالأخلاق الكريمة والمثل العليا والاستقامة كما جاء في أقوال أوبير وغيره؟\\n'],\n",
              " ['وقبل أن نجيب نفحص تلك الأخلاق والمثل ومعنى الكرم والرفعة والاستقامة، لنرى أهي الأخلاق والمثل التي يعترف بها الإسلام أم هي في الغرب غيرها في الإسلام؛ لأن الاتفاق في الأسماء لا يقتضي الاتفاق في المسميات.\\n'],\n",
              " ['ومن المقررات المتفق عليها بين البشر على اختلاف الدين واللغة والجنس والوطن والدم واللون فيما بينهم قدر الخلائق الإنسانية الفاضلة التي وصفها الرسول الكريم محمد - عليه أفضل الصلاة وأزكى التسليم - أو سماها مكارم الأخلاق، كما جاء في قوله في وصف حاتم الطائي، وكما جاء في قوله الرائع العظيم:\" بعثت لأتمم مكارم الأخلاق\".\\n'],\n",
              " ['ومكارم الأخلاق تراث الإنسانية الخالد، وقد جاء الرسل الكرام السابقون بمكارم الأخلاق، ولم يكن الرسول محمد - عليهم جميع الصلاة والسلام - بدع بين إخوته، ومع أنه سيدهم وأفضلهم فإنه قال ما قال في تواضع يليق بمقام سيد الرسل.\\n'],\n",
              " ['ومكارم الأخلاق هي الحصة الإنسانية المشتركة بين البشر دون نظر إلى فوارق الجنس والدم واللغة والوطن والدين، وإن الدين نفسه أعظم المكارم إلا ما ندر.\\n'],\n",
              " ['فالبوذية والجيفية والكنفوشية وغيرها من الديانات الوثنية زاخرة بمكارم الأخلاق.\\n'],\n",
              " ['وما في الوثنيات من هذه المكارم والإنسانيات إنما هي ما تحدر من الأديان الصحيحة إلى الوثنيات يضاف إليه النفس الإنسانية.\\n'],\n",
              " ['والأديان السماوية تأمر بالمعروف وتحض عليه، وتنهى عن المنكر وتنفر منه، وتختلف الأديان فيما بينها في مفهوم الحسن والقبح والحلال والحرام، فقد كانت أشياء محرمة في دين ثم جاءت الإباحة في دين آخر، وإن كانت الأديان متفقة فيما بينها على العقيدة والإيمان وأركانهما، ومتفقة فيما بينها على ما يعد من الأخلاق والأعمال والأقوال كريم.\\n'],\n",
              " ['ولما جاء الإسلام إلى العالم وجعله الله خاتم الأديان كانت كل ديانات العالم تحولت إلى شرك ووثنية، فما كان منها صحيح حق قد دخله التحريف كالموسوية والعيسوية، وزالت من الأرض كل أديان السماء الصحيحة وما أنزل الله من كتب، وخلا العالم من الأديان والكتب.\\n'],\n",
              " ['وبقاء العالم بلا دين حق وكتاب حق كارثة على الإنسان، وقد انتهى إلى حياة تكتنفها الشرور والموبقات والظلم والفساد.\\n'],\n",
              " ['وتأبى رحمة الله أن تترك البشر همل فأنعم على البشرية بخير نبي وأعظم كتاب وأكمل دين فدخل الناس فيه أفواج، وما زالوا يدخلون فيه أفواج حتى يومنا هذا على كثرة أعداء الحق والخير والفضيلة الذين يحاربون الإسلام حرب لا هوادة فيها ولا هدنة.\\n'],\n",
              " ['واختلف مفهوم مكارم الأخلاق بين الإسلام وغيره من الديانات والملل والنحل والمذاهب اختلاف كبير حتى لا يكون ثم لقاء في بعض الأمور، وحتى يصل الخلاف إلى حد النقض الشديد، مثل المخالفة بين الكفر والإيمان والشر والخير والرذيلة والفضيلة.\\n'],\n",
              " ['وإذا كان الخلاف في الماضي بين الأضداد لم يبلغ مبلغه في هذا العصر فإننا نشهد الخلاف مصحوب بالمقاومة والنزال، والباطل محبوب تدق له الطبول في كل مكان.\\n'],\n",
              " ['وتبع هذا الخلاف خلاف في مفهوم الأخلاق والمثل والاستقامة وفي أكثر ما يتصل بالعقيدة وفي نظرية الحلال والحرام بين الإسلام والغرب والشيوعية واليهودية والنصرانية وكل الملل والنحل.\\n'],\n",
              " ['نأخذ الفقه مثل في فارق المفهوم، فالشيوعية تعطي المرأة حريتها فيما هو في ملكها، فهي حرة في أن تهب ثغرها لمن تحب تقبيله، وكذلك المرأة الغربية سواء أكانت نصرانية أم يهودية.\\n'],\n",
              " ['وضربنا المثل بالقبلة لأنها من الأمور المباحة، بل فوق الإباحة؛ لأن القبلة ليست محرمة على الأحبة، وليس تبادل القبلة عمل مخجل! بل من الأمور المستحبة.\\n'],\n",
              " ['أما الإسلام فيحرم على الأجنبي والأجنبية تبادل القبلة، فإذا تم تبادلهما إياها فقد عرضا أنفسهما للسخط والعقوبة وسقوط العدالة عنهما وكتابة العار عليهما، ويأنف الناس أن يزوج أحدهما؛ لأن الأب أو من يقوم مقامه لا يرضى لابنته رجل اقترف ذلك الإثم، ولا لابنه امرأة خاطئة.\\n'],\n",
              " ['فالقبلة ليست في الغرب إثم، وهي في الإسلام إثم مبين.\\n'],\n",
              " ['هذا في أيسر الأمور، مع أن الإسلام يتجهم كل التجهم لهذا الإثم ويعاقب عليه الأهل أيض.\\n'],\n",
              " ['فإذا كان الأمر في غاية العسر والفظاعة في القبلة، فكيف يكون فيما هو شر منها وأبشع كالاتصال عن تراض، أو المراقصة أو الاختلاء أو تعاطي الخمر؟!\\n'],\n",
              " ['إن الخلاف كبير إلى أبعد حد بين عقيدة المسلم الصحيحة وعقيدة الغرب من يهود ونصارى وممن لا عقيدة له، وكذلك الاختلاف جد كبير في المثل والأخلاق كلها.\\n'],\n",
              " ['إن حياة الغرب وديانته وآدابه وأخلاقه ومثله العليا وقيمه الرفيعة كلها مبنية على الوثنية التي لا تلتقي الإسلام، ولا الإسلام يلتقيها أبد؛ لأنهما نقيضان.\\n'],\n",
              " ['وما نريد أن نتغلغل إلى الأعماق أو  نقف عند القبلة، بل نكتفي بما هو دون ذلك حتى يعرف الفارق بين التربية في الإسلام والتربية في الغرب.\\n'],\n",
              " ['فالإسلام يعاقب المربي أو العالم الذي يلقي دروسه وهو مكشوف الفخذ، ويشتد في العقاب إذا تكرر ذلك منه، وقد يمنعه من التدريس، فإذا شرب المربي أو المدرس الخمر جلده، أما إذا ارتكب الفاحشة فالويل كل الويل له.\\n'],\n",
              " ['ولما كانت العقيدة ونظرية الحلال والحرام وآداب السلوك ومعاني كرم الأخلاق ورفعة المثل والاستقامة شديدة الاختلاف بين الإسلام وكل الديانات والمذاهب الاجتماعية، فإن تربية الغرب لا تصلح للبلاد الإسلامية في جميع الأحوال.\\n'],\n",
              " ['فالمربي الفرنسي الكبير أوبير الذي يحتم وجود مكارم الأخلاق في المربي لا يرى أي حطة أو مخالفة لهذه المكارم إذا رقص مع امرأة أجنبية أو مراقصة زوجته لأجنبي أو مراقصة ابنه لشابة أو مراقصة ابنته لشاب أجنبي على مرأى منه ومن الناس، ولا يرى أي مخالفة لمكارم الأخلاق والمثل الرفيعة والاستقامة أن تنزل ابنته البحر عارية إلا من تبان لا يستر غير العورة المغلظة وغير ستيان على ثدييها لم يتخذ للستر، وإنما للزينة والفتنة والإغراء والمزيد من الإثارة.\\n'],\n",
              " ['الفصل الثاني: دور الحكومة في المجتمع الحر. \\n'],\n",
              " ['هناك اعتراض عام على المجتمعات الدكتاتورية وهو أنها تعتبر أن الغاية تبرر الوسيلة. ولو أخذنا بحرفية هذا الاعتراض, فسنجده غير منطقي. فإن كانت الغاية لا تبرر الوسيلة فما الذي يبررها؟ ولكن هذا الجواب السهل، لا يزيل الاعتراض السابق. إنه يوضح لنا ببساطة أن الاعتراض لم يوضع بشكل جيد. فإنكار كون الغاية تبرر الوسيلة يؤكد بشكل مباشر على أن الغاية موضوع البحث, ليست هي الغاية النهائية. إن الغاية النهائية هي نفسها استخدام الوسيلة المناسبة, وسواء أكان الأمر مرغوب فيه أم لا, فلا بد لأي غاية تتحقق فقط بوسيلة سيئة من أن تعطي الأولوية للغاية الأساسية التي تتحقق باستعمال وسيلة مقبولة.\\n'],\n",
              " ['ويرى الليبراليون أن الوسيلة الملائمة, تتمثل في النقاش الحر والتعاون الطوعي. وهذا يعني أن أي وسيلة أخرى تقوم على الإكراه غير ملائمة. فالشيء المثالي هو الإجماع بين الأشخاص المسؤولين, الذي يتحقق من خلال النقاش الحر الكامل. وهذه هي طريقة أخرى للتعبير عن هذه الحرية التي أكدنا عليها في الفصل السابق.\\n'],\n",
              " ['ومن وجهة النظر هذه, فإن دور السوق كما أشرنا سابق, يتمثل في أنه يسمح بالإجماع دون المطابقة التامة, وإنه نظام تمثيل نسبي فعال. ومن الجهة الأخرى فإن السمة المميزة للعمل من خلال القنوات السياسية, إنه يتجه إلى نحو إيجاد مطابقة كبيرة. ويجب أن تقرر نعم أو لا. وغالب ما يجب توفير عدد محدود من البدائل. وحتى استعمال التمثيل النسبي بشكله السياسي الظاهر, لا يفسد هذا الاستنتاج. وفي الواقع فإن عدد الفئات المنفصلة محدود جد, ولكنه كثير, إذا ما قورن مع التمثيل النسبي للسوق. والأهم من ذلك أن النتيجة النهائية بشكل عام, يجب أن تصبح قانون ينطبق على جميع الفئات, بدل من أن تكون قوانين شرعية منفصلة, خاصة بكل طرف, فمثل الأمر الذي يعني أن التمثيل النسبي بصورته السياسية, مع كونه بعيد عن السماح بالإجماع دون مطابقة, يميل نحو الفعالية والتجزئة. وهو بذلك يعمل لنسف أي إجماع يمكن أن ترتكز عليه المطابقة.\\n'],\n",
              " ['من الواضح أن هناك بعض الأمور يكون التمثيل النسبي لها ضرب من المستحيل, فأنا لا أستطيع أن أحصل على القدر الذي أريد من الدفاع الوطني, بينما تحصل أنت على قدر مختلف. إذ إن مثل هذه الأمور لا يمكن تقسيمها، ونحن نستطيع أن نبحثها ونتحاور حولها ونصوت عليها. ولكن لا بد لنا من أن نتطابق ونتوافق عند اتخاذ القرار. إن هذه الأمور الأساسية التي لا تقبل التجزئة، وهي حماية الفرد والأمة من الإكراه والإجبار، وهي التي تحول دون الاعتماد التام على العمل الفردي من خلال السوق. إذا كان علينا أن نستخدم بعض من مصادرنا لمثل هذه الأمور التي لا تقبل التجزئة, فلا بد لنا من أن نستخدم القنوات الأساسية لتسوية الخلافات.                           \\n'],\n",
              " ['ومع حتمية استخدام القنوات السياسية, فإنها تعمل على شد أواصر اللحمة الاجتماعية اللازمة لبيئة المجتمع واستقراره. ويكون هذا الشد في أدنى مستوى, إذا كان علينا أن نصل إلى اتفاق مشترك بشأن عدد محدود فقط من القضايا التي يشارك الناس في الرأي بصددها. إن توسيع سلسلة القضايا التي نسعى لاتفاق ظاهر بشأنها ستشد الخيوط الدقيقة التي تربط المجتمع بعضه بعض. ولو توسع ذلك التوسع كثير لأحس الناس حولها بشعور عميق ومختلف, فإنه قد يمزق المجتمع. ومن النادر أن نحل الخلافات الأساسية في القيم عند صندوق الانتخابات. وفي نهاية المطاف, فإنه فقط يمكن اتخاذ القرار بشأنها, من خلاف في الرأي, ومع ذلك تبقى دون حل. وما الحروب الدينية والأهلية في التاريخ إلا خير شاهد على هذا الاستنتاج.\\n'],\n",
              " ['ويقلل استخدام السوق استخدام واسع من عملية شد النسيج الاجتماعي, وذلك التوافق أمر غير ضروري بالنسبة لأي فعاليات يشتمل عليها. وكلما كان مجال الفعاليات التي يغطيها السوق أوسع, قل عدد القضايا التي تتطلب اتخاذ قرارات سياسية, وبالتالي التوصل إلى اتفاق بخصوصها. وبدورها, فكلما قل عدد القضايا التي يكون الاتفاق بشأنها ضروري عظم احتمال التوصل إلى اتفاق مع الإبقاء على صورة المجتمع الحر.\\n'],\n",
              " ['وبطبيعة الحال فإن الإجماع شيء مثالي, لأنه عملي لا يتوفر لدينا الجهد والوقت اللازمان للتوصل إلى إجماع كامل على كل قضية. ولا بد لنا أن نقبل مضطرين بشيء أقل. وهكذا فإننا نضطر لأن نقبل حكم الأغلبية بشكل أو بآخر, باعتباره أمر مناسب. إن حكم أمر الأغلبية أمر يلائم الموقف, وليس مبدأ أساسي نظهره بوضوح من خلال رغبتنا في اللجوء إلى حكم الأغلبية, وحجم الأغلبية يعتمد على خطورة القضية ذات العلاقة. إذا كان الأمر يدوم للحظة قصيرة وليس للأقلية أي مشاعر قوية ضد أن تكون محكومة, فإن غالبية تعددية ضئيلة سوف تكفي، إذ إن قليل منا سوف يرضون بأن تحسم قضايا التعبير الحر مثل بأغلبية ضئيلة جد. إن بناءنا القانوني مملوء بمثل هذا التمييز بين مختلف أنواع القضايا، التي تتطلب أنواع مختلفة من الأغلبية. ومن الأمثلة المتطرفة القضايا التي تتجسد في الدستور؛ تلك اأألمبادئ المهمة التي لا نرضى أن نقدم أية تنازلات بشأنها ولو بسيطة للملاءمة أو المناسبة. ولقد تحقق شيء من الإجماع  في الرأي في البداية عند قبولنا لها، ولذلك فنحن نطلب شيئ من الإجماع في الرأي الأساسي لتعديلها.\\n'],\n",
              " ['إن قانون إنكار الذات للانسلاخ من حكم الأغلبية بشأن قضايا كما ينص على ذلك دستورنا وغيره من الدساتير المشابهة المكتوبة أو غير المكتوبة، والمواد المحددة في هذه القوانين أو ما يعادلها، والتي تنهى عن إكراه الأفراد، يجب أن ينظر إليها في حد ذاتها على أننا توصلنا إليها من خلال النقاش الحر، أو أنها تعكس إجماع ضروري على الوسيلة.\\n'],\n",
              " ['أعود الآن للنظر بتحديد أكثر في النواحي التي لا يمكن معالجتها من خلال السوق، أو التي يمكن معالجتها فقط بتكلفة كبيرة جد، بحيث يكون من الأفضل عندها استعمال القنوات السياسية. على أنني سأتناول ذلك بعبارات عامة.\\n'],\n",
              " ['الحكومة كصانعة قوانين وحكم:\\n'],\n",
              " ['إن من المهم بمكان أن نميز بين الفعاليات اليومية والإطار العام المألوف. ويمكن تشبيه الفعاليات اليومية بأعمال المشتركين في لعبة، ويشبه الإطار العام قوانين تلك اللعبة، ومثلما أن اللعبة الجيدة تتطلب قبول اللاعبين بقوانينها، وبرأي الحكم الذي سيفسرها وينفذها، فإن المجتمع الجيد كذلك يتطلب أن يوافق أعضاؤه على الشروط العامة التي سوف تحكم العلاقات فيما بينهم، وعلى وسيلة ما لتحكيم مختلف تفسيرات هذه الشروط، وعلى أداة ما لتنفيذ الالتزام بالقواعد المقبولة بشكل عام. وكما هو الحال بالنسبة للعبة، كذلك المجتمع، فإن معظم الشروط العامة هي نتيجة غير مقصودة للعادات، وهي من دون تفكير. ونحن في الغالب ننظر بشكل واضح فقط في إدخال تعديلات بسيطة فيها، مع أن النتيجة التراكمية لهذه التعديلات البسيطة ربما تنتهي إلى تغيير جذري في الشكل العام للعبة أو المجتمع. وفي مثال اللعبة والمجتمع لا تسود مجموعة القوانين ما لم يخضع لها معظم المشاركين في معظم الوقت، دون فرض عقوبات خارجية عليهم، أي ما لم تكن قائمة على إجماع اجتماعي.\\n'],\n",
              " ['يقسم العلماء العلم الذي جاء به الرسول - صلى الله عليه وسلم - من ربه إلى ثلاثة أقسام\\u200f:\\u200f قسم إخباري، وهو يتعلق بأمور الغيب والآخرة كصفات الله سبحانه وأعماله، والرسالات والملائكة، والجنة والنار والحساب، وغير ذلك مما يدخل في مسائل الغيب والإيمان\\u200f.\\u200f \\n'],\n",
              " ['وقسم يتعلق بالأعمال، وهو التشريع والأعمال التي كلفنا بها، فمنها ما يتعلق بالصلة بين العبد وربه فتسمى العبادات، وأعظمها الصلاة والصوم والزكاة والحج، ومنها ما يتعلق بين الناس بعضهم مع بعض، كالزواج والطلاق والبيع، والهبة والميراث، وهكذا كافة الشؤون المالية والسياسية\\u200f.\\n'],\n",
              " ['وقسم آخر يتعلق بالكمال الإنساني، وهو الأخلاق والتزكية. وهذا القسم يتعلق بكلا القسمين الآنفين فهو من ناحية عمل قلبي، فسلامة الصدر من الغل والحسد خلق، وهو من ناحية ثانية عمل ظاهري تشريعي، فالسماحة والبذل والشجاعة وإكرام الضيف وما إلى ذلك أعمال ظاهرية\\u200f.\\u200f \\n'],\n",
              " ['والقسم الأول العقائد لا يدخله التغيير ولا التبديل ولا الزيادة أو النقص، فهو ثابت في الرسالات جميعها وعلى لسان الأنبياء جميع\\u200f.\\u200f \\n'],\n",
              " ['وأما القسم الثاني فهو خاضع للظروف والملابسات والزمان والمكان، بل هو في حركة دائمة كما قال سبحانه وتعالى\\u200f:\\u200f لكل جعلنا منكم شرعة ومنهاج\\u200f \\u200f(سورة \\u200fالمائدة\\u200f: \\u200fالآية الثامنة والأربعون\\u200f).\\u200f ولذلك اختلفت شرائع الأنبياء بعضهم عن بعض، ولا يعني هذا الاختلاف من جميع الوجوه، بل أصول الشرائع أيض متفقة\\u200f.\\u200f \\n'],\n",
              " ['وبالرغم من أن شريعة الإسلام قد كملت بوفاة النبي صلى الله عليه وسلم، فإن المسلمين في تاريخهم الطويل قد احتاجوا إلى أن يستنبطوا من هذه الشريعة أحكام لقضاياهم ومشكلاتهم المتجددة بتجدد الزمان والمكان والحوادث\\u200f.\\u200f ولذلك كان التشريع للحياة حركة متجددة بتجدد الحياة\\u200f.\\u200f وهذا يعني أيض وقف التشريع للوقائع المتغيرة هو عزل للشريعة عن حياة الناس؛ لأن الحياة مستمرة\\u200f.\\u200f والتشريع ضوابط لهذه الحياة والحركة المستمرة، فإذا تخلفت هذه الضوابط انفلت الناس إلى شرائع أخرى وقوانين جديدة، وهذا ما حدث تمام بالنسبة للشريعة الإسلامية حيث عزلت عن حياة الناس وعن التقنين لهم بجمود الحركة الفقهية التشريعية أول ثم بالعزل السياسي والاجتماعي للتشريع الإسلامي\\u200f.\\u200f \\n'],\n",
              " ['وأما الأخلاق فبالرغم من ثباتها من حيث المبادئ والأصول، فالجانب العملي فيها يتغير تبع للظروف والملابسات، فالصبر والشجاعة والكرم وإن كان المعنى الأصلي فيها ثابت باقي إلا أن المواقف التي تقتضي ذلك متغيرة أيض\\u200f.\\u200f \\n'],\n",
              " ['هذه الحركة المتغيرة الدائبة للتشريع الإسلامي تقتضي أن يكون لدينا في كل العصور وعلى مدار التاريخ رجال علماء أكفاء يضبطون حياة الناس ويوجهونها وفق الإسلام\\u200f.\\u200f وهؤلاء العلماء لا يجوز فقط أن يكونوا في موقف الإفتاء فقط، بل أيض في موقع التنفيذ والقضاء، ولذلك اشترط المسلمون للإمام العام أن يكون مجتهد وذلك أنه يحتاج في كل يوم أن يتخذ من المواقف والأحكام مع المسلمين وغيرهم من الأعداء المحاربين، والمسالمين والمستأمنين والمعاهدين ما يتفق مع الدين الذي أنزله الله سبحانه وتعالى، وهذا يحتاج إلى الاجتهاد، وكذلك اشترط في القاضي أيض أن يكون مجتهد؛ لأن الوقائع والمشاكل التي تعرض على القضاء ليست متماثلة بما وقع في صدر الإسلام وفي عهد التشريع من كل وجه، بل في كل يوم يواجه القضاء مشكلات جديدة وحيل شتى ووقائع متغيرة، وما لم يكن القاضي فقيه مجتهد، فإنه لا بد وأن يحكم بالجهل ويقع في الظلم\\u200f.\\u200f \\n'],\n",
              " ['لهذه الأسباب فالمسلمون يحتاجون في كل يوم بل في كل ساعة إلى اجتهاد فقهي جديد\\u200f:\\u200f اجتهاد في الإفتاء، واجتهاد في القضاء، واجتهاد لتنفيذ الأحكام وتطبيق الشريعة وفق مقتضيات الحال وتغير المشكلات\\u200f.\\u200f ولنضرب على هذا أمثلة من واقعنا السياسي\\u200f. سياسي\\u200f،\\u200f المسلمون اليوم في حاجة ماسة إلى خلافة راشدة فكيف توجد الآن؟ وما هو الطريق لها وفق الكتاب والسنة\\u200f؟\\u200f\\u200f!\\u200f يحتاج هذا إلى اجتهاد ودعوة\\u200f\\u200f. نقابل اليوم أعداء كثيرين،  فاليهود تحتل أرضنا وتشرد رجالنا ونساءنا وأطفالنا، فما هو الواجب اليوم معهم\\u200f؟\\u200f هل الواجب الحرب أم العهد أم السلام والصلح\\u200f؟\\u200f\\u200f!\\u200f وإذا كان الحرب فكيف\\u200f؟\\u200f\\u200f!\\u200f وإذا كان العهد فما هي مواصفاته وشروطه\\u200f؟\\u200f\\u200f!\\u200f وإذا كان السلام فما أيض مواصفاته وشروطه\\u200f؟\\u200f\\u200f! اقتصادي\\u200f،\\u200f هل يجوز أن نودع أموالنا في بلاد الغرب\\u200f؟\\u200f\\u200f!\\u200f وإذا كان جائز، فهل يجوز وضع هذا المال بالفوائد أم بدونها\\u200f؟\\u200f وإذا لم يكن جائز فما الحل\\u200f؟\\u200f\\u200f\\u200f هذا إلى عشرات ومئات المشكلات الاقتصادية في العمل والشركات، والتأمين والتجارة وتحويل المال.\\u200f وكل هذا يحتاج إلى علماء أعلام يفهمون الحياة ونظم المال الحاضرة ويفتون المسلمين بما يجب عليهم في كل هذا\\u200f.\\u200f \\n'],\n",
              " ['وهكذا مشكلاتنا الاجتماعية والخلقية والنفسية، ومشكلات التطبيق للشريعة الإسلامية في العصر الراهن، ومشكلات المسلمين في بلاد الكفار، إلى آلاف المشكلات، وكلها تحتاج إلى اجتهاد وحلول\\u200f.\\u200f \\n'],\n",
              " ['باختصار، المسلمون اليوم في حاجة ماسة إلى حركة اجتهادية تجديدية لا تكتفي فقط بإصدار الفتوى، ولكن أيض بمواكبة العمل بالإسلام في إطار الفرد والجماعة والدولة\\u200f.\\u200f وهذه الحركة الاجتهادية التجديدية هي التي تميز للمسلمين طريق العمل بالإسلام في الوقت الحاضر وتأخذ بخطاهم خطوة خطوة نحو تحكيم الشريعة في جميع شؤون الحياة، وبدون هذه الحركة التجديدية الاجتهادية الكاملة ستبقى الشريعة الإسلامية بمعزل عن حياة الناس وواقع التطبيق كما هو حادث الآن\\u200f.\\u200f\\n'],\n",
              " ['كيف نجتهد؟\\n'],\n",
              " ['عرف العلماء الاجتهاد الشرعي بأنه بذل الجهد للوصول إلى ظن بحكم شرعي\\u200f.\\u200f وهذا يعني أن المجتهد يبذل جهده ليعرف مراد الله - سبحانه وتعالى - في قضية ما\\u200f.\\u200f فإما أن نعرف الحكم من نص قرآني أو حديث نبوي أو إجماع للصحابة ، رضوان الله عليهم\\u200f.\\u200f \\n'],\n",
              " ['وإما أن يعرف هذا باستنباط وفهم من آية أو حديث، وهذا الفهم يصيب ويخطئ، ولذلك كان الاجتهاد الذي ينبني على الفهم والاستنباط ظني؛ لأن الفهم والاستنباط غير معصوم، ولذلك قال الإمام مالك - رحمه الله - \\u200f:\\u200f كل رجل يؤخذ من قوله ويرد عليه إلا صاحب هذا القبر\\u200f.\\u200f يعني النبي، صلى الله عليه وسلم.\\n'],\n",
              " ['والذي يعمل عقله وفهمه لمعرفة حكم ما لا بد بالطبع أن يكون أهل لذلك، ولذلك وضع العلماء شروط للاجتهاد، أعدلها\\u200f:\\u200f أن يكون المجتهد على علم بالقرآن والسنة وفهم لغة العرب وفهم الحادثة والواقعة المراد التشريع لها ومعرفة النصوص الخاصة في شأن مثل هذه الواقعة\\u200f.\\u200f وهذا العلم بحمد الله متيسر لكل من بذل في هذا جهد مناسب، كما قال تعالى\\u200f:\\u200f \\u200f\"ولقد يسرنا القرآن للذكر فهل من مدكر\"\\u200f \\u200f، وقال صلى الله عليه وسلم: \\u200f\"\\u200fبعثت بالحنيفية السمحة\"، وهو حديث حسن\\u200f. وقال\\u200f:\\u200f\\u200f \\u200fإن هذا الدين يسر، ولن يشاد الدين أحد إلا غلبه\".\\u200f\\n'],\n",
              " ['ويسر الإسلام ليس في العمل فقط، بل في الفهم أيض\\u200f.\\u200f ولذلك لم يخل تاريخ المسلمين في كل عصورهم - بحمد الله وتوفيقه -  من رجال أكفاء كانوا على مستوى الاجتهاد والفهم العام لدين الله - سبحانه وتعالى - وتعليم الأمة وتوجيه مسارها إلى ما يرضي الله ، سبحانه وتعالى\\u200f.\\u200f \\n'],\n",
              " ['ولا يشترط بالضرورة أن يكون كل من قال قول في الدين أن يكون قوله صواب موافق للحق بل كل من اجتهد في هذا الدين بعد رسول الله وإلى يومنا هذا قد أصاب، وقد أخطأ، وقد رد على غيره، ورد غيره عليه، كما قال الإمام مالك أيض\\u200f:\\u200f ما منا إلا قد رد ورد عليه\\u200f.\\n'],\n",
              " ['تقدير الأجور:\\n'],\n",
              " ['تختلف أجرة العامل من مدينة إلى أخرى ومن وقت إلى آخر، وتسري على أجرة العامل من الارتفاع والهبوط ما يسري على السلع والأشياء من الارتفاع والانخفاض حسب قانون العرض والطلب، فيرتفع أجر العامل بقلة العرض، أي قلة اليد العاملة، وزيادة الطلب، أي كثرة طلب الناس لليد العاملة. لكن قضية العرض والطلب لا تسير سير طبيعي في مجتمعات العالم اليوم، بل يدخلها ما يدخلها من مناورات أصحاب رؤوس الأموال، قصد إضاعة جهد العامل وحرمانه من بعض ما يستحقه، فيتفق أصحاب رؤوس الأموال على تشغيل العامل بأجر قليل لا يكافئ الجهد الذي يبذله.\\n'],\n",
              " ['كما أن العامل يصاب بضرر آخر حين يشتغل بأجر معين، ثم يحدث التضخم الاقتصادي، فترتفع أثمان الحاجيات والسلع من غير أن يرتفع أجر العامل.\\n'],\n",
              " ['ونحن نلاحظ أن العامل يصاب بأضرار كبيرة من جراء ذلك، الأمر الذي جعل علماء الاقتصاد والاجتماع يضعون نظريات لترد عن العامل ذلك الظلم، فمن تلك النظريات:\\n'],\n",
              " ['نظرية فضل القيمة:\\n'],\n",
              " ['مما قرره الفكر الماركسي أن العمل وحده هو الذي يوجد السلعة، وهكذا يكون ثمن السلعة هو الثمن الحقيقي لما يبذله العامل من جهد وما يقدمه من منفعة. أما الربح الذي يحققه صاحب العمل فإنه سرقة من جهد العامل. وكانت هذه النظرية ظلت حبر على ورق، فلم تطبق عملي حتى في المجتمعات الشيوعية؛ إذ العامل في تلك المجتمعات لا يتقاضى الربح الذي كان يربحه أصحاب رؤوس الأموال؛ لأن الدولة حلت محل أصحاب رؤوس الأموال في ذلك، فهي تأخذ فضل القيمة، ولا يأخذه العامل كامل.\\n'],\n",
              " ['نظرية الكفاية المعاشية:\\n'],\n",
              " ['يقف صاحب رأس المال في النظام الرأسمالي موقف خاص، فيعمل على أن يغالي ببضاعته إلى أعلى حد، في الوقت الذي يعمل على تشغيل العمال بأقل أجر؛ إذ لا تهمه سوى مصلحته، وإنماء ثرواته فقط.\\n'],\n",
              " ['ولا ريب أن صاحب العمل يعمل على أن لا يدفع للعامل إلا أجر أقل مما يستحقه، ولكن الأجور هذه لها حدود لا يمكن أن تنقص عنها، كما أن لبضاعته ثمن لا يمكن أن تزيد عنه، وإلا أعرض الناس عن شراء بضاعته؛ لأنهم لم يجدوا لديهم المبلغ الكافي الذي يشترون به تلك البضاعة، فيعملون على أن يستبدلوا بضاعة أخرى هي أقل ثمن منها. وهكذا تكون هذه الثغرة باب تنفذ منه البضائع الأجنبية لتزاحم البضائع الوطنية. فلا بد إذن أن يقف صاحب العمل موقف سليم، فيخفض ثمن بضاعته، ويعطي العامل أجره الذي يستحقه، وإلا كان الإخفاق سبيله.\\n'],\n",
              " ['نظرية الأجر العاجل:\\n'],\n",
              " ['لا نجد في الإسلام نص تشريعي يحدد ثمن المنفعة، فلا بد إذن من تحديدها طبق للعدالة التي أمر بها الإسلام، وتطبق عند فقدان النصوص. إن الأجر العادل في الإسلام يتحقق عندما يتحقق نوعان من العدالة:\\n'],\n",
              " ['أول: عدالة التوزيع: وتكون حين يبذل أصحاب المهنة الواحدة جهود متقاربة، وتكون كفاءاتهم متقاربة أيض، فعند ذاك يأخذ هؤلاء كلهم أجر واحد.\\n'],\n",
              " ['ثاني: عدالة السعر: وتكون بأن يأخذ العامل ما يستحقه من أجر من غير أن يكون للاحتكارات التي تتحكم في سوق المنفعة أي تأثير كان. وعلى ذلك لا تتخذ الكفاية المعاشية لتقدير ثمن المنفعة، إذ عند ذاك لا تتحقق عدالة التوزيع. فمن غير الصواب إذن أن يمنح العامل المعيل أجر أكثر مما يمنح العامل الذي ليس لديه عيال إذا بذلا جهود واحدة في عمل ذي طبيعة واحدة، فلا بد أن يعطى العاملان  أجر واحد. أما إذا كان العامل ذو العيال لا يكفيه ذلك الأجر، فإن الدولة هي المسؤولة عن سد حاجته الطبيعية.\\n'],\n",
              " ['أصناف العمال: العمال نوعان: خاص ومشترك:\\n'],\n",
              " ['العامل الخاص: هو الذي يعمل لإنسان واحد معين أو أكثر، ولا يعمل لغيره مدة الإجارة، كالطاهي يستأجره الإنسان ليطبخ له الطعام فقط، مع تعيين المدة.\\n'],\n",
              " ['العامل المشترك: وهو الذي يشتغل للناس كافة، كالحلاق والخياط مثل. وهذا النوع من العمال يتقاضى الأجر المتفق عليه، فيأخذ العامل أجر المثل إذا كان العرف قد قضى بذلك، كما هو الحال عند الحلاقين. والعرف الشائع هو بمثابة الاتفاق والعقد. ففي هذه الحالة لا توجد ضرورة لتعيين الأجر إذا كان العرف العادل قد جرى بتعيينه.\\n'],\n",
              " ['على أن العرف الشائع الطبيعي العادل لا يكون هو النظام السائد في كل الأوقات والأماكن، فقد تتأثر البيئة بعوامل تفسد ذلك العرف وتحوله من العدل إلى الجور والظلم والطغيان، فحين ذاك لا يكونث للعرف الجائر قيمة. ومن حق العامل في مثل هذه الحالة أن يأخذ حقه كامل غير منقوص، وذلك بتسمية الأجرة قبل البدء بالعمل، كما أرشدنا إلى ذلك رسول الله صلى الله عليه وسلم، كي يطمئن العامل إلى ما سيحصل عليه نتيجة عمله قبل البدء بالعمل، ويبعد عنه شبح الغبن.\\n'],\n",
              " ['وقد اهتم فقهاؤنا بهذا اهتمام كبير حتى قالوا: لو استأجر إنسان جزارا ليذبح له شاة، وأجرته أن يأخذ جلد الشاة، فإن هذه الإجارة لا تصح؛ لأن الغبن قد يلحق العامل حين يكون جلد الشاة رقيق، والجلد الغليظ هو الرائج إذ ذاك. وقد تظهر في الجلد عيوب بعد السلخ ما كان يعرفها الجزار.\\n'],\n",
              " ['ولا نستطيع أن نجد مثل هذه الاحتياطات الدقيقة والحساسية المتناهية في أي قانون كان من قوانين الدنيا، إنه يكفل الحق للعامل كامل.\\n'],\n",
              " ['المساواة في الأجر:\\n'],\n",
              " ['تقدر أجرة العامل في الإسلام بمقدار المنفعة التي يقدمها، وحسب بلائه وطبيعة عمله، لا على الجهد البدني الذي يبذله كل واحد منهم، فكلما ازدادت المنفعة ازداد الأجر، فيعطى العامل الجيد أكثر مما يعطى العامل المتوسط، ويعطى المتوسط أكثر مما يعطى الخامل الكسلان، ويعطى من يعمل ساعات كثيرة أكثر ممن يعمل ساعات قليلة.\\n'],\n",
              " ['وقضية المساواة في أجور العمال مساواة كاملة لا يعرفها الاقتصاد الإسلامي. وقد عرف ذلك في روسيا الشيوعية التي سوت بين العمال المجدين وغير المجدين، والفنيين وغير الفنيين. لكن تلك المساواة أدت إلى تدهور الإنتاج، فقد ظهر واضح أمام ستالين الأضرار الكبيرة التي نتجت عن تلك المساواة المطلقة في الأجور، وذلك حين وضع مشروع السنوات الخمس الأولى للإنعاش الاقتصادي. ففي السنة الأولى من هذه السنوات الخمس دب التكاسل والخمول في صفوف العمال، وصارت رداءة الإنتاج سمة ذلك العام، فصارت روسيا تضج بالشكوى نتيجة لذلك، فما كان منها إلا أن رجعت عن مساواتها المطلقة في الأجور، وجعلت للعامل الذي يكتشف طريقة لمضاعفة الإنتاج امتيازات كثيرة مكافأة له، وتحفيز لغيره من العمال، وقد حمل هذا الوضع ستالين على أن يصرح فيقول: إن هؤلاء القوم يحسبون أن الاشتراكية تستلزم المساواة في مطالب العيش لكل فرد من أفراد المجتمع. ألا ما أسخفه من رأي يخرج عن فكر مضطرب. إن المساواة التي نادوا بها ألحقت بصناعتنا أكبر الأضرار.\\n'],\n",
              " ['لقد أخفقت الشيوعية في هذه المساواة في أجر العمال؛ لأن هذه المساواة تصطدم وفطرة الله التي فطر الناس عليها في حب التفوق على الأقران، فلا يدفع العامل إلى زيادة الإنتاج والابتكار دافع.\\n'],\n",
              " ['نعم قد تشتط موازين الناس وتجور في تقسيم الأجور، لكن علاج ذلك لا يكون بتحطيم الموازين كلها، بل بإصلاحها.\\n'],\n",
              " ['العوامل التي أثرت على اكتشاف الأمريكتين:\\n'],\n",
              " ['يعد اكتشاف الأمريكتين وأستراليا وجزر المحيط الهادي بالإضافة إلى القارة القطبية الجنوبية (انتاركنتيكا) هو الإضافة الحقيقية التي أسهم بها المكتشفون الأوربيون لخريطة العالم في العصر الحديث، حقيقة أن نصف إفريقيا الجنوبي ظل مجهول للعالم المعروف حتى كشف البرتغاليون النقاب عنه، بينما بقيت بعض أجزائها الداخلية غير معروفة حتى القرن العشرين، لكن أمر إفريقيا يختلف قليل عن كل القارات سالفة الذكر، فنظرة إلى خريطة العالم في أي فترة من فترات التاريخ تبين بوضوح أن رسامي الخرائط لم يتجاهلوا أبد تلك الكتلة من اليابس تجاهل تام مثلما حدث للأمريكتين وربما كان تقارب واتصال اليابس الإفريقي أحد الأسباب الرئيسية لذلك.\\n'],\n",
              " ['الموقع الجغرافي والامتداد:\\n'],\n",
              " ['فكأن الموقع الجغرافي لهذه القارات بعيد عن كتلة اليابس الأوراسية الإفريقية التي شهدت منبت الحضارات البشرية عامل هام آخر من معرفة الإنسان بها، ويبدو ذلك جلي إذا ما عرفنا أن الأوربيين الذين اتجهوا غرب وعبروا المحيط الأطلسي لأول مرة لم يقوموا بذلك لعلمهم بوجود يابس مجهول يمتد في الغرب إنما كان حافزهم الوصول إلى الشرق الأقصى، أي إلى الصين واليابان، وسنرى أن كولمبس ظل موقن بهذه الحقيقة فترة من الزمن.\\n'],\n",
              " ['ولا شك في أن الأساطير التي خالها الأوربيون سائدة في المحيط الأطلنطي إلى الغرب من أراضيهم كانت ذات تأثير في هذا الصدد. صحيح أن الأسكندنافيين والأيرلنديين قد قاموا ببعض الرحلات في المحيط لكنها كانت في نفس العروض التي تقع عندها بلادهم، وبالتالي قادتهم إلى جرينلند وهي منطقة معروفة بقحولتها وعدم ملاءمتها للاستقرار البشري كثير. والقارة الأوربية تقع في مهب الرياح الغربية والوافدة من هذا المحيط، ويغزو سواحلها تيار مائي يأتي من الغرب أيض تيار الخليج الدافئ، وهذه ظروف مناخية لا جدال في أثرها المضاد للسفن المتجهة صوب الغرب، ولذا جاءت الرحلة الأولى التي أزالت مخاوف المحيط الأطلنطي إلى الجنوب قليل وفي نطاق هبوب الرياح التجارية الشمالية الشرقية المنتظمة التي تدفع السفن جنوب بغرب، ومن ثم هبط الأوربيون لأول مرة في أرخبيل الجزر الواقع في البحر الكاريبي، وليس على السواحل الشرقية لأمريكا الشمالية وهي الأقرب جغرافي لشواطئ بلادهم.\\n'],\n",
              " ['المناخ:\\n'],\n",
              " ['بيد أن امتداد اليابس الأمريكي في العروض المعتدلة والباردة سواء في الشمال أو الجنوب جذب الأوربيين أكثر للأرض المكتشفة خصوص ما يتعلق بالتعرف على الأجزاء الداخلية ومحاولة استيطانها بعكس الحال في قارة إفريقيا التي تقع معظمها في عروض غير ملائمة للأوربيين. غير أن ذلك لا يعني أن الأمريكتين تم اكتشافهما بسهولة، فهناك عقبات مناخية تتمثل أساس في منطقتين، الأولى في أقصى الشمال من أمريكا الشمالية حيث يسود المناخ القطبي وتتجمد المياه معظم أيام السنة، وهنا أسهم البحث عن الممر الشمالي الشرقي بالدور الأساسي في اكتشاف هذه المناطق ودفع كثير من الأوربيين حياتهم ثمن لاكتشافها، أما المنطقة الثانية فتقع في حوض الأمزون وشبكة صرفه المتشعبة الذي يسوده المناخ الاستوائي بخصائصه المعروفة.\\n'],\n",
              " ['التضاريس:\\n'],\n",
              " ['ويضيق اليابس الأمريكي ويتقطع في قسمه الأوسط ويرتفع في معظم أجزائه وساعد هذا الارتفاع على اعتدال المناخ وصلاحيته لسكنى الإسبان في معظم الأحوال. ومن الناحية المقابلة كان لجبال الأبلاش دور محدد في إعاقة تقدم المكتشفين والمستوطنين صوب السهول الوسطى نظر لأنها سلسلة هرسينية تأثرت كثير بعوامل التعرية، وشقت فيها الأودية النهرية ممرات تؤدي إلى الغرب سواء كانت هذه الأودية تنحدر شرق إلى المحيط الأطلنطي أو لتنتهي في المسيسبي الذي يصب في الجنوب في خليج المكسيك.\\n'],\n",
              " ['كما أن السلاسل الألبية التي تمتد في القسم الغربي من الأمريكتين امتداد عام من الشمال وتقع إلى الخلف من السهول الأمريكية سواء في الشمال أو الجنوب لعبت دور مزدوج، فهي بموقعها هذا يسرت على المكتشفين والمستوطنين الولوج إلى السهول الوسطى في أمريكا الشمالية وسهول البمبا والكامبوس في أمريكا الجنوبية، وفي نفس الوقت أعاقت هؤلاء الرواد فترة من الزمن عن الوصول إلى الساحل الغربي في أمريكا الشمالية والجنوبية عن طريق اختراق القارتين. وكان سبيلهم إلى ذلك هو أحد طريقين، إما الدوران حول الطرف الجنوبي من أمريكا الجنوبية وعبور مضيق ماجلان، فيما بين جزيرة تيراد لفيجو والقارة، وإما عبر أمريكا الوسطى حيث يضيق اتساع اليابس بين البحر الكاريبي والمحيط الهادي (برزخ بناما).\\n'],\n",
              " ['والشيء الذي لا شك فيه أن سلسلة البحيرات الداخلية التي تمتد كحزام من الجنوب الشرقي صوب الشمال الغربي في أمريكا الشمالية (بحيرات ايري وانتاريو وهورن ومتشجان وسوبيريور ووينبج واتاباسكا وجريت سليف وجريت بير) ومعها الأنهار الرئيسية التي تستمد مياهها منها مثل سانت لورنس أو نيلسون وماكنزي، أو تنتهي فيها مثل نهر فريزر. هذه كلها كان لها دور في مساعدة المكتشفين، ولكن هذا الدور يتوقف على موقع هذه المجاري المائية والفترة التي تتجمد فيها مياهها.\\n'],\n",
              " ['وربما كان مجرى نهر سانت لورنس الذي يصب في المحيط الأطلنطي شرق واحد من الممرات التي سلكها المكتشفون الفرنسيون عند بداية هبوطهم على الساحل الشرقي للوصول إلى منطقة البحيرات. ويقابل هذا المحور الشرقي الغربي محور آخر شمالي جنوبي يشغل المنطقة الوسطى من أمريكا الشمالية، ونعني به نهر المسيسبي وروافده (أهمها الميسوري وأوهايو)، وقد ساعد الرافد الأول المكتشفين على التعرف على السهول الوسطى الشمالية.\\n'],\n",
              " ['وفي أمريكا الجنوبية كان لشبكة الأمزون وروافده دور رئيسي في التعرف على نطاق الغابات الاستوائية، ولولاه لزادت الصعوبات أمامهم حيث يصعب الانتقال البري في هذه العروض، ويمكن أن ينطبق نفس الدور على نهر الأورينوكو الذي تقترب منابعه كثير من هذه المجموعة النهرية. وإذا كان القسم الشمالي من أمريكا الشمالية يتسم بقسوة مناخية فإن القسم الشمالي أيض من أمريكا الجنوبية ينطبق عليه نفس الحال، وإن اختلفت الظروف الطبيعية في كل منهما، ولكن الملاحظ هنا أن المكتشفين في الحالة الأولى حققوا إنجاز أسرع، وربما كان ذلك بسبب الحوافز الأخرى التي جذبتهم إلى شمال أمريكا الشمالية كذلك فإن مجموعة لابلاتا (وتشمل أنهار اوراجواي وبارجواي وبارانا) كانت طريق سلكه المكتشفون والمستوطنون إلى إقليم الجران شاكو متتبعين هذه الأنهار من مصباتها إلى منابعها.\\n'],\n",
              " ['أما سلسلة جبال الأنديز في أمريكا الجنوبية فقد فصلت فترة من الزمن خصوص في القسم الجنوبي منها بين شرق وغرب القارة. أما في الشمال فقد كان البحث عن المعادن واعتدال مناخ هذه السلاسل الجبلية في كولمبيا وأكوادور وبيرو أثر في الاستيطان الأوربي المبكر لها.\\n'],\n",
              " ['تجارة الفراء:\\n'],\n",
              " ['وإلى جانب هذه الظروف الطبيعية كان للدوافع البشرية أثرها على اكتشاف القارتين فقد لعب الفراء في المنطقة القطبية الشمالية دور مهم في اكتشاف هذه المناطق القارصة البرد شتاء. بل إن سلسلة المدن الكندية الحالية مثل مونتريال وكويبك لم تكن في البداية سوى محطات لتجميع الفراء من المناطق القطبية الكندية تمهيد لإرساله إلى أوربا، وأغرى ذلك البرجوازية الأوربية النامية بتمويل البعثات الكشفية بحث عن الإثراء.\\n'],\n",
              " ['البحث عن الذهب:\\n'],\n",
              " ['أما الذهب فقد كان عامل أساسي في ارتياد الإسبان لهضاب أمريكا الوسطى وبعض مناطق أمريكا الشمالية، وعرفت الجزيرة الجديدة، وهناك الكثير من قصص المغامرات التي قام بها الباحثون عن الثروة.\\n'],\n",
              " ['الزلازل:\\n'],\n",
              " ['ردد إخوان الصفا أيض آراء الإغريق التي تفسر أسباب حدوث الزلازل بقولهم إنها تحدث نتيجة الأهوية التي في جوف الأرض والجبال. فإذا لم تجد هذه الأهوية منافذ تخرج منها المياه بقيت محبوسة زمان، وإذا حمي باطن الأرض وجوف تلك الجبال سخنت تلك المياه ولطفت وتغيرت وتحللت وصارت بخار وارتفعت وطلبت مكان أوسع، فإن كانت الأرض كثيرة التخلخل تحللت وخرجت تلك البخارات من تلك النوافذ، وإن كان ظاهر الأرض شديد التكاثف حصيف، أي مستحكم، منعها من الخروج، وبقيت محتبسة تتموج في تلك الأهوية لطلب الخروج، وربما انشقت الأرض في موضع منها، وخرجت تلك الرياح مفاجأة، وانخسف مكانها، ويسمع لها دوي وهدة وزلزلة.\\n'],\n",
              " ['التضاريس:\\n'],\n",
              " ['تعرض الجغرافيون العرب والمسلمون لأشكال سطح الأرض، وقالوا بتنوع مظاهر السطح، ومنهم من حاول تقسيم القطر الواحد بحسب أنواع تضاريسه، فالبكري على سبيل المثال قسم الجزيرة العربية إلى خمسة أقاليم تضاريسية هي: تهامة ونجد والحجاز واليمن والعروض.\\n'],\n",
              " ['وفي تفسيرهم لبعض ظاهر سطح الأرض يقول إخوان الصفا بأن الجبال تحدث نتيجة المياه الجارية والرياح، ويبدو أنه لديهم معرفة عن حركات الأرض الباطنية وغيرها من العوامل التي تتسبب في حدوث الجبال على أشكال وأنواعها، ولكنهم اعتقدوا بتكوين الجبال في البحار، إذ يصبح الطين اللين حجارة لا تلبث أن تنكسر وتصبح حصى ورمال، تحملها سيول الأمطار إلى البحار بواسطة الأودية الجارية والأنهار، ويتجمع الطين والرمل في قعور البحار حجارة وجبال. وهم يقولون بأن هذه الجبال هي بمثابة حواجز تحول دون طغيان مياه البحار على الأرض اليابسة، ولولاها لغطت مياه البحار وجه الأرض وأحاطتها كإحاطة كرة الهواء، ولأصبح وجه الأرض كله بحر واحد.\\n'],\n",
              " ['واعتقد إخوان الصفا بأن الجبال لا تظل على حالها، ولا تبقى على ارتفاعها، بل تتعرض للعوامل الجوية التي تعمل على تفتيت صخورها التي تحملها المياه الجارية وتلقيها في البحار لتعود من جديد. وهذا القول ينطبق مع الدورة التحاتية الحديثة. وفي هذا يقول إخوان الصفا: وإن الجبال من شدة إشراق الشمس والقمر والكواكب عليها بطول الأزمان والدهور تنشف رطوبتها، وتزداد جفاف ويبس، وتنقطع وتتكسر، وخاصة عند انقضاض الصواعق، وتصير أحجار وصخور أو حصى ورمال. ثم إن الأمطار والسيول تحط تلك الصخور والرمال إلى بطون الأودية والأنهار، ويحمل ذلك شدة جريانها إلى البحار والغدران والآجام. وإن البحار لشدة أمواجها وشدة اضطرابها وفورانها تبسط تلك الرمال والطين والحصى في قعرها ساف على ساف، أي طبقة على طبقة، بطول الزمان والدهور، ويتلبد بعضها فوق بعض وينعقد، وينبت في قعور البحار جبال وتلال، كما تتلبد من هبوب الرياح أدعاص الرمال في البراري والقفار.\\n'],\n",
              " ['وهذا النص يبين لنا بأن إخوان الصفا عرفوا بعض العوامل التي تتسبب في تشكيل الأرض كالعوامل الجوية كالتجوية والرياح والمياه الجارية ودورها في النقل والإرساب.\\n'],\n",
              " ['بعض الظواهر البحرية:\\n'],\n",
              " ['ملوحة مياه البحر:\\n'],\n",
              " ['اعتقد البعض بأن تعرض مياه البحر لحرارة الشمس التي تعمل على تسخينه وتبخيره، بينما يحمل البخار، وبالتالي تزداد نسبة الأملاح في مياه البحار. ويرى آخرون بأن ملوحة البحر سببها وجود عروق ملحية تغير مياه البحر. أما إخوان الصفا فقالوا بأن البخارات المتصاعدة من البخار في الجو إذا اختلطت أجزاؤها مع الهواء وانتشرت إلى الجهات المختلفة تملحت.\\n'],\n",
              " ['حركات مياه البحار:\\n'],\n",
              " ['الأمواج: يرى إخوان الصفا بأن هيجان مياه البحار وتلاطم الأمواج وهبوب الرياح يعود إلى ارتفاع الحرارة وسخونة المياه وتمددها.\\n'],\n",
              " ['المد والجزر: لقد اختلفت الآراء في أسباب هذه الظاهرة فنجد المسعودي يعرض كافة الآراء التي قيلت في أسباب المد والجزر، كالرياح والقمر الذي يتسبب في تسخين مياه البحار وتمددها، وإذا ابتعد القمر برد الماء وانكمش ، يقول بأن هناك من عزا ذلك إلى الشمس. ويذكر الشريف الإدريسي في كتابه نزهة المشتاق بأن سبب المد والجزر هو أن الريح تحرك البحر وتهيجه، وكلما طلعت الشمس إلى الغروب فيكون الجزر.\\n'],\n",
              " ['أما البيروني فقد ردد آراء الهنود حيث ربط بين المد والجزر وتغير أوجه القمر، ولكنه في تفسيره هذا خلط بين العلم والأسطورة.\\n'],\n",
              " ['الأنهار والعيون: أسهبت الكتابات العربية عن الأنهار وأطوالها ومنابعها ومصباتها وتوزيعها في العالم. وفي مؤلفات الجغرافية الإقليمية نجد ذكر لأهم أنهار العالم وصفاتها وخصائصها وفيضانها، كما نجد بعض الجغرافيين من يتعرض لنشأة الأنهار مثل المسعودي والبيروني وابن رشد وإخوان الصفا. فالمسعودي يرى بأن الأنهار تنشأ من المياه التي تنحدر من الجبال العالية بعد أن تذيب الشمس الثلوج المتراكمة على قممها. ويقول المسعودي بأن هناك من يعتقد بأن الأنهار تنشأ من المياه الباطنية التي تنبثق على شكل عيون وأنهار.\\n'],\n",
              " ['ويربط البيروني بين العيون والأنهار ويشرح كيفية تكوينها، ويقول بأن الأمطار الشتوية تكون السيول التي تتسرب إلى باطن الأرض وفي تجاويف الجبال، ثم تخرج هذه المياه على شكل ينابيع في المناطق المنخفضة.\\n'],\n",
              " ['إن وقوع الأنداء (الأمطار) في الشتاء أكثر منه في الصيف، وفي الجبال أكثر منه في السهول، فإذا وقعت فيها، وسال ما سال بالسيول غاض الباقي في المجاري التي في تجاويف الجبال وخزن هناك، ثم يأخذ في الخروج من المنافذ التي تسمى العيون، فلذلك صارت في الشتاء أغزر؛ لأن مادتها أكثر، فإن كانت تلك التجاويف طيبة خرجت المياه كما هي عذبة، وإن لم يكن ذلك اكتسبت منها صنوف الكيفيات وتلبست بصنوف الخواص التي تخفي علينا عللها. وأما فوران العيون وصعود المياه إلى فوق، فذلك لأجل أن خزانتها أعلى منها كالفوارات المعمولة، فإن الماء لا يصعد علو إلا لذلك.\\n'],\n",
              " ['ولعل فيضان الأنهار من أهم الظواهر النهرية التي حاول الجغرافيون تفسيرها ومعرفة أسبابها، وإدراك اختلاف مواعيدها. فإخوان الصفا يعللون ذلك مثل تعليلاتنا الحالية. وفي هذا يقولون: إن مدود (فيضانات) أكثر الأنهار التي جريانها من الشمال إلى الجنوب في أيام الربيع، فهي من أجل أن الثلوج إذا كثرت على رؤوس الجبال الشمالية، ثم حمي الجو بقرب الشمس من سمتها ذابت تلك الثلوج وسالت منها الأودية والأنهار. وأما علة مد نيل مصر في أيام الصيف فهو أن هذا النهر يجري من الجنوب إلى الشمال، ومبدأ جريانه من وراء خط الاستواء حيث خط الاستواء حيث يكون الشتاء عندنا، يكون صيف هناك، وفي الصيف عندنا، يكون صيف هناك، وفي الصيف عندنا يكون الشتاء هناك، فتكون في ذلك الوقت كثرة الأمطار هناك.\\n'],\n",
              " ['ويذكر البيروني عدد من الأنهار مثل جيحون ودجلة والفرات والنيل، فيرى بأن نهري دجلة والفرات يفيضان بسبب ذوبان الثلوج في منابعهما بالشمال في نهاية الشتاء وبداية الربيع. وأما نيل مصر فبسبب الأمطار التي تسقط على منابعه جنوب خط الاستواء في فصل الصيف.\\n'],\n",
              " ['الظواهر المناخية:\\n'],\n",
              " ['ربما كان التعرف على أحوال الطقس وتقلباته أول ما شغل اهتمام العرب من الظواهر المناخية في شبه الجزيرة من قديم الزمان. فقد استدلوا على ذلك بحركات النجوم في السماء من خلال غروب نجوم معينة وطلوعها، وهذا ما أطلق عليه بالأنواء. وقد سبق أن تناولنا الجانب الفلكي لهذا الموضوع. وقد ألفت الكثير من كتب الأنواء التي تربط بين حركات النجوم والعناصر المناخية.\\n'],\n",
              " ['أقول\\u200f:\\u200f إن الطب علم يتعرف منه أحوال بدن الإنسان من جهة ما يصح ويزول عن الصحة؛ ليحفظ الصحة حاصلة ويستردها زائلة\\u200f.\\u200f \\n'],\n",
              " ['ولقائل أن يقول: إن الطب ينقسم إلى نظر وعمل، وأنتم قد جعلتم كله نظر إذ قلتم إنه علم\\u200f.\\u200f \\n'],\n",
              " ['وحينئذ نجيبه ونقول إنه يقال إن من الصناعات ما هو نظري وعملي ومن الحكمة ما هو نظري وعملي، ويقال: إن من الطب ما هو نظري وعملي\\u200f.\\u200f \\n'],\n",
              " ['ويكون المراد في كل قسمة بلفظ النظري والعملي شيئ آخر، ولا نحتاج الآن إلى بيان اختلاف القسمين فقد حصل لك علم علمي وعلم عملي، وإن لم تعمل قط\\u200f.\\u200f \\n'],\n",
              " ['وليس لقائل أن يقول إن أحوال بدن الإنسان ثلاث\\u200f:\\u200f الصحة والمرض وحالة ثالثة لا صحة ولا مرض، وأنت اقتصرت على قسمين فإن هذا القائل لعله إذا فكر لم يجد أحد الأمرين واجب لا هذا التثليث ولا إخلالنا به\\u200f.\\u200f \\n'],\n",
              " ['ثم إنه إن كان هذا التثليث واجب فإن قولنا\\u200f:\\u200f الزوال عن الصحة يتضمن المرض. والحالة الثالثة التي جعلوها ليس لها حد الصحة إذ الصحة ملكة أو حالة تصدر عنها الأفعال من الموضوع لها سليمة ولا لها مقابل هذا الحد إلا أن يحدوا الصحة كما يشتهون ويشترطون فيه شروط ما بهم إليها حاجة\\u200f.\\u200f \\n'],\n",
              " ['ثم لا مناقشة مع الأطباء في هذا وما هم ممن يناقشون في مثله ولا تؤدي هذه المناقشة بهم أو بمن يناقشهم إلى فائدة في الطب\\u200f.\\u200f \\n'],\n",
              " ['وأما معرفة الحق في ذلك فمما يليق بأصول صناعة أخرى، نعني أصول صناعة المنطق فليطلب من هناك\\u200f.\\u200f \\n'],\n",
              " ['الفصل الثاني: \\n'],\n",
              " ['لما كان الطب ينظر في بدن الإنسان من جهة ما يصح ويزول عن الصحة والعلم بكل شيء إنما يحصل ويتم إذا كان له أسباب يعلم أسبابه، فيجب أن يعرف في الطب أسباب الصحة والمرض والصحة والمرض\\u200f.\\u200f \\n'],\n",
              " ['وأسبابهما قد يكونان ظاهرين وقد يكونان خفيين لا ينالان بالحس بل بالاستدلال من العوارض فيجب أيض أن تعرف في الطب العوارض التي تعرض في الصحة والمرض\\u200f.\\u200f \\n'],\n",
              " ['وقد تبين في العلوم الحقيقية أن العلم بالشيء إنما يحصل من جهة العلم بأسبابه ومبادئه إن كانت له إن لم تكن فإنما يتمم من جهة العلم بعوارضه ولوازمه الذاتية\\u200f. لكن الأسباب أربعة أصناف\\u200f:\\u200f مادية، وفاعلية، وصورية، وتمامية\\u200f.\\u200f \\n'],\n",
              " ['والأسباب المادية\\u200f:\\u200f هي الأشياء الموضوعة التي فيها تتقوم الصحة والمرض\\u200f:\\u200f أما الموضوع الأقرب فعضو أو روح\\u200f.\\u200f وأما الموضوع الأبعد فهي الأخلاط، وأبعد منه هو الأركان\\u200f.\\u200f \\n'],\n",
              " ['وهذان موضوعان بحسب التركيب وإن كان أيض مع الاستحالة، وكل ما وضع كذلك فإنه يساق في تركيبه واستحالته إلى وحدة ما،  وتلك الوحدة في هذا الموضع التي تلحق تلك الكثرة\\u200f:\\u200f إما مزاج وإما هيئة\\u200f.\\u200f \\n'],\n",
              " ['أما المزاج فبحسب الاستحالة، وأما الهيئة فبحسب التركيب\\u200f.\\u200f \\n'],\n",
              " ['وأما الأسباب الفاعلية\\u200f:\\u200f فهي الأسباب المغيرة أو الحافظة لحالات بدن الإنسان من الأهوية وما يتصل بها والمطاعم والمياه والمشارب وما يتصل بها والاستفراغ والاحتقان والبلدان والمساكن وما يتصل بها والحركات والسكونات البدنية والنفسانية، ومنها النوم واليقظة والاستحالة في الأسنان والاختلاف فيها وفي الأجناس والصناعات والعادات والأشياء الواردة على البدن الإنساني مماسة له إما غير مخالفة للطبيعة وإما مخالفة للطبيعة\\u200f.\\u200f \\n'],\n",
              " ['وأما الأسباب الصورية\\u200f:\\u200f فالمزاجات والقوى الحادثة بعدها والتراكيب\\u200f.\\u200f \\n'],\n",
              " ['وأما الأسباب التمامية\\u200f:\\u200f فالأفعال، وفي معرفة الأفعال معرفة القوى لا محالة، ومعرفة الأرواح الحاملة للقوى كما سنبين، فهذه موضوعات صناعة الطب من جهة أنها باحثة عن بدن الإنسان أنه كيف يصح ويمرض\\u200f.\\u200f \\n'],\n",
              " ['وأما من جهة تمام هذا البحث وهو أن تحفظ الصحة وتزيل المرض، فيجب أن تكون لها أيض موضوعات أخر، بحسب أسباب هذين الحالين وآلاتهما وأسباب ذلك التدبير بالمأكول والمشروب واختيار الهواء وتقدير الحركة والسكون والعلاج بالدواء والعلاج باليد، وكل ذلك عند الأطباء بحسب ثلاثة أصناف من الأصحاء والمرضى والمتوسطين الذين نذكرهم ونذكر أنهم كيف يعدون متوسطين بين قسمين لا واسطة بينهما في الحقيقة\\u200f.\\u200f \\n'],\n",
              " ['وإذ قد فصلنا هذه البيانات فقد اجتمع لنا أن الطب ينظر في الأركان والمزاجات والأخلاط والأعضاء البسيطة والمركبة والأرواح وقواها الطبيعية والحيوانية والنفسانية والأفعال وحالات البدن من الصحة والمرض والتوسط وأسبابها من المآكل والمشارب والأهوية والمياه والبلدان والمساكن والاستفراغ والاحتقان والصناعات والعادات والحركات البدنية والنفسانية والسكونات والأسنان والأجناس والورادات على البدن من الأمور الغريبة والتدبير بالمطاعم والمشارب واختيار الهواء واختيار الحركات والسكونات والعلاج والأدوية وأعمال اليد لحفظ الصحة وعلاج مرض مرض، فبعض هذه الأمور إنما يجب عليه من جهة ما هو طبيب أن يتصوره بالماهية فقط تصور علمي ويصدق بهليتها تصديق على أنه وضع له مقبول من صاحب العلم الطبيعي وبعضها يلزمه أن يبرهن عليه في صناعته، فما كان من هذه كالمبادئ فيلزمه أنه يتقلد هليتها، فإن مبادئ العلوم الجزئية مسلمة وتتبرهن وتتبين في علوم أخرى أقدم منها وهكذا حتى ترتقي مبادئ العلوم كلها إلى الحكمة الأولى التي يقال لها علم ما بعد الطبيعة\\u200f.\\u200f \\n'],\n",
              " ['وإذا شرع بعض المتطلبين وأخذ يتكلم في إثبات العناصر والمزاج وما يتلو ذلك مما هو موضوع العلم الطبيعي فإنه يغلط من حيث يورد في صناعة الطب ما ليس من صناعة الطب، ويغلط من حيث يظن أنه قد يبين شيئ ولا يكون قد بينه ألبتة فالذي يجب أن يتصوره الطبيب بالماهية ويتقلد ما كان منه غير بين الوجود بالهلية هو هذه الجملة الأركان أنها هل هي وكم هي والمزاجات أنها هل هي وما هي وكم هي والأخلاط أيض هل هي وما هي وكم هي والقوى هل هي وكم هي والأرواح هل هي وكم هي وأين هي\\u200f. وأن لكل تغير حال وثباته سبب، وأن الأسباب كم هي\\u200f.\\u200f \\n'],\n",
              " ['وأما الأعضاء ومنافعها فيجب أن يصادفها بالحس والتشريح\\u200f.\\u200f \\n'],\n",
              " ['والذي يجب أن يتصوره ويبرهن عليه الأمراض وأسبابها الجزئية وعلاماتها وأنه كيف يزال المرض وتحفظ الصحة فإنه يلزمه أن يعطي البرهان على ما كان من هذا خفي الوجود بتفصيله وتقديره وتوفيته\\u200f.\\u200f \\n'],\n",
              " ['وجالينوس\\u200f إذ حاول إقامة البرهان على القسم الأول فلا يجب أن يحاول ذلك من جهة أنه طبيب ولكن من جهة أنه يجب أن يكون فيلسوف يتكلم في العلم الطبيعي كما أن الفقيه إذا حاول أن يثبت صحة وجوب متابعة الإجماع فليس ذلك له من جهة ما هو فقيه ولكن من جهة ما هو متكلم، ولكن الطبيب من جهة ما هو طبيب، والفقيه من جهة ما هو فقيه ليس يمكنه أن يبرهن على ذاك بتة، وإلا وقع الدور\\u200f.\\u200f \\n'],\n",
              " ['التعليم الثاني في الأركان: \\n'],\n",
              " ['وهو فصل واحد الأركان هي أجسام ما بسيطة\\u200f:\\u200f هي أجزاء أولية لبدن الإنسان وغيره وهي التي لا يمكن أن تنقسم إلى أجزاء مختلفة بالصورة وهي التي تنقسم المركبات إليها ويحدث بامتزاجها الأنواع المختلفة الصور من الكائنات فليتسلم الطبيب من الطبيعي أنها أربعة لا غير اثنان منها خفيفان، واثنان ثقيلان. فالخفيفان النار والهواء، والثقيلان الماء والأرض. والأرض جرم بسيط موضعه الطبيعي هو وسط الكل يكون فيه بالطبع ساكن ويتحرك إليه بالطبع إن كان مباين، وذلك ثقله المطلق وهو بارد يابس في طبعه أي طبعه طبع إذا خلي وما يوجبه ولم يغيره سبب من خارج ظهر عنه برد محسوس ويبس\\u200f.\\u200f \\n'],\n",
              " ['ووجوده في الكائنات وجود مفيد للاستمساك والثبات وحفظ الأشكال والهيئات\\u200f.\\u200f \\n'],\n",
              " ['الفصل الأول: \\n'],\n",
              " ['عناصر القاعدة القانونية:\\n'],\n",
              " ['القاعدة القانونية هي حكم مطرد، مثلها في ذلك مثل غيرها من القواعد التي نصادفها في غير ذلك من المجالات، كمجال العلوم الطبيعية مثل، ومجال الأخلاق وغيرها من وسائل الضبط والتنظيم.\\n'],\n",
              " ['غير أن القاعدة القانونية تتميز بخصائص تميزها عن غيرها من القواعد، فهي أول حكم للسلوك الاجتماعي. وهذا ما يميزها عن غيرها عن قواعد العلوم الطبيعية. وهي ثاني حكم ملزم اجتماعي. وهذا ما يميزها عن قواعد الضبط والتنظيم الاجتماعي الأخرى. وهي ثالث وقبل كل ذلك حكم عام مجرد. وهذا ما يوفر لها في الواقع صفة الاطراد التي هي جوهر كل قاعدة أي كانت هذه القاعدة.\\n'],\n",
              " ['المبحث الأول: القاعدة القانونية حكم للسلوك اجتماعي.\\n'],\n",
              " ['المبحث الثاني: القاعدة القانونية حكم ملزم اجتماعي.\\n'],\n",
              " ['المبحث الثالث: القاعدة القانونية حكم عام مجرد.\\n'],\n",
              " ['المبحث الأول: القاعدة القانونية حكم للسلوك الاجتماعي.\\n'],\n",
              " ['المقصود بهذه الخصيصة:\\n'],\n",
              " ['يقصد بكون القاعدة القانونية حكم للسلوك الاجتماعي أنها قاعدة لسلوك الإنسان في المجتمع، تواجه هذا السلوك بالتقييم والتقويم، أي بالمفاضلة والترشيد، فتقارن فيه بين سلوك صالح تجعله مشروع وتوجه إليه عن طريق فرض جزاء على من يمتنع عنه، وسلوك طالح تجعله غير مشروع وتوجه إلى الإعراض عنه عن طريق فرض جزاء على من يأتيه. ومثال الحالة الأولى القواعد التي تأمر بالوفاء بالعقود وبدفع الضرائب المفروضة. ومثال الحالة الثانية القواعد التي تجرم بعض الأفعال كالقتل والسرقة، وتعاقب عليها.\\n'],\n",
              " ['الفرق بين القاعدة القانونية وقواعد العلوم التجريبية:\\n'],\n",
              " ['والقاعدة القانونية على النحو السابق تختلف عن قواعد العلوم التجريبية كالطبيعة والكيمياء والاقتصاد والاجتماع. فالقاعدة في هذه العلوم الأخيرة تقتصر على تسجيل الواقع في المجال الذي يتناوله كل منها والتعبير عنه تعبير أمين. وهي قاعدة لاحقة على الوقائع التي تسجلها، تعبر عن علاقة لزوم طبيعية بين هذه الوقائع وبين بعضها البعض. أما القاعدة القانونية فهي لا تسجل الواقع في المجال الذي تتناوله، وهو السلوك الإنساني، كما هو، وإنما تسعى إلى تشكيل هذا الواقع وفق لتصور معين لما ينبغي لأن يكون عليه لا ما هو كائن بالفعل. وهي لذلك قاعدة سابقة على الوقائع التي تحكمها وتلزم الإنسان الذي يملك بوعيه التحكم في هذه الوقائع. ولذلك كانت فكرة القاعدة القانونية مرتبطة دائم بفكرة التقويم، حتى أمكن القول بأن القاعدة القانونية قاعدة تقويمية تمييز لها عن غيرها من القواعد التجريبية.\\n'],\n",
              " ['فالقواعد المعروفة في علم الطبيعة من غليان الماء المقطر عند تسخينه لدرجة المئة تحت ضغط جوي مقداره واحد تقتصر على تقرير واقع معين هو أن الماء يغلي حتم بالضرورة عند تسخينه تحت هذه الشروط، والقاعدة المعروفة في الاقتصاد بقانون العرض والطلب تقتصر على تقرير الواقع من تأثر الأسعار والأجور بحجم العرض والطلب في سوق السلع والعمالة. وعلى العكس من ذلك، فالقواعد القانونية المتعلقة بالميراث مثل لا تعبر عن واقع السلوك الإنساني بصدد توزيع التركة إذا ما ترك لذاته، وإنما تبين ما يجب أن يكون عليه هذا السلوك. وبالمثل فالقاعدة القانونية التي تقرر أن العقد شريعة المتعاقدين لا تعبر عن الواقع من التزام أطراف العقد بما تم التعاقد عليه دائم وفي جميع الأحوال، وإنما تضع السلوك الواجب اتباعه بهذا الصدد.\\n'],\n",
              " ['المبحث الثاني:\\n'],\n",
              " ['القاعدة القانونية حكم ملزم اجتماعي:\\n'],\n",
              " ['تميز الإلزام في قواعد القانون عنه في قواعد السلوك الاجتماعي الأخرى:\\n'],\n",
              " ['قواعد القانون هي كما قدمنا قواعد السلوك الاجتماعي تخاطب الإنسان. غير أن أحكام السلوك الاجتماعي التي تخاطب الإنسان لا تعتبر كلها أحكام قانونية. ذلك أن الحكم لا يكون حكم قانوني إلا إذا كان يخاطب الإنسان على سبيل الإلزام الخارجي أو الاجتماعي، وليس على سبيل الإلزام الداخلي أو النصح مثل.\\n'],\n",
              " ['القاعدة القانونية والقاعدة الخلقية:\\n'],\n",
              " ['فكل مجتمع يعرف مجموعة من قواعد الأخلاق. وكثير من هذه القواعد يتعلق بعلاقة الإنسان بغيره كتلك التي تحض على التعاون ومساعدة الضعفاء وتجنب الكراهية والكذب والنفاق. وهذه القواعد الأخيرة تعتبر كلها قواعد للسلوك الاجتماعي بالمعنى الذي سبق أن أوضحناه، ولكنها لا ترقى إلى مرتبة القواعد القانونية.\\n'],\n",
              " ['على أن هناك كثير من القواعد الخلقية تعتبر في ذات الآن قواعد قانونية بمثل ما تعتبر قواعد خلقية. فالقواعد التي تحرم الاعتداء على النفس أو المال أو العرض، والقواعد التي تحض على الوفاء بالعهود، والقواعد التي تحرم الإثراء بغير سبب مشروع مثل، تعتبر قواعد خلقية كما تعتبر قواعد قانونية بالمعنى الدقيق.\\n'],\n",
              " ['غير أن التقاء القانون والأخلاق على ذات القواعد في بعض الأحوال ليس معناه أن جميع قواعد القانون تعتبر قواعد خلقية في ذات الوقت. فالقواعد التي تنظم المرور في الطرق العامة مثل أو التي تحدد مواعيد الطعن في الأحكام أو التي تشترط الرسمية في بعض التصرفات، كلها قواعد قانونية لا تثير مسائل خلقية.\\n'],\n",
              " ['وعلى هذا النحو يمكن القول بأن هناك منطقة يلتقي فيها القانون بالأخلاق ثم ينفصل كل منهما عن الآخر بعد ذلك ليأخذ امتداده المستقل.\\n'],\n",
              " ['وهذا التداخل بين قواعد القانون وقواعد الأخلاق قد أثار الخلاف حول معرفة فيصل التفرقة بينهما.\\n'],\n",
              " ['ويمكن القول بصفة عامة أن التفرقة بين القانون والأخلاق تستند إلى فكرة الغاية، فغاية القاعدة القانونية دائم غاية اجتماعية هي إقامة نظام اجتماعي، وغاية الأخلاق دائم فردية هي تحقيق السلام الداخلي للإنسان حتى عندما لا يكون موضوعها واجبات الفرد نحو نفسه وإنما واجباته نحو الغير، وتكون قواعدها بالتالي قواعد اجتماعية. وبعبارة أخرى، فغاية القانون هي إقامة العدل بين الناس وغاية الأخلاق هي إيجاد الإنسان الفاضل. وحيث تبدو  القاعدة قاعدة قانونية وقاعدة خلقية في ذات الوقت، نكون في الواقع بصدد قاعدتين تحملان نفس المضمون، وتهدفان إلى غايتين مختلفتين، إحداهما اجتماعية، والأخرى فردية، على نحو تكون معه الأولى قاعدة قانونية والثانية قاعدة خلقية. فتحريم الاعتداء على النفس أو المال أو العرض مثل يعتبر قاعدة قانونية تهدف إلى غاية اجتماعية هي العدل، ويعتبر في ذات الوقت قاعدة خلقية تهدف إلى غاية فردية هي الفضيلة.\\n'],\n",
              " ['وترتيب على ذلك فالإلزام في القواعد الخلقية هو إلزام داخلي ذاتي نابع من ضمير الفرد ذاته، بينما الإلزام في القواعد القانونية هو إلزام خارجي يستمد من الجماعة التي تشترك القواعد القانونية في إقامة نظامها، أو بعبارة أخرى إلزام اجتماعي.\\n'],\n",
              " ['القاعدة القانونية والقاعدة المدنية:\\n'],\n",
              " ['يلتقي القانون والدين في كثير من القواعد، على نحو ما رأينا بالنسبة لالتقاء القانون والأخلاق، كما هو الحال في القاعدة التي تقضي بالوفاء بالعقود أو القاعدة التي تقضي بعدم الإضرار بالغير. ويتضح ذلك بصفة خاصة بالنسبة للأديان التي لا تقف عند مواجهة علاقة الإنسان بربه، وإنما تتجاوز ذلك إلى تنظيم مسائل الدنيا، كما هو الحال في الدين الإسلامي.\\n'],\n",
              " ['غير أن الدين يستقل كذلك بكثير من القواعد التي لا نظير لها في القانون. وهذا ما نجده عادة في القواعد المتعلقة بالعبادات بصفة عامة، كقواعد الصلاة والصوم. كذلك فالقانون يستقل بقواعد أخرى لا نظير لها في الدين، كما هو الحال في القواعد المتعلقة بالمرور أو المحددة لمواعيد الطعن في الأحكام أو التي تشترط الرسمية في بعض التصرفات. \\n'],\n",
              " ['المبحث الثاني:\\n'],\n",
              " ['عقود الوكالات التجارية:\\n'],\n",
              " ['تعد عقود الوكالات التجارية من العقود الشائعة على المستوى الدولي، وهي نوع من العقود التي عادة ما تكون مقرونة بعقود بيع لبضائع أو خدمات، فالشركات التي ترغب في بيع بضائعها خارج حدودها لديها عدة طرق لتوصيل البضاعة إلى المستهلك أو المستخدم أو المشتري. من ضمن هذه الطرق أن الشركة المنتجة ربما تؤسس مكتب لها كفرع أو شركة مساندة وفق للقواعد والتنظيمات الخاصة في البلد الذي ترغب في توزيع منتجاتها فيه، حيث يمكن لها أن تسوق بضائعها ومنتجاتها من خلال هذا المكتب أو الشركة المساندة لها في البلد الأجنبي.\\n'],\n",
              " ['إلا أن الغالب هو أن بعض الشركات المنتجة أو المصنعة تلجأ إلى وكيل محلي؛ لأنها قد ترى أن تأسيس مكتب أو فرع لها في الدولة المضيفة فيه بعض الخطورة؛ نظر لما يتطلبه ذلك من استثمار أموال طائلة أو مصروفات متصلة بالبدء في ذلك. والمحافظة على استمراريته دون وجود ضمان يضمن لها أن منتجاتها سوف تغطي الهدف المرسوم لها من ناحية التوزيع أو إقبال المستهلكين، أو قد يكون هناك بعض العوائق القانونية في الدولة التي ترغب في توزيع منتجاتها فيها، حيث إن كثير من الدول تضع أنظمة وقوانين للحيلولة دون ذلك بهدف تشجيع الاستثمار من خلال مواطنيها.\\n'],\n",
              " ['وعادة تقوم الشركة الأجنبية التي ترغب في اكتشاف إمكانيات السوق الأجنبية لتسويق بضائعها أو خدماتها فيها دون الحاجة إلى استثمار مبالغ كبيرة، بتعيين وكيل موزع لبضائعها من مواطني الدولة ذاتها التي ترغب التسويق فيها، أو قد تتعاقد مع شركة أخرى من هذه الدولة لخدمتها كموزع لمنتجاتها. ومثل عقد التوزيع هذا يتميز ويختلف عن عقد الوكالة بصفة رئيسية في الطريقة والأسلوب الذي يتخذ في دفع المقابل المادي - العمولة- عن مهمة التوزيع للموزع أو للوكيل، وذلك كما يلي:\\n'],\n",
              " ['فالوكيل يجلب منتجات المصنع أو البائع ويعرضها على المشتري أو المستهلك عن طريق الاتصال بواسطة الدعاية أو البيع المباشر، بإثبات نماذج إيضاحية ودعائية للمنتجات، ومن ثم يتم البحث عن مشترين لها، بينما عقد البيع الحقيقي يتم عقده بين البائع والمشتري مباشرة. أما الوكيل فيتم دفع أتعابه أو عمولته عادة عن جهوده في عقد الصفقة بنسبة مئوية من قيم المنتجات التي يتم بيعها. والوكيل غالب لا يشاهد انتقال المنتجات بين المنتج والمشتري على الإطلاق، وإنما يعمل على أساس النماذج التي يعرضها على المشتري ليوضح له بواسطتها صلاحية المنتج، أما البضاعة المبيعة فترسل من قبل البائع مباشرة إلى المشتري.\\n'],\n",
              " ['أما وكالات التوزيع فعلى العكس من ذلك، حيث إن لها ترتيبات تجارية بموجبها يقوم الموزع ببيع منتجات الشركة الأجنبية في البلد المقصود، ويأخذ أتعابه من المكسب المتحصل من البضاعة المبيعة، ويتحمل واقعي كل المخاطر من أجل طلب البضاعة وبيعها وتسلم الثمن من المشتري النهائي لها، ويكون عقد البيع في هذه الحالة بين الموزع والمشتري. وهذه العلاقة بين الأطراف تحكمها الأنظمة والقوانين الخاصة بهذا النوع من النشاط في الدولة التي يتم فيها التوزيع للمنتجات؛ لأنه في الواقع لدى كل دولة مبادئ قانونية وقواعد خاصة تم تطويرها لتنظيم العلاقة بين الشركة المنتجة والوكيل، ومثال ذلك نظام الوكالات التجارية السعودي.\\n'],\n",
              " ['وغالب ما يتم الدخول في اتفاقيات التوزيع والوكالات التجارية من قبل الشركات الأجنبية والوكلاء المحليين كوسيلة لتفادي المخاطر، حيث إن الموزع يشتري المنتجات من المصنع ويتحمل مخاطر بيعها في دولته أو الدولة التي يسمح له بالعمل فيها. وفي كثير من الدول الصناعية وبخاصة في أمريكا نجد أن الموزعين الأجانب يقرون أنها طريقة جذب وتشجيع للقيام بالعمل التجاري، بسبب الإعفاء التفضيلي من الضرائب، والذي قد يكون بين الدولتين بموجب اتفاق للإعفاء الضريبي المتبادل لتشجيع التجارة بين الدولتين.\\n'],\n",
              " ['ولكن على الرغم من ذلك فعقود التوزيع ليست خالية تمام من المخاطر والمشكلات، فهناك في بعض الدول مخاطر الوقوع في مخالفة لقانون الاحتكار، كما هو الحال في أمريكا وأوربا، بالإضافة إلى أن كل دولة لها قوانينها الخاصة التي تفرض ضوابط معينة على كل من الوكيل والموزع فيما يتعلق بالتسجيل للوكالة أو العقد وغيرها من الضوابط.\\n'],\n",
              " ['ويعد استخدام الشركة المنتجة للوكلاء التجاريين كموزعين لمنتجاتها من أكثر الطرق المستخدمة لتسويق المنتجات الأجنبية في العالم، واختراق الأسواق الدولية من قبل الشركات الأجنبية، حيث قدر أن أكثر من نصف التجارة الدولية يتم بمثل هاتين الطريقتين.\\n'],\n",
              " ['وقد يترتب على تنفيذ الالتزامات الناشئة عن هذه العقود بعض المخالفات، لذلك يجب عند إبرام عقود وكالات التوزيع مع المنتجين أو المصنعين الأجانب، بذل العناية الكاملة والحرص اللازم على الصياغة القانونية السليمة لمثل هذه العقود، للتقليل من فرص حصول الخلافات على تفسير بنودها عند تنفيذها، وعلى الخصوص تأثير عملية الإنهاء للعلاقة بين الأطراف المتعاقدة.\\n'],\n",
              " ['كذلك يعد عقد التمثيل التجاري أحد الطرق المستخدمة لتسويق منتجات الشركات الأجنبية، ولكن هناك بعض الفروق الأساسية بين هذين النوعين من العقود لا بد من توضيحها. بالنسبة لعقد التمثيل التجاري للشركة أو المنتج الأجنبي نجد أن الممثل يكون إما موظف له وإما متعاقد مستقل عنه. وكثير من قوانين الدول تعترف بأنه في حالة ما إذا كان هناك ممثل تجاري، وكيل تحت إدارة المنتج يتلقى توجيهاته منه مباشرة، فإنه يمكن أن تنشأ عن هذه العلاقة علاقة عمل، ومن ثم فإن قانون العمل الداخلي في الدولة ربما يطبق على مثل هذه العلاقة.\\n'],\n",
              " ['وقد نجد أن القانون الداخلي في الدولة التي تهدف الشركة الأجنبية إلى توزيع منتجاتها فيها يفرض بعض القواعد والضوابط التي لا بد من اتباعها، أو قد نجد أن المنتج الأجنبي يفضل أن يقوم بتعيين شخص اعتباري وليس شخص طبيعي بهدف تحاشي بعض القواعد أو الضوابط التي قد تفرضها القوانين المحلية في الدولة المستهدفة لتوزيع منتجاتها فيها، فيعمد إلى اللجوء إلى دفع نسبة مالية معينة تسمى عمولة، فضل عن توظيف الشركة أو الشخص وفق لقوانين العمل المحلية في الدولة المستهدفة لتوزيع منتجاته فيها، ومن ثم يكون الممثل أو الوكيل التجاري الذي يمثله حر طليق في اتخاذ قراراته والعمل الذي يقوم به لتسويق مثل هذه المنتجات.\\n'],\n",
              " ['وهناك الكثير من الشروط التي يجب أن يتم النص عليها ضمن فقرات العقد، ومنها الشروط التي تنص على حصرية الوكالة التجارية، أو التوزيع للمنتجات التي يرغب في توزيعها، وشرط المدة اللازمة لعقد وكالة التوزيع التي يعتزم القيام بها عن الموكل الأجنبي بما يتناسب مع الاستثمارات والجهود التي يعتقد أنه سوف يصرفها ويبذلها في سبيل تحقيق أرباح من خلال توزيع هذه المنتجات.\\n'],\n",
              " ['ويجب الحرص أيض في العقد على الحق في الحصول على تمديد تلقائي للوكالة أو العقد إذا كان الوكيل أو الموزع قائم بعمله على خير وجه ووفق لما هو مطلوب من الرجل العادي في مثل هذا النوع من التجارة. كذلك يجب النص على تفاصيل محددة ومعينة للأسباب التي توجب الإنهاء المبكر للوكالة أو مهمة التمثيل، مع وجوب النص على إعطاء فترة إشعار مناسبة ومتناسقة ومتوافقة مع الوقت والتشريعات.\\n'],\n",
              " ['إذا شهد  أحد  شاهدين أنه احتال بها عليه، وشهد الآخر أنه ضمنها لـه على أن أبرأ الأول، أو لم يذكر البراءة، وادعى الطالب الضمان والبراءة أو الحوالة، فإنه يؤاخذ المشهود عليه بالمال، لاتفاق الشاهدين على الحوالة معنى، أو لاتفاقهما على التزام المشهود عليه بالمال، وبرئ الأصيل بإقرار الطالب إن لم يذكر الشاهد بالضمان والبراءة، وبالشهادة إن ذكر البراءة. ولو ادعى الطالب الضمان على الكفيل بغير براءة، وقال: لم أحتل عليه، قبلت شهادتهما؛ لأنهما اتفقا على كون المشهود ضامن للمال حويل كان أو كفيل،  ولم  يصر الطالب بدعوى الضمان بغير براءة مكذب الشاهد الذي شهد بالحوالة فيما شهد  له، إنما كذبه فيما شهد  عليه، وهو لم يكذبه في ذلك، إنما كذبه في حق براءة الأصيل، والطالب في حق براءة الأصيل مشهود عليه، وتكذيب المشهود عليه الشاهد لا يمنع قبول الشهادة، وقد مر جنس هذا في كتاب الكفالة.\\n'],\n",
              " ['وإذا كان لرجل على رجلين ألف درهم، فأحال بها على رجل لهما عليه مال، فجحد الطالب  الحوالة، فشهد عليه ابناه أو أبواه بالحوالة، فشهادتهما جائزة، وإن شهد ابنا المطلوبين الأولين لا تقبل شهادتهما إذا ادعى المطلوبان ذلك، وإن جحد تقبل شهادتهما؛ لأن لهما في هذه الشهادة نوع منفعة، وهو براءتهما عن مطالبة الأصيل، ونوع مضرة وهو رجوع المحتال عليه عليهما عند الأداء، والتقريب ما ذكرنا في المسألة المتقدمة؛ فإذا شهد على رجل شاهد بألف درهم بحكم الحوالة، وشهد عليه شاهد آخر بألف وخمس مئة  درهم بحكم الحوالة، والمشهود له يدعي ألف وخمس مئة  درهم، والمشهود عليه يقر بخمس مئة درهم،  قضى القاضي على المحتال عليه بألف درهم، وإذا أدى رجع المحيل بالألف، وإن كان في زعمه أنه لا رجوع له بالألف؛ لأنه صار مكذب في زعمه لما قضى  القاضي عليه بألف درهم.\\n'],\n",
              " ['وإذا ادعى رجل على رجل ألف درهم بحكم الحوالة عن فلان، والمدعى عليه يجحد فجاء المدعي ببينة شهدت له بذلك والأصيل غائب، قضى القاضي على المدعى عليه  بألف درهم ويكون ذلك قضاء على الأصل، حتى لو أدى المحتال عليه الألف رجع على المحيل بذلك، ولا يحتاج إلى  إقامة البينة عليه، وانتصب المدعى عليه الحاضر للآمر  خصم عن الغائب؛ لأن المدعي ادعى حق على الحاضر بسبب على الغائب؛ فإن الحوالة على الحاضر لا تصح إلا بعد ثبوت الدين على الغائب؛ لأن بالحوالة  ينتقل ما في ذمة الغائب إلى ذمة الحاضر، وفي مثل هذا ينتصب الحاضر خصم عن الغائب.\\n'],\n",
              " ['ولو غاب الطالب وحضر الأصيل فأقام المحتال عليه بينة أنه كان لفلان عليك ألف درهم، وقد أحلت بها فلان علي، وقد  أديتها قبلت بينته، وكان له أن يأخذ الذي عليه الأصل بألف درهم، ويكون ذلك قضاء على الغائب بالاستيفاء؛ لأنه ادعى على الحاضر، وهو الأصيل، حق الرجوع بسبب ادعائه على الغائب، وهو الأداء أو الإيفاء، وفي مثل هذا ينتصب الحاضر خصم عن الغائب.\\n'],\n",
              " ['ولو أن شاهدين شهدا على رجل أن فلان أحال هذا  على هذا بألف درهم، وقالا: نحن لا نعرف الطالب، ولكنه هذا، أو قالا نحن لا نعرف المحتال عليه، لكنه هذا، معنى المسألة أنهما شهدا بالحوالة على رجل بالإشارة، إلا أنهما لا يعرفان المشهود له أو المشهود عليه بالاسم والنسب، فالقاضي يقبل شهادتهما؛ لأنهما شهدا لمعلوم على معلوم؛ لأنهم عرفوا المشهود له والمشهود عليه بالإشارة، والإشارة أبلغ في التعريف.\\n'],\n",
              " ['وإذا ادعى حوالة على رجل وجحد المدعى عليه يستحلف؛ فإن ادعى على آخر يسمع دعواه على الثاني أيض؛ لأنه يجوز أن يكون بالمال الواحد حويلان، بأن أحال الرجل بما عليه على رجلين بعقد واحد، فإن حلف المدعى عليه برئ عن دعوى المحتال له، ويرجع المحتال له على المحيل، وإن نكل لزمه الحوالة، كما لو أقر بها بعدما جحد، وإذا  أدى المال إلى المحتال له، هل يرجع على المحيل؟ فهذا على وجهين: إن كان المحيل مقر بالحوالة في هذه الحالة يرجع  عليه، وإن زعم المحتال عليه أنه ليس له حق الرجوع  إلا أن المحيل أنشأ الإقرار له بحق الرجوع  بعد ذلك، والتكذيب السابق لا يمنع صحة الإقرار بعد ذلك، وإن كان  جاحد للحوالة في هذه الحالة لا يرجع عليه، فإن أقام المحتال عليه في هذه الصورة بينة على المحيل أنه أحاله بها علي، فهذا على وجهين: إن أنكر الحوالة أصل عند دعوى المحتال له، بأن قال: ما أحالك فلان علي بهذا المال، أو قال: ما أحلت بهذا المال، ولا أمرني فلان بذلك، وهذا الوجه، لا تسمع بينته، ولو أراد أن يستحلف المحيل على ذلك، بأن لم يكن بينة لا يستحلف؛ لأنه متناقض في هذه الدعوى على وجه لا يمكنه التوفيق؛ لأنه جحد الأمر  والحوالة أصل، وادعاها بعد ذلك، وإن قال: ما لك علي حق من جهة الحوالة، واقتصر على هذا يصح دعواه إذا وفق، وتسمع بينته، ويستحلف المحيل إن لم يكن للمحتال عليه بينة، ووجه التوفيق: أن يقول: أحال بها علي وقد كنت أديت قبل دعوى المحتال له، فلم يكن له على شيء بعد وقت دعواه؛ لأن بالتوفيق  على هذا الوجه ترتفع المناقضة، فإن كان المدعي حين ادعى الحوالة وجحد المدعى عليه الحوالة، أقام المدعي بينة على الحوالة وعلى الأمر من جهة الأصيل وأدى، كان له أن يرجع بما أدى على الأصيل، جحد الأصيل الحوالة والأمر في هذه الحالة، أو أقر بها؛ لأن الأمر بالحوالة ثبت بالبينة، والبينة حجة في حق الناس كافة، وإنكاره في الحوالة لا يمنع الرجوع، وإن زعم أنه لا رجوع له؛ لأنه صار مكذب في زعمه.\\n'],\n",
              " ['ولو أنها صالحت المحتال عليه من دراهمها، وهي جياد على الزيوف أو النبهرجة، صح الصلح؛ لأنها حطت بعض الحق حين استوفت الزيوف مكان الجياد، وذلك جائز ، وسلمت الجياد للمحتال عليه بالمقاصة؛ لأن المحتال عليه ملك الجياد التي احتال بها بما أدى من الزيوف؛ لأن الزيوف تصلح بدل عن الجياد، واستوجب الرجوع على المحيل بالجياد، وللمحيل عليه مثله، فوقعت المقاصة.\\n'],\n",
              " ['ولو كان المحيل هو الذي قضى دين المحتال له نبهرجة أو زيوف أو جياد رجع على المحتال عليه بما كان له عليه من الجياد؛ لأن المحيل لما قضى دينها بالنبهرجة فقد قضى الجياد بالنبهرجة، وإنه جائز برضا صاحب الحق، فسقط دينها الذي وجب لها بالحوالة وزال الشغل عن دين المحيل.\\n'],\n",
              " ['ولو كانت المرأة صالحت المحتال عليه عن المئة على خمسين ونقدها، سلم للمحتال عليه من المئة التي كانت للمحيل عليه قبل الحوالة خمسون، ورجع المحيل على المحتال عليه بخمسين؛ لأنها استوفت نصف دينها، وذلك خمسون، وأبرأته عن النصف، وذلك خمسون؛ لأن الخمسين لا تصلح بدل عن المئة؛ لما فيه من  الزيوف، بخلاف المئة النبهرجة. ولو استوفت جميع حقها لم يرجع المحيل على المحتال عليه بشيء.\\n'],\n",
              " ['ولو أبرأته عن جميع حقها رجع المحيل على المحتال عليه بجميع دينه، فإذا استوفت البعض وأبرأته عن البعض كان لكل بعض حكم نفسه.\\n'],\n",
              " ['ثاني: أنواع عوامل الإنتاج. \\n'],\n",
              " ['لا يوجد تقسيم واضح ومحدد لعوامل الإنتاج تتفق عليه جميع المدارس الفكرية الاقتصادية، إذ إن تحديد هذه العوامل ما زال مثار خلاف بين الاقتصاديين. المدرسة التقليدية, من جهة درجت على  تقسيم عوامل الإنتاج إلى ثلاثة: العمل، والأرض (الطبيعة)، ورأس المال. وبالتالي لم تجتهد هذه المدرسة في التمييز بين مفهوم المورد الاقتصادي ومفهوم قوى الإنتاج أو عوامل الإنتاج. بالرغم من وجود علاقة وارتباط بين المفهومين، لكن ليس هناك تطابق بينهما, إذ ينصرف مفهوم المورد الاقتصادي عند البعض إلى كل ما  ينتجه المجتمع من سلع وخدمات صالحة لإشباع الحاجات بين ما يعني مفهوم عوامل الإنتاج القوي التي يمكن أن تسهم في إنتاج تلك السلع والخدمات. ولمعرفتنا أن الموارد الاقتصادية رغم من توافرها في مجتمع ما قد تبقى معطلة جزئي، لهذا لا يمكن القول إن الموارد الاقتصادية هي نفسها عوامل الإنتاج. هناك عامل رابع أضافته هذه المدرسة وهو عامل التنظيم، والسبب التاريخي لإضافة هذا العنصر الجديد هو الإحساس بنقص التقسيم الذي ورد أعلاه نتيجة لما تميزت به العملية الإنتاجية من تخصص في الوظائف المؤداة. والمنظم هو الشخص الذي يقوم بالتأليف بين عوامل الإنتاج المختلفة من أجل الحصول على أعلى مستوى إنتاج ممكن.\\n'],\n",
              " ['وقد تعرض التقسيم الذي قررته المدرسة التقليدية إلى نقد بالغ من قبل المدارس الأخرى, فالمدرسة الماركسية تعتبر العمل هو العنصر الجوهري الذي يلعب الدور الإيجابي في العملية الإنتاجية, بل تعتبره العامل الوحيد للإنتاج. إذ إن الإنسان هو الذي يقوم بالأعمال المنتجة، والطبيعة لا يمكن اعتبارها بذاتها عنصر للإنتاج فهي عامل سلبي خاضع لفعل الإنسان فيما يتعلق بعمليات الإنتاج. ورأس المال يعتبر في فكر هذه المدرسة عمل قديم متراكم تجسد في السلع الإنتاجية التي تشارك في عمليات الإنتاج، ومن ثم يمكن القول بأنه عامل مشتق من العاملين السابقين العمل والطبيعة. وعليه ترى هذه المدرسة أن جوهر عملية الإنتاج هو عمل الإنسان لتحويل قوى الطبيعة إلى ما يمكن إشباع حاجاته من خلال استخدام وسائل وسبل صنعها بنفسه.\\n'],\n",
              " ['وبالرغم من أن هذه المدرسة اعتبرت العمل العنصر الأساسي فقد قسمت عوامل الإنتاج إلى ثلاثة عناصر: العمل, وموضوع العمل, ووسائل العمل. والمقصود بالعمل هنا الجهد العضلي أو الذهني الذي يوجه في سبيل تحويل الأشياء (موضوع العمل: الأرض وجزء من العملية الإنتاجية) باستخدام أدوات ووسائل عمل (جزء من السلعة الإنتاجية) إلى منتجات صالحة لإشباع حاجات بشكل مباشر (سلع استهلاكية) وبشكل غير مباشر (سلع إنتاجية).\\n'],\n",
              " ['أما المدرسة الحديثة فتنقد التقسيم التقليدي من جملة نواح أهمها:\\n'],\n",
              " ['أول: ليس هناك أي عامل من عوامل الإنتاج يمكن أن تعتبر وحداته متماثلة ومتجانسة كل التماثل والتجانس, بمعنى أنه لا يمكن أن تحل وحدة محل الوحدة الأخرى لنفس العامل الإنتاجي, فالعمل مثل قد يكون يدوي أو ذهني. فعمل الطبيب يختلف عن عمل عامل الصحة أو العامل في المنجم أو الحقل. وهناك العمل الذي يتطلب مهارة ودراية ومعرفة، والعمل الذي لا يحتاج شيئ من هذا القبيل. وهناك أيض العمل الصناعي والزراعي والتجاري والمهني. وكل واحد من هذه الأعمال يحتاج إلى مستوى معين من الدراية.\\n'],\n",
              " ['ثاني: يميز التقليديون بين الأرض ورأس المال على أساس أن الأرض محدودة في كميتها وأن الإنتاج الزراعي يخضع لقانون الغلة المتناقصة، بينما يخضع الإنتاج الصناعي لقانون الغلة المتزايدة وأن الأرض هبة من هبات الطبيعة، بينما أن الإنسان هو صانع رأس المال.\\n'],\n",
              " ['ويفند الاقتصاديون المحدثون ما تقدم على أساس أن الأرض ليست المورد الوحيد الذي يتصف بالمحدودية، فالموارد المادية جميعها محدودة في كميتها. وبالرغم من محدودية الأرض يمكن زيادة كميتها عن طريق اكتسابها من البحر، كما في تجربة هولندا وإمارة أبي ظبي بمنطقة البطين, الرأس الأخضر وجزء من مصفح، وحديث منطقة الحديرات, أو بتجفيف المستنقعات أو استصلاح واستزراع بعض الأراضي الصحراوية أو بإدخال بعض التحسينات على الأراضي الجرداء الغير مفيدة لتنمية إنتاجيتها الزراعية من خلال استخدام البذور المحسنة والميكنة الزراعية من جرارات وباذرات تقاو وتحسين وسائل الري والصرف والتعديل المناخي والاستخدام الرشيد للأسمدة والمبيدات الحديثة من غير تدمير للنظام البيئي القائم. وقد قطع البحث العلمي في المجال الزراعي شوط كبير في دراسة طبيعة التربة وتركيبها ومكوناتها والأسلوب الأمثل للاستصلاح والاستزراع ووفر كثير من المعلومات في وراثة النبات وعملياته الفسيولوجية.\\n'],\n",
              " ['وبالنسبة لقانون الغلة لا يمكن الجزم بأن قانون الغلة المتناقصة خاص بالزراعة بينما أن قانون الغلة المتزايدة خاص بالصناعة. ولا تؤيد غالبية الدراسات الاقتصادية التطبيقية في مجال الإنتاج الزراعي والصناعي هذا الادعاء. أما التمييز بين الأرض ورأس المال على أساس أن الأرض هبة من الطبيعة وأن رأس المال من صنع الإنسان, بمعنى أنه مجموعة من الأصول القائمة, أصول ناجمة عن عمل سابق فهو تمييز تنقصه الدقة ويبدو سطحي إلى حد كبير، ذلك أن مساحات واسعة من الأراضي في عصرنا الحاضر من صنع الإنسان، وكما أسلفنا تم تحرير كثير من الأراضي من براثن البحر، وتم استصلاح وتعمير كثير من  الصحاري، وتجارب الأمم في الشرق والغرب تزخر بذلك, وأن الأرض منذ زمن سحيق تحورت وتطورت وأصبحت عامل إنتاجي بفعل عمل الإنسان المتواصل عليها, فهو الذي يقوم بتنظيفها وصرفها وتسميدها حتى تحافظ على عطائها, وإن موارد الأرض ما ظهر منها على السطح وما خفي منها في الباطن قابل للنقصان والاندثار والزوال إذا لم تطلها يد الإنسان بالرعاية والعناية.\\n'],\n",
              " ['ثالث: التفرقة بين العمل والتنظيم تفرقة أولية, حيث إن عنصر التنظيم يشبه إلى حد كبير عنصر العمل. فالوظيفة التي يؤديها المنظم لا تخرج عن نطاق مفهوم العمل, فهو يقوم أساس بعمل لكنه عمل ذهني. ومن ذلك يتضح أن كل من العامل والمنظم يقدم خدمة شخصية للعملية الإنتاجية تتجسد في بذل كمية من الجهد العضلي أو الذهني. والخلاف يبدو بينهما في نصيب كل واحد من العملية الإنتاجية, فالعامل يتقاضى أجر مقابل الجهد العضلي الذي يبذله بينما يتقاضى المنظم ربح ليس فقط في مقابل العمل الذهني الذي يقوم به من جمع وتأليف بين عناصر العملية الإنتاجية، بل أيض نتيجة المخاطرة التي تتطلبها العملية الإنتاجية. لكن ليس معنى ذلك أن العامل لا يتعرض إلى مخاطرة فهي أيض واردة بالنسبة له. وقد يتعرض العامل إلى خطر البطالة إذا كسدت الأسواق أو قد يدفعه أجر أكبر إلى التحول إلى عمل آخر لا تتوفر فيه أسباب الاستقرار الوظيفي فسرعان ما يفقد عمله. وهكذا نجد أن عنصر العمل لا يخلو أيض من مخاطرة.\\n'],\n",
              " ['ومن جانبنا, سنتبع التقسيم التقليدي لعناصر الإنتاج بالرغم من النقد الذي وجه له من قبل المدارس الاقتصادية الأخرى، وذلك للأسباب الآتية:\\n'],\n",
              " ['أول: بالرغم من أن رأس المال يعتبر عنصر متفرع من العمل لكن نعتقد بأنه يلعب دور حيوي جوهري في العملية الإنتاجية من حيث تأثيره الواضح والمباشر على إنتاجية العمل نفسه. وتجنب للبس والغموض فيما يتعلق بالدلالة اللغوية لمصطلح رأس المال وجب التنويه بأنه المقصود هنا، وليس المفهوم النقدي لهذا المصطلح.\\n'],\n",
              " ['فإن قيل\\u200f:\\u200f فاللغة فيها أسماء وأفعال وحروف، وليس يجوز أن يكون المعلم من ذلك الأسماء وحدها دون غيرها مما ليس بأسماء، فكيف خص الأسماء وحدها؟ قيل\\u200f:\\u200f اعتمد ذلك من حيث كانت الأسماء أقوى القبل الثلاثة، ولا بد لكل كلام مفيد منفرد من الاسم، وقد تستغني الجملة المستقلة عن كل واحد من الفعل والحرف، فلما كانت الأسماء من القوة والأولية في النفس قال\\u200f:\\u200f ثم لنعد فلنقل في الاعتلال لمن قال بأن اللغة لا تكون وحي، وذلك أنهم ذهبوا إلى أن أصل اللغة لا بد فيه من المواضعة. قالوا\\u200f:\\u200f وذلك بأن يجتمع حكيمان أو ثلاثة فصاعد فيحتاجوا إلى الإبانة عن الأشياء والمعلومات فيضعوا لكل واحد منها سمة ولفظ إذا ذكر عرف به ما مسماه ليمتاز عن غيره وليغني بذكره عن إحضاره إلى مرآة العين فيكون ذلك أقرب وأخف وأسهل من تكلف إحضاره لبلوغ الغرض في إبانة حاله، بل قد يحتاج في كثير من الأحوال إلى ذكر ما لا يمكن إحضاره ولا إدناؤه، كالفاني وحال اجتماع الضدين على المحل الواحد، وكيف يكون ذلك لو جاز، وغير هذا مما هو جار في الاستحالة والتعذر مجراه، فكأنهم جاؤوا إلى واحد من بني آدم فأومؤوا إليه، وقالوا\\u200f:\\u200f إنسان إنسان إنسان، فأي وقت سمع هذا اللفظ علم أن المراد به هذا الضرب من المخلوق، وإن أرادوا سمة عينه أو يده أشاروا إلى ذلك فقالوا\\u200f:\\u200f يد، عين، رأس، قدم، أو نحو ذلك. فمتى سمعت اللفظة من هذا عرف معنيها وهلم جر فيما سوى ذلك من الأسماء والأفعال والحروف\\u200f.\\u200f \\n'],\n",
              " ['ثم لك من بعد ذلك أن تنقل هذه المواضعة إلى غيرها فتقول\\u200f:\\u200f الذي اسمه إنسان فليجعل مكانه مرد، والذي اسمه رأس فليجعل مكانه سر، وعلى هذا بقية الكلام. وكذلك لو بدئت اللغة الفارسية فوقعت المواضعة عليها لجاز أن تنقل ويولد منها لغات كثيرة من الرومية والزنجية وغيرهما. وعلى هذا ما نشاهده الآن من اختراع الصناع لآلات صنائعهم من الأسماء كالنجار والصائغ والحائك والبناء وكذلك الملاح. قالوا\\u200f:\\u200f ولكن لا بد لأولها من أن يكون متواضع عليه بالمشاهدة والإيماء\\u200f.\\u200f \\n'],\n",
              " ['قالوا\\u200f:\\u200f والقديم - سبحانه - لا يجوز أن يوصف بأن يواضع أحد على شيء إذ قد ثبت أن المواضعة لا بد معها من إيماء وإشارة بالجارحة نحو المومإ إليه والمشار نحوه. قالوا: والقديم – سبحانه - لا جارحة له، فيصح الإيماء والإشارة منه بها، فبطل عندهم أن تصح المواضعة على اللغة منه، تقدست أسماؤه\\u200f.\\u200f \\n'],\n",
              " ['قالوا\\u200f:\\u200f ولكن يجوز أن ينقل الله تعالى اللغة التي قد وقع التواضع بين عباده عليها بأن يقول\\u200f:\\u200f الذي كنتم تعبرون عنه بكذا عبروا عنه بكذا، والذي كنتم تسمونه كذا ينبغي أن تسموه كذا، وجواز هذا منه - سبحانه  - كجوازه من عباده. ومن هذا الذي في الأصوات ما يتعاطاه الناس الآن من مخالفة الأشكال في حروف المعجم، كالصورة التي توضع للمعميات والتراجم، وعلى ذلك أيض اختلفت أقلام ذوي اللغات كما اختلفت ألسن الأصوات المرتبة على مذاهبهم في المواضعات، فهذا قول من الظهور على ما تراه\\u200f.\\u200f \\n'],\n",
              " ['إلا أنني سألت يوم بعض أهله، فقلت\\u200f:\\u200f ما تنكر أن تصح المواضعة من الله – سبحانه - وإن لم يكن ذا جارحة بأن يحدث في جسم من الأجسام - خشبة أو غيرها - إقبال على شخص من الأشخاص وتحريك لها نحوه ويسمع - في حال تحرك الخشبة نحو ذلك الشخص - صوت يضعه اسم له، ويعيد حركة تلك الخشبة نحو ذلك الشخص دفعات مع أنه - عز اسمه - قادر على أن يقنع في تعريفه ذلك بالمرة الواحدة، فتقوم الخشبة في هذا الإيماء وهذه الإشارة مقام جارحة ابن آدم في الإشارة بها في المواضعة، وكما أن الإنسان أيض قد يجوز إذا أراد المواضعة أن يشير بخشبة نحو المراد المتواضع عليه فيقيمها في ذلك مقام يده لو أراد الإيماء بها نحوه\\u200f.\\u200f \\n'],\n",
              " ['فلم يجب عن هذا بأكثر من الاعتراف بوجوبه، ولم يخرج من جهته شيء أصل فأحكيه عنه، وهو عندي وعلى ما تراه الآن لازم لمن قال بامتناع كون مواضعة القديم تعالى لغة مرتجلة غير ناقلة لسان إلى لسان، فاعرف ذلك\\u200f.\\u200f \\n'],\n",
              " ['وذهب بعضهم إلى أن أصل اللغات كلها إنما هو من الأصوات المسموعات، كدوي الريح وحنين الرعد وخرير الماء وشحيج الحمار ونعيق الغراب وصهيل الفرس ونزيب الظبي ونحو ذلك ثم ولدت اللغات عن ذلك فيما بعد\\u200f.\\u200f \\n'],\n",
              " ['وهذا عندي وجه صالح ومذهب متقبل\\u200f.\\u200f \\n'],\n",
              " ['واعلم فيما بعد أنني على تقادم الوقت دائم التنقير والبحث عن هذا الموضع فأجد الدواعي والخوالج قوية التجاذب لي مختلفة جهات التغول على فكري، وذلك أنني إذا تأملت حال هذه اللغة الشريفة الكريمة اللطيفة وجدت فيها من الحكمة والدقة والإرهاف والرقة ما يملك علي جانب الفكر حتى يكاد يطمح به أمام غلوة السحر، فمن ذلك ما نبه عليه أصحابنا رحمهم الله، ومنه ما حذوته على أمثلتهم فعرفت بتتابعه وانقياده وبعد مراميه وآماده صحة ما وفقوا لتقديمه منه ولطف ما أسعدوا به وفرق لهم عنه، وانضاف إلى ذلك وارد الأخبار المأثورة بأنها من عند الله تعالى، فقوي في نفسي اعتقاد كونها توقيف من الله - سبحانه - وأنها وحي، ثم أقول في ضد هذا\\u200f:\\u200f إنه كما وقع لأصحابنا ولنا وتنبهوا وتنبهنا على تأمل هذه الحكمة الرائعة الباهرة، كذلك لا ننكر أن يكون الله تعالى قد خلق من قبلنا، وإن بعد مداه عنا من كان ألطف منا أذهان وأسرع خواطر وأجرأ جنان، فأقف بين الخلتين حسير وأكاثرهما فأنكفئ مكثور، وإن خطر خاطر فيما بعد يعلق الكف بإحدى الجهتين ويكفها عن صاحبتها قلنا به، هذا كله كلام ابن جني. وقال الإمام فخر الدين الرازي في المحصول وتبعه تاج الدين الأرموي في الحاصل وسراج الدين الأرموي في التحصيل ما ملخصه\\u200f:\\u200f النظر الثاني في الواضع\\u200f:\\u200f الألفاظ إما أن تدل على المعاني بذواتها أو بوضع الله إياها أو بوضع الناس أو بكون البعض بوضع الله والباقي بوضع الناس. والأول مذهب عباد بن سليمان، والثاني مذهب الشيخ أبي الحسن الأشعري وابن فورك، والثالث مذهب أبي هاشم، وأما الرابع فإما أن يكون الابتداء من الناس والتتمة من الله، وهو مذهب قوم أو الابتداء من الله والتتمة من الناس، وهو مذهب الأستاذ أبي إسحاق الإسفراييني\\u200f.\\u200f \\n'],\n",
              " ['والمحققون متوقفون في الكل إلا في مذهب عباد، ودليل فساده أن اللفظ لو دل بالذات لفهم كل واحد منهم كل اللغات لعدم اختلاف الدلالات الذاتية، واللازم باطل، فالملزوم كذلك\\u200f.\\u200f \\n'],\n",
              " ['واحتج عباد بأنه لولا الدلالة الذاتية لكان وضع لفظ من بين الألفاظ بإزاء معنى من بين المعاني ترجيح بلا مرجح، وهو محال\\u200f.\\u200f \\n'],\n",
              " ['وجوابه أن الواضع إن كان هو الله فتخصيصه الألفاظ بالمعاني كتخصيص العالم بالإيجاد في وقت من بين سائر الأوقات وإن كان هو الناس فلعله لتعين الخطران بالبال، ودليل إمكان التوقف احتمال خلق الله تعالى الألفاظ ووضعها بإزاء المعاني وخلق علوم ضرورية في ناس بأن تلك الألفاظ موضوعة لتلك المعاني.\\n'],\n",
              " ['الفصل الأول:\\n'],\n",
              " ['المجرم بوجه عام:\\n'],\n",
              " ['المجرم إنسان دائم:\\n'],\n",
              " ['لا يتصور أن تقع الجريمة إلا من إنسان، وهذا الشرط تمليه وظيفة القانون من جهة، وطبيعة الجريمة من جهة أخرى. فالقانون مجموعة من القواعد تنظم للناس سلوكهم وتتجه إليهم بالخطاب وحدهم، والجريمة بدورها ليست مجرد واقعة ضارة أو خطرة، وإنما هي سلوك إرادي مخالف لواجب مقرر. والإرادة ملكة يختص بها الإنسان وحده، والواجب لا يفرض إلا عليه، أما الجماد والحيوان فلا يلتزمان بواجب ولا تنعقد لهما إرادة، وإنما يتحرك كل منهما بقوة قوانين الطبيعة واستجابة لنداء الغريزة.\\n'],\n",
              " ['ولهذا فإنه يمتنع وصف المجرم أو الجاني على الجماد والحيوان، ولو كان كل منهما علة أو سبب مباشر في تعريض بعض الحقوق للخطر أو في إصابتها بالضرر. فإذا حدث فيضان أو وقع زلزال أو انقضت صاعقة فدمرت بعض الأموال وأزهقت بعض الأرواح فليس في الأمر جريمة ولا مجرم. وكذلك الشأن إذا افترس أسد إنسان أو عضه كلب لا مالك له. ومع ذلك فقد تقبل الفكر القانوني في بعض فترات من تاريخه نسبة الجريمة إلى الجماد أو الحيوان الأعجم، ولم ير بأس من عقد المحاكمات لهما والحكم عليهما وتنفيذ الجزاء فيهما. غير أن هذه المرحلة كانت عارضة، ولم يلبث الفكر القانوني أن تجاوزها واستقر من زمن على أن الجريمة لا تقع قانون إلا من إنسان.\\n'],\n",
              " ['كل إنسان يصلح أن يكون مجرم:\\n'],\n",
              " ['يذهب فريق من الفقهاء إلى أنه إذا كان صحيح أن الجريمة لا تقع إلا من إنسان، فليس صحيح أن كل إنسان قادر قانون على ارتكاب الجريمة، وإنما تقتصر هذه القدرة على البعض دون البعض. وحجتهم الأساسية أن الجريمة ليست مجرد سلوك إنساني، وإنما هي فضل عن ذلك سلوك يعتد به القانون، والقانون لا يقيم للسلوك وزن ولا يوليه اهتمام إلا إذا كان صادر عن إنسان توفرت لديه شروط خاصة تجعله أهل لارتكاب الجريمة، ويطلقون على هذه الأهلية اسم الأهلية الجنائية. فالأهلية بهذا المعنى هي جملة الشروط اللازمة لاعتبار الشخص صالح لأن يكون من نظر القانون جاني أو مجرم. وتأسيس على ما تقدم يذهب جانب من الفقه إلى أن الجريمة بوصفها تكييف أو تقدير قانوني يمتنع وقوعها من بعض الناس، وهؤلاء فئتان: الأولى فئة المتمتعين بحصانة سياسية، كرؤساء الدول الأجنبية ورجال السلك الدبلوماسي والقنصلي. والثانية فئة الأشخاص الذين تعوزهم القدرة على التمييز والاختيار، وأولئك هم الصغار والمجانين. فهؤلاء الأشخاص جميع تقع أفعالهم جميع خارج حدود القانون الجنائي، أي أنها أفعال لا حكم لها فيه.\\n'],\n",
              " ['وهذا الرأي يخلط بين أمور قد تكون متقاربة إلا أنها مختلفة ومتميزة. فأفراد الفئتين السابقتين قادرون على ارتكاب الفعل الإجرامي من الناحية الواقعية أو المادية، وهم صالحون كذلك لأن تنسب إليهم الجريمة من الناحية النفسية أو المعنوية. وحسبنا ذلك لاعتبار فعلهم جريمة واعتبارهم جناة. وإذا كان القانون قد خص هؤلاء الأفراد بأحكام خاصة مراعاة منه لأوضاعهم وأحوالهم، فليس من شأن ذلك نفي صفة الجريمة عن أفعالهم ولا إسقاط وصف الجاني عنهم، وإنما يقتصر الأمر على إعفائهم من الخضوع لقضاء الدولة أو تحمل العقوبة الجنائية، وكلا الأمرين لا يقتضي القول بأن قانون العقوبات لا يسري عليهم أو أن أفعالهم لا حكم لها فيه. ويتضح ذلك مما ذكرناه عند دراسة أركان الجريمة، فقد قررنا أن للجريمة ركنين، أحدهما مادي والآخر معنوي، وأن الركن المادي يتمثل بصفة أساسية في السلوك الإرادي، وأن الركن المعنوي ينحصر في اتجاه الإرادة وجهة تخالف القانون. ولا نزاع في أن أفراد الفئتين -بوصفهم أشخاص ذوي إرادة- قادرون على تحقيق الأمرين مع، فهم بهذه المثابة أهل لارتكاب الجريمة بركنيها المادي والمعنوي، شأنهم في ذلك شأن غيرهم من بني الإنسان. ولا يقدح في صحة هذا النظر أن يكون لدى بعض من تقدم ذكرهم قصور في التمييز أو في حرية الاختيار، فهذا القصور أو العدالة توجب تمييز كل من الفئتين بمعاملة خاصة وتجنبهم كل أو بعض الآثار الجنائية التي يرتبها القانون على الجريمة كرفع الدعوى الجنائية أو توقيع العقوبة المقررة، فهذا الأمر يمكن تحقيقه بغير حاجة إلى تشويه الأفكار القانونية، والزعم بأن أفعال هؤلاء الأشخاص لا تعد جرائم وأنهم يصلحون جناة. ونكتفي في هذا المقام بهذا القدر، وسوف نعود إلى الموضوع في الفصل التالي لنبين حقيقة المركز القانوني لأفراد كل من الفئتين المذكورتين.\\n'],\n",
              " ['والخلاصة أن الجريمة -كحقيقة قانونية- يمكن أن تقع من أي إنسان، سواء جازت محاكمته أو امتنعت، وسواء صحت مسائلته أو تعذرت، وسواء تعين عقابه أو وجب إعفاؤه؛ لأن هذه الأمور جميع لا شأن لها بقيام الجريمة، إذ هي ليست من عناصرها، بل هي آثار تترتب عليها, وهذه الآثار تثبت وتنتفي بناء على شروط معينة لا تنحصر في الجريمة وحدها، بل لا بد من توفر شروط أخرى تضاف إليها. فالجريمة إن كانت لازمة لثبوتها إلا أنها غير كافية وحدها.\\n'],\n",
              " ['الشخص المعنوي لا يصلح أن يكون مجرم:\\n'],\n",
              " ['تأبى الجريمة بطبيعتها أن يكون مرتكبها شخص معنوي، بل إن وقوعها من هذا الشخص محال. ولا يختلف الأمر سواء أخذنا بمذهب المجاز فأنكرنا أن يكون للشخص المعنوي إرادة ذاتية مستقلة عن إرادة الأشخاص الطبيعيين الذين يؤلفونه، أو أخذنا بمذهب الحقيقة فاعترفنا له بهذه الإرادة. ذلك أن الجريمة ليست مجرد إرادة آثمة، ولكنها فضل عن ذلك سلوك مادي. وهذا السلوك لا يتحقق إلا من خلال عضو في جسد قادر على الحركة إيجاب وسلب، أي على الفعل والامتناع، وهو ما يفتقر إليه الشخص المعنوي. وإذا كان في الفقه الجنائي خلاف حول الشخص المعنوي فهذا الخلاف لا ينصب أساس على مدى صلاحية هذا الشخص لارتكاب الجريمة بنفسه، بل على مدى جواز مساءلته عن جريمة وقعت من غيره، والأمران مختلفان.\\n'],\n",
              " ['تقسيمات المجرمين:\\n'],\n",
              " ['ينقسم المجرمون أقسام عدة تختلف فيما بينها تبع لاختلاف ضابط التقسيم. ولا ينبغي الخلط بين تقسيم المجرمين في قانون العقوبات وتقسيمهم في العلوم الجنائية الأخرى كعلم الإجرام وعلم العقاب. فعلم الإجرام يعنى أساس بتقسيم المجرمين بحسب العوامل أو الأسباب المؤدية لإجرامهم، وعلم العقاب يعتمد في تقسيمهم على أساس المعاملة الواجب اتباعها حيالهم بعد الحكم عليهم. أما قانون العقوبات فيقسمهم على أساس العوامل التي تؤثر في مسؤوليتهم وفي عقابهم. ومن هذه التقسيمات تقسيم المجرمين إلى مسؤولين وغير مسؤولين، وإلى أحداث وغير أحداث، إلى مبتدئين وعائدين، وإلى فاعلين وشركاء. ولكل قسم من هذه الأقسام أحكام تميزه عما يقابله، وقد عرضنا لبعض هذه الأقسام من قبل، أما الأقسام الأخرى فسوف نعرض لكل منها في الموضع الذي يناسبه.\\n'],\n",
              " ['القسم الثاني في بيان تقلبات أحواله وفتوحاته في تواريخها. \\n'],\n",
              " ['ذكر حركته إلى مصر:\\n'],\n",
              " ['في الدفعة الأولى صحبه عمه أسد الدين، سبب ذلك أن شاور وزير المصريين كان قد خرج عليه إنسان يقال له الضرغام، وكان يروم منصبه ومكانه، فجمع له جموع كثيرة لم يكن له بها قبل، وغلب عليه وأخرجه من القاهرة وقتل ولده واستولى على المكان وولي الوزارة\\u200f.\\u200f \\n'],\n",
              " ['وكانت عادة المصريين أنه إذا غلب شخص صاحب المنصب وعجز عن دفعه وعرفوا عجزه وقعوا للقاهر منهم ورتبوه ومكنوه، فإن قوتهم إنما كانت بعسكر وزيرهم، وهو ملقب عندهم بالسلطان، وما كانوا يرون المكاشفة وقواعدهم مستقرة من أول زمانهم على هذا المثال، فلما قهر شاور وأخرج من القاهرة اشتد في طلب الشام قاصد خدمة نور الدين بن زنكي مستصرخ به مستنصر على أعدائه بعسكره، فتقدم نور الدين إلى أسد الدين شيركوه بالخروج إلى مصر المحروسة قضاء لحق الوافد المستصرخ وحفظ للبلاد وتطلع إلى أحوالها وذلك في شهور سنة ثمان وخمسين وخمسمئة، فتأهب أسد الدين شيركوه وسار إلى مصر فاستصحبه معه - رحمه الله - عن كراهية منه لمكان افتقاره إليه وجعله مقدم عسكره وصاحب رأيه، وساروا حتى وصلوا إلى مصر وشاور معهم في الثاني من جمادى الآخرة سنة ثمان المذكورة\\u200f.\\u200f \\n'],\n",
              " ['وكان لوصولهم إلى مصر وقع عظيم، وخافه أهل مصر، ونصر شاور على خصمه وأعاده إلى منصبه ومرتبته وقرر قواعده واستقر أمره، وشاهد البلاد وعرف أحوالها وعاد منها وقد غرس في قلبه الطمع في البلاد، وعرف أنها بلاد بغير رجال تمشي الأمور فيها بمجرد الإيهام والمحال. وكان ابتداء رحلته عنها متوجه إلى الشام في السابع من ذي الحجة سنة ثمان المذكورة\\u200f.\\u200f \\n'],\n",
              " ['وكان لا يفصل أمر ولا يقرر رحال إلا بمشورته ورأيه لما لاح له من آثار الإقبال والسعادة والفكرة الصحيحة واقتران النصر بحركاته وسكناته، فأقام بالشام مدبر لأمره مفكر في كيفية رجوعه إلى البلاد المصرية محدث بذلك نفسه مقرر قواعد ذلك مع الملك العادل نور الدين زنكي إلى سنة اثنتين وستين وخمسمئة\\u200f.\\u200f \\n'],\n",
              " ['ذكر عودته إلى مصر في الوقعة الثانية وهي معروفة بوقعة البابين، ولم يزل أسد الدين يتحدث بذلك بين الناس حتى بلغ شاور فداخله الخوف على البلاد من الأتراك وعلم أن أسد الدين قد طمع في البلاد، وأنه لا بد له من قصدها، فكاتب الإفرنج، وقرر معهم أنهم يجيئون البلاد ويمكنهم تمكين كلي ويعينونه على استئصال أعدائه بحيث يستقر قلبه فيها. وبلغ ذلك أسد الدين والملك العادل نور الدين، فاشتد خوفهم على مصر إن ملكها الكفار واستولوا على البلاد كلها، فتجهز أسد الدين وأنفذ نور الدين معه العساكر، وألزم السلطان - رحمه الله - المسير معه على كراهية منه لذلك\\u200f.\\u200f \\n'],\n",
              " ['وكان توجههم في اثني عشر ربيع الأول سنة اثنتين وستين وخمسمئة، وكان وصولهم إلى البلاد المصرية مقارن لوصول الإفرنج إليها. واتفق شاور مع الإفرنج على أسد الدين والمصريين بأسرهم، وجرت بينهم حروب كثيرة ووقعات شديدة، وانفصل الإفرنج عن الديار المصرية، وانفصل أسد الدين. وكان سبب عود الإفرنج أن نور الدين جرد العساكر إلى بلاد الإفرنج وأخذ المنيظرة، وعلم الإفرنج بذلك فخافوا على بلادهم وعادوا\\u200f.\\u200f \\n'],\n",
              " ['وكان سبب عود أسد الدين ضعف عسكره بسبب مواقعة الإفرنج والمصريين وما عانوه من الشدائد وعاينوه من الأهوال\\u200f.\\u200f \\n'],\n",
              " ['وما عاد حتى صالح الإفرنج على أن ينصرفوا كلهم من مصر، وعاد إلى الشام في بقية السنة، وقد انضم إلى قوة الطمع في البلاد شدة الخوف عليها من الإفرنج لعلمه أنهم قد كشفوها كما كشفها، وعرفوها من الوجه الذي عرفها، فأقام على مضض وقلبه مقلقل، والقضاء يجره إلى شيء قد قدر لغيره وهو لا يشعر بذلك، وهي التي ملكوها فيها، وجرى ما جرى في شهور سنة أربع وستين وخمسمئة، ملك نور الدين قلعة المنيظرة بعد سير أسد الدين في رجب وخرب قلعة أكاف بالبرية\\u200f.\\u200f \\n'],\n",
              " ['وفي رمضان منها اجتمع نور الدين وأخواه قطب الدين وزين الدين بحماة للغزاة وساروا إلى بلاد الإفرنج فخربوا هونين في شوال منها، وفي ذي القعدة كان عود أسد الدين من مصر\\u200f.\\u200f \\n'],\n",
              " ['وكان سبب ذلك أن الإفرنج - خذلهم الله - جمعوا راجله وفارسهم وخرجوا يريدون الديار المصرية ناكثين لجميع ما استقر مع المصريين وأسد الدين من الصلح والقواعد طمع في البلاد، فلما بلغ ذلك نور الدين وأسد الدين لم يسعهما الصبر دون أن يسارعا إلى قصد البلاد، أما نور الدين فبالمال والرجال ولم يسر بنفسه خوف على البلاد من الإفرنج، ولأنه قد حدث نظره إلى جانب الموصل بسبب وفاة زين الدين ابن يكتكين فإنه توفي في ذي الحجة سنة ثلاث وستين وخمسمئة، وتسلم ما كان في يده من الحصون إلى قطب الدين ما عدا إربل فإنها كلها كانت له من أتابك زنكي -  رحمه الله - فحدث لنور الدين إلى ذلك الجانب الطمع بهذا السبب، فسير العسكر\\u200f.\\u200f \\n'],\n",
              " ['وأما أسد الدين فبسيفه وملكه وأهله ورجاله، ولقد قال لي السلطان - قدس الله روحه -: كنت أكره الناس للخروج في هذه الواقعة وما خرجت مع عمي باختياري، وهذا معنى قوله تعالى: وعسى أن تكرهوا شيئ وهو خير لكم\\u200f.\\u200f \\n'],\n",
              " ['وكان شاور لما أحس بخروج الإفرنج إلى مصر على تلك القاعدة أنفذ إلى أسد الدين يستصرخه ويستنجده فخرج مسرع\\u200f.\\u200f \\n'],\n",
              " ['وكان وصولهم إلى مصر في أثناء ربيع الأول سنة أربع وستين وخمسمئة. ولما علم الإفرنج وصول أسد الدين إلى مصر عن اتفاق بينه وبين أهلها رحلوا راجعين وعلى أعقابهم ناكصين\\u200f.\\u200f \\n'],\n",
              " ['وأقام أسد الدين بها يتردد إليه شاور في الأحيان\\u200f.\\u200f \\n'],\n",
              " ['وكان وعدهم بمال مقابلة ما خسروه من النفقة، فلم يوصل إليهم شيئ، وعلقت مخاليب أسد الدين في البلاد وعلم أن الإفرنج متى وجدوا فرصة أخذوا البلاد وترددهم إليها في كل وقت لا يفيد وأن شاور يلعب بهم تارة وبالإفرنج تارة أخرى، وعلموا أنه لا سبيل إلى الاستيلاء على البلاد مع بقاء شاور، فأجمعوا أمرهم على قبضه إن خرج إليهم، وكانوا هم يترددون إلى خدمته دون أسد الدين وهو يخرج في بعض الأحيان إلى أسد الدين يجتمع به\\u200f.\\u200f \\n'],\n",
              " ['وكان يركب على قاعدة وزرائهم بالطبل والبوق والعلم، فلم يتجاسر على قبضه من الجماعة إلا السلطان بنفسه\\u200f.\\u200f \\n'],\n",
              " ['وذلك أنه لما سار إليهم تلقاه راكب، وسار إلى جانبه أخذ بتلابيبه وأمر العسكر أن ئخذوا على أصحابه ففروا ونهبهم العسكر وقبض على شاور وأنزل إلى خيمة مفردة، وفي الحال جاءه التوقيع من المصريين على يد خادم خاص لا بد من رأسه جري على عادتهم في وزرائهم في تقرير قاعدة فيمن قوي منهم على صاحبه، فحزت رقبته وأنفذ رأسه إليهم وأنفذ إلى أسد الدين خلعة الوزارة، فلبسها وسار ودخل القصر ورتب وزير، وذلك في سابع عشر ربيع الآخر سنة أربع وستين وخمسمئة، ودام آمر ناهي، والسلطان - رحمه الله - مباشر الأمور مقرر لها، وزمام الأمر والنهي مفوض إليه لمكان كفايته ودرايته وحسن رأيه وسياسته إلى الثاني والعشرين من جمادى الآخرة من السنة المذكورة\\u200f.\\u200f \\n'],\n",
              " ['المسألة الأولى، وهي لغوية: \\n'],\n",
              " ['قلت -أعزك الله-\\u200f:\\u200f ما الفرق بين العجلة والسرعة، وهل يجب أن يكون بين كل لفظتين - إذا تواقعتا على معنى وتعاورتا غرض – فرق؛ لأنك تقول\\u200f:\\u200f سر فلان، وفرح وأشر فلان ومرح، وبعد فلان ونزح، وهزل فلان ومزح، وحجب فلان وصد، ومنع فلان ورد، وأعطى فلان وناول، ورام فلان وحاول، وعالج فلان وزاول، وذهب فلان ومضى، وحكم فلان وقضى، وجاء فلان وأتى، واقترب فلان ودنا، وتكلم فلان ونطق، وأصاب فلان وصدق، وجلس فلان وقعد، ونأى فلان وبعد، وحضر فلان وشهد، ورغب عن كذا وزهد\\u200f.\\u200f \\n'],\n",
              " ['وهل يشتمل السرور والحبور والبهجة والغبطة والفكه والجذل والفرح والارتياح والبجح على معنى واحد أو على معان مختلفة. وخذ على هذا، فإن بابه طويل، وحبله مثنى، وشكله كثير\\u200f.\\u200f \\n'],\n",
              " ['فإن كان بين كل نظيرين من ذلك يفصل معنى من معنى، ويفر مراد من مراد، ويبين غرض من غرض، فلم لا يشترك في معرفته كما اشترك في معرفة أصله\\u200f.\\u200f \\n'],\n",
              " ['وما الذي أوضح الفرق بين نطق وسكت، وألبس الفرق بين نطق وتكلم، وبين سكت يكون بد من أن يفزع إلى حركات بأصوات دالة على هذه المعاني بالاصطلاح ليستدعيها بعض الناس من بعض، وليعاون بعضهم بعض، فيتم لهم البقاء الإنساني، وتكمل فيهم الحياة البشرية\\u200f.\\u200f \\n'],\n",
              " ['وكان الباري - جل وعز - بلطيف حكمته وسابق علمه وقدرته قد أعد للإنسان آلة، هي أكثر الأعضاء حركة وأوسعها قدرة على التصرف، ووضعها في طريق الصوت وضع موافق لتقطيع ما لا يخرج منه مع النفس ملائم لسائر الأخر المعينة في تمام الكلام. كانت هذه الآلة أجدر الأعضاء باستعمال أنواع الحركات المظهرة لأجناس الأصوات الدالة على المعاني التي ذكرناها، وقد بلغت عدة هذه الأصوات المفردة المقطعة بهذه الحركات المسماة حروف - ثمانية وعشرين حرف في اللغة العربية\\u200f.\\u200f \\n'],\n",
              " ['ثم ركبت كلها ثنائي وثلاثي ورباعي، وجميعها متناهية محصاة؛ لأن أصولها وبسائطها محصورة معدودة، فالمركبات منها أيض محصورة معدودة\\u200f.\\u200f \\n'],\n",
              " ['ولما كانت قسمة العقل توجب في هذه الكلم إذا نظر إليها بحسب دلالتها على المعاني أن تكون على أحوال خمس لا أقل منها ولا أكثر، وجدت منقسمة إليها لا غير، وهي\\u200f أن يتفق اللفظ والمعنى مع أو يختلفا مع أو تتفق الألفاظ وتختلف المعاني أو تختلف الألفاظ وتتفق المعاني أو تتركب اللفظة فيتفق بعض حروفها وبعض المعنى وتختلف في الباقي\\u200f.\\u200f \\n'],\n",
              " ['وهذه الألفاظ الخمسة هي التي عدها الحكيم في أول كتبه المنطقية، وتكلم عليها المفسرون وسموها المتفقة والمتباينة والمتواطئة والمترادفة والمشتقة، وهي مشروحة هناك، ولكن السبب الذي من أجله احتيج إلى وضع الكلام يقتضي قسم واحد منها، وهو أن تختلف الألفاظ بحسب اختلاف المعاني، وهي المسماة المتباينة، فأما الأقسام الباقية فإن ضرورات دعت إليها وحاجات بعثت عليها ولم تقع بالقصد الأول، وسنشرح ذلك بعون الله وتوفيقه\\u200f.\\u200f \\n'],\n",
              " ['وقد تقدم البيان أن المعاني والأحوال التي تتصور للنفس كثيرة جد، وأنها بلا نهاية\\u200f.\\u200f \\n'],\n",
              " ['فأما الحروف الموضوعة الدالة بالتواطؤ والمركبات منها فمتناهية محصورة محصاة بالعدد\\u200f.\\u200f \\n'],\n",
              " ['ومن الأحكام البينة والقضايا الواضحة ببدائه العقول أن الكثير إذا قسم على القليل اشتركت عدة منها في واحدة لا محالة، فمن هاهنا حدث الاتفاق في الاسم وهو أن توجد لفظة واحدة دالة على معان كثيرة كلفظة العين الدالة على العين التي يبصر بها، وعلى عين الماء وعين الركية وعين الميزان والمطر الذي لا يقلع أيام، وأشباهه من الأسماء كثيرة جد، ولم يقع هذا الفعل المؤدي إلى الإلباس والإشكال وإلى الغلط والخطإ في الأعمال والاعتقادات باختيار بل باضطرار طبيعي كما بينا وأوضحنا\\u200f.\\u200f \\n'],\n",
              " ['وعرض بعد ذلك أن أصحاب صناعة البلاغة وصناعة الشعر والسجع وأصحاب البلاغة والخطابة هم الذين يحتاجون إلى الإقناعات العامية في مواقف الإصلاح بين العشائر مرة والحض على الحروب مرة والكف عنها مرة، وفي المقامات الأخر التي يحتاج فيها إلى الإطالة والإسهاب وترديد المعنى الواحد على مسامع الحاضرين ليتمكن من النفوس وينطبع في الأفهام - لم يستحسنوا إعادة اللفظة الواحدة مرار كثيرةأ ولا سيما الشاعر، فإنه مع ذلك دائم الحاجة إلى لفظ يضعه مكان لفظ دال على معناه بعينه ليصحح به وزن شعره ويعدل به أقسام كلامه\\u200f.\\u200f \\n'],\n",
              " ['فاحتيج لأجل ذلك إلى أسماء كثيرة دالة على معنى واحد\\u200f.\\u200f \\n'],\n",
              " ['وهذا العارض الذي عرض للألفاظ المترادفة كأنه مناصب للقصد الأول في وضع الكلام مخالف له، وقد دعت الحاجة إليه كما تراه، ولولا حاجة الخطباء والشعراء وأصحاب السجع والموازنة إليه لكان لغو باطل\\u200f.\\u200f \\n'],\n",
              " ['ولما كانت المسألة متعلقة بهذين القسمين من الكلام اقتصرنا على شرحهما وعولنا - بمن نشط للوقوف على الأقسام الأخر - على الكتب المصنفة فيها لأهل المنطق؛ لأنها مستقصاة هناك\\u200f.\\u200f \\n'],\n",
              " ['وإذ قد فرغنا من التوطئة التي رمناها أمام المسألة، فإنا نأخذ في الجواب عنها، فنقول\\u200f:\\u200f إن من الألفاظ ما توجد متباينة، وهي التي تختلف باختلاف المعنى، وإليها كان القصد الأول بوضع اللغة\\u200f.\\u200f \\n'],\n",
              " ['ومنها ما توجد مترادفة، وهي التي تختلف ألفاظها، ومعانيها واحدة\\u200f.\\u200f \\n'],\n",
              " ['وهذان القسمان حدثا بالضرورة كما بينا\\u200f.\\u200f \\n'],\n",
              " ['وربما وجدت ألفاظ مختلفة دالة على معان متقاربة، وإن كانت أشخاص تلك المعاني مختلفة، وربما دلت على أحوال مختلفة، ولكنها مع اختلافها هي لشخص واحد، فلأجل ذلك يستعملها الخطيب والشاعر مكان المترادفة لموضع المناسبة والشركة القريبة بينها، وإن كانت متباينة بالحقيقة. ومثال ذلك ما يوجد من أسماء الداهية فإنها على كثرتها نعوت مختلفة ولكنها لما كانت لشيء واحد استعملت كأنها معنى واحد\\u200f. وكذلك أسماء الخمر والسيف وأشباهها\\u200f.\\u200f \\n'],\n",
              " ['وأنت إذا أنعمت النظر واستقصيت الروية وجدت هذه الأشياء مختلفة المعاني، ولكنها لما كانت أوصاف لموصوف واحد أجريت مجرى الأسماء الدالة على معنى واحد، وذلك عند اتساع الناس في الكلام وعند حاجتهم إلى التسمح وترك التكلف والتجوز في كثير من الحقائق\\u200f.\\u200f \\n'],\n",
              " ['ولولا علمي بثقافة فطنتك وإحاطة معرفتك وسرعة تطلعك بفهمك على ما أومأت إليه لتكلفت لك الفرق بين معاني ألفاظ الخمر والشراب والشمول والراح والقهوة وسائر أسمائها وبين معاني ألفاظ السيف والصمصام والحسام وباقي ألقابه ونعوته، وكذلك في أسماء الدواهي فينبغي لنا إذا وجدنا ألفاظ مختلفة ومعانيها متفقة أو متقاربة أن ننظر فيها، فإن نبهنا على موضع خلاف في المعاني حملنا تلك الألفاظ على مقتضى اللغة وموجب الحكمة في وضع الكلام، فنجعلها من الألفاظ المتباينة التي اختلفت باختلاف المعاني\\u200f.\\u200f \\n'],\n",
              " ['وهي السبيل الواضحة والطريقة الصحيحة التي يسقط معها سؤال السائل وشك المتشكك\\u200f.\\u200f \\n'],\n",
              " ['فإن لم يقع لنا موضع الخلاف في المعاني ولم يدلنا عليه النظر حملناه على الأصل الآخر، وصرفناه إلى القسم الذي بيناه وشرحناه من الضرورة الداعية في الشعر والخطابة إلى استعمال الألفاظ الكثيرة الدالة على معنى وحد\\u200f.\\u200f \\n'],\n",
              " ['فلما وجدت المسائل التي صدرت في هذه الرسالة قد مثل فيها بألفاظ بعينها - تكلفت الكلام فيها؛ ليستعان بها على نظائرها، فإنها عند التصفح كثيرة واسعة جد، والله الموفق\\u200f.\\u200f \\n'],\n",
              " ['أما الفرق بين العجلة والسرعة، فإن العجلة على الأكثر تستعمل في الحركات الجسمانية التي تتوالى. وأكثر ما تجيء في موضع الذم.\\n'],\n",
              " ['قال كليلة: زعموا أن قرد رأى نجار يشق خشبة وهو راكب عليها، وكلما شق منها ذراع أدخل فيها وتد، فوقف ينظر إليه وقد أعجبه ذلك. ثم إن النجار ذهب لبعض شأنه فقام القرد وتكلف ما ليس من شأنه فركب الخشبة وجعل وجهه قبل الوتد وظهره قبل طرف الخشبة فتدلى ذنبه في الشق ونزع الوتد فلزم الشق عليه فكاد يغشى عليه من الألم. ثم إن النجار وافاه فأصابه على تلك الحالة فأقبل عليه يضربه. فكان ما لقي من النجار من الضرب أشد مما أصابه من الخشبة. \\n'],\n",
              " ['قال دمنة: قد سمعت ما ذكرت. وليس كل من يدنو من الملوك يقدر على صحبتهم ويفوز بقربهم. ولكن اعلم أن كل من يدنو منهم ليس يدنو منهم لبطنه، فإن البطن يحشى بكل شيء، وإنما يدنو منهم ليسر الصديق ويكبت العدو. وإن من الناس من لا مروءة له وهم الذين يفرحون بالقليل ويرضون بالدون كالكلب الذي يصيب عظم يابس فيفرح به. وأما أهل الفضل والمروءة فلا يقنعهم القليل ولا يرضون به دون أن تسمو بهم نفوسهم إلى ما هم أهل له وهو أيض لهم أهل. كالأسد الذي يفترس الأرنب فإذا رأى البعير تركها وطلب البعير. ألا ترى أن الكلب يبصبص بذنبه حتى ترمي له الكسرة من الخبز فيفرح بها وتقنعه منك، وأن الفيل المعترف بفضله وقوته إذا قدم إليه علفه لا يعتلفه حتى يمسح وجهه ويتملق له. فمن عاش ذا مال وكان ذا فضل وإفضال على نفسه وأهله وإخوانه غير خامل المنزلة فهو وإن قل عمره طويل العمر. ومن كان في عيشه ضيق وقلة وإمساك على نفسه وذويه وكان خامل المنزلة فالمقبور أحيا منه. ومن عمل لبطنه وشهواته وقنع وترك ما سوى ذلك عد من البهائم.\\n'],\n",
              " ['ثم إن دمنة انطلق حتى دخل على الأسد فعفر وجهه بين يديه وسلم عليه. فقال الأسد لبعض جلسائه: من هذا? فقال: هذا دمنة بن سليط. قال: قد كنت أعرف أباه. ثم سأله: أين تكون? قال: لم أزل بباب الملك مرابط داعي له بالنصر ودوام البقاء، رجاء أن يحضر أمر فأعين الملك فيه بنفسي ورأيي، فإن أبواب الملوك تكثر فيها الأمور التي ربما يحتاج فيها إلى الذي لا يؤبه له. وليس أحد يصغر أمره إلا وقد يكون بعض الغناء والمنافع على قدره، حتى العود الملقى في الأرض ربما نفع فيأخذه الرجل فيحك به أذنه فيكون عدته عند الحاجة إليه. \\n'],\n",
              " ['فلما سمع الأسد قول دمنة أعجبه وطمع أن يكون عنده نصيحة ورأي، فأقبل على من حضر فقال: إن الرجل ذا النبل والمروءة يكون خامل الذكر منخفض المنزلة فتأبى منزلته إلا أن تشب وترتفع كالشعلة من النار يضربها. \\n'],\n",
              " ['ثم إن دمنة استأنس بالأسد وخلا به فقال له يوم: رأيت الملك قد أقام في مكان واحد لا يبرح منه خلاف لمألوفه وهو، أعظمه الله، منيع الجانب نافذ الأمر آمن الساحة. فرأيت أن أتطاول عليه بالاستفهام على وجه النصيحة، فإن الأمور الخفية لا يظهرها إلا البحث عنها، فإذا أظهرت أجيلت الفكرة فيها. \\n'],\n",
              " ['فبينما هما في هذا الحديث إذ خار شتربة خوار شديد فهيج الأسد وكره أن يخبر دمنة بما ناله. وعلم دمنة أن ذلك الصوت قد أدخل على الأسد ريبة وهيبة، فسأله: هل راب الملك سماع هذا الصوت? قال: لم يربني شيء سوى ذلك وهو الذي حبسني هذه المدة في مكاني. وقد صح عندي من طريق القياس أن جثة صاحب هذا الصوت المنكر الذي لم أسمعه قط عظيمة؛ لأن صوته تابع لبدنه. فإن يكن كذلك فليس لنا معه قرار ولا مقام. قال دمنة: ليس الملك بحقيق أن يدع مكانه لأجل صوت. فقد قالت العلماء: ليس من كل الأصوات تجب الهيبة. قال الأسد: وما مثل ذلك؟ قال دمنة: زعموا أن ثعلب أتى أجمة فيها طبل معلق على شجرة وكلما هبت الريح على قضبان تلك الشجرة حركتها فضربت الطبل فسمع له صوت عظيم باهر. فتوجه الثعلب نحوه لأجل ما سمع من عظيم صوته. فلما أتاه وجده ضخم فأيقن في نفسه بكثرة الشحم واللحم. فعالجه حتى شقه، فلما رآه أجوف لا شيء فيه قال: لا أدري لعل أفسل الأشياء أجهرها صوت وأعظمها جثة.\\n'],\n",
              " ['وإنما ضربت لك هذا المثل لتعلم أن هذا الصوت الذي راعنا لو وصلنا إليه لوجدناه أيسر مما في أنفسنا. فإن شاء الملك بعثني وأقام بمكانه حتى آتيه ببيان هذا الصوت. فوافق الأسد قوله فأذن له في الذهاب نحو الصوت.\\n'],\n",
              " ['فانطلق دمنة إلى المكان الذي فيه شتربة. فلما فصل دمنة من عند الأسد فكر الأسد في أمره وندم على إرسال دمنة حيث أرسله، وقال في نفسه: ما أصبت في ائتماني دمنة وإطلاعه على سري وقد كان ببابي مطروح، فإن الرجل الذي يحضر باب الملك إذا كان قد أطيلت جفوته من غير جرم كان منه أو كان مبغي عليه عند سلطانه، أو كان عنده معروف بالشره والحرص، أو كان قد أصابه ضر وضيق فلم ينعشه، أو كان قد اجترم جرم فهو يخاف العقوبة منه، أو كان يرجو شيئ يضر الملك وله منه نفع، أو يخاف في شيء مما ينفعه ضر، أو كان لعدو الملك سلم ولسلمه حرب، أو كان قد حيل بينه وبين ما في يديه من السلطان، أو باعده، أو طرده، فليس السلطان بحقيق أن يعجل في الاسترسال إلى هؤلاء والثقة بهم والائتمان لهم. \\n'],\n",
              " ['وإن دمنة داهية أريب، وقد كان ببابي مطروح مجفو، ولعله قد احتمل علي بذلك ضغن، ولعل ذلك يحمله على خيانتي وإعانة عدوي ونقيصتي عنده، ولعله أن يصادف صاحب الصوت أقوى سلطان مني فيرغب به عني ويميل معه علي. ولقد كان الواجب أن أهجم على صاحب هذا الصوت بنفسي. ولم يزل الأسد يحدث نفسه بأمثال ذلك، حتى جعل يمشي وينظر إلى الطريق التي سار فيها دمنة، فلم يمش غير قليل حتى بصر بدمنة مقبل نحوه فطابت نفسه بذلك ورجع إلى مكانه. \\n'],\n",
              " ['ودخل دمنة عليه فقال له الأسد: ماذا صنعت، وماذا رأيت? قال: رأيت ثور وهو صاحب الخوار والصوت الذي سمعته. قال: فما قوته? قال: لا شوكة له وقد دنوت منه وحاورته محاورة الأكفاء فلم يستطع لي شيئ. \\n'],\n",
              " ['قال الأسد: لا يغرنك ذلك منه ولا يصغرن عندك أمره، فإن الريح الشديدة لا تعبأ بضعيف الحشيش لكنها تحطم طوال النخل وعظيم الشجر وتقلع الدوحة العاتية من موضعها. قال دمنة: لا تهابن أيها الملك منه شيئ ولا يكبرن عليك أمره فأنا على ضعفي آتيك به فيكون لك عبد سامع مطيع. قال الأسد: دونك ما بدا لك. وقد تعلق أمله به. \\n'],\n",
              " ['فانطلق دمنة إلى الثور فقال له غير هائب ولا مكترث: إن الأسد أرسلني إليك لآتيه بك وأمرني إن أنت عجلت إليه أن أؤمنك على ما سلف من ذنبك في التأخر عنه وتركك لقاءه. وإن أنت تأخرت وأحجمت أن أعجل الرجعة إليه فأخبره. قال له شتربة: ومن هذا الأسد الذي أرسلك إلي، وأين هو، وما حاله? \\n'],\n",
              " ['قال دمنة: هو ملك السباع، وهذه الأرض التي نحن عليها له، وهو بمكان كذا ومعه جند كثير من جنسه.\\n'],\n",
              " ['فرعب شتربة من ذكر الأسد والسباع، وقال: إن أنت جعلت لي الأمان على نفسي أقبلت معك إليه. فأعطاه دمنة من الأمان ما وثق به ثم أقبل والثور معه حتى دخلا على الأسد. فأحسن الأسد إلى الثور وقربه، وقال له: متى قدمت هذه البلاد، وما أقدمكها? فقص شتربة عليه قصته. فقال له الأسد: اصحبني والزمني فإني مكرمك ومحسن إليك.\\n'],\n",
              " ['في الحاجة الداعية إلى إحداث المدن والقرى.\\n'],\n",
              " ['اعلم أن الله تعالى خلق الإنسان على وجه لا يمكنه أن يعيش وحده كسائر الحيوانات، بل يضطر إلى الاجتماع بغيره حتى يحصل الهيئة الاجتماعية التي يتوقف عليها المطعم والملبس، فإنهما موقوفان على مقدمات كثيرة لا يمكن لكل واحد القيام بجميعها وحده\\u200f.\\u200f \\n'],\n",
              " ['فإن الشخص الواحد كيف يتولى الحراثة فإنها موقوفة على آلاتها، وآلاتها تحتاج إلى النجار، والنجار يحتاج إلى الحداد، وكيف يقوم بأمر الملبوس وهو موقوف على الحراثة والحلج والندف والغزل والنسج وتهيئة آلاتها، فاقتضت الحكمة الإلهية الهيئة الاجتماعية، وألهم كل واحد منهم القيام بأمر من تلك المقدمات حتى ينتفع بعضهم ببعض. فترى الخباز يخبز الخبز، والعجان يعجنه، والطحان يطحنه، والحراث يحرثه، والنجار يصلح آلات الحراث، والحداد يصلح آلات النجار، وهكذا الصناعات بعضها موقوفة على البعض\\u200f.\\u200f \\n'],\n",
              " ['وعند حصول كلها تتم الهيئة الاجتماعية، ومتى فقد شيء من ذلك فقد اختلت الهيئة الاجتماعية، كالبدن إذا فقد بعض أعضائه فيتوقف نظام معيشة الإنسان\\u200f.\\u200f \\n'],\n",
              " ['ثم عند حصول الهيئة الاجتماعية لو اجتمعوا في صحراء لتأذوا بالحر والبرد والمطر والريح، ولو تستروا بالخيام والخرقات لم يأمنوا مكر اللصوص والعدو، ولو اقتصروا على الحيطان والأبواب كما ترى في القرى التي لا سور لها لم يأمنوا صولة ذي البأس، فألهمهم الله تعالى اتخاذ السور والخندق والفصيل، فحدثت المدن والأمصار والقرى والديار\\u200f.\\u200f \\n'],\n",
              " ['ثم إن الملوك الماضية لما أرادوا بناء المدن أخذوا آراء الحكماء في ذلك، فالحكماء اختاروا أفضل ناحية في البلاد وأفضل مكان في الناحية وأعلى منزل في المكان من السواحل والجبال ومهب الشمال؛ لأنها تفيد صحة أبدان أهلها وحسن أمزجتها، واحترزوا من الآجام والجزائر وأعماق الأرض فإنها تورث كرب وهرم\\u200f.\\u200f\\n'],\n",
              " ['واتخذوا للمدن سور حصين مانع، وللسور أبواب عدة حتى لا يتزاحم الناس بالدخول والخروج، بل يدخل ويخرج من أقرب باب إليه\\u200f.\\u200f \\n'],\n",
              " ['واتخذوا لها قهندز لمكان ملك المدينة والنادي لاجتماع الناس فيه، في البلاد الإسلامية المساجد والجوامع والأسواق والخانات والحمامات ومراكض الخيل ومعاطن الإبل ومرابض الغنم، وتركوا بقية مساكنها لدور السكان، فأكثر ما بناها الملوك العظماء على هذه الهيئة، فترى أهلها موصوفين بالأمزجة الصحيحة والصور الحسنة والأخلاق الطيبة وأصحاب الآراء الصالحة والعقول الوافرة. واعتبر ذلك بمن مسكنه لا يكون كذلك مثل الديالم والجيل والأكراد والتركمان وسكان البحر في تشويش طباعهم وركاكة عقولهم واختلاف صورهم\\u200f.\\n'],\n",
              " ['ثم اختصت كل مدينة لاختلاف تربتها وهوائها بخاصية عجيبة، وأوجد الحكماء فيها طلسمات غريبة، ونشأ بها صنف من المعادن والنبات والحيوان لم يوجد في غيرها، وأحدث بها أهلها عمارات عجيبة، ونشأ بها أناس فاقوا أمثالهم في العلوم والأخلاق والصناعات، فلنذكر ما وصل إلينا من خاصية بقعة بقعة، إن شاء الله تعالى\\u200f.\\u200f \\n'],\n",
              " ['المقدمة الثانية: في خواص البلاد.\\n'],\n",
              " ['الفصل الأول: في تأثير البلاد في سكانها.\\n'],\n",
              " ['قالت الحكماء\\u200f:\\u200f إن الأرض شرق وغرب وجنوب وشمال، فما تناهى في التشريق وتحج منه نور المطلع فهو مكروه لفرط حرارته وشدة إحراقه، فإن الحيوان يحترق بها، والنبات لا ينبت، وما تناهى في التغريب أيض مكروه لموازاته التشريق في المعنى الذي ذكرناه، وما تناهى في الشمال أيض مكروه لما فيه من البرد الشديد الذي لا يعيش الحيوان معه، وما تناهى في الجنوب أيض كذلك لفرط الحرارة، فإنها أرض محترقة لدوام مسامتة الشمس إياها\\u200f.\\u200f \\n'],\n",
              " ['فالذي يصلح للسكنى من الأرض قدر يسير هو أوساط الإقليم الثالث والرابع والخامس، وما سوى ذلك فأهلها معذبون، والعذاب عادة لهم، وقالوا أيض\\u200f: المساكن الحارة موسعة للمسام مرخية للقوى مضعفة للحرارة الغريزية محللة للروح فتكون أبدان سكانها متخلخلة ضعيفة وقلوبهم خائفة وقواهم ضعيفة لضعف هضمهم\\u200f.\\u200f \\n'],\n",
              " ['وأما المساكن الباردة فإنها مصلبة للبدن مسددة للمسام مقوية للحرارة الغريزية، فتكون أبدان سكانها صلبة، وفيهم الشجاعة وجودة القوى والهضم الجيد.\\u200f \\n'],\n",
              " ['فإن استيلاء البرد على ظاهر، وأما المساكن الرطبة فلا يسخن هواؤهم شديد، ولا يبرد شتاؤهم قوي. وسكانها موصوفون بالسحنة الجيدة ولين الجلود وسرعة قبول الكيفيات والاسترخاء في الرياضات وكلال القوى\\u200f.\\u200f \\n'],\n",
              " ['وأما المساكن اليابسة فتسدد المسام وتورث القشف والنحول، ويكون صيفها حار وشتاؤها بارد وأدمغة أهلها يابسة، لكن قواهم حادة\\u200f.\\u200f \\n'],\n",
              " ['وأما المساكن الحجرية فهواؤها في الصيف حار وفي الشتاء بارد، وأبدان أهلها صلبة، وعندهم سوء الخلق والتكبر والاستبداد في الأمور والشجاعة في الحروب\\u200f.\\n'],\n",
              " ['وأما المساكن الآجامية والبحرية فهي في حكم المساكن الرطبة وأنزل حال، وقد جرى ذكر المساكن الرطبة\\u200f.\\u200f\\n'],\n",
              " ['الفصل الثاني: في تأثير البلاد في المعادن والنبات والحيوان.\\n'],\n",
              " ['أما المعادن، فالذهب لا يتكون إلا في البراري الرملة والجبال الرخوة، والفضة والنحاس والرصاص والحديد لا يتكون إلا في الأحجار المختلطة بالتراب اللين، والكبريت لا يتكون إلا في الأراضي النارية، والزئبق لا يتكون إلا في الأراضي المائية، والأملاح لا تنعقد إلا في الأراضي السبخة، والشبوب والزاجات لا تتكون إلا في التراب العفص، والقار والنفط لا يتكون إلا في الأراضي الدهنة، أما تولد الأحجار التي لها خواص فلا يعلم معادنها وسببها إلا الله تعالى\\u200f.\\u200f \\n'],\n",
              " ['وأما النبات، فإن النخل والموز لا ينبتان إلا بالبلاد الحارة، وكذلك الأترج والنارنج والرمان والليمون. وأما الجوز واللوز والفستق فلا ينبت إلا بالبلاد الباردة، والقصب على شطوط الأنهار، وكذا الدلب والمغيلان بالأراضي الصلبة والبراري القفار ، والقرنفل لا ينبت إلا بجزيرة بأرض الهند، والنارجيل والفلفل والزنجبيل لا ينبت إلا بالهند، وكذلك الساج والآبنوس والورس لا ينبت إلا باليمن، والزعفران بأرض الجبال بروذراورد ، وقصب الذريرة بأرض نهاوند، والترنجبين يقع على شوك بخراسان\\u200f.\\u200f \\n'],\n",
              " ['وأما الحيوان، فإن الفيل لا يتولد إلا في جزائر البحار الجنوبية، وعمرها بأرض الهند أطول من عمرها بغير أرض الهند، وأنيابها لا تعظم مثل ما تعظم بأرضها. والزرافة لا تتولد إلا بأرض الحبشة. والجاموس لا يتولد إلا بالبلاد الحارة قرب المياه، ولا يعيش بالبلاد الباردة. وعير العانة ليس له سفاد في غير بلاده كما يكون ذلك في بلاده، ويحتاج أن يؤخذ من حافره، ولا كذلك في بلاده. والسنجاب والسمور وغزال المسك لا يتولد إلا في البلاد الشرقية الشمالية. والصقر والبازي والعقاب لا يتفرخ إلا على رؤوس الجبال الشامخة. والنعامة والقطا لا يفرخان إلا في الفلوات. والبطوط وطيور الماء لا تفرخ إلا في شطوط الأنهار والبطائح والآجام. والفواخت والعصافير لا تفرخ إلا في العمارات. والبلابل والقنابر لا تفرخ إلا في البساتين. والحجل لا يفرخ إلا في الجبال. هذا هو الغالب، فإن وقع شيء على خلاف ذلك فهو نادر\\u200f.\\u200f والله الموفق للصواب\\u200f.\\u200f\\n'],\n",
              " ['المقدمة الثالثة: في أقاليم الأرض:\\n'],\n",
              " ['قال أبو الريحان الخوارزمي\\u200f:\\u200f إذا فرضنا أن دائرة معدل النهار تقطع كرة الأرض بنصفين\\u200f:\\u200f يسمى أحد النصفين جنوب والآخر شمال\\u200f.\\u200f وإذا فرضنا دائرة تعبر عن قطبي معدل النهار وتقطع الأرض صارت كرة الأرض أربعة أرباع\\u200f:\\u200f ربعان جنوبيان، وربعان شماليان. فالربع الشمالي المكشوف يسمى ربع مسكون، والربع المسكون مشتمل على البحار والجزائر والأنهار والجبال والمفاوز والبلدان والقرى، على أن ما بقي منها تحت قطب الشمال قطعة غير مسكونة من إفراط البرد وتراكم الثلوج، وهذا الربع المسكون قسموه سبعة أقسام. \\n'],\n",
              " ['أول: الفكر التنويري:\\n'],\n",
              " ['عبد الرحمن الكواكبي: طبائع الاستبداد، الاستبداد والمجد:\\n'],\n",
              " ['من الحكم البالغة قولهم: الاستبداد أصل لكل فساد. ومبنى ذلك أن البحث المدقق في أحوال البشر وطبائع الاجتماع كشف أن للاستبداد أثر سيئ في كل واد. وقد سبق القول أن الاستبداد يضغط على العقل فيفسده ويلعب بالدين فيفسده ويحارب العلم فيفسده، وإني الآن أبحث في أنه كيف يغالب الاستبداد المجد فيفسده ويقيم مقامه التمجد.\\n'],\n",
              " ['المجد هو إحراز المرء مقام حب واحترام في القلوب، وهو مطلب طبيعي شريف لكل إنسان لا يترفع عنه نبي زاهد، ولا ينحط عنه دني أو خامل. للمجد لذة روحية تقارب لذة العبادة عند المتفانين في الله وتعادل لذة العلم عند الحكماء وتربو على لذة امتلاك الأرض مع قمرها عند الأمراء وتزيد على لذة مفاجأة الإثراء عند الفقراء، ولذا يزاحم المجد في النفوس منزلة الحياة.\\n'],\n",
              " ['ولذا طالما أشكل على الباحثين أي حرصين أقوى؟ حرص الحياة أم حرص المجد؟ والحقيقة التي عول عليها المتأخرون وميزوا بها تخليط ابن خلدون هي أن المجد مفضل على الحياة عند الأحرار. وحب الحياة ممتاز على المجد عند الأسراء. وعلى هذه القاعدة يكون أئمة آل البيت عليهم السلام معذورون في إلقائهم بأنفسهم في المهالك؛ لأنهم كانوا أحرار أبرار يميزون طبع الموت كرام على حياة ذل ورياء، مثل ابن خلدون الذي خطأ أمجاد البشر في إقدامهم على الخطإ ناسي تقريره أن سباع الطير والوحوش تأبى التناسل في أقفاص الأسر بل وجدت فيها طبيعة اختيار الانتحار تخلص من قيود الذل.\\n'],\n",
              " ['المجد لا ينال إلا بنوع من البذل في سبيل الجماعة، وبتعبير الشرقيين في سبيل الله أو الدين، وبتعبير الغربيين في سبيل الإنسانية أو سبيل الوطنية. والمولى تعالى المستحق التعظيم لذاته ما طالب عبيده بتمجيده إلا وقرن الطلب بذكر نعمائه عليهم.\\n'],\n",
              " ['وهذا البذل إما بذل مال للنفع العام ويسمى مجد الكرم وهو أضعف المجد، أو بذل العلم النافع المفيد للجمعية ويسمى مجد الفضيلة أو بذل النفس بالتعرض للمشاق والأخطار في سبيل نصرة الحق وحفظ النظام ويسمى مجد النبالة. وهذا أعلى المجد، وهو المراد عند الإطلاق. وهو المجد الذي تتوق إليه النفوس الكبيرة، وتحن إليه أعناق النبلاء. وكم له من عشاق لذت لهم في حبه الشهادة، وأكثرهم يكون من مواليد بيوت الشرف التالد الذي يتصل أوله بعهد الحرية والعدل، أو يكون من نجباء بيوت ما انقطعت فيها سلسلة المجاهدين انقطاع طويل. ومن أمثلة المجد قولهم: خلق الله للمجد رجال يستعذبون الموت في سبيله.\\n'],\n",
              " ['وهذا نيرون سأل آغريين الشاعر وهو تحت النطع: من أشقى الناس؟ فأجاب معرض به: من إذا ذكر الناس الاستبداد كان مثال له في الخيال. وكان ترابان العادل إذا قلد سيف لقائد يقول له: هذا سيف الأمة أرجو أن لا أتعدى القانون فلا يكون له نصيب في عنقي. وخرج قيس من مجلس الوليد مغضب يقول: أتريد أن تكون جبار؟ والله إن نعال الصعاليك لأطول من سيفك. وقيل لأحد النبلاء: لماذا لا تبني لك دار؟ فقال: ما أصنع فيها وأنا المقيم على ظهر الجواد أو في السجن أو في القبر. وهذه ذات النطاقين أسماء بنت أبي بكر الصديق رضي الله عنهما، وهي امرأة عجوز تودع ابنها الوحيد بقولها: إن كنت على الحق فاذهب وقاتل الحجاج حتى تموت.\\n'],\n",
              " ['والحاصل أن المجد هو المجد محبب للنفوس لا تفتأ تسعى وراءه وترقى مراقيه وهو ميسر في عهد العدل لكل إنسان على حسب استعداده وهمته، وينحصر تحصيله في زمن الاستبداد بمقاومة الظلم على حسب الإمكان.\\n'],\n",
              " ['ويقابل المجد من حيث مبناه التمجد، وما هو التمجد؟ وماذا يكون التمجد؟ التمجد لفظ هائل المعنى، ولهذا أراني أتعثر بالكلام وأتلعثم في الخطاب لا سيما من حيث إنني أخشى مساس بعض المطالعين إن لم يكن من جهة أنفسهم فمن جهة أجدادهم الأولين، فأناشدهم الوجدان والحق المهان أن يتجردوا دقيقتين من النفس وهواها. ثم هم مثلي ومثل سائر الجانين على الإنسانية لا يعدمون تأويل، وإنني أعلل النفس بقبولها تهويني هذا المنطق، وأقول:\\n'],\n",
              " ['التمجد خاص بالإدارات المستبدة وهو القربى من المستبد كالأعوان والعمال أو بالقوة كالملقبين بنحو دوق وبارون، والمخاطبين بنحو رب العزة ورب الصولة، أو الموسومين بالنياشين، أو المطوقين بالحمائل، وبتعريف آخر: التمجد هو أن ينال المرء جذوة نار من جهنم كبرياء المستبد ليحرق بها شرف الإنسانية.\\n'],\n",
              " ['وبتوصيف أجلى هو أن يتقلد سيف من قبل الجبار يبرهن به على أنه جلاد في دولة الاستبداد أو يعلق على صدره وسام شعري بما وراءه من الوجد أنه المستبيح للعدوان أو يتحلى بسيور مزركشة تنبئ بأنه صار أقرب إلى النساء منه إلى الرجال. وبعبارة أوضح وأخصر هو أن يصير الإنسان مستبد صغير في كنف المستبد الأعظم.\\n'],\n",
              " ['قلت إن المجد خاص بالإدارات الاستبدادية، وذلك أن الحكومة الحرة التي تمثل عواطف الأمة تأبى كل الإباء إخلاء التساوي بين الأفراد إلا لموجب حقيقي، فلا ترفع قدر أحد منها إلا أثناء قيامه في خدمتها، أي الخدمة العمومية، كما أنها لا تميزه بوسام أو تشرفه بلقب إلا إعلان لخدمة مهمة وفقه الله إليها، وبمثل هذا يرفع الله الناس بعضهم فوق بعض درجات.\\n'],\n",
              " ['المتمجدون يريدون أن يخدعوا العامة وما يخدعون إلا أنفسهم بأنهم أحرار في شؤونهم، لا يزاح لهم نقاب، ولا تصفع لهم رقاب، فيحوجهم إلى المظهر الكاذب لتحمل الإساءات والإهانات التي تقع عليهم من قبل المستبد بل للحرص على كتمانه، بل على العكس لإظهار عكسها، بل على مقاومة من يدعي خلافها، بل على تغليظ أفكار الناس في حق المستبد وإبعادهم من اعتقاد أن من شأنه الظلم.\\n'],\n",
              " ['وهكذا يكون المتمجدون أعداء للعدل، أنصار للجور، وهذا ما يقصده المستبد من إيجاد المتمجدين والإكثار منهم؛ ليتمكن بواسطتهم من أن يغرر الأمة على إضرار نفسها تحت اسم منفعتها، فيسوقها مثل لحرب اقتضاها محض الاستبداد فيوهمها أنه يريد نصرة الدين أو يسرف بالملايين من أموال الأمة في ملذاته وتأييد استبداده باسم حفظ شرف الأمة وأبهة ملكها، أو يستخدم الأمة في التنكيل بأعداء ظلمه باسم أنهم أعداء لها، أو يتصرف في حقوق الملك والأمة كما يشاء هواه باسم أن ذلك من مقتضى الحكمة والسياسة.\\n'],\n",
              " ['المستبد قد يستمجد بعض أفراد من ضعاف القلوب الذين هم كبقر  الجنة لا ينطحون ولا يرمحون، يتخذهم كنموذج البائع الغشاش على أنه لا ينتخب العمال والأعوان إلا من الأراذل والأسافل، ولهذا يقال: دولة الاستبداد دولة الأوغاد؛ والحكمة في ذلك أظهر من أن تحتاج إلى بيان طويل.\\n'],\n",
              " ['المستبد قد يستمجد أيض بالمناصب والمراتب بعض العقلاء الأمناء اغترار منه بأنهم خبثاء ينفعثونه بدهائهم، ثم لما يخيب نظره فيهم بعد التجربة يبادر بالتنكيل بهم أو يهجرهم، ولهذا لا ينال الحظوة عنده إلا الجاهل العاجز أو الخبيث الخائن، وهنا أنبه فكر المطالعين إلى أن هذه الفئة أي العقلاء الذين يذوقون عسيلة مجد الحكومة وينشطون لخدمة الأمة ونيل مجد النبالة ثم يضرب على يدهم لمجرد أنهم أمناء هي الفئة التي تتكهرب بعداوة الاستبداد.\\n'],\n",
              " ['الباب الأول في تعريف العلم وتقسيمه وتعليمه: وفيه فصول.\\n'],\n",
              " ['الفصل الأول في ماهية العلم.\\n'],\n",
              " ['الاختلاف في ماهية العلم المطلق:\\n'],\n",
              " ['اعلم أنه اختلف في أن تصور ماهية العلم المطلق، هل هو ضروري يتصور ماهيته بالكنه فلا يحد، أو نظري يعسر تعريفه، أو نظري غير عسير التعريف\\u200f\\u200f.\\u200f \\n'],\n",
              " ['والأول\\u200f:\\u200f مذهب جماعة منهم الإمام الرازي، واستدلوا بما ليس فيه شيء من الدلالة\\u200f.\\u200f ويكفي في دفع ما قالوه ما هو معلوم بالوجدان لكل عاقل أن العلم ينقسم إلى ضروري ومكتسب\\u200f.\\u200f \\n'],\n",
              " ['والثاني\\u200f:\\u200f رأى قوم منهم إمام الحرمين والغزالي، وقالوا\\u200f:\\u200f لا\\u200f طريق إلى معرفته إلا القسمة والمثال، وهو متعقب كما بينه شيخنا الشوكاني في \\u200f\\u200fإرشاد الفحول.\\u200f \\n'],\n",
              " ['والثالث\\u200f:\\u200f هو الراجح، وبه قال الجمهور\\u200f.\\u200f تعريفات ماهية العلم: \\n'],\n",
              " ['ثم ذكروا له تعريفات\\u200f.\\n'],\n",
              " ['الأول\\u200f:\\u200f لبعض المتكلمين من المعتزلة، أنه اعتقاد الشيء على ما هو به، وهو مدخول لدخول التقليد المطابق للواقع\\u200f.\\u200f فزيد فيه قيد عن ضرورة أو دليل، لكن لا يمنع الاعتقاد الراجح المطابق، وهو الظن الحاصل عن ضرورة أو دليل\\u200f.\\u200f وبعبارة أخرى: هو الذي يوجب لمن قام به اسم العالم ويخرج عنه العلم بالمستحيل، فإنه ليس بشيء اتفاق\\u200f.\\u200f \\n'],\n",
              " ['الثاني\\u200f:\\u200f معرفة المعلوم على ما هو به وهو مدخول أيض؛ لخروج علم الله تعالى؛ إذ لا يسمى معرفة، أي إجماع لا لغة ولا اصطلاح، ولذكر المعلوم وهو مشتق من العلم فيكون دور، ولأن معنى على ما هو به هو معنى المعرفة فيكون زائد. وهذا الثاني مختار القاضي أبي بكر الباقلاني\\u200f.\\u200f \\n'],\n",
              " ['الثالث\\u200f: \\u200fهو الذي يوجب كون من قام به عالم، وهو مدخول أيض؛ لذكر العالم في تعريف العلم وهو دور\\u200f.\\u200f \\n'],\n",
              " ['الرابع\\u200f:\\u200f هو إدراك المعلوم على ما هو به، وهو قول الشيخ أبي\\u200f الحسن الأشعري، وهو مدخول أيض لما فيه من الدور والحشو كما مر، ولأن الإدراك مجاز عن العلم\\u200f.\\u200f \\n'],\n",
              " ['الخامس\\u200f: \\u200fهو ما يصح لمن قام به إتقان الفعل، وهو قول ابن فورك\\u200f.\\u200f وفيه أنه يدخل القدرة ويخرج علمنا؛ إذ لا مدخل في صحة الإتقان، فإن أفعالنا ليست بإيجادنا، وإن في المعلومات ما لا يقدر العالم على إتقانه كالمستحيل\\u200f.\\u200f \\n'],\n",
              " ['السادس\\u200f:\\u200f تبيين المعلوم على ما هو به، وفيه الزيادة المذكورة والدور\\u200f.\\u200f مع أن التبيين مشعر بالظهور بعد الخفاء، فيخرج عنه علم الله سبحانه وتعالى\\u200f.\\u200f \\n'],\n",
              " ['السابع\\u200f:\\u200f إثبات المعلوم على ما هو به، وفيه الزيادة والدور، وأيض الإثبات قد يطلق على العلم تجوز، فيلزم تعريف الشيء بنفسه\\u200f.\\u200f \\n'],\n",
              " ['الثامن\\u200f:\\u200f الثقة بأن المعلوم على ما هو به، وفيه الزيادة والدور، مع أنه لزم كون الباري واثق بما هو عالم به، وذلك مما يمتنع إطلاقه عليه شرع\\u200f.\\u200f \\n'],\n",
              " ['التاسع\\u200f: \\u200fهو اعتقاد جازم مطابق لموجب، إما لضرورة أو دليل، وفيه أنه يخرج عنه التصور لعدم اندراجه في الاعتقاد مع أنه علم\\u200f.\\u200f \\n'],\n",
              " ['ويخرج علم الله سبحانه وتعالى؛ لأن الاعتقاد لا يطلق عليه، ولأنه ليس بضرورة أو دليل\\u200f.\\u200f وهذا التعريف للفخر الرازي عرفه به بعد تنزله عن كونه ضروري\\u200f.\\u200f \\n'],\n",
              " ['العاشر\\u200f:\\u200f حصول صورة الشيء في العقل أو الصورة الحاصلة عند العقل، وفيه أنه يتناول الظن والجهل المركب والتقليد والشك والوهم\\u200f.\\u200f قال ابن صدر الدين\\u200f:\\u200f هو أصح الحدود عند المحققين من الحكماء وبعض المتكلمين\\u200f.\\u200f \\n'],\n",
              " ['قلت\\u200f:\\u200f وفيه أن إطلاق اسم العلم عليها يخالف مفهوم العلم لغة واصطلاح وعرف وشرع؛ إذ لا يطلق على الجاهل جهل مركب، ولا على الظان والشاك والواهم أنه عالم في شيء من تلك الاستعمالات\\u200f.\\u200f وأما التقليد فقد يطلق عليه العلم مجاز، ولا مشاحة في الاصطلاح، والمبحوث عنه في المنطق هو العلم بهذا المعنى؛ لأن المنطق لما كان جمع قوانين الاكتساب فلا بد لهم من تعميم العلم\\u200f؛ قاله في \\u200fكشاف اصطلاحات الفنون\\u200f\\u200f.\\u200f \\n'],\n",
              " ['الحادي عشر\\u200f: \\u200fتمثل ماهية المدرك في نفس المدرك، وفيه ما في العاشر\\u200f.\\u200f وهذان التعريفان للحكماء مبنيان على الوجود الذهني، والعلم عندهم عبارة عنه\\u200f.\\u200f فالأول\\u200f:\\u200f يتناول إدراك الكليات والجزئيات\\u200f.\\u200f والثاني\\u200f:\\u200f ظاهره يفيد الاختصاص بالكليات\\u200f.\\u200f \\n'],\n",
              " ['الثاني عشر\\u200f: \\u200fهو صفة توجب لمحلها تمييز بين المعاني لا يحتمل النقيض، وهو الحد المختار عند المتكلمين؛ قال في \\u200f\\u200fكشاف اصطلاحات الفنون\\u200f\\u200f: \"أي لبراءته عما ذكر من الخلل في غيره وتناوله للتصور مع التصديق اليقيني\"\\u200f انتهى\\u200f.\\u200f \\n'],\n",
              " ['قلت\\u200f:\\u200f إلا أنه يخرج عنه العلوم العادية، كعلمنا مثل بأن الجبل الذي رأيناه فيما مضى لم ينقلب إلى الآن ذهب، فإنها تحتمل النقيض لجواز خرق العادة\\u200f.\\u200f وأجيب عنه في محله، وقد يزاد فيه بين المعاني الكلية، وهذا مع الغنى عنه يخرج العلم بالجزئيات\\u200f.\\u200f وهذا المختار عند من يقول\\u200f:\\u200f إن العلم صفة ذات تعلق بالمعلوم\\u200f.\\u200f \\n'],\n",
              " ['الثالث عشر\\u200f: \\u200fهو تمييز معنى عند النفس تمييز لا يحتمل النقيض بوجه، وهو الحد المختار عند من يقول من المتكلمين\\u200f:\\u200f إن للعلم نفس التعلق المخصوص بين العالم والمعلوم\\u200f.\\u200f وفيه أن العلوم المستندة إلى العادة تحتمل النقيض لإمكان خرق العادة بالقدرة الإلهية\\u200f.\\u200f \\n'],\n",
              " ['الرابع عشر\\u200f: \\u200fهو صفة يتجلى بها المذكور لمن قامت هي به\\u200f.\\u200f قال العلامة الشريف\\u200f:\\u200f وهو أحسن ما قيل في الكشف عن ماهية العلم، لأن المذكور يتناول الموجود والمعدوم والممكن والمستحيل بلا خلاف، ويتناول المفرد والمركب والكلي والجزئي، والتجلي هو الانكشاف التام\\u200f.\\u200f \\n'],\n",
              " ['فالمعنى\\u200f:\\u200f إنه صفة ينكشف بها لمن قامت به ما من شأنه أن يذكر انكشاف تام لا اشتباه فيه، فيخرج عن الحد الظن والجهل المركب واعتقاد المقلد المصيب أيض؛ لأنه في الحقيقة عقدة على القلب، فليس فيه انكشاف تام وانشراح تنحل به العقدة. انتهى\\u200f.\\u200f \\n'],\n",
              " ['وفيه أنه يخرج عنه إدراك الحواس، فإنه لا مدخلية للمذكور به فيه إن أريد الذكر اللساني كما هو الظاهر\\u200f.\\u200f وإن أريد به ما يتناول الذكر بكسر الذال والذكر بضمها، فإنما أن يكون من الجمع\\u200f بين معنى المشترك، أو من الجمع بين الحقيقة والمجاز، وكلاهما مهجور في التعريفات\\u200f.\\u200f \\n'],\n",
              " ['الخامس عشر\\u200f: حصول معنى في النفس حصول لا يتطرق إليه في النفس احتمال كونه على غير الوجه الذي حصل فيه، وهو للآمدي، قال\\u200f:\\u200f ونعني بحصول المعنى في النفس تمييزه في النفس عما سواه، ويدخل في العلم بالإثبات والنفي والمفرد والمركب، ويخرج عنه الاعتقادات؛\\u200f إذ لا يبعد في النفس احتمال كون المعتقد والمظنون على غير الوجه الذي حصل فيه. انتهى\\u200f.\\u200f \\n'],\n",
              " ['السادس عشر\\u200f: هو حكم لا يحتمل طرفاه ـ أي المحكوم عليه وبه ـ نقيضه، وفيه أنه يخرج عنه التصور، وهو علم\\u200f.\\u200f \\n'],\n",
              " ['السابع عشر\\u200f: \\u200fصفة يتجلى بها المدرك بالفتح للمدرك بالكسر، وهو كالعاشر، وفيه أن الإدراك مجاز عن العلم، فيلزم تعريف الشيء بنفسه مع كون المجاز مهجور في التعريفات، ودعوى اشتهاره في المعنى الأعم الذي هو جنس الأخص غير مسلمة\\u200f.\\u200f \\n'],\n",
              " ['هذا جملة ما قيل في تعريف العلم، وقد عرفت ما ورد على كل واحد منها\\u200f.\\u200f \\n'],\n",
              " ['قال شيخنا القاضي العلامة الرباني محمد بن علي الشوكاني ـ رحمه الله ـ في \\u200fإرشاد الفحول إلى تحقيق الحق من علم الأصول\\u200f\\u200f:\\u200f \\u200fوالأولى عندي أن يقال في تحديده\\u200f:\\u200f هو صفة ينكشف بها المطلوب انكشاف تام، وهذا لا يرد عليه شيء مما تقدم، فتدبر. انتهى\\u200f.\\u200f \\n'],\n",
              " ['وقد أطال في \\u200f\\u200fكشاف اصطلاحات الفنون في بيان الأقوال السبعة.\\n'],\n",
              " ['الفصل الأول: حقيقة الحضارة.\\n'],\n",
              " ['لا بد ونحن نتكلم على الحضارة من أن نبدأ بالكلام على نشأتها؛ إذ من المستحسن الكلام على أمر من خلال استحضاره أمام الذهن. ولكن الكلام على النشأة يجب ألا يقتصر في البدء على استحضار حضارة بعينها، بل استحضار قيام الحضارة على وجه العموم، بتوافر شروطها الطبيعية.\\n'],\n",
              " ['يرى علماء الحضارة أنها نشأت في نهاية العصر الثلجي الثالث، حينما أخذت الثلوج التي كانت تغطي سطح الأرض تنجاب وتنسحب إلى الشمال، مخلفة الأرض التي انسحبت عنها برك ومستنقعات ما لبثت أن خفت رويد رويد، وتحولت إلى أرض خصبة مبسوطة تتخللها الغابات والأشجار، فأتيحت للإنسان فرصة الاستقرار في أوفق البيئات لحياته في ذلك الحين، وهي المحصورة بين المنطقة الاستوائية والأراضي التي كانت الثلوج تغطيها، ذلك الحزام الأرضي الذي تغطيه اليوم الصحاري وتقطعه الأنهار الكبرى، بادئة من اليانغ تسي شرق، ثم منطقة أنهار شمال الهند، ثم هضبة إيران، فأرض الرافدين، ثم جزيرة العرب والشام ومصر والشمال الإفريقي، بما في ذلك الصحراء الكبرى. وكانت أرض سهول وجبال تغطيها الأشجار في ذلك الحين. هنا استقرت الجماعات البشرية، وأخذت تصنع الحضارة، بادئة بالزراعة التي تعتبر الخطوة الأساسية في تاريخ حياة البشر؛ لأنها بداية الاستقرار.\\n'],\n",
              " ['ولكن بعد نهاية العصر الثلجي بدأ الجو في نواحي أفروآسيا التي نتحدث عنها يجف، وبدأت تظهر حضارتان أو أكثر في تلك المنطقة التي كان سكانها إلى ذلك الحين يعيشون جماعات بدائية في طور العصر الحجري.\\n'],\n",
              " ['ويذهب غوردن تشايلد إلى أن هذه الظروف هي التي اطلعت الحضارات في بعض نواحي هذه المنطقة؛ إذ كان على سكان هذه المناطق التي أخذ الجفاف يسودها أن يختاروا بين احتمالات شتى أو اختيارات شتى، إما أن ينسحبوا إلى الجنوب حيث الدفء والماء والصيد، أو يواجهوا ذلك التحدي ويحرروا أنفسهم من سيطرة البيئة ويدخلوا في حياة جديدة تقوم على استئناس الحيوان والاشتغال بالزراعة، وكان عليهم في هذه الحالة أن يبحثوا عن أراض يتيسر ذلك فيها.\\n'],\n",
              " ['وقد توزعت جماعاتهم بين هذه الاحتمالات أو الاختيارات، فأما الذين صعدوا الجبال منها إلى الشمال متابعين مناطق المطر، فقد تعرضوا إلى تحد جديد، هو التعرض للعواصف والأمطار والجو البارد جنوبي مناطق الثلوج. وكان تعرضهم إلى ذلك التحدي ودخولهم تجربة التغلب على مصاعب البيئة الجديدة في جو يشتد فيه البرد في الخريف والشتاء سبب في قيام نوع معين خلاق من الحضارة، هو الذي نعرفه عن اليونان والرومان.\\n'],\n",
              " ['وأما الذين انحدروا منهم إلى الجنوب ووصلوا إلى المناطق الاستوائية فلم يلبثوا أن خضعوا لتأثير جوها الحار وأمطارها الغزيرة وحياتها السهلة، وظلوا في مكانهم من سلم الحضارة في العصر الحجري.\\n'],\n",
              " ['وأما الذين ظلوا في مكانهم واستمروا في الحياة في أرض يسيطر عليها الجفاف شيئ فشيئ فقد دفعوا حياتهم ثمن ذلك وبادوا أو باد أكثرهم، وبقيت بقاياهم متناثرة في الصحاري.\\n'],\n",
              " ['ثم يعود غوردن تشايلد إلى المسألة فيقول: في هذه النواحي نرى أن الجماعة كانت بين اختيارات ثلاثة ذكرناها: الانسحاب إلى الجنوب، حيث المطر الكثير والجو الدافئ والخضرة الغالبة، أو البقاء حيث هي والخضوع للبيئة واحتمال القحط المتزايد والتكيف بما يناسبه واقتحام حوض النهر ومحاولة السيطرة على مياهه ببناء الجسور حتى ينحسر الماء عن أرض تمكن زراعتها. فالجماعتان الأوليان لم تكونا بحاجة إلى تفكير أو تبادل رأي أو تدبر أو رسم خطط أو تصور أسلوب جديد للحياة. فالجماعة الأولى لم تغير بيئتها واحتفظت بنظام حياتها ومستوى معيشتها. وأما أهل الجماعة الثانية فقد حافظوا على البيئة وغيروا أسلوب حياتهم. أما الفئة الثالثة فقد قررت تغيير البيئة ونوع الحياة مع والدخول في مغامرة جديدة، مغامرة غزو بيئة جديدة، والعمل على تغييرها لتلائم أسلوب حياة تصورته. هذه الجماعة لا بد أنها اتخذت قرارها بناء على تفاهم وتصور، ولا بد أنها كانت لها قيادة مفكرة هي التي تدبرت وتصورت، ثم عزمت ونفذت. وهذه كلها التفكير المنظم والتصور والعزم والتنفيذ، لا تكون إلا في مستوى على درجة عالية من التحضر. وهي عندما قررت البدء بالمغامرة كانت تعرف ما تفعل: إقامة الجسور، وحفر القنوات، وتقسيم قطع الأرض، وتنظيم الزراعة وما إلى ذلك. وهذه كلها مفهومات حضارية، أي أننا هنا أيض نجد الحضارة تقوم قبل التاريخ، أي أن المهارات الفكرية والعملية اللازمة للخطوة التاريخية لا بد أن تكون سابقة على الحركة التاريخية.\\n'],\n",
              " ['وإذا تأملنا ما تقدم رأينا ارتباط فعل التحضر حين حدث بالعالم الطبيعي وتغيراته، وهو قد يستتبع وربما لا يستتبع تغيير في حياة الجماعة. ولكن التغيير حينما يحدث يكون بالتفكير والعزم والتنفيذ، أي بالإرادة. وهذا يدل على أن الجماعة التي تقوم به، هي جماعة بلغت مستوى. بيد أن للحضارة بداية أسبق، حينما كان لا بد لإنسان المغاور أو الغابات أن يتخذ من أغصان الأشجار أو من الصخر المشحوذ سلاح يدفع به الوحوش عن نفسه. ومهما يكن من أمر فإن بقاء الجماعات وفناءها مرتبطان بالموقف الذي تتبناه أمام تغيرات البيئة الطبيعية. فإذا استسلمت أي خضعت لحتميات الطبيعة وتغيراتها كان لا بد لها من الفناء أو الشتات، وإذا تحدت الظروف الطارئة، أي قامت بأفعال إرادية، كان لا بد لحريتها من أن تتشبث بحتميات ملائمة تساعدها على تغيير بيئتها وذاتها وفق تصورها، فتبني حضارتها وتستمر في بقائها، ولكن على صورة غير التي كانت عليها. وهذا يعني أن الحضارة وهي بنت الفعل الإرادي الجماعي هي حتمية أو سلسلة من الحتميات التي ينشئها الإنسان بحريته. بيد أن الحتميات حتميات قيم، كما سنبين.\\n'],\n",
              " ['والحقيقة كان الإنسان يتعامل مع العالم الطبيعي تعامل مباشر قبل أن يقيم أسس حضارته. وقد أخذ يتعامل تعامل غير مباشر منذ أن أقام أسسها. ولكن هذا الطريق غير المباشر أصبح أكثر تعقيد بتقدم الحضارة وتعقدها، فقد أصبحت منجزات الإنسان الحضارية قائمة بينه وبين العالم الطبيعي.\\n'],\n",
              " ['غير أن الإنسان ببنائه الحضارة على قوانين العالم الطبيعي، قد اهتدى إلى أساس متين يمكنه أن يطمئن إليه. ولكن الأساس الطبيعي لبناء الحضارة جانب واحد من عملية البناء، إذ إن مواد البناء وتقنياته لها أهمية قصوى في هذه المتانة. وهذه وتلك من صنع الإنسان نفسه. وحسب متانتها وإيلائها الاعتبار اللازم في أثناء القيام بالعملية يكون البناء محقق أغراضه. ومن هنا كان العنصر الإنساني ذا أهمية خطيرة في بناء الحضارة.\\n'],\n",
              " ['غير أن كون الحضارة قائمة على أساس طبيعي يجعلها في بنيتها التحتية خاضعة لقوانين الطبيعة. ولكن البناء ذاته يظل رهن مشيئة الإنسان وتصوراته. بيد أن الأمر ليس مطلق أيض، فالمواد التي تستخدم فيها لها حتمياتها التي لا بد للفعل الإنساني من أن يوليها اعتباره. ومن هنا كانت حرية هذا الفعل محتومة بمنطق المواد التي تستخدمها، وكانت التقنيات المستخدمة لذلك محددة بها.\\n'],\n",
              " ['وهذا يعني أن حرية الإنسان ليست مطلقة في عمله الحضاري، وإنما ترتكز على ثوابت طبيعية عامة، تستمد عموميتها من أن مصدرها العالم الطبيعي ذو القوانين الواحدة. وهذا وحده كاف حين تلاقي الحضارات لتوحيدها. أما الخصوصيات التي تحملها كل منها فلا بأس أن تبقى.\\n'],\n",
              " ['إسهام المسلمين في الحضارة البشرية:\\n'],\n",
              " ['في عجالة مثل هذه لا مجال لتعداد الطرق التي أسهمت  بها الثقافة الإسلامية في حضارة الجنس البشري، فلا خيار لنا في الاقتصار على ذكر القليل من أهم الاكتشافات التي تدين بالفضل فيها للأبحاث الإسلامية، وذكر القليلين من العلماء والفلاسفة والكتاب الذين أضافوا بريق للعلوم والآداب وكان لهم تأثير ملحوظ في الفكر الغربي.\\n'],\n",
              " ['الفلك:\\n'],\n",
              " ['كانت أول علوم استرعت انتباه العلماء المسلمين هما الفلك والرياضيات، فإن اتجاههم الفكري، وبلا شك أسلوبهم العملي، أديا بهم إلى تحويل التفاتهم قبل كل شيء إلى العلوم الدقيقة.\\n'],\n",
              " ['ولم تجتذب علوم الفلك انتباه رجال العلم فحسب، بل إن كثيرين من الخلفاء سواء في الشرق أو في إسبانيا، بل وبعض السلاطين السلاجقة والخانات خلفاء جنكيز خان وتيمور لنك أصبحوا شغوفين بها، وقامت المراصد على نحو ما في كل مركز من المراكز المهمة في الإمبراطورية الإسلامية. وقد اكتسبت مراصد بغداد والقاهرة وقرطبة وبلد الوليد وسمرقند شهرة عن جدارة.\\n'],\n",
              " ['ويرجع العهد بمدرسة بغداد للفلك إلى عصر المنصور ثاني الخلفاء العباسيين، الذي كان هو نفسه فلكي، وقد صدر عن هذه المدرسة في عهد خلفائه هارون الرشيد والمأمون بعض المؤلفات الهامة، فروجعت النظريات القديمة وصوب العديد من أخطاء بطليموس وصححت جداول اليونان. وإلى مدرسة بغداد يرجع الفضل في اكتشاف حركة نقطة الأوج في مدار الشمس وتقدير انحراف المدار البيضاوي ونقصانه المتوالي والدراسة التفصيلية لتقدير مدة السنة. وقد لاحظ علماء بغداد عدم انتظام أقصى ارتفاع للقمر، واكتشفوا التباين القمري الثالث ويعرف باسم التغيير، وراقبوا الكلف (البقع) الشمسي، ودرسوا الكسوف والخسوف وظهور المذنبات وغيرها من الظواهر الفلكية، وشكوا في ثبات الأرض، فكانوا السابقين الأوائل لكوبرنيقوس وككبلر.\\n'],\n",
              " ['وقد سجلت نتائج هذه المراقبات التي قامت بها مدرسة بغداد في الجداول المتحققة، ويعتبر يحيى بن أبي منصور المؤلف الرئيسي لهذه الجداول. ومن أشهر علماء هذه المدرسة نذكر منهم البتاني الذي يعتبره لالاند واحد من أشهر عشرين فلكي في العالم، وأبو الوفا الذي يرتبط اسمه بأحد أساسيات علم الفلك، وهو التباين القمري الثالث. ولقد سبق هذا الفلكي المسلم العالم الدنماركي تيكو براهن الذي ينسب إليه خطأ هذا الاكتشاف، سبقه بسبعة قرون.\\n'],\n",
              " ['ويعتبر العالم الشهير علي بن يونس مكتشف البندول والمزولة الشمسية، والذي أقام له الخليفة الفاطمي الحاكم بأمر الله مرصد على جبل المقطم في القاهرة، يعتبر مؤسس مدرسة القاهرة، وهو الذي أشرف على إخراج الجدول الحاكمي الذي فاق في وقته كل ما سبقه، وفي كل بلاد الشرق حتى الصين، حل محل كتاب المجسطي لبطليموس ومؤلفات بغداد. وفي نفس الفترة كتب الحسن بن الهيثم، أحد علماء الفلك والرياضيات في مدرسة القاهرة، كتب مؤلفه الشهير في البصريات الذي كان أساس مؤلفات روجر بيكون وكبلر. ومن الأمور الجديرة بالاعتبار أن ابن الهيثم كان أول من دافع عن إقامة سد في أسوان لرفع مستوى النيل.\\n'],\n",
              " ['كما أن الدراسات الفلكية لم تكن أقل من ذلك أهمية في إسبانيا المسلمة، فأمير قرطبة عبد الرحمن الثاني أبدى اهتمام خاص بهذا العلم، وللأسف لم يصلنا من المؤلفات الفلكية في إسبانيا الإسلامية إلا القليل جد، فجميعها تقريب قد ضاعت في حروب استرداد إسبانيا وفي أثناء الاضطهادات الدينية. ولكننا نعلم أن في ذلك العصر اشتهرت مراصد بلد الوليد وقرطبة، وقد احتفظ التاريخ بأسماء العديدين من علماء الأندلس مثل مسلمة المجريطي وعمر بن خلدون وابن رشد وقليلين وغيرهم، ولكننا نستطيع أن نتبين عظمة هذه الأعمال المفقودة للعلماء المسلمين من تعليقات المؤلفين المسيحيين الكثيرين الذين استعاروا من هؤلاء العلماء.\\n'],\n",
              " ['وعليه فيبدو أن الجداول الفلكية لألفونس العاشر والمعروفة بالجداول الألفونسية قد تأثرت إلى مدى بعيد بدراسات العرب إن لم تكن قد بنيت أساس عليها.\\n'],\n",
              " ['إن الحروب والمنازعات الداخلية التي اجتاحت آسيا في القرن الحادي عشر، قد أثرت تأثير كبير على الحياة الفكرية في المجتمع الإسلامي، فبكل تأكيد قد أبطأت كثير من حركة تقدم الحضارة، وإن كانت لم توقفها تمام، فقد استمرت مدرسة بغداد بعد سقوط الخلافة الشرقية وانهيار الإمبراطورية. ولم ينقطع تأثيرها الخلاق حتى منتصف القرن الخامس عشر، وفي تلك الأثناء امتد تأثيرها في أواسط آسيا والهند والصين.\\n'],\n",
              " ['وكان عبد الرحمن محمود بن أحمد البيروني أحد علماء الإسلام البارزين، وشكل حلقة الربط بين معارف مدرسة بغداد والعلماء الهنود, وقد عاش في بلاط محمود الغزنوي، ومن أعماله الكثيرة في مختلف المواضيع، نشر جداول لخطوط الطول وخطوط العرض لأهم مدن العالم.\\n'],\n",
              " ['كما كان السلطان السلجوقي ملك شاه ملك مستنير، كان يضم بين أصدقائه عدد من العلماء والأدباء، وكان يهوى الفلك، وقد أدت أرصاده إلى تصويب التقويم قبل التصويب الجريجوري بنحو عشرة قرون، وبصورة أدق، ويرجع الفضل في ذلك إلى عبد الرحمن حسني وعمر الخيام مؤلف الأشعار المشهورة التي خلدت اسمه.\\n'],\n",
              " ['وما بذله الحكام المغول لتشجيع العلم لم يقل عن ذلك فهولاكو الرهيب ذو الشهرة السيئة والمسؤول عن تدمير بغداد بنى في مراغة مرصد نموذجي كان يديره نصير الدين الطوسي مؤلف الجداول الخاينة (نسبة إلى الخان حاكم المغول) والذي قام باستكمال الأجهزة العديدة المستخدمة في المراصد. ومن هذا الركن العلمي الجديد وجدت أعمال الفلكيين البغداديين والقاهريين طريقها إلى الصين في عهد حكم كوبلاي خان.\\n'],\n",
              " ['وفي عهد أولج بج حفيد تيمور لنك، بلغ علم الفلك عند المسلمين أوج مجده. فأولج بج الذي ارتبط اسمه واسم أبيه شاهروه بالحركة الفنية والأدبية الكبيرة التي يطلق عليها النهضة التيمورية، كان مغرم بالفلك، ويعتبر آخر ممثلي مدرسة بغداد، فمؤلفه الذي نشر سنة سبع وثلاثين وأربعمئة وألف من الميلاد، يعطي نظرة شاملة عن علم الفلك في عصره، فقبل كبلر بقرن من الزمان، ربط بين علم الفلك عند القدماء وعلم الفلك في العصر الحديث.\\n'],\n",
              " ['الرياضيات:\\n'],\n",
              " ['كانت الرياضيات مثلها مثل الفلك من أحب العلوم عند العرب، فكثير من القواعد للحساب والهندسة والجبر قد اكتشفها العلماء المسلمون.\\n'],\n",
              " ['ففي الحساب لأننا نستخدم الأعداد وطريقة الحساب التي اخترعها العرب، كما أن الجبر ينسب الفضل فيه إلى العرب، وهو حق على الأرجح. وعندما أنشأ الخليفة المأمون دار العلم، عين محمود بن موسى بن الخوارزمي رئيس لها، وكتابه عنوانه: الجبر والمقابلة (الحساب بالرموز). ومن الكلمة الأولى في هذا العنوان جاءت كلمة علم الجبر، ومن تصحيف اسم المؤلف الخوارزمي جاءت كلمة لوغاريتم. وقد كتب جيرارد الكريموني في ترجمته لهذا الكتاب: بعد أن ظل حجر الزاوية في التعليم الرياضي الذي بناه العرب الذين جاءوا بعده، نبه معاصريهم من الغربيين الأوائل إلى روعة الحسابات الجبرية، وفي نفس الوقت نبههم إلى حساب الكسور العشرية.\\n'],\n",
              " ['قال فيليب حتى: كان الخوارزمي من أفضل العقول العلمية من المسلمين، وهو بلا شك الرجل الذي أثر أبلغ التأثير في الفكر الرياضي طيلة العصور الوسطى.\\n'],\n",
              " ['وأكمل عمله عمل ثابت بن قرة مترجم المجسطي لبطليموس، الذي طور الجبر، وكان أول من أدرك انطباقه على الهندسة.\\n'],\n",
              " ['وكان حساب المثلثات هو فرع الرياضيات الذي اهتم به العرب أشد الاهتمام لتطبيقاته في علم الفلك.\\n'],\n",
              " ['من نصائح الرشاد لمصالح العباد: \\n'],\n",
              " ['اعلم أن سبب هلاك الملوك اطراح ذوي الفضائل واصطناع ذوي الرذائل والاستخفاف بعظة الناصح والاغترار بتزكية المادح. من نظر في العواقب سلم من النوائب، وزوال الدول اصطناع السفل، ومن استغنى بعقله ضل، ومن اكتفى برأيه زل، ومن استشار ذوي الألباب سلك سبيل الصواب، ومن استعان بذوي العقول فاز بدرك المأمول، ومن عدل في سلطانه استغنى عن أعوانه، عدل السلطان أنفع للرعية من خصب الزمان. الملك يبقى على الكفر والعدل لا يبقى على الجور والإيمان\\u200f.\\u200f \\n'],\n",
              " ['ويقال\\u200f:\\u200f حق على من ملكه الله على عباده وحكمه في بلاده أن يكون لنفسه مالك وللهوى تارك وللغيظ كاظم وللظلم هاضم وللعدل في حالتي الرضى والغضب مظهر وللحق في السر والعلانية مؤثر وإذا كان كذلك ألزم النفوس طاعته والقلوب محبته وأشرق بنور عدله زمانه وكثر على عدوه أنصاره وأعوانه\\u200f.\\u200f \\n'],\n",
              " ['ولقد صدق من قال\\u200f:\\u200f يا أيها الملك الذي بصلاحه صلح الجميع، أنت الزمان فإن عدلت فكله أبد ربيع. وقال عمرو بن العاص\\u200f:\\u200f ملك عادل خير من مطر وابل، من كثر ظلمه واعتداؤه قرب هلاكه وفناؤه\\u200f.\\u200f \\n'],\n",
              " ['موعظة\\u200f:\\u200f كل محنة إلى زوال وكل نعمة إلى انتقال\\u200f:\\u200f رأيت الدهر مختلف يدور فلا حزن يدوم ولا سرور، وشيدت الملوك به قصور فما بقي الملوك ولا القصور. وقال المأمون\\u200f:\\u200f يبقى الثناء وتنفذ الأموال ولكل وقت دولة ورجال، من كبرت همته كثرت قيمته\\u200f.\\u200f \\n'],\n",
              " ['لا تثق بالدولة فإنها ظل زائل ولا تعتمد على النعمة فإنها ضيف راحل\\u200f.\\u200f \\n'],\n",
              " ['فإن الدنيا لا تصفو لشارب ولا تفي لصاحب\\u200f.\\u200f \\n'],\n",
              " ['كتب عم بن عبد العزيز إلى الحسن البصري\\u200f:\\u200f انصحني. فكتب إليه\\u200f:\\u200f أن الذي يصحبك لا ينصحك والذي ينصحك لا يصحبك. وسأل معاوية الأحنف بن قيس وقال له\\u200f:\\u200f كيف الزمان؟ فقال: أنت الزمان إن صلحت صلح الزمان وإن فسدت فسد الزمان\\u200f.\\u200f \\n'],\n",
              " ['آفة الملوك سوء السيرة وآفة الوزراء خبث السريرة وآفة الجند مخالفة القادة وآفة الرعية مخالفة السادة وآفة الرؤساء ضعف السياسة وآفة العلماء حب الرياسة وآفة القضاة شدة الطمع وآفة العدول قلة الورع وآفة القوي استضعاف الخصم وآفة الجريء إضاعة الحزم وآفة المنعم قبح المن وآفة المذنب حسن الظن والخلافة لا يصلحها إلا التقوى والرعية لا يصلحها إلا العدل، فمن جارت قضيته ضاعت رعيته ومن ضعفت سياسته بطلت رياسته\\u200f.\\u200f \\n'],\n",
              " ['ويقال\\u200f:\\u200f شيئان إذا صلح أحدهما صلح الآخر\\u200f:\\u200f السلطان والرعية\\u200f.\\u200f \\n'],\n",
              " ['ومن كلام بعض البلغاء\\u200f:\\u200f خير الملوك من كفى وكف وعفا وعف\\u200f.\\u200f \\n'],\n",
              " ['قال وهب بن منبه\\u200f:\\u200f إذا هم الوالي بالجور أو عمل به أدخل الله النقص في أهل مملكته حتى في التجارات والزراعات وفي كل شيء، وإذا هم بالخير أو عمل به أدخل الله البركة على أهل مملكته حتى في التجارات والزراعات وفي كل شيء ويعم البلاد والعباد\\u200f.\\u200f \\n'],\n",
              " ['ولنقبض عنان العبارات النقلية في أرض الإشارات العقلية المقتطفة من نظم السلوك في مسامرة الملوك وغرر الخصائص وغرر النقائص، وهو باب واسع كثير المنافع. وملاك الأمر في ذلك حسن القابلية وأن تكون مرآة إذا كان الطباع طباع سوء، فليس بنافع أدب الأديب. وقيل\\u200f:\\u200f إن الأخلاق وإن كانت غريزية فإنه يمكن تطبعها بالرياضة والتدريب، والعادة والفرق بين الطبع والتطبع أن الطبع جاذب مفتعل والتطبع مجذوب منفعل تتفق نتائجهما مع التكلف ويفترق تأثيرهما مع الاسترسال\\u200f.\\u200f \\n'],\n",
              " ['وقد يكون في الناس من لا يقبل طبعه العادة الحسنة ولا الأخلاق الجميلة ونفسه مع ذلك تتشوق إلى المنقبة وتتأنف من المثلبة\\u200f.\\u200f \\n'],\n",
              " ['لكن سلطان طبعه يأبى عليه ويستعصي عن تكليف ما ندب إليه يختار العطل منها على التحلي ويستبدل الحزن على فواتها بالتسلي فلا ينفعه التأنيب ولا يردعه التأديب، وسبب ذلك ما قرره المتكلمون في الأخلاق من أن الطبع المطبوع أملك للنفس التي هي محله لاستيطانه إياها وكثرة إعانته لها\\u200f.\\u200f \\n'],\n",
              " ['وأما الذي يجمع الفضائل والرذائل فهو الذي تكون نفسه الناطقة متوسطة الحال بين اللؤم والكرم. وقد تكتسب الأخلاق من معاشرة الأخلاء، إما بالصالح أو بالفساد، فرب طبع كريم أفسدته معاشرة الأشرار، وطبع لئيم أصلحته مصاحبة الأخيار\\u200f.\\u200f \\n'],\n",
              " ['وقد ورد عن النبي صلى الله عليه وسلم أنه قال\\u200f:\\u200f المرء على دين خليله فلينظر أحدكم من يخالل\\u200f.\\u200f \\n'],\n",
              " ['وقال علي رضي الله عنه لولده الحسن\\u200f:\\u200f الأخ رقعة في ثوبك فانظر بمن ترقعه\\u200f.\\u200f \\n'],\n",
              " ['وقال بعض الحكماء في وصيته لولده\\u200f:\\u200f يا بني، احذر مقارنة ذوي الطباع الموذلة لئلا تسرق طباعك طباعهم وأنت لا تشعر. وأما إذا كان الخليل كريم الأخلاق شريف الأعراق حسن السيرة طاهر السريرة فبه في محاسن الشيم يقتدى وبنجم رشده في طريق المكارم يهتدى، وإذا كان سيئ الأعمال خبيث الأقوال كان المغتبط به كذلك. ومع هذا فواجب على العاقل اللبيب والفطن الأريب أن يجهد نفسه حتى يحوز الكمال بتهذيب خلائقه ويكتسي حلل الجمال بدماثة شمائله وحميد طرائقه\\u200f.\\u200f \\n'],\n",
              " ['وقال عمرو بن العاص: المرء حيث يجعل نفسه، إن رفعها ارتفعت، وإن وضعها اتضعت\\u200f.\\u200f \\n'],\n",
              " ['وقال بعض الحكماء\\u200f:\\u200f النفس عروف ونفور ألوف، متى ردعتها ارتدعت، ومتى حملتها حملت، وإن أصلحتها صلحت، وإن أفسدتها فسدت\\u200f.\\u200f \\n'],\n",
              " ['وقال الشاعر\\u200f:\\u200f وما النفس إلا حيث يجعلها الفتى، فإن أطعمت تاقت وإلا تسلت. وقالوا\\u200f:\\u200f من فاته حسب نفسه لم ينفعه حسب أبيه. والمنهج القويم الموصل إلى الثناء الجميل أن يستعمل الإنسان فكره وتميزه فيما ينتج عن الأخلاق المحمودة والمذمومة منه ومن غيره، فيأخذ نفسه بما استحسن منها واستملح، ويصرفها عما استهجن منها واستقبح\\u200f.\\u200f \\n'],\n",
              " ['فقد قيل\\u200f:\\u200f كفاك تأديب ترك ما كرهه الناس من غيرك\\u200f.\\u200f \\n'],\n",
              " ['اللهم بحرمة سيد الأنام يسر لنا حسن الختام واصرف عنا سوء القضاء وانظر لنا بعين الرضاء، وهذا أوان انشقاق كمائم طلع الشماريخ عن زهر مجمل التاريخ\\u200f.\\u200f \\n'],\n",
              " ['أول خليفة جعل في الأرض آدم عليه الصلاة والسلام بمصداق قوله تعالى\\u200f:\\u200f إني جاعل في الأرض خليفة\\u200f.\\u200f \\n'],\n",
              " ['ثم توالت الرسل بعده لكنها لم تكن عامة الرسالة بل كل رسول أرسل إلى فرقة فهؤلاء الرسل عليهم السلام مقررون شرائع الله بين عباده وملزموهم بتوحيد وامتثال أوامره ونواهيه؛ ليترتب على ذلك انتظام أمور معاشهم في الدنيا وفوزهم بالنعيم السرمدي إذا امتثلوا في الآخرة إلى أن جاء ختامهم الرسول الأكرم سيدنا محمد صلى الله عليه وسلم أرسله الله بالهدى ودين الحق ليظهره على الدين كله وأمره بالصدع والإعلان والتطهير من عبادة الأوثان\\u200f.\\u200f \\n'],\n",
              " ['وآمن به من آمن من الصحابة رضوان الله عليهم وعزروه ونصروه واتبعوا النور الذي أنزل معه أولئك هم المفلحون\\u200f.\\u200f \\n'],\n",
              " ['ولم يزل هذا الدين القويم من حين بعث النبي صلى الله عليه وسلم يزيد وينمو ويتعالى ويسمو حتى تم ميقاته وقربت من النبي وفاته\\u200f.\\u200f \\n'],\n",
              " ['وأنزل الله عليه: اليوم أكملت لكم دينكم وأتممت عليكم نعمتي ورضيت لكم الإسلام دين\\u200f.\\n'],\n",
              " ['ولما قبض صلى الله عليه وسلم قام بالأمر بعده أبو بكر الصديق رضي الله عنه، ثم عمر رضي الله عنه، ثم عثمان رضي الله عنه، ثم علي كرم الله وجهه، ولم تصف له الخلافة بمغالبة معاوية رضوان الله عليهم أجمعين في الأمر. وبموت علي رضي الله عنه تمت مدة الخلافة. \\n'],\n",
              " ['باب الهمزة: أجأ وسلمى: جبلا طيئ. آء: شجر، واحدتها آءة. بأبأ: أسرع. بأبأه: قال له: بأبي أنت وأمي. بدأ به، وبدأه: فعله ابتداء. رجع عوده على بدئه: إذا رجع في الطريق الذي جاء منه. البدء: السيد الأول. والثنيان: الذي يليه في السؤدد. البدء والبدأة: النصيب من الجزور. البديء: العجيب، والبئر التي حفرت في الإسلام. افعله بادئ بدء، أي: أول شيء. وبادي بدء، بسكون الياء وحذف الهمزة لكثرة الاستعمال. له البدأة في الرمي، أي: أن يبدأ به. بدئ، فهو مبدوء: أخذه الجدري أو الحصبة. بذأه: رأى به حال كرهها. أرض بذيئة: لا مرعى بها.\\n'],\n",
              " ['برئ من الدين براءة، ومن المرض برء وبرء، فهو بارئ. البرء: الخلق، ومنه البرية، فعيلة منه، متروكة الهمز. فلان براء من كذا، لا يثنى ولا يجمع، وبريء ويجمع ويثنى، براء وأبرياء وبراء جمع. براء بمعنى بريء. البراء: أول ليلة من الشهر؛ لتبرؤ القمر من الشمس.\\n'],\n",
              " ['بسأ به، وبسئ: استأنس. ناقة بسوء: لا تمنع الحالب. أبسأه فبسئ به. أبطأ فهو بطيء. أبطأ القوم: صارت دوابهم بطاء.بطآن ذا خروج، أي: بطؤ، وهو تعجب. بكأت الناقة تبكأ: قل لبنها. المباءة: المنزل. هو حسن البيئة، أي: الحالة. بوأت الرمح نحوه: سددته نحوه. أبأت عليه ماله، أي: أرحت عليه إبله. الباه والباءة: النكاح. البواء: السواء. أبأت القاتل بالقتيل، واستبأته به، أي: قتلته به. باء به: رجع به. باء بالحق: أقر. بهأ، وبهئ به، أنس به. ناقة بهاء: آنسة بالحالب. وما بهأت له، وما بهأت، وما بهأت له، أي: ما فطنت. وأما البها من الحسن فهو غير مهموز. تأتأ في الكلام: تردد.\\n'],\n",
              " ['تنأ بالمكان: أقام، تناءة. ثأثأ بالإبل: أرواها. ثأثأ عن القوم: دفع عنهم. تثأثأ: هاب. أثأ: رمى. ثندؤة الرجل بمنزلة ثدي المرأة. وقيل: مغرز الثدي. الثفاء: الخردل. الواحدة ثفاءة. ثمأه: أطعمه الدسم. ثمأ رأسه: شدخه. ثمأ: ثرد. الجؤجؤ: صدر الطائر والسفينة. جأجأ بالإبل: دعاها لتشرب، فقال: جئ جئ، والاسم الجيء. الجبء: الحمر من الكمأة، واحدته: جبأة. أجبأ الزرع: باعه قبل أن يبدو صلاحه. الجبأة: خشبة يحذو عليها الحذاء. جبأت العين عن الشيء: نبت عنه. الجبأ، على فعل: الجبان. جبأ عليه الأسود، أي: خرج عليه الحية. الجابئ: الجراد. الجرأة: الشجاعة، والجرة أيض، بلا همز، كالمرة للمرأة. جزأه: جعله أجزاء. جزأ به، واجتزأ: اكتفى. ظبية جازئة: تكتفي بالرطب عن الماء. أجزأت عنك مجزأ فلان، أي: أغنيت عنك مغناه.\\n'],\n",
              " ['الجزأة: نصاب الإشفى. جزء: اسم رجل. جسأت يده من العمل: صلبت. الجسأة من الدواب: يبس المعطف.\\n'],\n",
              " ['التجشئة كالتجشؤ. الجشأة الاسم، والجشاء، أيض. جشأت النفس: نهضت حزن. جشأ القوم: خرجوا من بلد إلى بلد. اجتشأته البلاد:لم توافقه. الجشء: القوس الخفيفة. الجفاء: ما نفاه السيل. جفأ الوادي: رمى بالجفاء. جفأ القدر: أكفأها، ولا يقال: أجفأ. جنأ على الشيء، وجانأ، أي: أكب عليه. والجنأ: الحدب في الظهر. المجنأ: الترس. الجيئة، مصدر جاء، كالرحمة. والجيئة الاسم. والمجيء مصدر شاذ كالمحيض. وأجأته: جئت به، واضطررته إليه، أيض. الحبأ: جليس الملك، أحباء جمع. حتأ الكساء: فتل هدبه. حجئ به: فرح، وأولع به، وقد لا يهمز. الحدأة: الفأس، حدأ جمع. الحدأة: طائر، حدأ جمع. حدأ الشيء: صرفه. حدئ بالمكان: لزق به. حدئ عليه، وإليه: نصره. حزأ السراب الشخص: رفعه. حزأ الإبل: ساقها وجمعها. حشأه بالسهم: أصاب به جوفه. حشأ المرأة: باضعها. المحشأ: كساء غليظ. حصأ من الماء: روي. حضأ: أسعر النار. المحضأ: عود تحرك به النار. حطأت به الأرض: صرعته. حطأ بها، وحطأ: حبق. حطأها: باضعها. حطأت القدر: رمت بزبدها. الحطيء: الرذال، والنطيء، إتباع له. الحطيئة: الرجل القصير، لدمامته. عنز حنطئة: غليظة ضخمة. رجل حبنطأ وحبنطأة وحبنطى: قصير سمين. احبنطأ: امتلأ. الحفأ: أصل البردي الأبيض الرطب، ويؤكل. أحكأ العقدة: شدها. حلأت له حلوء، على فعول، إذا حككت له حجر على حجر، ثم جعلت الحكاكة على كفك، وصدأت بها المرآة، ثم كحلت به. الحلاءة: مثل الحلوء. حلأ الجلد: قشره. التحلئ: ما أفسده السكين من الجلد إذا قشر. تقول منه: حلئ الأديم، إذا صار فيه التحلئ. الحلأ: العقبول. حلئت شفتي، أي: بثرت. حلأه بالسوط: جلده. وحلأه: أعطاه مائة درهم. حلأ الإبل عن الماء: طردها عنه، تحليئ.\\n'],\n",
              " ['الحمأ والحمأة: الطين الأسود. حمئت البئر: كثرت حمأتها. أحمأ البئر: ألقى فيها الحمأة، وحمأها: نزعها عنها. حمئ عليه: غضب. الحمء وحما وحمو وحم : ما كان من قبل الزوج كالأخ والأب. الحناء: معروف، والحناءة أخص منه. الخبأ: معروف، ومنه الخابية للحب، ويترك همزها. الخبء: ما خبئ. خبء السماء: القطر. وخبء الأرض: النبات. الخبأة: المرأة تطلع ثم تختبئ. اختتأ منه: استتر خوف وحياء. اختتأ له: ختله. الخجء: النكاح. فحل خجأة: كثير الضراب. الخجأة: الرجل الكثير اللحم، أيض. التخاجؤ في المشي: التباطؤ. خذأ له: خضع. وأخذأ كذلك. الخرء: العذرة. خروء جمع. خرئ خراءة. المخروءة: المخرج. خسأ الكلب: طرده. وخسأ هو يتعدى ولا يتعدى. خسأ بصره: سدر. المخاسأة: الترامي بالحجارة. الخطأ، يمد ولا يمد. تخطأ بمعنى أخطأ. الخطء: الذنب. والخطئة مصدر منه. ما أخطأه، تعجب، من خطئ لا من أخطأ. خلأت الناقة: حرنت وبركت من غير علة، مثل ألح في الجمل، وحرن في الفرس. ولا يقال للجمل: خلأ. الديداء: أشد عدو البعير، وقد دأدأ. الدآدي: ثلاث ليال من آخر الشهر قبل الـمحاق.\\n'],\n",
              " ['الدرء: الدفع. درأ علينا، واندرأ، أي طلع، ومنه: كوكب دريء، مثل سكين، لشدة توقده. ودرأ الكوكب دروء. ويقال له: الدري، أيض.\\n'],\n",
              " ['والدري منسوب إلى الدر. ويسمون الكواكب العظام التي لا تعرف أسماؤها دراري. تدرأ: تطاول. ويقولون: السلطان ذو تدرإ، أي: قوة على دفع الأعداء. تدارؤوا: اختلفوا، وكذا ادارؤوا. المدارأة: حسن الخلق. وقد لا يهمز. جاء السيل درء، أي: من بلد بعيد. الدرء: العوج، ومنه: بئر ذات درء، أي: حيد. وطريق ذات دروء، أي جرفة وكسور. الدريئة: ما يستتر به الصائد من بعير أو غيره. والدريئة، أيض: حلقة يتعلم عليها الطعن. درأ البعير دروء: أغد، وكان مع الغدة ورم في ظهره، فهو دارئ، ويسمى الحجم درء. أدرأت الناقة بضرعها، فهي مدرئ، أي: أرخت، وأنزلت.\\n'],\n",
              " ['الدفء: نتاج الإبل وألبانها، وما ينتفع به منها. وهي السخونة، أيض. والدفء والدفأ المصدر. تقول: ما عليه دفء. واقعد في دفء هذا الحائط، أي: كنه. دفؤت ليلتنا، ويوم دفيء، وليلة دفيئة. المدفئة: الإبل الكثيرة لأن بعضها يدفئ بعض. المدفأة: الإبل الكثيرة الأوبار. الدفئي، كالعجمي: مطر يكون بعد الربيع قبل الصيف، ودثئي بالثاء أيض، وأوله وقوع الجبهة، وآخره وقوع الصرفة. داكأت القوم: زاحمتهم.\\n'],\n",
              " ['دنأ الرجل يدنأ: صار دنيئ لا خير فيه. دنؤ دنوءة: سفل في فعله. الدنيئة: النقيصة. الدنأ: الحدب.\\n'],\n",
              " ['الداء: المرض، والجمع أدواء. داء يداء: مرض، فهو داء. دئت يا رجل، وأدأت، وأدأته: أصبته بداء، يتعدى ولا يتعدى. أدأ: اتهم، وكذا أدوأ. وقولهم: به داء الظبي، أي: لا داء به، كما لا داء بالظبي.\\n'],\n",
              " ['الذرء: الخلق. ومنه الذرية، فتركوا همزها. ذرء النار، في الحديث، أي: خلقوا لها. الذرأ: شيب في مقدم الرأس. رجل أذرأ، وذرئ شعره. والذرأة الاسم منه. فرس أذرأ: أرقش الأذنين، أسود الباقي.\\n'],\n",
              " ['عناق ذرآء: من شيات المعز دون الضأن.  ملح ذرآني: شديد البياض. ولا تقل: أنذراني. ذرأ الأرض: بذرها. زرع ذريء.\\n'],\n",
              " ['ذيأ اللحم: أنضجه حتى يسقط من عظمه. تذيأت القرحة: فسدت فتقطعت.\\n'],\n",
              " ['معجم تجريد الصحاح لأبي منصور الجواليقي المتوفى 540هـ. \\n'],\n",
              " ['لهذا المختصر مخطوطة واحدة محفوظة بجامعة ليدن برقم 317 OR، وعن هذه النسخة  مصورة ميكروفيلم برقم 2331/ ف ، محفوظة بقاعة الميكروفيلم بمركز الملك فيصل للبحوث والدراسات الإسلامية بالرياض في المملكة العربية السعودية، كما أن في قاعة ميكروفيلم مكتبة جامعة الإمام محمد بن سعود الإسلامية مصورة ميكروفيلم برقم 12051.\\n'],\n",
              " ['الورقات2-4\\n'],\n",
              " ['حساسية الأنف\\n'],\n",
              " ['حساسية الأنف من أكثر الأمراض شيوع، ويشكو منها خمسون في المئة من المترددين على عيادات الأنف والأذن والحنجرة . أعداد المصابين بها في تزايد مستمر ، وقد أجريت العديد من الأبحاث العلمية التي أجابت على الكثير من الأسئلة المتعلقة بالحساسية ، ولكنها لم تجب على كل الأسئلة حولها . وقبل التحدث عن الحساسية نلقي الضوء على الأنف ووظيفته. فهو يتكون من مجريين للهواء يتوسطهما حاجز ، ويمر الهواء منه إلى الحلق والحنجرة، ومن ثم إلى القصبة الهوائية فالرئتين . ويحتوي جداره الجانبي على عدة بروزات تدعى بقرنيات الأنف ، ويكسو الأنف والجيوب الأنفية غشاء مخاطي رطب ذو أهمية قصوى للحفاظ على الحالة الصحية ومن ثم الحفاظ على الإنسان ، ويتحكم الأنف في درجة حرارة ورطوبة الهواء الداخل إلى الجسم . كما يقوم هذا الغشاء بحماية الجسم من الجسيمات الغريبة التي تدخل الأنف، وذلك بالتقاطها وتنظيف الأنف منها . وأغلب الناس يعانون من نوبة أو نوبتين بما يدعى الزكام ، وتستمر النوبة لأيام معدودة وتختفي بعدها. وسبب الزكام فيروسات الزكام أو الأنفلونزا، ولكن حساسية الأنف لها مسببات مختلفة تمام. يحتوي الهواء على أجسام دقيقة عديدة تتطاير في الهواء ، ويدخل بعضها المجاري الهوائية ، وتشمل هذه الأجسام البكتيريا ، والفيروسات ، وذرات الغبار ، وطلع النبات، وعناصر حيوانية مختلفة . ولدى جهاز المناعة البشرى القدرة على حماية الإنسان من كل ما يصيبه من عوامل خارجية. ومتى ما دخلت هذه الأجسام الغريبة الأنف فإن الجسم يتفاعل معها ويحيدها، وكثير من الأجسام يتكون من بروتينات غير ضارة بالإنسان، ولكن البعض من الناس يتفاعل مع هذه الأجسام الغريبة بحساسية مفرطة تؤدي إلى ظهور أعراض الحساسية، علم بأن نفس هذه الأجسام لا تؤدي إلى نفس النتيجة عند أناس آخرين، وردة الفعل الشديدة هذه تسمى الحساسية، وقد يكون لدى الفرد استعداد للإصابة بالحساسية وراثي، فليس من الغريب أن نجد عائلة بأكملها تعاني من أمراض الحساسية.\\n'],\n",
              " ['ما هي أسباب حساسية الأنف؟\\n'],\n",
              " ['لحدوث الحساسية يجب توفر عاملين: أولهما وجود شخص ذي قابلية جسمانية للإصابة بالحساسية. وثانيهما وجود العناصر المسببة للحساسية في المحيط الخارجي لذلك الشخص.\\n'],\n",
              " ['ويوصف مثل هؤلاء الأشخاص بأن لديهم فرط حساسي وراثي، وعند تعرض الواحد منهم لعنصر مسبب للحساسية مثل طلع الزهور مثل، فإن جهاز المناعة لديه يقوم بإفراز أجسام مضادة تتلاحم مع العناصر المسببة للحساسية وتلتصق بخلايا الأنف، ويؤدي ذلك إلى إفرازات هي المسؤولة عن ظهور أعراض حساسية الأنف.\\n'],\n",
              " ['ما هي أعراض الحساسية؟ \\n'],\n",
              " ['العطاس لمرات عديدة، ونزول إفرازات مائية وفيرة من الأنف، وانسداد الأنف، والتنفس عن طريق الفم، وأكلان أو حكة بالأنف أو الحلق أو الأذنين، وقد يصاحب هذه الأعراض حكة بالعينين مع احمرارهما ونزول الدموع، وفقدان حاسة الشم، والتهاب الحلق نتيجة للتنفس عن طريق الفم.\\n'],\n",
              " ['علم بأنه ليس من الضروري أن تحدث كل تلك الأعراض مجتمعة عند كل مريض مصاب بالحساسية.\\n'],\n",
              " ['ما هي مسببات حساسية الأنف؟\\n'],\n",
              " ['هناك عناصر كثيرة مسببة للحساسية، منها: طلع النبات، وذرات الغبار، ووبر الحيوانات، وريش الطيور، والفطريات، والصراصير، وبعض المأكولات مثل السمك والبيض والحليب، وتعتبر عثة ذرة الغبار من أكثر العناصر المسببة للحساسية في العالم بما في ذلك المملكة العربية السعودية ، وخاصة في المناطق الساحلية منها ، لأن عثة ذرة الغبار يحلو لها العيش في جو دافئ ذي رطوبة عالية. \\n'],\n",
              " ['ما هي أنواع حساسية الأنف؟\\n'],\n",
              " ['هناك نوعان من حساسية الأنف: حساسية موسمية، وحساسية مستمرة.\\n'],\n",
              " ['ولا يوجد اختلاف في أعراضهما، ولكن الاختلاف في المسببات ، فالحساسية الموسمية تأتي في الربيع وبداية الصيف مع طلع النبات ، أما الحساسية المستمرة فتأتي طوال العام، ومسبباتها عثة ذرة الغبار والفطريات والصراصير.\\n'],\n",
              " ['وهناك نوع آخر من التهاب الأنف يشبه الحساسية، ويدعى التهاب الأنف غير الحساس ، والفرق بينهما هو عدم وجود أي مسبب له يمكن التعرف عليه ، وهو يظهر عند التعرض لتقلبات الجو أو أكل مواد حراقة كالشطة أو عند شم بعض الروائح. \\n'],\n",
              " [' كيف تعالج حساسية الأنف؟\\n'],\n",
              " ['للأسف لا يوجد حتى الآن دواء فعال يقضي على الحساسية تمام إلا الابتعاد عن مسبباتها، وكل ما يوجد من أدوية تتحكم في الأعراض ولكن لا تقضي على المرض ، ولكن معظم المصابين بالحساسية هذه يمكنهم التمتع بحياة عادية خالية من منغصات المرض ، وهي ليست مرض خطير ولا تنتقل بالعدوى، إلا أنها قد تكون وراثية.\\n'],\n",
              " ['ويرتكز علاج الحساسية الأنفية على شيئين: الابتعاد عن العناصر المسببة له، والعلاج الدوائي. \\n'],\n",
              " ['الابتعاد عن العناصر المسببة للحساسية، ويعنى هذا التحكم في المحيط الخارجي الذي يعيش فيه المريض، وذلك بالقيام بالآتي: \\n'],\n",
              " ['بالنسبة لطلع النبات والذي يكثر عادة في موسم الربيع وبداية الصيف ، وينصح في مثل هذه الأوقات بقفل النوافذ بإحكام في المنزل والسيارة ، والابتعاد عن الحدائق والبساتين، واستعمال بخاخ الأنف، وذلك لمدة ستة أسابيع قبل بداية موسم الربيع. بالنسبة للحيوانات يبتعد المصاب عن الحيوانات التي تسبب له الحساسية مثل القطط والخيل والطيور. \\n'],\n",
              " ['بالنسبة لعثة ذرة الغبار: وهي أجسام دقيقة حية تتغذى على خلايا الجلد التي يلفظها الجسم ، وعندما تجف فضلات هذه العثة وتتطاير فى الهواء يستنشقها المصاب فتظهر أعراض الحساسية عليه. وتعيش هذه العثة على أغطية الوسائد والسرر والبسط والستائر والأثاث المنجد. وللأسف لا يمكن القضاء عليها، ولكن يمكن التقليل من وجودها باتباع الآتي:\\n'],\n",
              " ['تغطية الوسائد بأنسجة لا تحـتفظ بالغبار، وعدم استعمال الوسائد المحشوة بالريش أو استعمال البطانيات المصنوعة من الصوف، ويجب غسل أغطية الوسائد والسرر مرة على الأقل أسبوعي، وتنظيف الأرضية والسجـاد بصفة منتظمة وبالمكنسة الكهربية ، على ألا يقوم بذلك المصاب نفسه، وتنظيف قطع الأثاث بقماشة مبتلة، والتقليل قدر الإمكان من الأثاث الموجود في غرفة نوم المصاب، والاستعاضة بالستائر المعدنية بدل عن الستائر العادية، والاحتفاظ بالملابس في دولاب مقفل، وعدم السماح بدخول الحيوانات لغرفة المصاب، وتخفيض درجة رطوبة المنزل إلى أقل من عشرين في المئة، وتخفيض درجة الحرارة إلى أدنى حد محتمل. \\n'],\n",
              " ['ما هو التداوي بالأمصال؟\\n'],\n",
              " ['المداواة المناعية أو التداوي بالأمصال عبارة عن حقن من أمصال مصنعة من نفس العناصر المسببة للحساسية ، وتعطى لفترة زمنية طويلة ، علم بأن هذه الطريقة للعلاج لا تصلح لكل أنواع الحساسية ، كما أنها يجب ألا تستعمل إلا إذا ثبت فشل الطرق العلاجية الأخرى.\\n'],\n",
              " ['ما هو دور الجراحة؟\\n'],\n",
              " ['وهناك سؤال يخطر على بال معظم مرضى الحساسية الأنفية ، وهو يتعلق بمدى فاعلية التدخل الجراحي ، والحقيقة أن الجراحة لا دور لها على الإطلاق في علاج حساسية الأنف. ولكن لها دور كبير في علاج مضاعفات الحساسية ، كتضخم القرنيات الأنفية.\\n'],\n",
              " ['ماذا عن المستقبل؟\\n'],\n",
              " ['تجري الأبحاث والتجارب على قدم وساق في كل أنحاء العالم من أجل فك طلاسم مرض الحساسية والتوصل لعلاج شاف لها. فمثل تدور في أوروبا حالي أبحاث هدفها التعرف على مرضى الحساسية منذ صغرهم وقبل أن تبدأ أعراض الحساسية بالظهور لديهم على أمل إيقافها عند ذلك الحد. كذلك ظهرت أمصال يمكن استعمالها عن طريق الأنف مباشرة أو عن طريق الفم. وهندسة الجينات الوراثية أيض في تقدم مستمر. كما تدور أبحاث عديدة تستهدف إفرازات الحساسية الكيميائية الأخرى. \\n'],\n",
              " ['لقاء مع الأخ المسلم السويدي بلال أولين:\\n'],\n",
              " ['التقيت بالأخ المسلم بلال بعد صلاة الجمعة في مكتب الرابطة الإسلامية الإعلامي.\\n'],\n",
              " ['ولد الأخ بلال سنة خمس وخمسين وتسعمئة وألف، وتخصصه في النشر والإعلان.\\n'],\n",
              " ['دينه في الأصل النصرانية (بروتستانت). ولم يكن يمارس ديانته لا اعتقاد ولا عمل؛ لأنه تربى في أسرة علمانية ليست متدينة.\\n'],\n",
              " ['أول ما سمع عن الإسلام في المدرسة وذلك عن انتشار الإسلام الذي سموه بالعاصفة العربية، وهذا يدل على موقف المؤلفين من الإسلام، وقال: إن المعلومات كانت سطحية جد، ولا يتذكر بالضبط المعاني التي وصفوا بها الإسلام، ولكنه يتذكر أن الموقف ضد الإسلام كان أشد من الآن، وكان ذلك في الستينيات.\\n'],\n",
              " ['وسألته: أما كنت تحس بالحاجة إلى دين؟ فقال: إنه كان في أول أمره يفكر أنه لا بد أن يكون للحياة هدف، ولكنه لم يكن يبحث عن دين أو إله، وإنما كان تفكيره شبيه بالفلسفة، وكان ذلك في سن المراهقة.\\n'],\n",
              " ['وكان في البداية يبحث عن وجود حلول سياسية للمجتمع تكون نظام لحياته، وكان يعتقد أن الدين لا حاجة إليه، بسبب التربية التي نشأ عليها. وبدأ بدراسة الماركسية والاشتراكية والشيوعية، ودرس قبل ذلك مناهج الأحزاب السياسية في السويد.\\n'],\n",
              " ['ولمس في الاتجاهات الماركسية أفكار أعجبته، كالمساواة بين الناس، وعدم الاستغلال الرأسمالي، والدعوة إلى التضامن على الصعيد العالمي، وبخاصة مع الشعوب المضطهدة في العالم والتي تقاوم الاستعمار، وكان هذا في أوائل السبعينيات.\\n'],\n",
              " ['وفي وسط السبعينيات بدأ يشك في هذه المبادئ ولم ينضم إلى أي حزب، وإنما كان يحتك بشيوعيين واشتراكيين، وكان عضو في لجنة لدعم القضية الفلسطينية ونشر مطبوعات الكفاح الفلسطيني.\\n'],\n",
              " ['وكان معظم أعضاء هذه المنظمة شيوعيين واشتراكيين غير مسلمين. وسبب شكه في هذه المبادئ أن الماركسية عاجزة عن إيجاد حل لكل المشكلات الإنسانية والاجتماعية، وهي مجرد نظريات اقتصادية واجتماعية محدودة، وأخلاق هؤلاء الاشتراكيين غير حميدة، بل أخلاقهم سيئة.\\n'],\n",
              " ['قلت: وما الذي جعلك تتجه إلى الإسلام؟ قال: إنه عندما انضم إلى اللجنة لدعم قضية فلسطين فتح له الباب قليل إلى معرفة الإسلام، فقد بدأ يدرس اللغة العربية سنة أربع وسبعين وتسعمئة وألف، وكان شديد الشوق لتعلم اللغات، وسمع أن اللغة العربية صعبة جد، واتجه إلى تعلمها لتحدي صعوبتها، وبدأ يدرسها في المنزل بدون معلم، وفي سنة خمس وسبعين وتسعمئة وألف التحق بقسم اللغة العربية في جامعة استكهولم لمدة سنتين، ودرس الإسلام بأسلوب المستشرقين الذي لم يتحصل منه إلا على معلومات باردة عن تاريخ الإسلام وسيرة الرسول صلى الله عليه وسلم، ولذلك لم يؤثر فيه ذلك الأسلوب.\\n'],\n",
              " ['والسبب الذي قربه إلى الإسلام هو التأمل النفسي عندما قرأ ترجمة معاني القرآن الكريم، مثل سورة الفاتحة، واستطاع أن يقرأ شيئ من القرآن باللغة العربية، وأعجبه ذلك وكان يشعر أن الإسلام ليس كالأديان الأخرى، ولم يكن يستطيع أن يعبر عن هذا الشعور وسببه. وعبر عن ذلك بأنه كان يرى الإسلام أقل شر من الأديان الأخرى.\\n'],\n",
              " ['وقال: إن والده حكى له عندما سافر إلى يوغسلافيا قبل فترة طويلة ووصل إلى منطقة تسمى سراييفو، ورأى الناس يؤذنون كل يوم صباح في المساجد، وأعجب الأخ بلال هذا الأذان وقد سمعه في التلفزيون والراديو.\\n'],\n",
              " ['وقرأ كتب عن الإسلام باللغة الإنجليزية، وكان من الصعب الحصول على كتب إسلامية بالإنجليزية أو السويدية، وأعطاه والده كتاب صغير عن الإسلام، واشترى هو كتاب آخر لمؤلف يهودي يصف فيه الإسلام من الناحية الاجتماعية، ولم يكن بلال يعرف شيئ عن اليهود وموقفهم من الإسلام، وكان يجد في الكتاب أشياء إيجابية في بعض المباحث.\\n'],\n",
              " ['وفي سنة خمس وسبعين وتسعمئة وألف سافر إلى تونس، وكانت هذه أول زيارة له إلى بلد إسلامي، فذهب إلى سوسة، ولم يعجبه سلوك المسلمين الذين التقى بهم في تونس، وسأله بعض الشباب الذي لم يلتزم بالإسلام: لماذا تتكلم باللغة العربية، ولم تسلم؟ فقال له: إذا كان الإسلام هو ما تفعلونه فلا أريد الإسلام. وقال: إنما قلت لهم ذلك لمعرفتي أن الإسلام ضد هذا السلوك، فسكتوا. ورجع إلى السويد مصاب بخيبة أمل من ذلك التصرف الذي رآه في المسلمين، ولكن تابع دراسة اللغة العربية والإسلام.\\n'],\n",
              " ['وفي سنة سبع وسبعين وتسعمئة وألف سافر إلى الشرق الأوسط وقد تعلم اللغة العربية أكثر، ذهب إلى سوريا ولبنان والأردن، وذهب يوم لزيارة الجامع الأموي في دمشق، وكان معه دليل يصف له الجامع وتاريخه، وسأل ذلك الرجل أسئلة كثيرة، وكذلك ذكر الأخ بلال بعض المعلومات عن تاريخ الإسلام، فتعجب الرجل من ذلك، وهو غير مسلم.\\n'],\n",
              " ['وقال له: يوجد مسلم فرنسي يسكن في الحي القديم من المدينة، وأوصاه بمقابلته ليجيبه عن بعض الأسئلة حول الإسلام، فزار ذلك الفرنسي واسمه عبد الهادي، واجتمع به يومين، وكان ذلك فرصة للتعرف على مسلمين صالحين من التونسيين وغيرهم، وأحس أنه قريب إلى الإسلام، وذهب إلى مسجد في ضاحية من ضواحي الشام، وهي كفر سوسة واعتنق الإسلام في ذلك المسجد وأعلن الشهادتين، وكان ذلك في شهر يوليو، واختار اسم بلال.\\n'],\n",
              " ['وسألته: ما الذي شده إلى الإسلام؟ فقال: أشياء كثيرة، من ذلك وضوحه وصراحته في كل شيء، بخلاف الأديان الأخرى التي تهتم بالزخارف والطقوس والصور. وكذلك المساواة بين الناس.\\n'],\n",
              " ['وقال: إنه لم يكن يدري قبل الإسلام عن الغاية من خلقه، وكان يعتقد أنه لا يوجد بعد الموت بعث، ولم يكن يتأمل فيما سيحصل بعد الموت، وكانت عنده أسئلة كثيرة لم يكن لها جواب، أما بعد الإسلام فإن تلك الأمور كلها تغيرت، وأصبح يعرف الغاية من خلقه والمصير الذي ينتظره، وعرف الأجوبة التي كان يبحث عنها.\\n'],\n",
              " ['وقال: إنه كان قبل الإسلام يرى انسجام وتناسق في الكون، ولكنه لم ير انسجام في تصرفات الإنسان. وقال: إن الكافر لا يؤمن بالله ولكنه يلوم الله على ما يفعل هو من فساد في الأرض.\\n'],\n",
              " ['وقال: إن المسلم يرى ببصيرته ما وراء الأحداث، ويواجه كل ما يرى من مشكلات بسكون واطمئنان.\\n'],\n",
              " ['وسألت الأخ بلال عن الصفات التي يرضى أنه لا بد للداعية منها ليؤثر في الناس هنا.\\n'],\n",
              " ['فقال: السويديون في هذا الزمان متفككون وليسوا كما كانوا من قبل عندهم شيء من الترابط، وهم يبحثون عن مثال للإسلام في شعب من الشعوب الإسلامية يطبق فيه بصورة صحيحة، فالسويديذ قد يرى أن الإسلام من الناحية النظرية صعب، والمسلمون الموجودون في السويد مختلفون فيما بينهم ولم يكونوا قدوة حسنة، إضافة إلى المشكلات التي يراها السويديون في العالم الإسلامي.\\n'],\n",
              " ['وعمل الدعاة قد يفيد بعض الشيء، ولكنه ليس كالتطبيق العملي.\\n'],\n",
              " ['وقال: إن الناس دهشوا عندما سمعوا ثورة إيران لكونها إسلامية، وكانوا يتساءلون: ماذا وراء هذه الثورة؟ ولما رأوا الشيعة يظلمون، قالوا: ما الفرق بين الشاه وهؤلاء.\\n'],\n",
              " ['وإذا كان لا بد من ذكر صفات للداعية فمن ذلك: معرفة كاملة ببيئة المجتمع ومشكلاته، وكيف يفكر السويديون، وأن يكون عنده إلمام بالعلوم الكونية والطبيعية ليشارك في قضايا العلم المتعلقة بالأديان كالقضايا الطبية، وأن يعرف المداخل التي يستطيع أن يتحدث خلالها مع السويديين.\\n'],\n",
              " ['من يكتب في المسألة الاقتصادية؟\\n'],\n",
              " ['نعرف من موروثنا الاجتماعي أن أهل مكة أدرى بشعابها، وأن العاقل يعطي الخباز قرصه ولو أكل نصفه. ونعرف من أبجديات علم الإدارة أن التخصص في العمل وفي البحث والدراسة بالضرورة كان أحد الأسباب الرئيسية لتطور الدول الصناعية المتقدمة. ونعرف من ممارستنا اليومية لأمور حياتنا المختلفة أن كل إنسان ميسر لما خلق له. وفي كل هذه المعارف يدرك العاقل المتبصر أن إعطاء القوس لباريها سبب لتسهيل الوصول إلى الهدف.\\n'],\n",
              " ['وأحسب أن هذه المقدمة وإن كانت تقر واقع يصعب الاختلاف عليه تشكل مدخل أساسي للتأكيد على دور الكلمة في مهمتها التوعوية في المجتمع من حيث أهمية ارتكازها على أسس علمية تضفي عليها الموضوعية والجدية وتجعلها قادرة على الوصول إلى هدفها دونما إخلال بالأسس والقواعد العلمية. وهنا يكمن مربط الفرس في الارتباط الوثيق بين التخصص العلمي والكلمة المكتوبة حتى لا تكون الكلمة حبر على ورق لا تسمن ولا تغني من جوع، بل قد تزيد الطين بلة.\\n'],\n",
              " ['ويمكن القول إن المسألة الاقتصادية قد سيطرت على الاهتمام الأول للناس في هذا العصر الحديث الذي نعيش هجمة العولمة واستحقاقات النظام الاقتصادي العالمي الجديد. وقد أغرى هذا الواقع الكثير من الأقلام فانبرت للكتابة في المسألة الاقتصادية، وكثير ممن يكتبون في المسألة الاقتصادية تغيب عنهم كثير من أبجديات علم الاقتصاد، فتأتي كلماتهم قاصرة عن الطرح العلمي الرصين وبعيدة عن الحلول الموضوعية الجدية.\\n'],\n",
              " ['الاقتصاد علم تراكمي تشكل نظرياته بناء علمي متكامل يمثل بالمنظور العلمي الاقتصاد الكلي. والاقتصاد الكلي، أو ما يعرف بالنظرية الاقتصادية العامة، هو هيكل متكامل يشتمل على جزئيات يجب الإلمام بها حتى لا يختل التوازن الاقتصادي الكلي. وأي خلل في فهم وإدراك الجزء ينسحب بالضرورة على الكل. ولا يمكن لغير المتخصص في علم الاقتصاد أن يخلص إلى رؤية علمية أو يقدم طرح موضوعي جاد دون الإلمام بأبجديات علم الاقتصاد ونظرياته التراكمية، تمام كما هو الحال بالنسبة لبقية العلوم. وأي تجاوز أو استخفاف بهذه الحقيقة هو استخفاف بالكلمة وإهدار للجهد والوقت وتفريط في حق الإنسان الذي هو غاية كل العلوم وهدفها في أن تكون حياته أفضل.\\n'],\n",
              " ['الكلمة مسؤولية كبيرة، ولن يرتقي كاتب إلى مستوى هذه المسؤولية بشكل يحفظ له مكانته ويعطي لقلمه احترام وهيبة، إن لم تكن كلمته مرتكزة على حصيلة علمية متخصصة. نحن نعيش في حقبة تنموية تجاوزت مرحلة التجربة والخطإ، وهي حقبة تتطلب علماء متخصصين يقدرون مسؤولية الكلمة التي تقدم رؤية علمية واضحة، وتطرح فكر رصين لا تحكمه العواطف أو تحركه مجرد الرغبة في الكتابة. الكلمة مسؤولية كبيرة، وخاصة في المسألة الاقتصادية التي استحوذت على اهتمام الناس. نحن في عصر الاقتصاد وعلينا أن نتكلم بلغته. ولكي نجيد هذه اللغة ينبغي علينا أن نسمعها ونقرأها ممن يعي مفرداتها ويعرف كلماتها ويفك رموزها ويعرضها علينا واضحة جلية لا تشوبها شائبة. الكلمة مسؤولية كبيرة. وحري لمن يطلقها أن لا يسمعها وهي تقول له: دعني.\\n'],\n",
              " ['طلاسم الخبراء:\\n'],\n",
              " ['يعتقد بعض خبراء الاقتصاد، ويصر بعض حملة شهادة الدكتوراة في علم الاقتصاد على أنهم خبراؤه الذين لا يشق لهم غبار، في كثير من كتاباتهم الصحفية. والملاحظ في كتاباتهم هذه أنها تعتمد في الغالب على النقل المباشر أو الاقتباس الفاضح، وهو أمر سهل ومقيت على حد سواء. ويلاحظ على هؤلاء أنهم يتكلمون ويناقشون قليل، حتى لا يفتضح أمرهم أو ربما لأن ذلك يعتمد على ملكة أو قدرة يفتقدونها. وعندما يكتبون في مسألة اقتصادية يستخدمون مصطلحات اقتصادية شديدة التخصص، يرى فيها عامة الناس طلاسم تحير الأفكار وتشتت الانتباه وتبعد التركيز عن المسألة المطروحة للعرض لتبرز على الشفاه علامات تعجب تتراقص أمامها أكثر من علامة استفهام تفضي إلى نوع من الاستهجان والازدراء.\\n'],\n",
              " ['إن مهمة الخبير الاقتصادي أو غير الاقتصادي عموم أن يستفيد عامة الناس من خبرته حتى يكون لها أثر أو معنى أو سبب. وهي مهمة وطنية في المقام الأول يجب أن تذوب أمامها بعض التطلعات الشخصية ذات الصبغة الأنانية من حب الظهور إلى إثبات الذات واستعراضها بطريقة سلبية تنحرف عن هدف نقل العلم من العلماء إلى طلبة العلم.\\n'],\n",
              " ['نعود ونقول إنه يحلو لبعض خبراء الاقتصاد في ظل المتغيرات التي جعلت علم الاقتصاد يعيش مرحلة ازدهار في زمن أصبح الاقتصاد سيده وتاج رأسه، استخدام بعض المصطلحات الاقتصادية التي يتترسون وراءها فينتهي الأمر من معالجة معضلة اقتصادية إلى خلق معضلة فكرية أو أخلاقية، والأمثلة على ذلك كثيرة. يقول خبير اقتصادي، لا فض فوه، إن المستهلك سيتعرض عند زيادة استهلاكه من سلعة ما في فترة زمنية معينة إلى تناقص المنفعة الحدية، ولماذا تتناقص في زمن تتزايد فيه الشعارات والكوارث والمصائب على الأمتين العربية والإسلامية. وقد يشطح خيال السذج منهم بحب هذا التناقص؛ لأن فيه خروج عن المعهود، وفي الخروج فسحة من الأمل في التغيير الذي بات نوع من المستحيل. وأمام هذا التصحر الأكاديمي الكبير يترامى الضحايا من عامة الناس ممن يبحثون وربما يلهثون لإثراء وعيهم العام أو الاقتصادي على وجه التحديد.\\n'],\n",
              " ['وإذا نادى خبير واقعي بحل هذه الطلاسم وتبسيط هذه المصطلحات الاقتصادية، فإنه سيجابه بذلك الخبير الأكاديمي الفذ الذي يرى أن في هذه الواقعية أو التبسيط انتهاك لحرمة العلم والعلماء، فالعلم يجب أن يظل ويبقى مترفع عن مثل هذه الممارسات الخاطئة.\\n'],\n",
              " ['تناقص المنفعة الحدية هو قانون طبيعي شكل في شكل نظرية اقتصادية منذ نعومة أظافر علم الاقتصاد وربما غيره من العلوم. ويفيد هذا القانون بأن الإنسان بطبيعته أو بتكوينه وسجيته سيكون إقباله شديد على استهلاك الوحدة الأولى أو القطعة أو الجرعة الأولى من السلعة، ثم يبدأ إقباله عليها بالتناقص؛ لأنه يكون قد أشبع رغبته فيها أو حاجته إليها. ولعل مثال ذلك العطشان المتلهف على كأس من الماء أكبر دليل على منطقية قانون تناقص المنفعة الحدية، فإقباله على الكوب الأول أكبر من إقباله على الثاني والثالث، وهكذا. وكذلك الحال لكثير من السلع أو الرغبات.\\n'],\n",
              " ['إن مسألة العلاقة بين طرفي تلقي معرفة مسألة ذات أهمية إذا كان لهذه المعرفة أن تنتقل وتستثمر. وبحكم هذه العلاقة في أغلب الأحوال يجب أن ينزل الطرف الملقي إلى الطرف المتلقي ليساعده على النهوض معه إلى مكانه الأول، وليس العكس، كأن ينزل المنقذ إلى البحر لينقذ الغريق ويرفعه إلى بر الأمان إلى الأعلى وليس العكس. وهذا التصرف المنطقي والإنساني يحتاج إلى شفافية روح وخلق لا يتحلى بها إلا أهل العلم المؤصلين. وهو تصرف ينطوي على فضيلة التواضع والأدب. وقديم فضل الحكماء الأدب على العلم، ذلك لأن الأدب فضيلة إنسانية تؤدي إلى ارتقاء النفس البشرية إلى مراتب أعلى في سلم الحياة والعلم. وهي الفضيلة التي نطلبها من الخبراء في علم الاقتصاد وفي غير علم الاقتصاد.\\n'],\n",
              " ['إن فئة الخبراء مطالبة وبشكل جدي أن تشارك في مسيرة التوعية الوطنية الشاملة التي نحتاجها في دروب حياتنا اليومية المختلفة، وأن تسهم في بناء هذا الوطن الذي ينتظر منا العطاء الصادق بنهج عملي يتجاوز حب الذات.\\n'],\n",
              " ['صناعة البيئة:\\n'],\n",
              " ['أصبحت مشكلة البيئة تفرض نفسها في مقدمة مشكلات العالم، فكلما زادت درجة التطور زاد الإنسان من إفساد البيئة التي يعيش فيها.\\n'],\n",
              " ['لقد كانت المرة الأولى التي أتيح فيها لكائن بشري أن يرى الأرض من الفضاء الخارجي في منتصف القرن العشرين، حيث وصفها بأنها كرة صغيرة تبدو هشة وخالية من العمران تغطيها السحب، وتحتل المياه معظم مساحتها، ولقد اتضح لنا عجز البشر عن إدارة أحوال هذه الكرة، إنها حقيقة لا مهرب من مواجهتها.\\n'],\n",
              " ['جاء في تقرير اللجنة العالمية للبيئة والتنمية الذي صدر في عام سبعة وثمانين وتسعمئة وألف، تحت عنوان مستقبلنا المشترك؛ حيث أكد أنه لا مجال للعزلة في عالم اليوم، فالعلاقات بين الدول تتزايد وتتعقد، بحيث أصبحت إدارة الشؤون العالمية في حاجة إلى التطور المستمر لمسايرة النمو في تلك العلاقات. ولقد تحقق بعض التقدم في هذا المجال استجابة لذلك التقرير، فظهرت خلال السنوات الماضية مبادرات إقليمية ومحلية لمعالجة بعض أحوال البيئة ومشاكلها، مثل تلوث الهواء، وسياسات استغلال الموارد المائية، والتخلص من النفايات، كما ظهرت استجابة عالمية تمثلت في معاهدات وبرامج للتعاون الدولي من أجل حماية طبقة الأوزون، وبداية التباحث لوضع برامج دولية لدراسة أحوال المناخ.\\n'],\n",
              " ['هذه علامات مشجعة، ولكن ليست كافية لمواجهة التدهور المتسارع في أحوال البيئة العالمية، فثمة تقديرات تشير إلى أن التوسع في الأنشطة البشرية مستمر في الضغط الشديد على قدرات وإمكانات الأنظمة البيئية والموارد مثل الوقود الأحفوري وطبقة التربة الزراعية الخصبة والتنوع الحيوي يتعرض للاستنزاف الشديد.\\n'],\n",
              " ['إذن كيف السبيل إلى صون ودعم التغيرات السريعة والحادة؟ وهل نكتفي بمجرد مقاومة هذه التغيرات؟ أم تتعداها جهودنا إلى مزيد من الخطط الشاملة والطويلة الأجل للتعاون مع مختلف قضايا البيئة؟\\n'],\n",
              " ['علامات استفهام عديدة لا تزال قائمة يدور حولها جدل كثير يشارك فيه العلماء والهيئات الرسمية والأهلية المهتمة بشؤون البيئة. ولعله من المفيد أن نستمع إلى وجهة نظر ذات طابع مختلف.\\n'],\n",
              " ['تقول آن تايلور في كتابها كيف نختار مستقبلنا: إننا نعيش في عالم منكمش أو متقلص بالنسبة لما كان عليه العالم قبل أن تطأ قدما رائد الفضاء الأمريكي نيل آرمسترونج سطح القمر. لقد أصبح العالم قرية كبيرة بعد ثورة الاتصالات وثورة المعلومات، وهكذا يمكن القول إن البيئة التي يعيش فيها البشر ليست مجموعة من الأجزاء المتباعدة، أو تتلاشى فيه الخطط المرسومة على الخرائط كحدود دولية.\\n'],\n",
              " ['وتذهب آن تايلور إلى أن التركيب الحالي للاقتصاد العالمي لا يوفر الشروط الضرورية لتنمية ثابتة الأركان.\\n'],\n",
              " ['ويرى تشامبرز أن حل مشكلة تكاثر السكان المتفاقمة وما ينجم عنها من ضغط على موارد البيئة المحدودة، يكمن في طرق متعددة الاتجاهات، منها التخطيط العائلي بهدف الحد من التكاثر السكاني وترشيد استغلال الموارد وتحقيق تنمية اقتصادية حكيمة، ويعتقد تشامبرز أن الفشل في معالجة قضايا البيئة في الماضي، إنما يعود إلى ارتباط الحلول بالمسائل المادية، وكذلك ارتباطها بقيم الأغنياء دون قيم الفقراء، ولذا يقترح أن تتركز العناية على حاجات ورغبات الفقراء والنساء الريفيات.\\n'],\n",
              " ['أما إنجل فيرى من الضروري تشجيع إقامة روابط وثيقة بين علماء البيئة وصانعي السياسة البيئية من جهة، والكتاب والمثقفين من جهة أخرى؛ لأن هؤلاء بكتاباتهم وتوجيههم يستطيعون كشف الأسباب الأيدولوجية الكامنة وراء فشل الإنسان في تطوير قيم أخلاقية بيئية بناءة تؤدي بنا إلى حماية البيئة، كما أن بإمكانهم التأثير في الناس وحضهم على اتخاذ مواقف إيجابية لصالح الطبيعة. ويأسف إنجل لأن بعض التقاليد الغربية تشجع على تدمير البيئة، وكأن مهمة الإنسانية قهر الطبيعة وتسخيرها لصالح البشر.\\n'],\n",
              " ['ويبين بت أن فشل التنبؤ بالمستقبل يعود إلى أسباب عديدة، أهمها الاعتماد المبالغ فيه على المؤشرات الكمية بدل من المؤشرات الكيفية.\\n'],\n",
              " ['ويبين أن المشكلات الكبرى التي يعاني منها العالم اليوم كالفقر في العالم الثالث والتصحر والتلوث والتسلح وانقراض الأجناس لم تتم تغطيتها في مناهج التربية البيئية في كثير من دول العالم.\\n'],\n",
              " ['ويعتقد بت أن التربية البيئية يجب أن تحتل الأولوية في استراتيجيات حماية البيئة في المستقبل، وألا تعمل في فراغ، بل بوصفها جزء من نظام بيئي متكامل، وأن تستجيب كذلك وبشكل مناسب للتغيرات الاجتماعية والاقتصادية. كما يدعو بت إلى بذل أقصى الجهود في سبيل تنسيق النشاطات الدولية البيئية وتشجيع الحوار بين النظم الثقافية والاجتماعية المختلفة حول التربية البيئية، ومن الضروري أيض تعميق الروابط بين المشكلات العالمية المعاصرة، مثل الفقر والتسلح وانعدام العدالة والمساواة وغير ذلك.\\n'],\n",
              " ['ويقول أورويوردان في كتاب مستقبل البيئة: إن هنالك أربع ثورات هبت على العالم، الثورة الأولى انبثقت في أوائل القرن الثامن عشر الميلادي، حيث رأى كتاب وشعراء أمثال إمرسون وتولستوي أن الطبيعة رمز لحياة المجتمع البشري، ومثال يفرض معايير وقيم أخلاقية تهتم بالبيئة بما فيها من أشجار ومياه، ثم بدأت الثورة الثانية في نهاية القرن الثامن عشر الميلادي واستمرت حتى بداية القرن العشرين، وتمثل مرحلة قيادة للبيئة وإفادة منها، فإن أنصار قيادة البيئة يرون في البيئة ثروة اقتصادية ينبغي تسخيرها في سبيل الإنسان، فتدخلوا في عملياتها واستنزفوا خيراتها، وظهرت الثورة الثالثة في منتصف الستينيات من القرن الحالي، حيث اتسمت بالنمو الاقتصادي السريع وتطور وسائل الاتصال الحديثة واستحواذ المشكلات البيئية على اهتمام الصحافة وأجهزة الإعلام وظهور القوانين والمؤسسات البيئية، وهذه مرحلة مهمة لتنظيم البيئة وضبط التلوث والحفاظ على الموارد بطرق عملية منهجية.\\n'],\n",
              " ['ومنذ سنوات كنا وما زلنا على أعتاب الثورة البيئية الرابعة التي تتسم بنظرة خاصة للإنسان باعتباره مسؤول عن دمار البيئة، وهذا يستوجب العمل على تحويل هذا الإنسان من سبب لخراب البيئة إلى سبب لإنقاذها.\\n'],\n",
              " ['وبعد هذه الآراء التي توضح ضرورة التوسع في الأبحاث البيئية من أجل الوصول إلى معالجات ناجعة للأخطار التي تهدد الطبيعة مع الحاجة الملحة لنظرة جديدة إلى العالم وإلى أخلاقيات جديدة. ولذا ينبغي الاستعانة بآراء علماء الاجتماع والاقتصاد وباقي المختصين في العلوم الإنسانية، لرسم المعالجات المنشودة حسب الخطط التالية:\\n'],\n",
              " ['أول: تشجيع تطوير تقنيات معينة مناسبة لنقلها إلى اقتصاديات العالم الثالث، مع التركيز على تقنيات الطاقة لتقليل الحاجة إلى وقود الحطب تلافي لإتلاف البيئة.\\n'],\n",
              " ['ثاني: تقديم مساعدات تنموية إلى المجتمعات المحلية والناس العاملين بطريقة مباشرة.\\n'],\n",
              " ['ثالث: قيام المدارس والمعاهد والجامعات بدور مهم في التوعية البيئية، لا سيما في مجال الحفاظ على البيئة وحمايتها.\\n'],\n",
              " ['رابع: الأخذ بمبادئ وقيم بيئية رشيدة مثل الاستعمال الكيفي للموارد، ووقف التخريب البيئي غير المقبول اجتماعي وغير المرغوب اقتصادي، وتقليص الهدر في الموارد. ثم استخدام أشكال من التقنية المقبولة بيئي واجتماعي. ثم الحفاظ على جمال الطبيعة ووضع سياسات بيئية تصون البيئة.\\n'],\n",
              " ['فصل في الأصوات:\\n'],\n",
              " ['الصوت مصدر صات الشيء يصوت صوت فهو صائت، وصوت تصويت فهو مصوت\\u200f. وهو عام ولا يختص\\u200f. يقال\\u200f:\\u200f صوت الإنسان\\u200f، وصوت الحمار\\u200f. وفي الكتاب الكريم\\u200f: \"إن أنكر الأصوات لصوت الحمير\\u200f\".\\u200f وقال الراجز\\u200f:\\u200f كأنما أصواتها في الوادي أصوات حج من عمان غاد. وقال جرير بن عطية\\u200f:\\u200f لما تذكرت بالديرين أرقني صوت الدجاج وقرع بالنواقيس. والصوت مذكر لأنه مصدر كالضرب والقتل، وقد ورد مؤنث على ضرب من التأول\\u200f. قال رويشد بن كثير الطائي\\u200f:\\u200f يا أيها الراكب المهدي مطيته بلغ بني أسد ما هذه الصوت. فأراد الاستغاثة\\u200f.\\u200f\\n'],\n",
              " ['كما حكى الأصمعي عن أبي عمرو بن العلاء أنه سمع بعض العرب يقول، وذكر إنسان\\u200f:\\u200f فقال فلان لغوب جاءته كتابي فاحتقرها، فقال له\\u200f:\\u200f أتقول جاءته كتابي\\u200f!\\u200f قال\\u200f:\\u200f نعم، أليست بصحيفة إذا بعض السنين تعرقتنا كفى الأيتام فقد أبى اليتيم؛ لأن بعض السنين سنة\\u200f.\\u200f\\n'],\n",
              " ['ويقال\\u200f:\\u200f رجل صات، أي شديد الصوت\\u200f.\\u200f كما يقال\\u200f:\\u200f رجل نال، أي كثير النوال\\u200f.\\u200f\\n'],\n",
              " ['وقولهم\\u200f:\\u200f لفلان صيت، إذا انتشر ذكره، من لفظ الصوت إلا أن واوه انقلبت ياء لسكونها وانكسار ما قبلها\\u200f. كما قالوا\\u200f:\\u200f قيل من القول، والصوت معقول؛ لأنه يدرك، ولا خلاف بين العقلاء في وجود ما يدرك\\u200f.\\u200f\\n'],\n",
              " ['وهو عرض ليس بجسم ولا صفة لجسم\\u200f. والدليل على أنه ليس بجسم أنه مدرك بحاسة السمع، والأجسام متماثلة، والإدراك إنما يتعلق بأخص صفات الذوات\\u200f.\\u200f\\n'],\n",
              " ['فلو كان جسم لكانت الأجسام جميعها مدركة بحاسة السمع، وفي علمنا ببطلان ذلك دليل على أن الصوت ليس بجسم\\u200f.\\u200f\\n'],\n",
              " ['وهذه الجملة تحتاج إلى أن نبين أن الأجسام متماثلة، وأن الإدراك إنما يتعلق بأخص صفات الذوات؛ لأن كون الصوت مدرك بالسمع والأجسام غير مدركة بالسمع مما لا يمكن دخول شبهة فيه ولا منازعة\\u200f.\\u200f\\n'],\n",
              " ['والذي يدل على تماثل الأجسام\\u200f\\u200f أنا ندرك الجسمين المتفقي اللون فيلتبس أحدهما علينا بالآخر؛ لأن من أدركهما ثم أعرض عنهما وأدركهما من بعد يجوز أن يكون كل واحد منهما هو الآخر بأن نقل إلى موضعه ولم يلتبسا على الإدراك إلا لاشتراكهما في صفة تناولها الإدراك، وقد بينا أن الإدراك إنما يتناول أخص صفات الذات، وهو ما يرجع إليها، وسندل على ذلك\\u200f.\\u200f\\n'],\n",
              " ['وإذا كان، فإن قيل\\u200f:\\u200f دلوا على أنهما لم يلتبسا إلا للاشتراك في صفة ثم بينوا أن تلك الصفة مما يتناوله الإدراك\\u200f.\\u200f\\n'],\n",
              " ['قلنا\\u200f:\\u200f الوجوه التي يقع فيها الالتباس معقولة، وهي المجاورة أو الحلول\\u200f، كالتباس خضاب اللحية بالشعر من حيث المجاورة\\u200f.\\u200f وكما التبس على من ظن أن السواد الحال في الجسم صفة له من حيث الحلول\\u200f. وكذلك من اعتقد أن صفة المحل للحال\\u200f.\\u200f حتى ذهب إلى أن للسواد حيز، وكلا الأمرين منتف في التباس الجسمين؛ لأنه لا حلول بينهما ولا مجاورة، بل يقع الالتباس مع العلم بتغايرهما\\u200f. يدل على ذلك ما ذكرناه\\u200f.\\u200f\\n'],\n",
              " ['فأما الدليل على أن الصفة التي اقتضت الالتباس مما يتناوله الإدراك فهو أن الأمر لو كان بخلاف ذلك لما التبسا على الإدراك، وفي التباسهما عليه دلالة على تعلق الإدراك بما التبسا لأجله، ولأن المشاركة فيما لا يتعلق الإدراك به لا يقتضي الاشتباه على المدرك\\u200f.\\u200f\\n'],\n",
              " ['ألا ترى أن السواد لا يشبه البياض ويلتبس به عند المدرك وإن اشتركا في الوجود من حيث كان الإدراك لا يتعلق بالوجود\\u200f.\\u200f\\n'],\n",
              " ['وليس لأحد أن يقول\\u200f:\\u200f إذا استدللتم على أن الأجسام متماثلة بالتباسها على الإدراك فقولوا\\u200f:\\u200f إن الأجسام التي لا تلتبس كالأبيض والأسود غير متماثلة لفقد الالتباس\\u200f.\\u200f\\n'],\n",
              " ['وذلك أن هذا مطالبة بالعكس في الأدلة وليس ذلك بمعتبر\\u200f.\\u200f\\n'],\n",
              " ['وإثبات المدلول مع ارتفاع الدليل جائز غير ممتنع؛ لأن الدليل غير موجب للمدلول، وإنما هو كاشف عنه، لكن المنكر ثبوت الدليل وارتفاع المدلول\\u200f.\\u200f\\n'],\n",
              " ['على أن الالتباس في الجسمين المذكورين حاصل أيض؛ لأن المدرك لهما ربما يجوز أن يكون أحدهما الآخر، وإنما تغير لونه. أما الدليل على أن الإدراك يتعلق بأخص صفات الذوات، وأن كلامنا كله متعلق به فهو أنه لا يخلو من أن يكون يتعلق بالصفة الراجعة إلى الفاعل أو الراجعة إلى العلة أو الراجعة إلى الذات\\u200f.\\u200f\\n'],\n",
              " ['والذي يرجع إلى الفاعل من الصفات هو الوجود\\u200f.\\u200f\\n'],\n",
              " ['ولو تناوله الإدراك لم يخل من أن يتعداه إلى ما يرجع إلى الذات أو لا يتعداه، فإن لم يتعد وجب ألا يحصل الفصل بين المختلفين بالإدراك لاشتراكهما في الوجود الذي لم يتناول الإدراك غيره\\u200f.\\u200f\\n'],\n",
              " ['وإن تعداه إلى الصفة العائدة إلى الذات فيجب أن يفصل بين المختلفين بالإدراك من حيث افترقا في الصفة التي يتعلق بها وأن يلتبس أحدهما بالآخر من حيث اشتركا في الوجود الذي تعلق الإدراك به أيض، وذلك محال، فأما ما يرجع إلى العلل من صفات الجسم، والذي يمكن أن يدخل شبهة في تناول الإدراك له كونه كائن في جهة\\u200f.\\u200f\\n'],\n",
              " ['والذي يوضح أن الإدراك لا يتناول ذلك أنه لو تناوله لفصل بالإدراك بين كل صفتين ضدين منه، وذلك غير مستمر\\u200f.\\u200f\\n'],\n",
              " ['وأحدنا لو أدرك جوهر في بعض الجهات ثم أعرض عنه جوز أن يكون انتقل إلى أقرب الأماكن إليه، والتبس عليه الأمر فيه\\u200f.\\u200f\\n'],\n",
              " ['ولا يلتبس أمره لو اسود بعد، ويمكن الدلالة على أن الصوت ليس بجسم إذا ثبت أن الأجسام متماثلة من وجه آخر، وذلك أنا ندرك الأصوات مختلفة\\u200f. فالراء مخالفة للزاي\\u200f. وكذلك سائر الحروف المختلفة، فإذا كانت الأجسام متماثلة والأصوات تدرك مختلفة فليست بأجسام\\u200f.\\u200f\\n'],\n",
              " ['وإذا كنا دللنا على أن الصوت ليس بجسم فالذي يدل على أنه ليس بصفة لجسم بل هو ذات مخالفة له أن الصوت لو كان صفة لم يخل من أن يكون صفة ذاتية أو غير ذاتية\\u200f.\\u200f\\n'],\n",
              " ['ولا يجوز أن يكون صفة ذاتية لتجدده وأن دوامه غير واجب\\u200f.\\u200f\\n'],\n",
              " ['ولا يجوز أن يكون صفة غير ذاتية لما بيناه من أن الإدراك لا يتناول إلا الصفات الذاتية، والصوت مدرك بلا خلاف\\u200f.\\u200f\\n'],\n",
              " ['ومع الدلالة على أن الأصوات أعراض ففيها المتماثل والمختلف، وقد ذهب أبو هاشم عبد السلام بن محمد الجبائي\\u200f إلى أن المختلف منها متضاد\\u200f.\\u200f\\n'],\n",
              " ['وتوقف علم الهدى المرتضى نضر الله وجهه عن القطع على ذلك\\u200f.\\u200f\\n'],\n",
              " ['فأما أبو هاشم فإنه اعتمد في تضادها على طريقين، أحدهما\\u200f:\\u200f أن حمل الصوت على اللون من حيث كان إدراك كل واحد منهما مقصور على حاسة واحدة، فلما قطع على تضاد المختلف من الألوان قال بمثل ذلك في الأصوات\\u200f.\\u200f\\n'],\n",
              " ['والطريق الثاني\\u200f:\\u200f أن الصوت مدرك فهو هيئة للمحل إذا أوجب مختلفه هيئتين استحال اجتماعهما للمحل في حالة واحدة كما يستحيل ذلك في الألوان\\u200f.\\u200f\\n'],\n",
              " ['وليس بعد امتناع اجتماعهما في المحل الواحد في الوقت الواحد إلا التضاد. ولقائل أن يقول على ما ذكره أول\\u200f:\\u200f ما أنكرت من أن تكون الأصوات والألوان، وإن اتفقت في إدراك كل واحد منهما بحاسة واحدة تختلف، فيكون المختلف من الألوان متضاد دون الأصوات، ولا يوجب الاتفاق في قصر الإدراك على حاسة واحدة التساوي في جميع الأحكام\\u200f.\\u200f\\n'],\n",
              " ['كما أنها وإن اتفقت عندك في ذلك فلم تتفق في أن الأصوات تبقى كما أن الألوان تبقى، ولا في أن الأصوات يضادها ما يحدث بعدها كما كان ذلك في الألوان\\u200f.\\u200f\\n'],\n",
              " ['وإذا جاز مع التساوي فيما ذكرته من قصر الإدراك على حاسة واحدة\\u200f.\\u200f\\n'],\n",
              " ['الفصل الثاني: نيكولاس فيرار:\\n'],\n",
              " ['في الوقت الذي طرد فيه بوهمه من محل صناعة الأحذية لأنه كان مثل مدعي النبوة، ولد في إنكلترا لاهوتي تقدم لنا حياته مثل أفضل من المثل الذي تقدمه بوهمه عن انسحاب اللامنتمي من العالم. ولم يكن نيكولاس فيرار متصوف، ولعل قصة حياته لا يمكن أن تجد مكان لها بين قصص حياة رجال مثل بوهمه وسويدنبورغ. بيد أن حلوله وثيقة الصلة ببحث اللامنتمي الديني، ولهذا فإننا لا نستطيع أن نذكره إلا باختصار.\\n'],\n",
              " ['ولد فيرار لأسرة غنية في عام اثنين وتسعين وخمسمئة وألف، وكان والده تاجر مرموق في لندن. وأظهر وهو بعد في سن مبكرة ذكاء جعل أسرته تعد له مهنة عالية. وكان أبواه مخلصين للكنيسة الإنكليزية، وقد تقبل نيكولاس إيمانهما هذا من كل قلبه. ولما بلغ الثانية عشرة من العمر عاش تجربة دينية جعلته يؤمن إيمان غامض بأنه يجب أن يكرس نفسه لله. وفي الرابعة عشرة من العمر ذهب إلى كلير هول في كامبردج، وبدأ يؤثر على الذين كانوا يتصلون به بطاقاته الفكرية. وكان معلمه أوغسطين لندسل الذي أصبح فيما بعد أسقف بيتر بورو يقول إن تدريسه لنيكولاس جعله هو يتعلم أكثر مما تعلم منه نيكولاس. وقد قال عنه هذا الأسقف: لو أصبح نيكولاس فيرار مهرطق لتأثر به كل العالم، يا لعقله وقلبه وقوة الإقناع التي يملكها، لا يمكنني أن أقول إن هنالك إنسان يستطيع أن يتفوق عليه.\\n'],\n",
              " ['ولكن فيرار لم يستخدم تفتحه الذهني الهائل وتحمسه ضد كنيسة إنكلترا. وبدل من ذلك فقد سافر فيرار كثير ثم شغل منصب في فيرجينيا واستخدم كل مؤهلاته في خدمة الشركة، وحين انحلت في عام ثلاثة وعشرين وستمئة وألف تسارع الناس إلى التعاقد معه، وعرضت عليه مناصب كثيرة، بل عرض عليه منصب سفير، ولكنه رفضها كلها ودخل المجلس النيابي، ثم قرر فجأة أن الحياة السياسية لم تكن مناسبة له. ومر بنفس الأزمات التي أصيب بها لورنس حين عاد من مؤتمر السلام في عام اثنين وعشرين وتسعمئة وألف، وفي أعماقه شعور ضد العالم. لقد كان ضجر من الحياة العامة.\\n'],\n",
              " ['وفي عام خمسة وعشرين وستمئة وألف اشترت الأسرة بيت عتيق بعيد يقع في هنتنك دونشر بعيد عن الطريق وسط أحد الحقول، وكانت هنالك في إحدى زوايا الحقل مزرعة، وفي الزاوية الأخرى كنيسة عتيقة كان الفلاح يستخدمها مستودع للحبوب وزريبة للخنازير. وكان البيت يدعى لتل جيدنك. واجتمعت الأسرة كلها في ذلك البيت. كانت والدة نيكولاس في الخامسة والسبعين، ولكنها كانت قوية صحيحة البنية، وكان هنالك أخوه الأكبر جون وأسرته، وكانت هنالك شقيقته وأسرتها الكبيرة المؤلفة من ستة عشر شخص، وكان هنالك أناس آخرون أيض، وكان عدد الجميع ثلاثين، وعلى مسافة ميلين عبر الحقول كانت تقع كنيسة ليتن برومزوود حيث عين جورج هربرت محصل لعائدات الكنيسة في ذلك العام نفسه.\\n'],\n",
              " ['وبعد أن رسم نيكولاس قس، وذلك في حفل أقيم في كنيسة وستمنستر رعاه الأسقف لود، أعادت الأسرة في لتل جيدنك بناء الكنيسة والبيت، وبدأت تعيش حياة رهبانية تحت رعاية نيكولاس الروحية.\\n'],\n",
              " ['وكان هناك مظهران للحياة في لتل جيدنك. كان جانب من البيت قد اتخذ مكان لإيواء المحتاجين، وكانت تنزل فيه أربع أرامل بصورة دائمة، وكان هنالك مستشفى استخدم فيه نيكولاس معارفه الطبية، إذ سبق له أن درس الطب أيض، وتم تحويل غرفة منه كانت مخصصة للطيور إلى غرفة للدرس. واستخدمت الأسرة ثلاثة مدرسين دائمين. ثم صارت الأسرة توزع الحليب والطعام مجان وبصورة منتظمة على فقراء المنطقة. وبصرف النظر عن هذا كله فقد كانت العبادة مركز الحياة في لتل جيدنك.\\n'],\n",
              " ['وكانت الأسرة تعبر الحقول ثلاث مرات في اليوم إلى الكنيسة الصغيرة في السادسة والعاشرة صباح والرابعة بعد الظهر لأداء ترتيلة المساء. وكان أفراد الأسرة يسيرون وفق نظام معين، وكانت النساء يرتدين ملابس وأقنعة سوداء. وأما في داخل الكنيسة فقد كان كل جزء من الستائر والسجاجيد مطرز تطريز أنيق بيد النساء.\\n'],\n",
              " ['وفي أيام الآحاد كان قس المنطقة يحضر إلى الكنيسة مع من يحضر من الناس لأداء قداس الصباح، وأما بعد الظهر فكانت الأسرة تسير عبر الحقول إلى ستيبل جيدنك لأداء ترتيلة المساء. أما في البيت نفسه وخاصة في عطلات الأسبوع فقد كانت الأسرة تتوزع في جماعات، تجتمع كل جماعة لمدة ساعة، وتنشد ترتيلة وتقرأ شيئ من الإنجيل، وكان ذلك يستمر لربع ساعة. وكان فيرار قد جمع الأناجيل الأربعة في قصة طويلة مستمرة تقرأ طيلة شهر كامل وتعاد في الشهر التالي وهكذا. ولما سمع الملك شارل الأول بهذه القصة الإنجيلية استعارها ثم أعادها في الوقت المعين بعد أن كتب كثير من الشروح على هوامشها بخط يده. وهذه النسخة موجودة الآن في جامعة هارفرد.\\n'],\n",
              " ['وألف نيكولاس أيض جماعات تسهر الليل بين التاسعة مساء والواحدة صباح وتنشد التراتيل، وفي الواحدة صباح يتم إيقاظ نيكولاس ليقضي بقية الليل حتى الفجر في تأملاته الدينية. وكان يفعل ذلك يومين أو ثلاثة أيام في الأسبوع، ولم يكن لينام إلا قليل في تلك الليالي. وفي خريف عام سبعة وثلاثين وستمئة وألف مرض نيكولاس، وكان حينئذ في الخامسة والأربعين. ولاح عليه أنه كان يعرف أن نهايته قد دنت رغم أن مرضه لم يكن خطير في بداية الأمر. وأنفق أسابيعه الأخيرة في هدوء ودعة، مصرف أموره ومستعد للموت. ومات ليلة الأحد التي قام فيها المسيح، وكان ذلك في الساعة الواحدة صباح، أي في الوقت الذي كان يبدأ فيه تأملاته.\\n'],\n",
              " ['واستمر الوضع في لتل جيدنك على حاله طيلة السنوات العشرين التالية برعاية شقيقه الأكبر جون. وفي عام اثنين وأربعين وستمئة وألف كانت الحرب الأهلية تمزق إنكلترا، وزار الملك الأسرة. وبعد أربع سنوات من ذلك عاد الملك ثانية، وكان هذه المرة هارب من وجه قوات مجلس النواب المنتصرة.\\n'],\n",
              " ['وكان ملك محطم كما وصفه إليوت في لتل جيدنك، واستضافه جون فيرار، ثم خرج معه في إحدى الليالي على هدي فانوس وقاده إلى بيت أحد أنصار الملكية في كوبنك فورد. ومرت سنوات ثلاث وأعدم الملك. وعانت لتل جيدنك الكثير من جراء ميلها للملك، إذ لم تمض شهور ثلاثة على تلك الليلة من ليالي آذار عام ستة وأربعين وستمئة وألف حتى هاجم جنود كرومويل البيت والكنيسة ونهبوهما، وأحرقت الكتب والأثاث وسط الحقل. وبالرغم من ذلك استمرت أسرار فيرار على حيلتها تلك إحدى عشرة سنة أخرى إلى أن مات جون فيرار، ولم يبق أحد ليرعى أمور الأسرة بعد ذلك فتفرق شملها.\\n'],\n",
              " ['وما تزال كنيسة لتل جيدنك في مكانها من زاوية الحقل، أما البيت فلم يبق له أثر، وأما قبر نيكولاس فيرار فهو يقع أمام باب الكنيسة دون أن تكون عليه أية كتابة، بل حتى ولا اسم.\\n'],\n",
              " ['وقد يرى عدد كبير من قراء اليوم أن الحياة في لتل جيدنك على هذه الشاكلة تعتبر أمر كريه، وقد يعتبرون الأطفال الذين نشأوا في كنف الأسرة شهداء ذهبوا ضحايا رغبة مجنونة في العبادة والتدين.\\n'],\n",
              " ['معرفة أفضل البلاد المعمورة: \\n'],\n",
              " ['أفضل البلاد المعمورة من شق الأرض الشمالي إلى الجزيرة الكبرى، وهي الجزيرة التي يسميها بطليموس ماروي تقطع على أربعة أقاليم من عمران الشمال إلى الخامس، فجنوبيها اليمن، وشماليها\\u200f الشأم، وغربيها\\u200f\\u200f شرم أيلة، وما طردته من السواحل إلى القلزم وفسطاط مصر، وشرقيها\\u200f\\u200f عمان والبحرين وكاظمة والبصرة، وموسطها\\u200f:\\u200f الحجاز وأرض نجد والعروض، وتسمى جزيرة العرب؛ لأن اللسان العربي في كلها شائع، وإن تفاضل ومبتدأ عرضها - على ما يقول الحساب - على ساحل عدن اثنتا عشرة درجة، وظل رأس الحمل في هذه المواضع\\u200f\\u200f إصبعان ونصف عشر الإصبع، وما يشرع منها بالشام على عرض اثنين وثلاثين جزء وسبع أصابع ونصف من الظل\\u200f:\\u200f بيت المقدس وما يشرع منها على عرض ثلاثة وثلاثين جزء وثماني أصابع إلا خمس من الظل\\u200f:\\u200f الرملة من فلسطين وسلمية وبعلبك - معربة باعل بك - وقيسارية وصيداء والأنبار وبغداد من ناحية العراق وما يشرع منها على عرض أربع وثلاثين وثماني أصابع وعشر من الظل\\u200f:\\u200f حمص وعانات وصور وسر من رأى من ناحية بابل وما يشرع منها على عرض خمس وثلاثين وثماني أصابع وخمسين من الظل\\u200f:\\u200f منبج وحلب وأذنة وأنطاكية وقنسرين وما يصالي المشرق بابل بخت فيها السعة أكثر من ناحية المشرق إلى حضرموت فبلد مهرة فعمان.\\n'],\n",
              " ['ويميل البحر حيثما دخل في تهامة الشيء بعد الشيء إلى المغرب حتى يكون مميلها من سواحل الحجاز إلى القلزم نحو المغرب أكثر، فصارت هذه الجزيرة تقطع على أشرف الأقاليم في موسطها، وصار فيها ما تسامتها الشمس والكواكب الجارية مرتين في الثور والأسد وفي الجوزاء والسرطان، وهي أقرب العمران من خط الاستواء، وهي تحت برج من بروج البأس، وبها البيت الحرام والبيت الذي جعله الله مثابة للناس وأمن، ومقام إبراهيم عليه السلام وأم القرى ومخرج النبوة ومعدن الرسالة ومتبوأ إبراهيم منشأ إسماعيل ومولد محمد صلى الله تعالى عليهم أجمعين ومقطن آل الله. ولذلك قال رسول الله صلى الله عليه وسلم لعتاب بن أسيد\\u200f:\\u200f إني مستخلفك على آل الله.\\n'],\n",
              " ['وإليها كان يسير آدم، وبها كان قطونه، وبها أرض يثرب مهاجر النبي عليه السلام وحرمه ومركز الإسلام ومقام الإمامة وقطب الخلافة ودار العز ومحل الإمرة، وبها الوادي المقدس طوى وطور سيناء ومسجد إيلياء وآثار الأنبياء ومنابت الأتقياء ومحافد الأصفياء وعرصة المحشر وجبال الرحمة ومتعلق السياحة والعبادة، والسراة القاطعة من أعلى اليمن إلى أسفل الشأم، وبها بقاع الفصاحة والصباحة واعتدال المزاج، وحسن الألوان لا الصهبة ولا الزرقة، ومتوسط النبات في الشعر لا القطط ولا السبط، واسوداد الأحداق واحورار المقل مع الحمية والأريحية والسخاء والكرم والجود بما تشح به الأنفس والصبر بساعة البأس، وبها أفرس من ركب الخيل، فهم لها حزم وحلاس، وأحسن من امتطى الإبل، فهم لها أرباب وأقباس، وأوفى من تقلد ذمة، وأبرع من نطق بحكمة. وبها من يعد المئة بين حجة وعمرة، ومن يزور قبر النبي صلى الله عليه وسلم قاصد غير متطرق، وبها المسجد المؤسس على التقوى، وبها الممالك القديمة والآثار العظيمة، مثل ناعط وغمدان وهكروريدان وبينون وغيمان وبرك الغماد وإرم ذات العماد وجميع ما اشتمل عليه الكتاب الثامن من الإكليل\\u200f.\\u200f \\n'],\n",
              " ['معرفة وضع هذه الجزيرة في المعمور من الأرض وموضعها منه:\\n'],\n",
              " ['اعلم أن الأرض ليست بمنسطحة ولا ببساط مستوي الوسط والأطراف، ولكنها مقببة، وذلك التقبيب لا يبين مع السعة، إنما يبين تقبيبها بقياساتها إلى أجزاء الفلك، فيقطع منها أفق كل قوم على خلاف ما يقطع عليه أفق الآخرين طول وعرض في جميع العمران، ولذلك يظهر على أهل الجنوب كواكب لا يراها أهل الشمال، ويظهر على أهل الشمال ما لا يراه أهل الجنوب. ويكون عند هؤلاء نجوم أبدية الظهور والمسير حول القطب، وهي عند أولئك تظهر وتغيب. وسأضع لك في ذلك مقياس بين للعامة، من ذلك أن ارتفاع سهيل بصنعاء وما سامتها إذا حلق زيادة على عشرين درجة، وارتفاعه بالحجاز قرب العشر. وهو بالعراق لا يرى إلا على خط الأفق، ولا يرى بأرض الشمال، وهناك لا تغيب بنات نعش وهي تغيب على المواضع التي يرى فيها سهيل، فهذه شهادة العرض\\u200f.\\u200f \\n'],\n",
              " ['وأما شهادة الطول فتفاوت أوقات بدء الكسوفات ووسطها وانجلائها على خط فيما بين المشرق والمغرب. فمن كان بلده أقرب إلى المشرق كانت ساعات هذه الأوقات من أول الليل والنهار أكثر، ومن كان بلده أقرب إلى المغرب كانت ساعات هذه الأوقات من آخر الليل وآخر النهار منكوس إلى أولهما أكثر. فذلك دليل على تدوير موضع المساكن والأرض وأن دوائر الأفق متخالفة في جميع بقاع العامر، ولو كان سطح الأرض صفيحة لكان منظر سهيل وبنات نعش واحد\\u200f.\\u200f \\n'],\n",
              " ['واعلم أن العامر من الأرض ليس هو منها الكل، ومن الدليل على ذلك\\u200f:\\u200f أن الشمس في يومي الاستواء لا تسامت أحد من سكان الأرض إلا من كان منهم على خط الاستواء وهو منطقة الأرض الوسطى، وهم أول سكان العامرة من جنوبي الصين وجنوبي الهند وبلد الزنج والديبجات.\\n'],\n",
              " ['ثم تميل إلى نحو الشمال في شهور الربيع إلى أن توافي رأس السرطان في منتهى طول النهار، ولا تسامت إلا ما بين خط الاستواء والبلد الذي عرضه أربعة وعشرون جزء من الحجاز والعروض. وما سامت ذلك شرق وغرب ومن دخل عن هذا الخط في الشمال فإنه لا يسامتهم من الكواكب الجارية كوكب إلا أن يكون أقصى عرضه في الشمال يوافق أن يكون في رأس السرطان في أقصى عرضها فتبعد مسامتتها عن رأس الحمل اثنتين وثلاثين درجة، فتسامت من كان عرض بلده هذا المقدار.\\n'],\n",
              " ['فبان لك أن العمران من نصف الأرض إلى جانبها الشمالي. ولما كانت مدورة كان العمران على هذه الصورة. أول هذا العمران من خط الاستواء الذي لا عرض له إلى منقطع الإقليم السابع حتى يكون العرض، وهو ارتفاع القطب خمسين جزء ونصف، وهذا حد مساكن الأمم المعروفة، وقد يخرج عن ذلك ما يكاد أن يسكن وينتجع إليه في الصيف أقاصي الخزر وأقاصي الترك والتغزغز والبرغر مما يصالي الروم. وما وراء ذلك فإن نهاره يقصر ويتلاشى حتى يصير الليل عليه أغلب، هو الموضع الذي يسمى الظلمات. وكانت ملوك العرب تنافس في دخولها لأجل السمعة وبعد الصوت، لا أن ثم غنيمة ولا جوهر مما ترويه العامة، وفي بعض تلك المواضع هلك تبع الأقرن\\u200f.\\u200f \\n'],\n",
              " ['وأما ما خلف خط الاستواء إلى الجنوب فإن طباعه تكون على طباع شق الشمال سواء في جميع أحواله إلا قدر ما ذكرنا في كتاب سرائر الحكمة من اختلاف حالي الشمس في رأس أوجها ونقطة حضيضها. وقد ذكر هرمس أن فيه أقاليم كمثل هذه الذي يحجر الناس عن بلوغه انفهاق البحر الأعظم دونه وشدة الخب فيه وسلطان الريح وعظم الموج وبعد المتناول، وقد يكاد أن يتعذر المركب في خلجه التي منها بحر الزنج وبحر المشرق، فكيف به، وأكثر ما يمتنع به في الأوقات المسعفة البعد والسعة، فأما بحر المغرب المظلم فإنما امتنع عن العابرين عليه لدخوله في الشمال. \\n'],\n",
              " ['الباب الأول: كيفية وجود صناعة الطب وأول حدوثها:\\n'],\n",
              " ['أقول: إن الكلام في تحقيق هذا المعنى يعسر لوجوه: أحدها: بعد العهد به، فإن كل ما بعد عهده وخصوص ما كان من هذا القبيل فإن النظر فيه عسر جد. الثاني: أننا لم نجد للقدماء والمتميزين وذوي الآراء الصادقة قول واحد ساد في هذا متفق عليه فنتبعه. الثالث: إن المتكلمين في هذا لما كانوا فرق وكانوا كثيري الاختلاف جد بحسب ما وقع إلى كل واحد منهم أشكل التوجيه في أي أقوالهم هو الحق. وقد ذكر جالينوس في تفسيره لكتاب الإيمان لأبقراط إن البحث فيما بين القدماء عن أول من وجد صناعة الطب لم يكن بحث يسير. ولنبدأ أول بإثبات ما ذكره مع ما ألحقناه به في جهة الحصر لهذه الآراء المختلفة، وذلك أن القول في وجود صناعة الطب ينقسم إلى قسمين أولين، فقوم يقولون بقدمه، وقوم يقولون بحدوثه، فالذين يعتقدون حدوث الأجسام يقولون إن صناعة الطب محدثة؛ لأن الأجسام التي يستعمل فيها الطب محدثة، والذين يعتقدون القدم يعتقدون في الطب قدمه، ويقولون إن صناعة الطب قديمة لم تزل مذ كانت كأحد الأشياء القديمة لم تزل مثل خلق الإنسان. وأما أصحاب الحدوث فينقسم قولهم إلى قسمين، فبعضهم يقول إن الطب خلق مع خلق الإنسان؛ إذ كان من أحد الأشياء التي بها صلاح الإنسان، وبعضهم يقول - وهم الجمهور - إن الطب استخرج بعد. وهؤلاء أيض ينقسمون قسمين، فمنهم من يقول إن الله تعالى ألهمها الناس، وأصحاب هذا الرأي على ما يقوله جالينوس وأبقراط وجميع أصحاب القياس وشعراء اليونانيين، ومنهم من يقول إن الناس استخرجوها، وهؤلاء قوم من أصحاب التجربة وأصحاب الحيل وثاسلس المغالط وفيلن، وهم أيض مختلفون في الوضع الذي به استخرجت، وبماذا استخرجت، فبعضهم يقول إن أهل مصر استخرجوها ويصححون ذلك من الدواء المسمى باليونانية الأنى، وهو الراسن، وبعضهم يقول إن هرمس استخرج سائر الصنائع والفلسفة والطب، وبعضهم يقول إن أهل فولوس استخرجوها من الأدوية التي ألفتها القابلة لامرأة الملك، فكان بها برؤها، وبعضهم يقول إن أهل موسيا وأفروجيا استخرجوها، وذلك أن هؤلاء أول من استخرج الزمر، فكانوا يشفون بتلك الألحان والإيقاعات آلام النفس، ويشفي آلام النفس ما يشفى به البدن. وبعضهم يقول إن المستخرج لها الحكماء من أهل قو، وهي الجزيرة التي كان بها أبقراط وآباؤه، وأعني آل إسقليبيوس.\\n'],\n",
              " ['وقد ذكر كثير من القدماء أن الطب ظهر في ثلاث جزائر في وسط الإقليم الرابع، إحداها تسمى رودس، والثانية تسمى قنيدس، والثالثة تسمى قو؛ ومن هذه كان أبقراط. وبعضهم يرى أن المستخرج لها الكلدانيون. وبعضهم يقول إن المستخرج لها السحرة من أهل اليمن. وبعضهم يقول بل السحرة من بابل أو السحرة من فارس. وبعضهم يقول إن المستخرج لها الهند. وبعضهم يقول إن المستخرج لها أهل أقريطش الذين ينسب لافتيمون إليهم. وبعضهم يقول أهل طورسيناء.\\n'],\n",
              " ['فالذين قالوا إن الطب من الله تعالى قال بعضهم هو إلهام بالرؤيا، واحتجوا بأن جماعة رأوا في الأحلام أدوية استعملوها في اليقظة فشفتهم من أمراض صعبة وشفت كل من استعملها. وقال قوم ألهمها الله تعالى بالتجربة ثم زاد الأمر في ذلك وقوي. واحتجوا أن امرأة كانت بمصر، وكانت شديدة الحزن والهم مبتلاة بالغنظ والدرد، ومع ذلك فكانت ضعيفة المعدة، وصدرها مملوء أخلاط رديئة، وكان حيضها محتبس، فاتفق لها أن أكلت الراسن مرار كثيرة بشهوة منها له فذهب عنها جميع ما كان بها ورجعت إلى صحتها، وجميع من كان به شيء مما كان بها ملم.\\n'],\n",
              " ['والذين قالوا إن الله تعالى خلق صناعة الطب احتجوا في ذلك بأنه لا يمكن في هذا العلم الجليل أن يستخرجه عقل إنسان، وهذا الرأي هو رأي جالينوس، وهذا نص ما ذكره في تفسيره لكتاب الإيمان لأبقراط. قال: وأما نحن فالأصوب عندنا والأولى أن نقول إن الله تبارك وتعالى خلق صناعة الطب وألهمها الناس، وذلك أنه لا يمكن في مثل هذا العلم الجليل أن يدركه عقل الإنسان، لكن الله تبارك وتعالى هو الخالق الذي هو بالحقيقة فقط يمكنه خلقه، وذلك أنا لا نجد الطب أحسن من الفلسفة التي يرون أن استخراجها كان من عند الله تبارك وتعالى.\\n'],\n",
              " ['ووجدت في كتاب الشيخ موفق الدين أسعد بن إلياس بن المطران الذي وسمه ببستان الأطباء وروضة الألباء كلام نقله عن أبي جابر المغربي، وهو هذا، قال: سبب وجود هذه الصناعة وحي وإلهام، والدليل على ذلك أن هذه الصناعة موضوعة للعناية بأشخاص الناس، إما لأن تفيدهم الصحة عند المرض، وإما لأن تحفظ الصحة عليهم. وممتنع أن تعنى الصناعة بالأشخاص بذاتها دون أن تكون مقرونة بعلم أمر هذه الأشخاص التي خصت العناية بها. ومن البين أن الأشخاص ذوات مبدأ لوقوعها تحت العدد، وكل معدود فأوله واحد تكثر، ولا يجوز أن تكون أشخاص الناس إلى ما لا نهاية له؛ لأن خروج ما لا نهاية له إلى الفعل محال. قال ابن المطران: ليس كل ما لا يقدر على حصره فلا نهاية له، بل قد تكون له نهاية يضعف عن حصرها. قال أبو جابر: وإذا كانت الأشخاص التي لا تقوم هذه الصناعة إلا بها ذوات مبدأ ضرورة، فالصناعة ذات مبدأ ضرورة. ومن البين أن الشخص الذي هو أول الكثرة مفتقر إليها كافتقار سائرهم. ومن البين أيض أنه لا يأتي من أول شخص وجد علم هذه الصناعة استنباط لقصر عمره وطول الصناعة، ولا يجوز أن يجتمعوا في مبدأ الكثرة على استنباطها من أجل أن الصناعة متقنة محكمة، وكل أمر متقن لا يستنبط بالاختلاف، بل بالاتفاق. والأشخاص التي هي أول في الكثرة لا يجوز أن تجتمع على أمر متقن من أجل أن كل شخص لا يساوي كل شخص من جميع الجهات، وإذا لم تتساو من جهة آرائها لم يجز أن تجتمع على أمر محكم. قال ابن المطران: هذا يؤدي أيض في باقي العلوم والصناعات إلى أنها إلهام؛ لأنها ذوات إتقان أيض. وقوله أيض أن الأشخاص لا يجوز أن تجتمع على أمر متقن ليس بشيء، بل اجتماعها لا يكون إلا على أمر متقن، وإنما الاختلاف يقع مع عدم الإتقان. قال أبو جابر: فقد بان أن الأشخاص في مبدأ الكثرة لا يتأتى منها استنباط هذه الصناعة، وكذلك عند نهاية الكثرة؛ لتباينهم وافتراقهم ووقوع الخلف بينهم. ونقول أيض: يجوز أن يشك شاك فيقول: هل يتأتى عندك أن يعرف إنسان من الناس أو كثير منهم منابت الحشائش والعقاقير ومواضع المعادن وخواصها وقوى أعضاء سائر الحيوان وخواصها ومضارها ومنافعها، ويعرف سائر الأمراض والبلدان واختلاف أمزجة أهلها مع تفريق ديارهم، ويعرف القوة التي ينتجها تركيب الأدوية وما يضاد قوة قوة من قوى الأدوية وما يلائم مزاج مزاج، وما يضاده، مع ما يتبع ذلك من سائر صناعة الطب، فإن سهل ذلك وهونه كذب، وإن صعب أمره في علمه من جهة المعرفة، قلنا: استنباطه ممتنع، وإذا لم يكن للصناعة الطبية لابتدائها إلا الاستنباط أو الوحي أو الإلهام.\\n'],\n",
              " ['الفصل الرابع:\\n'],\n",
              " ['الإنسان وأوجه امتيازه:\\n'],\n",
              " ['أوجه امتيازه ومغزاها:\\n'],\n",
              " ['يمتاز الإنسان على سائر أفراد المملكة الحيوانية بشكل قامته وحجم مخه وقدرة جهازه الهضمي وطول فترة طفولته، فقامة الإنسان منتصبة تمام لا يشبهه في ذلك شيء، وقد استدعى هذا الوضع نوع من الاختلاف الواضح والتخصص في وظائف الأطراف، فالساقان خصصتا للمشي؛ إذ ينتهيان بقدمين مصممتين وملائمتين تمام للخطو على الأرض، لا لتسلق الأشجار أو التعلق بأغصانها كبقية فصائل القردة. أما الذراعان فمستقيمان تمام، وأهم ما يميزهما وضع أصبع الإبهام في الكف بشكل يسمح بحرية الحركة والقبض على الأشياء في إحكام، وتقليبها في يسر، وبالتالي تمكن الإنسان منذ القدم من صنع أدواته وآلاته ومعالجتها واستعمالها بدقة.\\n'],\n",
              " ['كذلك يتميز الإنسان بمخ كبير بالقياس لوزنه، وتبلغ نسبة معدل وزن المخ للجسم فيه واحد إلى خمسين، وهي نسبة عالية لا يفوق البشر فيها سوى عدد قليل من الحيوانات الضخمة كالفيل والحوت ووحيد القرن والكركدن، أما أقرب الحيوانات إلينا كالشيمبانزي والغوريلا، فالفرق العقلي بيننا وبينها شاسع جد، فالشيمبانزي الذي يزن سبعة أعشار وزن الإنسان له مخ لا يتعدى وزنه ثلث مخ الإنسان، أما من الناحية الوظيفية فيمتاز مخ الإنسان على غيره بالقدرة على التفكير والتجريد والإبداع وتبادل الأفكار وخزنها.\\n'],\n",
              " ['بالنسبة للجهاز الهضمي، لا يدانينا في خصائصه وقدراته شيء من المخلوقات القريبة أو البعيدة باستثناء الخنزير، فإن لأجهزتنا القابلية والقدرة على تقبل وهضم الطعام والاستفادة الفسيولوجية من طائفة كبيرة من المواد الغذائية المختلفة سواء كانت نباتية أو حيوانية أو معدنية، وبديهي أن مثل هذه القدرة تساعد الإنسان على الانتشار في كافة البيئات، كما أنها تطيل عمره وتنمي فرص بقائه واستمراره، فشح أحد المصادر السابقة لن يؤدي إلى الهلاك حيث يمكن أن يستبدل بالمصدر الآخر، فحيثما لا تتوافر المواد النباتية الغذائية، يمكن أن يعتمد الإنسان في غذائه على الأسماك أو الأصداف أو بيض الطيور، ولا بأس من صغار بعض أصناف الحيوان كالضفادع والفئران والديدان والجراد والثعابين، وهي أشياء ما زالت تؤكل بين جماعات الصيادين حتى اليوم.\\n'],\n",
              " ['أما طول فترة الطفولة والعجز، واعتماد الطفل البشري كلية على أبويه بعكس صغار بقية الحيوانات، فإن هذا وإن بدا للوهلة الأولى مظهر ضعف إلا أنه كان الباعث على تأصل روابط الأمومة لدى الأنثى، التي حولها التأم شمل العائلة في تنظيم اجتماعي أساسي هو الأسرة خلية كافة المجتمعات. ويعتقد بأن كبر حجم رأس الطفل البشري بالنسبة لحجم جسمه هو سر فترة عجزه الجسمي، هذا فضل عن رقة جلده، وحاجته إلى الحماية من المؤثرات الخارجية، ثم إنه في أطوار نموه الأولى يظل الطفل البشري في حاجة إلى التعليم ومده بالطعام والكساء، حتى يشتد عوده ويقوى على مجابهة المصاعب، ويصير قادر على السعي بحث عن رزقه، ويترتب على ما تقدم أن تمتد الصحبة بين الطفل ووالديه، وأن يطول الائتلاف بينهم، وهذا هو سر قوة الجنس البشري؛ لأنه يعطي فرصة التعلم وزيادة التراث وتراكم خبرات الأجيال.\\n'],\n",
              " ['ارتباط الطفل بأمه وارتباط الأم ببقعة معينة بعد الوضع كان بدوره باعث على حياة استقرار مؤقتة، وتطورت مع الوقت إلى حياة استقرار تام، فنشأت فكرة المأوى أو المسكن، الذي سمح بدوره بوجود مكان لتخزين الطعام الفائض عن الحاجة، فاتضح دور الأم مبكر في أمور هامة، كإعداد المسكن وحراسته والعناية بالطعام وخزنه، بينما يقوم الرجل على غير ذلك من الشؤون، وقد كان هذا مدعاة لوحدة الزوجة، وهذه الظاهرة بالإضافة إلى فكرة ادخار الغذاء وخزنه ثم التجميع في عدد من الأسرات المتقاربة التي تتشارك العيش في مكان واحد، كلها من المظاهر الشائعة بين بعض أنواع الحيوان، ولذا فليس من المستبعد وجودها بين الإنسان منذ فجر الحياة البشرية، كما لا تعني هجرة الإنسان فصلي في ذلك الوقت المبكر أنه كان بالضرورة إنسان مرتحل، شيمته البداوة؛ لأن البداوة نظام اجتماعي متخصص لم يظهر إلا في مراحل تالية. فالكائن الذي لا يفكر في غده فيأكل حتى يتخم متى وجد، ويموت جوع إذا لم يجد ما كان بمستطاعه أن يرث الأرض، أو يرسي دعائم الحضارة الإنسانية، فلأسلافنا القدامى ندين بعقليتنا الاقتصادية ونزعتنا نحو الادخار والتحسب، ثم إن نجاح الإنسان في البقاء دون أن ينقرض، والانتشار في بيئات متنوعة شاسعة لدليل على خبرات راقية اكتسبتها الجماعات من ممارسة العيش في ظل ظروف طبيعية متغايرة.\\n'],\n",
              " ['الحضارة كما أسلفنا قصر على الإنسان دون غيره، فهي نتاج العقل البشري والإرث الاجتماعي لتراث متطور، وهي في الواقع سلسلة متصلة الحلقات، وهذا ما يؤكده السجل الأثري بناء على ما وجد من أدوات صوانية من صنع الإنسان دفنت مع مخلفاته، فتلك الأدوات في صياغتها وتشكيلها تدل على تطور صاعد نحو الترقي في كافة جهات العالم المأهول آنذاك. ولكن لسوء الحظ دل استقراء البقايا البشرية من عظام الإنسان الحفري على وجود نوع من الانقطاع المفاجئ أو الفراغ بين إنسان غير عاقل هو ما عرف بسلالة نياندرتال، وبين الإنسان العاقل الذي ننحدر نحن من سبطه، ونياندرتال هو صاحب الحضارة الموستيرية، وكان ينتشر في أجزاء من أوربا وآسيا حتى الشرق الأقصى وإفريقيا حتى جنوبها، ويعتقد بأنه يختلف عن الإنسان العاقل تشريحي في عدة أمور، أولها عدم انتصاب قامته تمام، وصغر حجم المخ وبروز الحاجبين وكبر حجم الأسنان. ويعتبر هذا الإنسان ذا قرابة للإنسان الحالي، ولكنه ليس بجده؛ إذ إن إنسان نياتدرتال لم يتطور وانقرض فجأة، وحل محله الإنسان الحديث، وما زالت الصلة غير واضحة بين النوعين، وقد أوجد هذا الاختلاف جدل شديد بين علماء الأجناس، غير أن الأدلة الأركيولوجية تثبت استمرار التطور الحضاري، على نحو لم يكن فيه طفرة تتناسب مع تغير السلالة.\\n'],\n",
              " ['إن أقدم الوسائل لتوليد النار تتم بتجويف كتلة من الخشب من جذع شجرة، ودفع قضيب منه وإدارته بسرعة في التجويف فترة كافية لتوليد حرارة احتكاك، يمكن معها الحصول على قبس ينقل إلى هشيم فيشتعل. هذه الوسيلة ما تزال مستخدمة حتى الآن في بعض المجتمعات البدائية، وخاصة بين الأستراليين الأصليين، كما استمر استخدامها في بعض مناطق أوربا كبريطانيا والسويد؛ وذلك على سبيل التسلية في الحفلات الشعبية حتى أواخر القرن الثامن عشر. ومن الوسائل الأخرى الشائعة حتى بين البدو ضرب كتلتين من الحجر أو الصوان، مما يولد شرارة تلتقط على قطعة من الألياف النباتية فتشتعل، وقد تطورت هذه الطريقة بعد معرفة الحديد، وذلك بضرب قضيب منه على قطعة من الصوان، والتقاط الشرر على ندفة قطن، وهذا كما نرى نوع بدائي من القداحات، أو على الأقل الفكرة التي أوحت بها، وقد اخترعت بعد ذلك أعواد الثقاب في أواخر القرن السابع عشر، ولكن ما زالت بعض الطرق السابقة مستخدمة في المجتمعات البدائية، أما طريقة تركيز أشعة الشمس على جسم قابل للاشتعال بواسطة عدسة فهي أيض طريقة قديمة، ويعتقد بأن استخدامها كان قصر على الكهنة والسحرة؛ لإظهار مقدرتهم في مناطق خاصة في العالم. ما يهمنا الآن هو أثر النار كأداة وطاقة في يد الإنسان.\\n'],\n",
              " ['خصائص الشعر اليمني:\\n'],\n",
              " ['الشعر كما يخيل إلي تصوير وتعبير، تصوير لفكرة أو عاطفة أو ذكرى، أو أي معنى من معاني الحياة، ثم تعبير عن ذلك بأسلوب موسيقي ينسق الصورة، وينغم التعبير، ولا تتفاوت قيمة أي شعر عن شعر آخر إلا بمقدار قوة وحيوية التعبير وعمق وسمو التصوير، ثم جودة التنسيق بينهما، وانسجام التنغيم بحيث يطرب له السمع ولا يمجه الذوق، ويسبح بالأفكار والأرواح في عوالم جميلة.\\n'],\n",
              " ['وإذا كان الشعر ديوان العرب، فإن ذلك يتجلى واضح في حياة اليمنيين وواقعهم، سواء بالنسبة إلى ماضيهم العتيد أو حاضرهم المحفز. الشعر أعظم ما يهتمون به، وأقدس ما يعتزون، وهو فنهم الوحيد يلونون به مجتمعهم وتقاليدهم وتعاليمهم وعلومهم وتاريخهم، بل وعقائدهم.\\n'],\n",
              " ['وإذا كان الشعر كما قال شوقي: والشعر ما لم يكن ذكرى وعاطفة أو حكمة فه تقطيع وأوزان.\\n'],\n",
              " ['فإن اليمنيين كانوا وما زالوا يصبغون كل شأن من شؤون حياتهم بصبغة شعرية تصور أفكارهم وعقائدهم وعواطفهم، وتعبر عن أحاسيسهم إزاءها تعبير موسيقي راقص. والناقد والأديب قد يستطيع أن يميز المعنى الكريم والغرض الشريف ويفرق بين ما يحق أن يسمى شعر وما يسمى نظم، ولكنه لا يستطيع أن ينكر أن هؤلاء قد حاولوا أن يجعلوا كل حياتهم شعر، فإن فقدوه فلم يفقدوا التقاطيع والأوزان، وما النغم والرقص إلا تقاطيع وأوزان، والمنظومات العلمية واللغوية والدينية والزوامل والغناوي كلها تقاطيع وأوزان، وما أكثرها في تراث اليمنيين القديم منه والحديث، وهي تصور لنا أوضح تصوير الطبيعة الشاعرة ومدى تحكمها في نفسية هذا الشعب، وتقديره لسحر الكلمة وانسياقه لقيادتها، وكيف أن أبناءه يتأثرون بشيء كما يتأثرون بمثل سائر أو بيت من الشعر أو حكمة بالغة.\\n'],\n",
              " ['والشعر العربي الجاهلي في اليمن لا يختلف كثير عن الشعر العربي الجاهلي في سائر أصقاع الجزيرة، فالقوة والعمق وشمول النظرة وتجسيد الفكرة وإبداع المعنى الجليل في اللفظ القليل واستخراج دقائق الموصوفات واستكناه غوامض المعاني وتزويد الحس والفكر بما يبهج أو يزعج أو يترح أو يفرح من طاقات تحرك وانفعالات شتى تستبد بمسالك الأحلام والخيالات والعواطف.\\n'],\n",
              " ['والشاعر اليمني في الجاهلية كسائر الشعراء في شمال الجزيرة العربية قد وصف الحيوان والطبيعة، وافتخر بنفسه وقبيلته، واستخدم الغريب والتشبيهات البعيدة، وتخيل الصور العجيبة، واستلهم الحكمة البالغة، وبكى الدمن وآثارها، كما أن الشعر اليمني في كل من القرن الأول والثاني والثالث للهجرة لا يختلف قوة أداء وفصاحة ولغة وجودة تعبير وتصوير عن الشعر العربي في العراق والشام والحجاز، غير أن ما يجتاح اليمن من فتن ومذاهب وثورات وحروب قد صبغه بلون أرجواني تكاد رائحة الدم تفوح من بين أوزانه وقوافيه، وأرغم شعراء تلك القرون أن يفترعوا الفتن ويثوروا مع الثائرين، وينافحوا عن معتقداتهم، ويحاربوا من أجلها ويقولوا الشعر تحريض أو تحدي، ووعد أو وعيد، وفخر أو بكاء، وكثير منهم كان القائد والفارس والسلطان. فالقلق والخوف والمقارعة والتشرد جعلهم لا يتأثرون كثير بما تأثر به شعراء بغداد ودمشق والمدينة من حضارة مستحدثة وأفكار مستوردة، ورفاهة مادية، وإن كان روي لبعض شعراء صنعاء حينذاك ما يوحي بمجاراتهم لشعراء تلك العواصم في السلاسة والرقة، وممارسة المعنى والأساليب الجديدة، والإغراق في المجون، ووصف مباهج الحياة، نقرر هذا وإن كان لنا رأي خاص في هذا الباب ومدى صدق الشاعر في ترجمته لبيئته ومحيطه.\\n'],\n",
              " ['فما يتكلم عنه النقاد ومؤرخو الأدب ويسمونه بخصائص الشعر أو مميزاته، ويعنون السمات التي تفرق بين شعر فترة وأخرى من فترات التاريخ، وتخص أمة دون أمة من بني البشر، ويفيضون في ذلك ويسهبون، نقف منه –بالنسبة للشعر الجاهلي وشعر القرنين الأول والثاني- موقف الحيطة والحذر، رغم ما قاله النقاد ومؤرخو الأدب العربي المحدثون في هذا الباب، وما أسرفوا فيه من فلسفة بيان.\\n'],\n",
              " ['حق إن الناقد الخريت والأديب الفهامة ومن صرف وقت طويل في دراسة أساليب الشعر العربي وفنونه يستطيع أن يميز بين الشعر الجاهلي وشعر صدر الإسلام ويشعر بفوارق تفصل بينهما، ويلمس أمور يرجع بعضها إلى الشكل، وبعضها إلى الموضوع، يمكن أن يتعرف بها على هذا أو ذاك، ولكنه لا يستطيع في نفس الوقت أن يحللها تحليل فني دقيق يفضي بالباحث إلى قاعدة مطردة لا تشذ، وطابع لا يتغير، كما استطاع نقاد فن الرسم والنحت وكثير من الفنون أن يحددوا إلى حد ما مميزاتها على حسب العصور وتطور الأجيال ومسايرة الإنسان وأفكاره لنمو المجتمع وبيئته وعقائده وتقاليده.\\n'],\n",
              " ['إن أكثر ما قاله النقاد ومؤرخو الأدب العربي عن خصائص الشعر الجاهلي وسماته مجرد افتراضات غير ثابتة يستطيع الحاذق الفطن أن ينقضها بسهولة، فمن يقول إن طابع الشعر الجاهلي هو الخشونة يستطيع أن يجد في الشعر الإسلامي ما هو أشد خشونة من بعض الشعر الجاهلي، ويجد أشعار جاهلية تذوب رقة وسلاسة ولين، ومن يقول إن شعراء الجاهلية قد أكثروا من ذكر الأماكن والوقوف على الأطلال ووصف الحيوانات وما شاكل ذلك، لا يستطيع أن ينكر إذا أمعن النظر وأرجع البصر أن شعراء القرنين الأول والثاني للهجرة قد أكثروا من ذلك أيض ومنهم من أسرف وتجاوز أسلافه وبزهم.  والذين يحصرون الشعر الجاهلي أو معظمه على ما كان الجاهليون يتحلون به من فضائل، وما كانوا يقدسونه من مكارم الأخلاق مثل الوفاء بالعهد، وحماية الجار، والدفاع عن الحريم، والانتصار للعشيرة، والصبر والصدق واحتمال المكروه، إلى وصف المشقات والأهوال والنوق، ومناجاة الأطلال والأحباب، وهجو الخصوم، وبكاء القتلى والموتى، لا يستطيعون أن ننكر أن شعر صدر الإسلام لم يهمل شيئ من ذلك، وإن يكن قد فتح أبواب جديدة أو وسعها بتعبير أدق وأصدق.\\n'],\n",
              " ['وهكذا لا يضرب من يحاول أن يضع لنا حدود أو يفترض مميزات أو يصطنع سمات لشعر أي فترة من فترات الجاهلية وصدر الإسلام والقرن الذي يليه بمثل من الأمثال إلا جيء له بمثل أكبر يهدم ما بناه، وينقض ما سواه.\\n'],\n",
              " ['ومع ذلك فالأديب حق والناقد حق يستطيع أن يميز بين الشعر الجاهلي والشعر الإسلامي، ونحن نعرف من أدبائنا الكبار من يستطيع وأنت تقرأ له شعر ما أن يقول: هذا بنفس فلان أليق، وذلك بأسلوب فلان أخلق، وذاك أحس أنه شعر الأخطل أو الفرزدق أو النابغة أو الأعشى. وحين تسأله كيف عرفت ذلك، وما هي الخصائص والسمات الممكن اعتبارها في هذا الشأن. يكتفي بأن يقول: إنها مجرد خبرة أو إدراك لا يستطيع له وصف ولا يجد له بيان أو تفصيل؛ لأن ما ورد إلينا من الشعر الجاهلي قليل، ودراستنا لا تزال ناقصة، وما غاب عنا كثير، وما ينتظر أن نتوصل إلى معرفته جليل الخطر والأهمية، ثم إن الأمر كما قال ابن سلام: نعرفه بلا صفة ينتهى إليها، ولا علم يوقف عليه.\\n'],\n",
              " ['ونحن وقد قرأنا من الشعر اليمني ولمختلف الشعراء في كل العصور كلما حاولنا أن نفرد له مميزات خاصة أخفقنا، فهو أحيان يسيل رقة وسلاسة، وأخرى يغلظ جفوة وبداوة، وقد يلين، ويتراخى، ويتخلع، وقد ينبو وينفر ويتوثب، وتارة هو النسيم العليل، وحين هو الإعصار فيه نار، ولكنه على كل أحواله شعر الطبع اليمني الكريم. \\n'],\n",
              " ['سنة ثمان وستين وخمسمئة:\\n'],\n",
              " ['فيها خرج السلطان صلاح الدين بعساكره يريد بلاد الكرك والشوبك، فإنه كان كلما بلغه عن قافلة أنها خرجت من الشام تريد مصر خرج إليها ليحميها من الفرنج، فأراد التوسيع في الطريق وتسهيلها وسار إليها وحاصرها فلم ينل منها قصد وعاد\\u200f.\\u200f \\n'],\n",
              " ['وفيها جهز صلاح الدين الهدية إلى السلطان نور الدين، وفيها من الأمتعة والآلات الفضية والذهبية والبلور واليشم أشياء يعز وجود مثلها، ومن الجواهر واللآلئ شيء عظيم القدر، ومن العين ستون ألف دينار، وكثير من الغرائب المستحسنة، وفيل وحمار عتابي وثلاث قطع بلخش فيها ما وزنه نيف وثلاثون مثقال، وكان ذلك في شوال\\u200f.\\u200f \\n'],\n",
              " ['وفيها خرج العبيد من بلاد النوبة لحصار أسوان وبها كنز الدولة، فجهز السلطان الشجاع البعلبكي في عسكر كبير، فسار إلى أسوان وقد رحل العبيد عنها، فتبعهم ومعه كنز الدولة وواقعهم وقتل منهم كثير وعاد إلى القاهرة\\u200f.\\u200f \\n'],\n",
              " ['وفيها سار الملك المعظم شمس الدولة فخر الدين تورانشاه بن أيوب أخو السلطان صلاح الدين إلى بلاد النوبة وفتح قلعة إبريم وسبى وغنم وعاد إلى أسوان وأقطع إبريم رجل يعرف بإبراهيم الكردي، فسار إليها في عدة من الأكراد وانبثوا يشنون الغارات على بلاد النوبة حتى امتلأت أيديهم بالأموال والمواشي بعد فقر وجهد، فوافى كتاب ملك النوبة إلى شمس الدولة وهو بقوص مع هدية فأكرم رسوله وخلع عليه وأعطاه زوجين من نشاب، وقال له\\u200f:\\u200f \\u200f\"قل للملك ما لك عندي جواب إلا هذا\\u200f\"، \\u200fوجهز معه رسول ليكشف له خبر البلاد، فسار إلى دمقلة وعاد إليه فقال\\u200f:\\u200f \\u200f\"\\u200fوجدت بلاد ضيقة ليس بها من الزرع سوى الذرة ونخل صغير منه إدامهم، ويخرج الملك وهو عريان على فرس عري وقد التف في ثوب أطلس وليس على رأسه شعر\\u200f.\\u200f \\n'],\n",
              " ['فلما قدمت عليه وسلمت ضحك وتغاشى وأمر بي فكويت على يدي هيئة صليب، وأنعم علي بنحو خمسين رطل من دقيق وليس في دمقلة عمارة سوى دار الملك وباقيها أخصاص\\u200f\"\\u200f\\u200f.\\u200f \\n'],\n",
              " ['وفيها عظم هم السلطان نور الدين بأمر مصر وأخذه من استيلاء صلاح الدين عليها المقيم المقعد، وأكثر من مراسلته بحمل الأموال، ثم بعث بوزيره الصاحب موفق الدين خالد بن محمد بن نصر بن صغير القيسراني إلى مصر لعمل حساب البلاد وكشف أحوالها وتقرير القطيعة على صلاح الدين في كل سنة واختيار طاعته، فقدم إلى القاهرة، وكان من أمره ما يأتي ذكره إن شاء الله\\u200f.\\u200f \\n'],\n",
              " ['وفيها مات أيوب بن شادي بن مروان بن يعقوب نجم الدين الملقب بالملك الأفضل أبي سعيد الكردي والد السلطان صلاح الدين يوسف. وذلك أنه خرج من باب النصر بالقاهرة، فألقاه الفرس إلى الأرض يوم الثلاثاء ثامن عشر ذي الحجة، فحمل إلى داره في تاسع عشره، وقيل: لثلاث بقين منه، فقبر عند أخيه أسد الدين شيركوه، ثم نقلا إلى المدينة النبوية في سنة ثمانين وخمسمئة\\u200f.\\u200f\\n'],\n",
              " ['سنة تسع وستين وخمسمئة:\\n'],\n",
              " ['فيها وصل إلى القاهرة موفق الدين أبو البقاء خالد بن محمد بن نصر بن صغير المعروف بابن القيسراني من عند السلطان الملك العادل نور الدين مطالب لصلاح الدين بالحساب عن جميع ما أخذ من قصور الخلفاء وحصل من الارتفاع\\u200f. فشق ذلك عليه وقال\\u200f: \\u200f\"إلى هذا الحد وصلنا\\u200f\"،\\u200f وأوقفه على ما تحصل له وعرض عليه الأجناد وعرفه مبالغ إقطاعاتهم وجامكياتهم ورواتب نفقاتهم ثم قال\\u200f:\\u200f \\u200f\"\\u200f وما يضبط هذا الإقليم العظيم إلا بالمال الكبير، وأنت تعرف أكابر الدولة وعظماءها، وأنهم معتادون بالنعمة والسعة، وقد تصرفوا في أماكن لا يمكن انتزاعها منهم ولا يسمحون بأن ينقص من ارتفاعها\". وأخذ يجمع المال\\u200f. \\u200fوفيها سار الأمير شمس الدولة تورانشاه أخو السلطان صلاح الدين إلى اليمن، وذلك لشدة خوف صلاح الدين وأهله من الملك العادل نور الدين أن يدخل إلى مصر وينتزعهم منها، فأحبوا أن يكون لهم مملكة يصيرون إليها\\u200f.\\u200f \\n'],\n",
              " ['وكان اختيارهم قد وقع على النوبة، فلما سار إليها لم تعجبه وعاد\\u200f.\\u200f \\n'],\n",
              " ['وكان الفقيه عمارة اليماني قد انقطع إلى الأمير شمس الدولة ومدحه واختص به وحدثه عن بلاد اليمن وكثرة الأموال بها وهون أمرها عنده وأغراه بأن يستبد بملك اليمن، وتعرض لذلك في كلمته التي أولها\\u200f:\\u200f العلم مذ كان محتاج إلى العلم وشفرة للسيف تستغني عن القلم، ومنها\\u200f:\\u200f فاخلق لنفسك ملك لا تضاف به إلى سواك وأور النار في العلم هذا ابن تومرت قد كانت بدايته كما يقول الورى لحم على وضم. وكان شمس الدولة مع ذلك جواد كثير الإنفاق فلم يقنع بما له من الإقطاع بمصر وأحب الوسع، فاستأذن صلاح الدين في المسير، فأذن له، واستعد لذلك وجمع وحشد وسار مستهل رجب\\u200f.\\u200f \\n'],\n",
              " ['فوصل إلى مكة فزار ثم خرج منها يريد اليمن وبها يومئذ أبو الحسن علي بن مهدي، ويقال له عبد النبي\\u200f.\\u200f \\n'],\n",
              " ['فاستولى على زبيد في سابع شوال، وقبض على عبد النبي، وأخذ ما سواها من مدائن اليمن، وتلقب بالملك المعظم، وخطب له بذلك بعد الخليفة المستضيء بأمر الله في جميع ما فتحه وبعث إلى القاهرة بذلك\\u200f.\\u200f \\n'],\n",
              " ['فسير السلطان صلاح الدين إلى الملك العادل يعلمه بذلك فبعث بالخبر إلى الخليفة المستضيء ببغداد\\u200f.\\u200f \\n'],\n",
              " ['وفي سادس شعبان\\u200f:\\u200f قبض على أولاد العاضد وأقاربه، وأخرجوا من القصر إلى دار المظفر بحارة برجوان في العشر الأخير من رمضان\\u200f.\\u200f \\n'],\n",
              " ['وفيها اجتمع طائفة من أهل القاهرة على إقامة رجل من أولاد العاضد وأن يفتكوا بصلاح الدين، وكاتبوا الفرنج، منهم القاضي المفضل ضياء الدين نصر الله بن عبد الله بن كامل القاضي، والشريف الجليس، ونجاح الحمامي، والفقيه عمارة بن علي اليماني، وعبد الصمد الكاتب، والقاضي الأعز سلامة العوريس متولي ديوان النظر ثم القضاء، وداعي الدعاة عبد الجبار بن إسماعيل بن عبد القوي، والواعظ زين الدين بن نجافوشى بن نجا، بخبرهم إلى السلطان، وسأله في أن ينعم عليه بجميع ما لابن كامل الداعي من الدور والموجود كله، فأجيب إلى ذلك، فأحيط بهم وشنقوا في يوم السبت ثاني شهر رمضان بين القصرين، فشنق عمارة وصلب فيما بين بابي الذهب وباب البحر، وابن كامل في رأس الخروقيين التي تعرف اليوم بسوق أمير الجيوش، والعوريس على درب السلسلة، وعبد الصمد وابن سلامة وابن المظبي مصطنع الدولة والحاج ابن عبد القوي بالقاهرة، وشنق ابن كامل القاضي بالقاهرة يوم الأربعاء تاسع عشر شوال، وشنق أيض شبرما وأصحابه وجماعة من الأجناد والعبيد والحاشية وبعض أمراء صلاح الدين. وقبض صلاح الدين سائر ما وجد عندهم من مال وعقار، ولم يمكن ورثتهم من شيء البتة، وتتبع من له هوى في الدولة الفاطمية، فقتل منهم كثير وأسر كثير، ونودي بأن يرحل كافة الأجناد وحاشية القصر وراجل السودان إلى أقصى بلاد الصعيد\\u200f.\\u200f \\n'],\n",
              " ['وقبض على رجل يقال له قديد بالإسكندرية من دعاة الفاطميين يوم الأحد خامس عشر رمضان، وقبض على كثير من السودان وكووا بالنار في وجوههم وصدورهم\\u200f.\\u200f \\n'],\n",
              " ['وفيها جهز السلطان مع الوزير ابن القيسراني ما تحصل عنده من المال وأصحبه هدية لنور الدين، وهي خمس ختمات إحداها فى ثلاثين جزء مغشاة بأطلس أزرق ومضببة بصفائح ذهب وعليها أقفال من ذهب مكتوبة بخط ذهب وأخرى في عشرة أجزاء مغشاة بديباج فستقي. \\n'],\n",
              " ['الفصل السادس\\n'],\n",
              " ['في كيفيات أغلاط البصر التي تكون في المعرفة بحسب كل واحد من العلل التي من أجلها يعرض للبصر الغلط.\\n'],\n",
              " ['قد تبين في المقالة الثانية أن إدراك مائيات جميع المبصرات إنما يكون بالمعرفة لأن إدراك مائية المبصر إنما هو من تشبيه صورة المبصر بصورة أمثال ذلك المبصر التي يعرفها البصر. وتشبيه الصورة بما يعرفه البصر من أمثالها هو المعرفة بالنوع.\\n'],\n",
              " ['وقد تبين أيض أن معرفة الشخص إنما هي من تشبيه صورة الشخص التي يدركها البصر في حال معرفة الشخص بصورته التي أدركها من قبل وهو ذاكر لها. وإذا كان ذلك كذلك فغلط البصر في مائية البصر إنما هو غلط في المعرفة وهو غلط في نوعية المبصر. وكذلك أيض إذا شبه البصر شخص من الأشخاص بشخص قد عرفه من قبل وظنه ذلك الشخص بعينه، ولم يكن ذلك الشخص، يكون ذلك غلط في المعرفة. والغلط في تشبيه صورة الشخص بصورة شخص آخر بعينه هو غلط في الشخصية. وليس تكون المعرفة إلا بالشخص أو النوع أو بمجموعهما.\\n'],\n",
              " ['ومن عادة البصر إذا أدرك مبصر من المبصرات أنه في حال ملاحظته يشبه صورته بأمثالها من صور المبصرات التي يعرفها وتكثر مشاهدته لها، ويشبه المعاني التي في المبصر أيض بأمثالها من المعاني التي في المبصرات، فيعرف بذلك شخصية ذلك المبصر أو نوعيته أو مجموعهما ويعرف المعاني التي في ذلك المبصر. ومعرفة البصر بجميع ما يعرفه من المبصرات وبجميع ما يعرفه من المعاني المدركة بحاسة البصر إنما هو على هذه الصفة.\\n'],\n",
              " ['وإذا شك البصر في مائية المبصر أو في شيء من المعاني التي يدركها، ولم يعرفه في حال ملاحظته فإنه يشبهه بأقرب الأشياء شبه به مما قد عرفه وألفه. والقوة الحساسة مطبوعة على تشبيه ما تدركه في الحال بما أدركته من قبل، وهذا المعنى موجود في جميع الحواس. ومن تشبيه البصر ما يدركه من المبصرات بما يعرفه من أمثاله، ومما هو مطبوع عليه من هذه الحال، يعرض له الغلط في معرفة المبصر الذي يغلط في معرفته إذا لم يكن إدراكه المبصر على غاية التحقيق. وإذا كان إدراك البصر للمبصر إدراك محقق فليس يعرض له الغلط في معرفة المبصر. وليس يكون إدراك البصر للمبصر إدراك غير محقق إلا إذا كان واحد من المعاني التي بها يتم إدراك المبصر على ما هو عليه خارج عن عرض الاعتدال أو أكثر من واحد منها. فأما كيف يكون غلط البصر في المعرفة من أجل خروج بعد المبصر عن عرض الاعتدال فكالشخص الذي يدركه البصر من بعد متفاوت فيشبهه بشخص يعرفه فيظنه ذاك الشخص بعينه ولا يكون ذلك الشخص، فيكون غالط في إدراكه ويكون ذلك الغلط غلط في المعرفة لأنه إذا شبه الشخص بشخص يعرفه وظنه ذلك الذي يعرفه بعينه فإنه يظن أنه قد عرفه، وإذا لم يكن الشخص ذلك الشخص بعينه فإنه يكون غالط في معرفته، وتكون علة هذا الغلط هو خروج بعد المبصر عن عرض الاعتدال؛ لأن ذلك الشخص بعينه إذا كان قريب من البصر وعلى بعد معتدل فإن البصر يدركه إدراك صحيح ولا تشتبه عليه صورته بصورة غيره إذا كانت المعاني الباقية التي فيه التي بها يتم إدراك المبصر على ما هو عليه في عرض الاعتدال. وهذا النوع من الغلط كثير ويعرض للبصر دائم. لأن البصر إذا رأى إنسان من بعد فربما شبهه بإنسان يعرفه ولا يكون ذلك الإنسان. وكذلك إذا رأى فرس أو بغل أو حمار أو ثور أو شجرة أو ثمرة أو نبات أو حجر أو ثوب أو آنية من الأواني التي يستعملها الناس أو آلة من الآلات، وكانت رؤيته لذلك من بعد مفرط فإنه ربما شبهه بنظير له قد أدركه من قبل ذلك الوقت، وهو ذاكر له وعارف به، ولا يكون ذلك بعينه. وكذلك قد يعرض للبصر الغلط من البعد المتفاوت في نوعية المبصر، فإن البصر إذا رأى فرس من بعد متفاوت فربما ظنه حمار, لأنه يراه من البعد المتفاوت أصغر من مقداره الحقيقي، وربما ظنه حمار بعينه إذا كان قد ألف في ذلك الموضع حمار بعينه، فيكون غالط في نوعية ذلك الفرس وفي شخصيته جميع. وربما رأى البصر من البعد حمار ويظنه فرس، ويظن أن صغره إنما هو لبعده. وربما رأى بغل فظنه فرس. وربما رأى ثور فظنه حمار. وربما رأى عنز فظنه كلب. وكذلك أيض ربما رأى من البعد شجر فظنها نبات لأنه يراها من البعد صغار. وربما رأى نبات فظنه شجر ويظن أن صغرها هو لبعدها. وربما رأى ثمرة فشبهها بغيرها من الثمار. وربما رأى نبات فشبهه بغيره من النبات. وهذا النوع من الغلط كثير، وجميعه غلط في المعرفة لأن البصر يشبه ما هذه حاله بما قد عرفه ويظنه ذلك الذي يعرفه بعينه أو من نوعه، ولا يكون كذلك. وعلة جميع هذا النوع من الغلط هو البعد المتفاوت الخارج عن عرض الاعتدال، لأن البصر إذا أدرك جميع المبصرات من البعد المعتدل فليس تشتبه عليه صورها إذا كانت جميع المعاني الباقية التي فيها التي بها يتم إدراك المبصر على ما هو عليه في عرض الاعتدال. وهذه الأغلاط هي الأغلاط المتعارفة التي يغلط البصر فيها دائم. وقد يعرض الغلط في المعرفة في معان غريبة أيض من أجل خروج البعد عن عرض الاعتدال. فمن ذلك أن البصر إذا رأى في سواد الليل نار من بعد متفاوت، وكانت النار على رأس جبل أو في موضع مرتفع عن الأرض، ولم يكن قد تقدم علم الناظر بأن في ذلك الموضع نار، وكانت الجذوة من النار تظهر من البعد صغيرة الحجم، فإن الناظر إذا رأى النار التي بهذه الصفة في سواد الليل ربما ظنها كوكب في السماء، وهي نار في الأرض, فيكون غالط في مائيتها. والغلط في مائية المبصر هي غلط في المعرفة, لأن مائيات المبصرات إنما تدرك بالمعرفة. وعلة هذا الغلط إنما هو خروج بعض موضع النار عن عرض الاعتدال, لأن تلك النار بعينها إذا كانت قريبة من البصر أو كان البصر قريب منها لم يشتبه عليها أنها نار, ولم يظنها قط كوكب في السماء. فعلى هذه الصفات وأمثالها يكون غلط البصر في المعرفة من أجل خروج بعد المبصر عن عرض الاعتدال. فأما غلط البصر في المعرفة من أجل خروج وضع المبصر عن عرض الاعتدال كالمبصر الذي يدركه البصر وهو خارج عن سهم الشعاع وبعيد عنه, ويكون البصر محدق إلى مبصر آخر, ويكون المبصر الآخر مقابل لوسط البصر على هذه الصفة ليس يدركه إدراك صحيح. وإذا لم يدركه إدراك صحيح فقد يعرض له الغلط في مائيته. وإذا كان ذلك المبصر إنسان فربما شبهه في الحال بإنسان يعرفه ويظنه ذلك الإنسان بعينه, ولا يكون ذلك الإنسان. وكذلك إذا رأى فرس فربما شبهه بفرس يعرفه بعينه, ولا يكون ذلك الفرس. وكذلك ربما رأى على هذه الصفة فرس فظنه حمار أو رأى حمار فظنه فرس إذا كان بعده عن سهم الشعاع بعد متفاوت. وكذلك ربما رأى شجرة أو ثمرة أو نبات أو ثوب أو آنية فشبه ذلك بما يشبهه في بعض المعاني التي فيه, فربما أصاب وربما أخطأ, لأن المبصر إذا كان خارج عن سهم الشعاع خروج متفاوت فليس يكون بين, وإذا لم يكن بين فليس يتحقق البصر صورته, وإذا لم يتحقق البصر صورته وشبهه مع ذلك بما يشبهه في بعض المعاني التي يدركها منه فربما عرض له الغلط في تشبيهه.\\n'],\n",
              " ['كتاب المناظر للحسن بن الهيثم المقالات 1-2-3\\n'],\n",
              " ['في الإبصار على الاستقامة\\n'],\n",
              " ['حققها وراجعها على الترجمة اللاتينية / عبد الحميد صبره\\n'],\n",
              " ['الكويت 1983م.السلسلة التراثية (4). قسم التراث العربي. المجلس الوطني للثقافة والفنون والآداب. الكويت.\\n'],\n",
              " ['ص ص 397-401\\n'],\n",
              " ['المظهر الاجتماعي:\\n'],\n",
              " ['ويتناول دراسة الناحية الاجتماعية في تاريخ الحضارة وتكوين المجتمع ونظمه وحياته، ونظام العائلة ومقام المرأة وطبقات المجتمع والآداب والأخلاق الاجتماعية وحياة المجتمع، وكذلك مختلف الأمور التي تنتج عنها.\\n'],\n",
              " ['ولما كانت أهم الحاجات الأساسية للإنسان هي الحاجة المادية والحاجة الروحية والجنسية، فإن الوظائف الرئيسية للتنظيم الاجتماعي هي تهيئة الموارد الاقتصادية ودوام البقاء والنسل من الناحية البيولوجية، وهذا أدى إلى ظهور المؤسسات التي تؤمن الأحوال المادية والنظم السياسية، وكانت القبيلة هي التي تنظم العلاقات بين الجنسين قبل ظهور الدولة، ثم أصبحت العائلة تهتم بهذه الناحية ومن ورائها المجتمع الذي تسيطر عليه الدولة.\\n'],\n",
              " ['وفي مرحلة الصيد كان الإنسان يعيش جماعات وليس بشكل عائلة. ولما ظهرت الدولة زالت القبيلة كأساس للمجتمع، وحلت العائلة محلها، واهتمت الدولة بالأمن والنظام، بينما حافظت العائلة على دوام العرق. والعائلة كانت مبنية في الأدوار البدائية على أساس أن مركز الرجل في العائلة جانبي، بينما مهمة الأم فيها أساسية لا تعلوها مهمة أخرى، فهي تؤدي معظم ما تقتضيه عملية العناية بالنسل.\\n'],\n",
              " ['وأبسط صورة للعائلة هي الأم وأبناؤها تعيش في كنف أمها أو أخيها في القبيلة؛ لأن العلاقات الجنسية كانت على درجة من الاضطراب بحيث يصعب نسب كل طفل إلى أبيه، فالطفل هو طفل المرأة، وهي لا تنتمي إلى زوج بل إلى أبيها أو أخيها أو إلى القبيلة التي تعيش فيها. وقد يقيم الزوج مع أسرة أمه وقبيلتها ويعمل عندها، فيكون النسب عن طريق الأم وكذلك الميراث، حتى حق العرش أحيان كان يتجه إلى الوارث عن طريق الأم لا الزوج. وحق الأمومة هذا لا يعني سيطرة المرأة على الرجل، وإنما هي وسيلة تعقب الإنسان لتحديد معالم القربى. وهذا فضل عن أن منزلة المرأة في المجتمعات البدائية كانت منزلة الخضوع القريب من الرقيق؛ لأنها من الناحية البيولوجية غير مؤهلة للحرب مع الرجال، فقواها تستنفد في الحمل والرضاعة وتربية الأطفال. هذا إلى جانب صنع الطعام والشؤون المنزلية والصناعة وفن النسيج وتدجين الحيوانات والزراعة ما عدا الصيد، وبذلك قامت المرأة بمعظم نواحي التقدم في المجتمع البدائي الأول.\\n'],\n",
              " ['وعندما انتظمت الزراعة وتعقدت واستخدمت الحيوانات، ظهر الرجل كعامل رئيسي بدل المرأة؛ لأن استعمال الحيوانات يحتاج إلى قوة الرجل. وظهور الملكية والإرث أدى إلى إلحاق المرأة بالرجل، حيث طلب منها الوفاء والأمانة؛ لأنه رغب أن تكون أملاكه لأولاده، وهكذا ظهرت الأبوة وانتقلت الأموال عن طريق الأب، حتى أن الآلهة بعد أن كانت مؤنثة أصبحت معظمها مذكرة ولها زوجات وأولاد. وصارت المرأة تشترى في بعض الأحيان، وبدأ الزواج كشكل من أشكال الملكية أو كجزء من الاسترقاق، حتى أنه في بعض المجتمعات البدائية كانت المرأة تدفن مع زوجها، ويكثر الرجل عادة من الزوجات لكي يضمن من يقوم بالعمل عندما يتقدم به السن في شيخوخته.\\n'],\n",
              " ['وكان للمرأة في مصر القديمة مكانة مرموقة، فغالب ما انتسب الأبناء إلى أمهاتهم انتسابهم إلى آبائهم، وإذا ما توفي الزوج انتقلت سلطته إلى امرأته حتى في علائق الأسرة بالدولة. وقد عرفت بسيدة البيت، وقد سمح بتعدد الزوجات، فقد رزق رعمسيس الثاني أكثر من مئة وستين ولد. ولعبت بعض النساء دور أمها في السياسة، أشهرها حتشبسوت في أواسط الألف الثاني قبل الميلاد. وعلى وجه العموم لم ينظر إلى المرأة في مصر القديمة نظرتها إلى كائن أدنى.\\n'],\n",
              " ['وقد ظهرت في مصر القديمة حرف يدوية كالحلاقة والحدادة والنحاتة والحياكة والخزافة وغيرها، وكان الصناع أكثر تميز من الفلاحين.\\n'],\n",
              " ['ولما كان المجتمع لا يقوم بغير نظام وقانون، فلا بد من بعض القواعد ليعيش الناس مع. فهناك التقاليد والعادات، وهي تقاليد تقبلها الأجيال بعد التجربة، وهناك المبادئ الأخلاقية التي هي عبارة عن تعاون بين الفرد والمجتمع بحيث يشعر الفرد بشيء من الخوف والخلل إذا خالفها، وبذلك تستحيل الحضارة بغير أخلاق.\\n'],\n",
              " ['ومهمة التقاليد التي قوامها التشريع الخلقي تنظيم العلاقة بين الجنسين، باعتبارها مصدر النزاع والاعتداء والانحطاط، وذلك عن طريق الزواج الذي يحمل تعريفه بأنه اتحاد العشيرين للعناية بالنسل. وقد اجتاز الزواج خلال تاريخه كل صورة وتجربة ممكنة، فقد بدأت مع البدائيين الذين اهتموا بالنسل دون أن يكون بين العشيرين في المعيشة تعاون واجتماع دون الاهتمام بوجود نسل يعنيان به. والمجتمعات التي تخلو من الزواج نادرة كما هو الحال في قبائل هاواي وبورنيو.\\n'],\n",
              " ['وقد أصبح الزواج اضطراري عند جميع الشعوب البدائية تقريب؛ لأن العزب ليس له وضع اجتماعي، وكان يمكنه الحصول على الزوجة عن طريق الخدمة عند أبيها مدة من الزمن، وعندما زادت الثروة أصبح من المعتاد أن يعطي الرجل إلى والد الزوجة مبلغ من المال، ويقدم الأب لابنته هدية ثمينة كما في قانون حمورابي، وأصبح الأغنياء يجزلون العطاء حتى نشأت عادة المهر. على أن الحب كان مفقود في هذا التزاوج ولا يصحبه مودة وألفة، فالحب من نتاج الحضارة التي أقامت السدود بوجه الرغبات. وزيادة الثروة مكنت الناس أن يلتهوا بالحب؛ لأنه ترف، والشعوب البدائية أفقر من أن تكون خيالية وعاشقة، فقد كان ينظر إلى الزواج كعملية تعاون اقتصادي أو كشراكة مفيدة للطرفين أحسن حال مما لو عاش كل بمفرده، والعلاقات الجنسية وجدت في المجتمعات البدائية، وكانت حرة منطلقة دون قيود تحدها لدرجة الشيوعية، وقد اختلفت العادات من مجتمع لآخر، واختلف نتيجة لذلك نظام العلاقات الجنسية والزواج. وقد عمل النظام الاجتماعي على تحقيق ذلك. والعادات تختلف من مجتمع إلى آخر، ولكن النظام الاجتماعي ضروري، والناس يجب أن يتقيدوا بقواعد السلوك، ومع أن هذه القواعد نسبية في المجتمعات إلا أنها ضرورية ولا غنى عنها.\\n'],\n",
              " ['والطفولة في الجماعة البدائية تتعرض لكثير من الأخطار والأمراض، ونسبة الوفاة بين الأطفال عالية، وتبكير الرجل بالزواج، وما يترتب عليه من تبعات، ونفاد قوة المرأة بالحمل والتربية، لم يكن من شأنه أن يبرز شخصية الفرد بما يكفي لخلق القيم الروحية للفراغ والثقافة والفن.\\n'],\n",
              " ['وقد فرضت الحياة الاقتصادية في بلاد ما بين النهرين في أوائل الألف الثالث قبل الميلاد وجود مجموعات اجتماعية كثيرة العدد، يتخذ منها عمال ينتسبون إلى كل المهن وأجراء وكتبة وصناعيين ورجال أعمال وفلاحين ورعاة وحراس مخازن، مما جعل قانون حمورابي يؤكد بصورة قاطعة وجود الطبقات الاجتماعية، فقسمها إلى ثلاث طبقات:\\n'],\n",
              " ['الإنسان الحر الكامل، والإنسان المرؤوس وأطلق عليه المنحني،أي ينحني لرئيسه وسيده، وهذا يتمتع بقليل من القيمة، وأخير العبد، وهو ملك لشخص آخر، حر كان أم عبد أم مرؤوس.\\n'],\n",
              " ['وأما من حيث القوانين الأخلاقية والآداب، فإن من واجب الآباء أن ينقلوها إلى الأبناء، فالأبناء يتلقون في كل يوم التراث الأخلاقي والفكري في بيئتهم؛ لأنهم إذا تركوا لغرائزهم فإنها لا تتفق مع الحضارة، بل توافق حياة الفوضى والغابة، فما نسميه اليوم رذيلة أصله في عصر تنازع البقاء فضيلة، ومهمة القوانين الأخلاقية تكييف اندفاعات الطبيعة البشرية لظروف احتياجات جديدة في الحياة، ومنها نشأت آداب ضد القسوة والطمع والخيانة؛ لأنه لم يعد مبرر لوجودها، أو لأن الأسباب التي أوجبت وجودها قد زالت.\\n'],\n",
              " ['سنة خمسين وسبع مئة:\\n'],\n",
              " ['فيها توفي الإمام العلامة المدرس المفتي نجم الدين عبد الرحمن بن يوسف الأصفهاني الشافعي نزيل الحرم الشريف. مولده سنة سبع وسبعين وست مئة. وفيها توفي آخر أيام التشريق في منى ودفن بالمعلى. سمع الحديث على جماعة، وتفقه وقرأ الأصول والعربية والفرائض والجبر والمقابلة، وقرأ القراءات السبعة، وله مصنفات منها مختصر الروضة في مجلدين، اشتهر في كثير من البلاد. وكان - رحمه الله -  حسن الأخلاق سليم الباطن مشهور بالصلاح وكثرة المحاسن حسن الاعتقاد. رآني في وقت وقال لي\\u200f:\\u200f كنت إذا رأيتك في المنام في بلادي وأنا مريض تعافيت. وقال لي لما وقف على بعض كتبي: هذا الكتاب ما يجيء تصنيفه إلا بعلوم كثيرة. ثم قال لي\\u200f:\\u200f ينبغي لك أن تصنف كتاب في الرد على المبتدعين. فلما وضعت كتابي الموسوم بمرهم العلل المعضلة في الرد على فئة المعتزلة بالبراهين القاطعة المفصلة وذكر عقيدة أهل السنة المفضلة والفرق الاثنتين والسبعين والمخالفين المبتدعين ذكرت بعد ذلك أنه كان - رحمه الله - قد حرضني على ذلك، نسأل الله تعالى حسن الخاتمة والسلامة من المهالك\\u200f.\\u200f \\n'],\n",
              " ['ولما وضعت كتاب نشر المحاسن في العقيدة وغيرها ولقبته بكفاية المعتقد ونكاية المنتقد في فضل سلوك الطريقة والجمع بين الشريعة والحقيقة، ووقف عليه وطالعه الفقيه الإمام مفتي الأنام البارع العلامة فخر الدين المصري قال لي\\u200f:\\u200f لقد انتفعت بهذا الكتاب بعد أن سمع علي أشياء - رحمه الله تعالى - من كتاب الإرشاد، نسأل الله تعالى الكريم التوفيق وسلوك طريق الرشاد والعفو والعافية والفوز يوم المعاد مع سائر الأحباب والمحبين، آمين\\u200f.\\u200f \\n'],\n",
              " ['تنبيه:\\n'],\n",
              " ['اعلم أيها الواقف على هذا الكتاب أني إنما لم أذكر تاريخ موت أحد من أعيان متأخري شيوخ اليمن الصالحين وعلمائه العاملين مع كثرتهم سوى ستة مضى ذكرهم إلا لأني لم أظفر بتاريخ يكون لهم جامع لا واقف عليه ولا سامع\\u200f.\\u200f \\n'],\n",
              " ['وأما المتقدمون منهم فقد سمعت بتاريخ الإمام ابن سمرة اليمني ولم أزل حريص على روايته حتى وقفت عليه فوجدته قد تتبعهم منذ زمن الصحابة إلى زمانه، فذكر من هاجر من أعيان أهل اليمن ومن روى منهم الحديث ومن بعثه النبي - صلى الله عليه وآله وسلم - إلى اليمن من الصحابة - رضي الله تعالى عنهم - إما قاضي، وإما عامل. وقد تعرضت لذكر شيء من ذلك فيما مضى\\u200f.\\u200f \\n'],\n",
              " ['ثم ذكر من فقهاء التابعين إلى عصره من أهل اليمن مئين عديدة في تاريخه المذكور الموسوم بطبقات فقهاء اليمن وعيون من أخبار رؤساء الزمن، وذكر أنه اجتمع عند واحد منهم من الطلاب أكثر من مئتي طالب في صنعاء، وهو الإمام زيد بن عبد الله اليفاعي أحد شيوخ صاحب البيان، أخذ عنه كثير ممن رحل إليه من البلدان، وكل ذلك قد قدمت ذكره في هذا التاريخ، وهؤلاء الذين ذكرهم كلهم من الفقهاء، ولم يتعرض لذكر الشيوخ من الصوفية العارفين، وقد أخلى كتابه عن كبار الشيوخ المذكورين وعمن لم يطلع عليه من الفقهاء النائين وعن جميع المتأخرين، ولم أذكر أنا من الذين ذكرهم إلا أفراد من أعيان أعيانهم، مثل هؤلاء الأئمة طاوس ووهب بن منبه وعمرو بن دينار والشيخ عبد الرزاق وآخرين ممن بعدهم، منهم الإمام ابن عبدويه والإمام زيد اليفاعي والإمام يحيى بن أبي الخير العمراني وغيرهم. وإنما لم أذكر تاريخ المتأخرين إلا لأنه لا يدل لمن تصدى لعلم من معرفة مواده وحصول استمداده من مواد التاريخ، وتقدم فيه كتاب يعتمد، ومنه في المولد والوفاة والأنساب والأوصاف يستمد. ولعمري إنه قد كثر في اليمن من السادة الذين جل قدرهم وشاع ذكرهم ولم ينتدب لتاريخهم من أظله عصرهم ولا من تأخر زمانه عنهم حتى اتبعه سالك في ذلك الأثر ومقلد له في ما ثبت عنده من الخبر، فذلك هو الذي منعني مما ذكرت، وحال بيني وبين ما أردت بعد ما التمس مني ذلك غير واحد من أهل العلم والصلاح، وله عقيدة حسنة في الأولياء أولي الأوصاف الملاح، فاعتذرت بسبب ذلك، إذ لا يكون التصنيف محمود إلا إذا كان جميع ما يتعلق به موجود، وذلك الذي منعني أيض من إكمال شرح قصيدتي الموسومة تباهية المحيا في مدح شيوخ اليمن الأصفيا التي مفتتحها\\u200f:\\u200f نسيم الصبا هي يحمل الرسائل ونشر الأحبا في الضحى والأصائل. فإني لما بلغت فيه إلى ذكر الشيوخ أولي الأوصاف المشكورة ثنيت العنان في أثناء الميدان من أجل العلة المذكورة. ولم أذكر فيه سوى أربعين شيخ من السادة الأكابر أولي المقامات العالية والكرامات الغالية وشرف الفضائل والمفاخر ممن ذكر فضائلهم يطول وكراماتهم تحير المقول. وسيأتي ذكرهم مع غيرهم إن شاء الله تعالى، ولا مطمع في حصرهم ولا عشر معشار العشر في ذكرهم، فإن شيوخ اليمن عصائب لا يحصيهم كاتب ولا حاسب. كما بلغني عن صفوة زمانه الجميل المناقب وبركة أوانه ذي المحاسن والمواهب، علم الأعلام وقدوة الأولياء الكرام، سامي المجد الأثيل أحمد بن موسى المعروف بابن عجيل، نفعنا الله تعالى ببركته، أنه قيل له\\u200f:\\u200f يا سيدي أرى الأولياء في سائر البلدان يذكرون في الكتب، فيقال\\u200f:\\u200f فلان البلخي، وفلان البغدادي، وفلان الشامي، وفلان المصري، ولا يذكر أهل اليمن. فقال\\u200f:\\u200f إنما لم يذكروا لكثرتهم، فإنهم عصائب.\\n'],\n",
              " [' وكذلك منعني عام الاطلاع من ذكر تاريخ موت ناس كثير من أولي الفضل والوصف الحسن ممن أدركت وممن لم أدرك من غير أهل اليمن\\u200f.\\u200f \\n'],\n",
              " ['ذكر جماعة من مشاهير اليمن من كبار قدماء اليمن وأوليائهم ورؤسائهم وعلمائهم مجموعين، وإن كان قد مضى ذكرهم متفرقين\\u200f.\\u200f \\n'],\n",
              " ['فمنهم السادة الأجلاء والنخبة الأصفياء أبو موسى الأشعري الصحابي - رضي الله تعالى عنه - ، وأويس القرني، وأبو مسلم الخولاني، وعمرو بن دينار، ووهب بن منبه، والإمام الحافظ عبد الرزاق الصنعاني، والإمام الشعبي - رحمهم الله تعالى - أصله من اليمن، وذو الكلاع الحميري، والأشعث بن قيس الكندي، وعمرو بن معد يكرب. ومن بعد هؤلاء الجلة الكبار عصائب لا يحصى مدى الدهر عدها، ومن ذاك يحصي للحصى والجنادل، فكم في التهائم والجبال وفي القرى من اليمن الميمون، كم في السواحل ذكر أول من أظهر مذهب الإمام الشافعي في اليمن من الفقهاء الجلة\\u200f.\\u200f \\n'],\n",
              " ['فمنهم الإمام العلامة موسى بن عمر بن المعافري\\u200f.\\u200f \\n'],\n",
              " ['ومنهم الفقيه الإمام عبد الله بن علي المرادي سمع من أبي زيد المروزي في ذمار، بفتح الذال المعجمة، وفي آخره راء، ورحل إلى مكة وسمع بها في سنة ثلاث وخمسين وثلاث مئة\\u200f.\\u200f \\n'],\n",
              " ['ومنهم الفقيه الإمام زيد بن عبد الله اليفاعي، والشيخ الإمام الجليل محمد بن عبدويه المدفون في جزيرة كمران. وممن نشر المذهب المذكور أيض بنو عقامة في زبيد، وممن نشره أيض الإمام العلامة صاحب البيان يحيى بن أبي الخير في جبال اليمن، وقد تقدم ذكر جميع هؤلاء في مواضع متفرقة من هذا الكتاب\\u200f.\\u200f \\n'],\n",
              " ['ذكر آفات عظيمة ذات فتن واقعة في بلاد اليمن مما تقدم ذكره متفرق في مواضع ليسهل معرفته مجموع على السامع\\u200f.\\u200f \\n'],\n",
              " ['الحكومة والمجتمع:\\n'],\n",
              " ['تقوم الحكومات في المجتمعات ذوات الاقتصاد المتقدم بواجبين، يختلف الواحد منهما عن الآخر. تقوم الحكومة بالإشراف على الأعمال متناهية الضخامة لتوفير الخدمات وأحيان السلع لمواطنيها نظير أجر يؤخذ منهم مباشرة، أو بطريقة غير مباشرة عن طريق الضرائب المختلفة، وهذا ما تفعله الحكومات بنفسها. في نفس الوقت تخطط الحكومات لمختلف السياسات في قطاعات الدولة، عن طريق التشريعات التي تصدرها وعن طريق الإجراءات التي تتخذها الإدارات المختلفة بالتعليمات التي تصدرها لكافة مواطنيها وتطالبهم بتنفيذها واتباع ما جاءت به من أوامر ونواه. سنعالج في هذا الباب كيف تقوم مختلف الحكومات بتزويد شعوبها بالخدمات المختلفة وكيف ستتغير طرق تقديم الخدمات في المستقبل. وكذلك كيف ستتغير طرق إصدار التشريعات. جميع الدول الصناعية ذوات الاقتصاد الكبير تمتلك قطاع عام بالغ الضخامة، يختلف من دولة لأخرى. بلغ القطاع العام عام اثنين وتسعين وتسعمئة وألف في اليابان ستة وعشرين فاصل اثنين من عشرة في المئة من مجمل الدخل القومي. وبلغ في السويد خمسة وتسعين في المئة. وبلغ حجم القطاع العام في معظم الدول الأوربية بين أربعين إلى خمسة وأربعين في المئة. بينما بلغ في الولايات المتحدة الأمريكية رقم يقارب الرقم الياباني. في أوربا لا يمثل إسهام القطاع العام في الاقتصاد القومي خدمات مباشرة أو سلع يتم تقديمها مباشرة من الحكومات لقطاع آخر من قطاعات الشعب. تفرض الحكومات ضرائب مرتفعة على مجموعة من مجموعات الشعب ثم تمنحها في صورة معاشات وتأمينات اجتماعية لأناس آخرين أو لنفس الأفراد. لتدوير الأموال بهذه الطريقة آثار اقتصادية بالغة؛ لأنها تعني أخذ الأموال من الأفراد الذين يعملون ويكتسبون لتعطيها لأناس لا يعملون. وصورة الإنفاق هذه أكثر في أوربا منها في بقية أنحاء العالم. أداء القطاع العام عند تقديمه للسلع أو للخدمات يتعلق بمدى الكفاءة التي يوفرها. هل يقدم جهاز الشرطة الأمن والأمان للمواطنين ويتولى حراستهم؟ وهل تقدم القوات المسلحة واجبات الدفاع عن الدولة وعن أفرادها بأرخص الأسعار وأقل التكاليف؟ وإذا كان هذا يتم بأسعار مرتفعة هل هناك وسيلة أخرى لتوفير تلك المتطلبات الأساسية؟ وفي موضوع الإنفاق على الخدمات الاجتماعية والتأمينات المختلفة على المواطنين هل يفضل الناخبون حق بإرادتهم الواعية أن يؤخذ المال من مجموعة من الأفراد ويمنح لمجموعة أخرى؟ وهل يدرون بالعواقب الاقتصادية والتبعات التي تحدث من جراء هذا العمل؟ طريقة عمل الحكومات تتغير وستستمر في التغير. يبدو أن الزمان الذي تتدخل الحكومات فيه في حياة الشعوب قد مضى، وأن هذا العصر قد انقضى. بدأت حكومات العالم الثالث تتخلى عن وظائفها في المجال التجاري، وبدأت خصخصة الأعمال التي سبق تأميمها. بدأت الخصخصة في بريطانيا في أوائل الثمانينيات من القرن العشرين ثم اكتسحت العالم.\\n'],\n",
              " ['كانت آثار الخصخصة زيادة كفاءة الشركات وتحسين أدائها، لدرجة المقولة أن امتلاك الدولة للأعمال التجارية المختلفة كانت من أفشل التجارب في الحقل الاقتصادي التي مر بها الجنس البشري، واستمرت أقل من خمسين عام بعكس التجارب الاقتصادية الأخرى كالشراكة والتعاونيات والملكية الخاصة التي استمرت لقرون عدة واجتازت اختبار الوقت. نظر لنجاح نظام الملكية الخاصة في الأعمال المختلفة يظن كثير من الناس أن واجبات الحكومة الأخرى قد تتم بطريقة أكثر كفاءة إذا خرجت عن نطاق القطاع العام. ولكن من المستحيل أن تعرف هل إدارة الأمن العام والأمان الاجتماعي سيتم الحفاظ عليها بدون الجور على حقوق الفئات الأكثر ضعف والمجموعات الأخفت صوت، وخاصة الأطفال الصغار وكبار المسنين.\\n'],\n",
              " ['خصخصة الأعمال المؤممة كان شيئ يسير، خاصة الأعمال التجارية والأعمال الصناعية، ويبدو أنها حققت في الغالب نجاح ملحوظ. كانت الخصخصة في غاية اليسر في البلدان الأوربية وفي اليابان. النجاح كان واضح في أداء الإدارة واتجاهات المسؤولين، ولكن الخصخصة كانت أكثر صعوبة في البلدان النامية نظر للصعوبات والنظم التي فرضتها الأسواق المالية عليها، ولكن الخصخصة أدت في معظم الأحيان إلى تحسين الأداء. ولكن لم تؤد الخصخصة إلى نفس درجات النجاح في الاتحاد السوفيتي السابق وفي دول شرق أوربا، حتى في بلد كألمانيا الشرقية التي أشرف على عملية الخصخصة فيها أناس ذوو خبرة واسعة في إدارة الأعمال من ألمانيا الغربية. لا تزال الخصخصة في مراحلها البدائية في الصين رغم تواجد الخبراء في هونج كونج وفي تايوان، كألمانيا، وبعكس الاتحاد السوفيتي. من الواضح أن الاتجاه لخلق سوق اقتصادية عالمية سيستمر في الازدياد والنمو حيث يمتلك أصحاب الأسهم غالبية المؤسسات الكبرى على اتساع العالم بأكمله خلال البورصات المختلفة في العالم. يبدو أن المعركة الأساسية قد حسمت؛ لأن الحكومات المختلفة قد أثبتت بما لا يدع مجال للشك أن مقدرتها على إدارة الأعمال الاقتصادية هي دون الحد الأدنى المقبول، والسؤال الذي يطرح نفسه حالي هو كفاءتها في إدارة الخدمات التي يوفرها القطاع العام، كيف نزيد من كفاءة الخدمات المقدمة للجماهير، وما الذي ينبغي أن يبقى لها في القطاع العام. في هذا الصدد تبرز اتجاهات ثلاثة:\\n'],\n",
              " ['استمرار الاتجاه في تخفيض حجم القطاع العام حيث إنه ينتظر أن يقل دور الحكومة في إدارة الأعمال.\\n'],\n",
              " ['تحقق الحكومة أهدافها بالتشريع وليس بالإدارة المباشرة.\\n'],\n",
              " ['يخضع ما يتبقى في القطاع العام لنظم السوق وقواعده أكثر كثير من الواقع الحالي.\\n'],\n",
              " ['نتساءل حينئذ ما هو الدور الحقيقي للحكومات، ونجيب: واجبها الدفاع عن الوطن، وسن القوانين، والحفاظ على الأمن والأمان للمواطنين، والقيام ببعض المشروعات العملاقة اللازمة للوطن. كان من واجبات الدولة وما زال حتى الآن توفير وسائل الاتصال في صورة الخدمات البريدية والسكك الحديدية، كذلك خدمات الصحة العامة والتعليم، إذ تشترط أن يحصل المواطنون جميع على حقهم في التعليم والخدمات الصحية، ولكن ليس من الضروري أن توفر الحكومة بنفسها مباشرة تلك الخدمات، بل تتيح الفرصة للقطاع الخاص بتوفير قدر متزايد منها، تختلف نسبة مساهمة الحكومات المختلفة في تلك الخدمات. فبينما توفر الحكومة البريطانية تسعين بالمئة من الخدمات الصحية لمواطنيها، لا توفر الحكومة الأمريكية أي خدمة صحية مجانية لمواطنيها، ولا يتمتع ثلاثون بالمئة من الأمريكيين بنظم التأمين الصحي. ولكن الاتجاه الحالي هو الإلغاء المطرد لتوفير تلك الخدمات مجان للمواطنين ومحاولة إحلال كثير من هذه النفقات وتغطيتها بنظم التأمين الصحي. وإعفاء دافعي الضرائب من تحمل نفقاتها بطريقة مباشرة. الشيء الأساسي الذي سيبقى هو نفقات القوات المسلحة فلا يمكن لأحد أن يتصور حالي أن يقوم القطاع الخاص بعبء الدفاع عن الدولة ضد أي محاولة للغزو من الخارج. يمكن إسهام الأفراد أو الجماعات الخاصة في مساندة جيش الدولة، ولكن ستتكفل القوات المسلحة للدولة بحمايتها والدفاع عنها. كذلك الحفاظ على الأمن الداخلي ستظل شرطة الدولة هي المسؤولة عنه والمكلفة به، رغم الزيادة المطردة لقوات الأمن الخاصة في حماية المنشآت الخاصة، والتي تشير التوقعات المستقبلية أنها قد تبلغ أربعين بالمئة في نصف القرن القادم. لم يحدث هذا نتيجة تخلي قوات الشرطة الحكومية أو تقصيرها في أداء المهام المكلفة بها، ولكن نتيجة دخول قوات خاصة بصورة متزايدة في تلال هذا المكان. وقد بدأت شركات حراسة خاصة في الظهور والتزايد باطراد لحماية الأفراد العاديين.\\n'],\n",
              " ['المقالة الأولى: وهي ستة أبواب. الباب الأول: في الفقه.\\n'],\n",
              " ['الفصل الأول: في أصول الفقه. \\n'],\n",
              " ['أصول الفقه المتفق عليها ثلاثة\\u200f:\\u200f كتاب الله عز وجل، وسنة رسول الله صلى الله عليه وسلم، وإجماع الأمة\\u200f. والمختلف فيها ثلاثة\\u200f:\\u200f القياس والاستحسان والاستصلاح\\u200f.\\u200f \\n'],\n",
              " ['فأما كتاب الله سبحانه فإن سبيل الفقيه أن يعرف تأويله ووجوه الخطاب فيه من الخصوص والعموم والناسخ والمنسوخ والأمر والنهي والإباحة والحظر ونحوها مما شرح في التفاسير وكتب أصول الدين\\u200f.\\u200f \\n'],\n",
              " ['وأما سنة الرسول صلى الله عليه وسلم فهي ثلاثة أضرب\\u200f:\\u200f أحدها القول، والثاني الفعل، والثالث الإقرار\\u200f.\\u200f \\n'],\n",
              " ['وأما الإجماع فهو اتفاق الصحابة من المهاجرين والأنصار، وكذلك اتفاق العلماء في الأمصار في كل عصر دون غيرهم من العامة\\u200f.\\u200f \\n'],\n",
              " ['وأما القياس فقد قال به جمهور العلماء غير داود بن علي الأصفهاني ومن تبعه\\u200f. والقياس نوعان\\u200f:\\u200f قياس علة وقياس شبه\\u200f.\\u200f \\n'],\n",
              " ['فقياس العلة\\u200f:\\u200f أن تجمع المقيس والمقيس به علة\\u200f. وقياس الشبه أن لا تجمع المقيس والمقيس به علة\\u200f، ولكن يقاس به على طريق التشبيه، وكثير من الفقهاء لا يفرقون بينهما\\u200f. وطرد العلة هو أن تجعل مطردة في جميع معلولاتها\\u200f.\\u200f \\n'],\n",
              " ['وأما الاستحسان فهو ما تفرد به أبو حنيفة وأصحابه، ولذلك سموا أصحاب الرأي، ومثال ذلك جواز دخول الحمام وإن كان ما يستعمل فيه من الطين والماء مجهول المقدار\\u200f.\\u200f وقيل\\u200f:\\u200f الاستحسان هو قياس لكنه خفي غير جلي\\u200f.\\u200f \\n'],\n",
              " ['وأما الاستصلاح فهو ما تفرد به مالك بن أنس وأصحابه، ومثاله ما أجازه من تعامل الصيارفة وتبايعهم الورق بالورق والعين بالعين بزيادة ونقصان وإن كان ذلك محظورا، فهذه أصول الفقه التي مرجعه إليها ومداره عليها، وبالله التوفيق\\u200f.\\u200f \\n'],\n",
              " ['الفصل الثاني في الطهارة: \\n'],\n",
              " ['الماء المضاف هو ما أضيف إلى شيء كماء الورد وماء الخلاف ونحوهما\\u200f.\\u200f والماء المطلق\\u200f:\\u200f الذي لا يضاف إلى شيء\\u200f. والماء المستعمل هو غسالة المتطهر. وسؤر الكلب، أي بقية ما يشربه\\u200f. والسؤر\\u200f:\\u200f كل بقية، والجمع أسآر. والسؤرة\\u200f:\\u200f البقية أيض\\u200f. التحري في الإناءين ونحوهما\\u200f:\\u200f تمييز الطاهر من النجس بأغلب الظن، واشتقاقه من الحري وهو الخليق، وهو طلب ما هو أحرى بالطهارة، كما اشتق التقمن من القمن\\u200f.\\u200f الاستنثار\\u200f:\\u200f استنشاق الماء ثم إخراجه بتنفس الأنف، وهو من النثرة، وهي للدواب شبه العطسة للإنسان\\u200f. والنثرة أيض فرجة حيال وترة الأنف، وبها سميت إحدى منازل القمر، لأنها نثرة الأسد\\u200f. والاستجمار هو الاستنجاء بالجمرة، وهي الحصاة، ومن ذلك\\u200f رمي الجمار في الحج\\u200f.\\u200f \\n'],\n",
              " ['الفصل الثالث\\u200f:\\u200f في الصلاة والأذان: \\n'],\n",
              " ['التثويب\\u200f:\\u200f أن يقول المؤذن في أذان الفجر\\u200f:\\u200f الصلاة خير من النوم. الترجيع هو أن يعود في قوله\\u200f:\\u200f أشهد أن لا إله إلا الله وأشهد أن محمد رسول الله؛ ويكرر ذلك، وهو مذهب أصحاب الحديث\\u200f.\\u200f فأما الترجيع في الصوت فهو ترديده وتكرير أجزائه\\u200f. التحريم هو التكبير في أول الصلاة\\u200f. التحليل هو التسليم\\u200f.\\u200f \\n'],\n",
              " ['التشهد: قولك: التحيات لله، إلى آخرها\\u200f.\\u200f القنوت: دعاء الوتر.\\u200f \\n'],\n",
              " ['الفصل الرابع في الصوم:\\n'],\n",
              " ['قال الخليل\\u200f:\\u200f هو ما خرج من الحلق ملء الفم أو دونه وليس بقيء، فإن عاد فهو القيء\\u200f. الاعتكاف: هو لزوم المسجد والقعود عن المكاسب\\u200f. الفجر الأول: ذنب السرحان\\u200f. والسرحان هو الذئب الذكر، شبه بذنب الذئب لاستطالته ودقته\\u200f.\\u200f الفجر الثاني هو المعترض\\u200f.\\u200f \\n'],\n",
              " ['الفصل الخامس في الزكاة. \\n'],\n",
              " ['الرقة على بناء الصفة\\u200f:\\u200f الورق\\u200f.\\u200f \\n'],\n",
              " ['والورق هو الدراهم المضروبة\\u200f.\\u200f \\n'],\n",
              " ['فأما الورق بفتح الراء فهو المال من دراهم أو إبل أو غير ذلك، وتجمع الرقة على\\u200f:\\u200f رقين مثل\\u200f:\\u200f عضين وعزين\\u200f.\\u200f النصاب\\u200f:\\u200f ما وجبت فيه الزكاة من المال كمئتي درهم أو عشرين دينار\\u200f.\\u200f \\n'],\n",
              " ['الركاز\\u200f:\\u200f دفين الجاهلية، وكأنما ركز في الأرض ركز\\u200f.الكسعة على وزن فعلة\\u200f:\\u200f هي العوامل من الإبل والبقر والحمير\\u200f. الجارة: هي الإبل التي تجر بأزمتها فاعلة بمعنى مفعولة، مثل\\u200f عيشة راضية بمعنى مرضية. الفريضة\\u200f:\\u200f ما فرض في مقدار من السائمة من صدقة\\u200f.\\u200f \\n'],\n",
              " ['أسنان الإبل: ولد البعير في السنة الأولى\\u200f:\\u200f حوار\\u200f. وفي الثانية\\u200f ابن مخاض؛ لأن أمه مخضت بغيره، أي نتجت غيره\\u200f. وفي الثالثة\\u200f ابن لبون؛ لأن أمه ذات لبن\\u200f. وفي الرابعة\\u200f\\u200f حق؛ لأنه يستحق أن يحمل عليه وينتفع به\\u200f.\\u200f ثم جذع ثم ثني؛ لأنه ألقى ثنيته في ذلك الحول، ثم رباع؛ لأنه ألقى رباعيته، ثم سديس وسدس إذا ألقى السن الذي بعد الرباعية، وهو في الثامنة\\u200f\\u200f بازل، وفي التاسعة ناب، وهو أول ما فطر نابه، ثم مخلف عام، ثم مخلف عامين، ومخلف ثلاثة أعوام\\u200f.\\u200f \\n'],\n",
              " ['أسنان البقر: هو عجل في السنة الأولى، ثم تبيع وعضب في الثانية، ثم جذع في الثالثة، ثم ثني في الرابعة، ثم رباع في الخامسة، ثم مسن\\u200f.\\u200f \\n'],\n",
              " ['أسنان الخيل: هو حولي في السنة الأولى\\u200f. ثم فلو في السنة الثانية؛ لأنه يفتلي أي يعظم، ثم جذع في الثالثة.\\n'],\n",
              " ['أسنان الغنم: ولد المعز جدي في السنة الأولى، وجذع في الثانية، ثم ثني في السنة الثالثة، ثم رباع في الرابعة، ثم سديس في الخامسة، ثم في السنة السادسة سالغ وصالغ، والأنثى أيض\\u200f سالغ، وليس بعد السالغ اسم\\u200f. وفي الضأن كذلك إلا أنه جذع من ستة أشهر إلى عشرة أشهر، وهو الحمل قبل أن يجذع\\u200f. الشنق\\u200f:\\u200f ما بين فريضتين في الإبل والغنم، اشتقاقه من\\u200f شنق القربة، وهو امتلاؤها\\u200f. الوقص في البقرة كالشنق في الإبل والغنم، وقيل\\u200f:\\u200f بل هو عام\\u200f.\\u200f \\n'],\n",
              " ['مكاييل العرب وأوزانها:\\n'],\n",
              " ['القلة إناء للعرب\\u200f. قال أصحاب الحديث\\u200f:\\u200f القلتان خمس قرب كبار. الرطل\\u200f:\\u200f نصف من\\u200f. المنا\\u200f:\\u200f وزن مئتين وسبعة وخمسين درهم وسبع درهم، وبالمثاقيل\\u200f:\\u200f مئة وثمانون مثقال، وبالأواقي\\u200f:\\u200f أربع وعشرون أوقية\\u200f. المد\\u200f:\\u200f رطل وثلث\\u200f. الصاع\\u200f:\\u200f أربعة أمداد عند أهل المدينة، وثمانية أرطال عند أهل الكوفة\\u200f. القسط\\u200f:\\u200f نصف صاع\\u200f. الوسق\\u200f:\\u200f ستون صاع\\u200f.\\u200f \\n'],\n",
              " ['قال الخليل\\u200f:\\u200f هو حمل البعير، أما الوقر فحمل البغل أو الحمار\\u200f. المثقال\\u200f:\\u200f زنة درهم وثلاثة أسباع درهم\\u200f. الأوقية\\u200f:\\u200f على وزن أثفية، وجمعها أواق\\u200f:\\u200f زنة عشرة دراهم وخمسة أسباع درهم\\u200f.\\u200f والأوقية في الوهن\\u200f:\\u200f عشرة دراهم\\u200f. الإستار\\u200f:\\u200f ربع عشر من\\u200f. الكر\\u200f:\\u200f بالعراق وبالكوفة وبغداد ستون قفيز، وكل قفيز ثمانية مكاكيك، وكل مكوك ثلاث كيالج\\u200f. الكيلجة\\u200f:\\u200f وزن ستمئة درهم، وبواسط والبصرة مئة وعشرون قفيز\\u200f. القفيز: كل قفيز أربعة مكاكيك\\u200f. المكوك: كل مكوك خمسة عشر رطل\\u200f. الرطل: كل رطل مئة وثمانية وعشرون درهم\\u200f.\\u200f \\n'],\n",
              " ['الفصل السادس في الحج والتمتع: \\n'],\n",
              " ['الإفراد\\u200f:\\u200f أن يفرد نية كل واحد منهما\\u200f. الاستلام\\u200f:\\u200f هو لمس الحجر الأسود، اشتق من\\u200f السلمة، وهي الحجر، كما قيل من الكحل الاكتحال. الرمل والهرولة\\u200f:\\u200f الإسراع\\u200f. والجمز\\u200f:\\u200f العدو في المشي\\u200f. الهدي\\u200f:\\u200f ما يهدى إلى بيت الله الحرام من النعم\\u200f. البدنة\\u200f:\\u200f الناقة والبقرة تهدى إلى البيت، وجمعها\\u200f:\\u200f بدن، مثل\\u200f خشبة وخشب\\u200f. التجمير\\u200f:\\u200f رمي الجمار، وهي الحصا، واحدتها جمرة، وبها سميت جمرة العقبة\\u200f. الإشعار\\u200f:\\u200f أن يعلم الهدي بالطعن في سنامه أو غير ذلك\\u200f. وشعائر الله واحدتها شعيرة، وهي العلامة\\u200f.\\u200f \\n'],\n",
              " ['الفصل السابع في البيع والشركة:\\n'],\n",
              " ['المصراة: الناقة التي تضر ضروعها ليجتمع فيها اللبن ثم تباع، وأصلها\\u200f\\u200f المصررة، كما يقال\\u200f:\\u200f تظنيت من الظن. وقيل\\u200f:\\u200f بل اشتقاقه من قولهم\\u200f:\\u200f صرى اللبن إذا اجتمع في الضرع، وقد أصرت الناقة تصري، وصراها صاحبها، وهذا أقرب إلى الصواب\\u200f. العرايا\\u200f:\\u200f بيع العرايا هو بيع ما في رؤوس النخل من الثمرة المدركة بالتمر اليابس.\\n'],\n",
              " ['الكتاب الأول في طبيعة العمران في الخليقة وما يعرض فيها من البدو والحضر والتغلب والكسب والمعاش والصنائع والعلوم ونحوها وما لذلك من العلل والأسباب.\\n'],\n",
              " ['اعلم أنه لما كانت حقيقة التاريخ أنه خبر عن الاجتماع الإنساني الذي هو عمران العالم وما يعرض لطبيعة ذلك العمران من الأحوال مثل التوحش والتأنس والعصبيات وأصناف التغلبات للبشر بعضهم على بعض وما ينشأ عن ذلك من الملك والدول ومراتبها وما ينتحله البشر بأعمالهم ومساعيهم من الكسب والمعاش والعلوم والصنائع وسائر ما يحدث في ذلك العمران بطبيعته من الأحوال\\u200f.\\u200f ولما كان الكذب متطرق للخبر بطبيعته وله أسباب تقتضيه\\u200f.\\u200f فمنها التشيعات للآراء والمذاهب فإن النفس إذا كانت على حال الاعتدال في قبول الخبر أعطته حقه من التمحيص والنظر حتى تتبين صدقه من كذبه، وإذا خامرها تشيع لرأي أو نحلة قبلت ما يوافقها من الأخبار لأول وهلة وكان ذلك الميل والتشيع غطاء على عين بصيرتها عن الانتقاد والتمحيص فتقع في قبول الكذب ونقله\\u200f.\\u200f ومن الأسباب المقتضية للكذب في الأخبار أيض الثقة بالناقلين، وتمحيص ذلك يرجع إلى التعديل والتجريح\\u200f.\\u200f ومنها الذهول عن المقاصد، فكثير من الناقلين لا يعرف القصد بما عاين أو سمع، وينقل الخبر على ما في ظنه تخمينه فيقع في الكذب\\u200f.\\u200f ومنها توهم الصدق وهو كثير، وإنما يجيء في الأكثر من جهة الثقة بالناقلين\\u200f.\\u200f ومنها الجهل بتطبيق الأحوال على الوقائع لأجل ما يداخلها من التلبيس والتصنع فينقلها المخبر كما رآها وهي بالتصنع على غير الحق في نفسه\\u200f.\\u200f ومنها تقرب الناس في الأكثر لأصحاب التجلة والمراتب بالثناء والمدح وتحسين الأحوال وإشاعة الذكر بذلك فتستفيض الأخبار بها على غير حقيقة، فالنفوس مولعة بحب الثناء، والناس متطلعون إلى الدنيا وأسبابها من جاه أو ثروة، وليسوا في الأكثر براغبين في الفضائل ولا متنافسين في أهلها\\u200f.\\u200f ومن الأسباب المقتضية له أيض، وهي سابقة على جميع ما تقدم الجهل بطبائع الأحوال في العمران، فإن كل حادث من الحوادث ذات كان أو فعل لا بد له من طبيعة تخصه في ذاته وفيما يعرض له من أحواله، فإذا السامع عارف بطبائع الحوادث والأحوال في الوجود ومقتضياتها أعانه ذلك تمحيص الخبر على تمييز الصدق من الكذب، وهذا أبلغ في التمحيص من كل وجه يعرض\\u200f.\\u200f وكثير ما يعرض للسامعين قبول الأخبار المستحيلة وينقلونها وتؤثر عنهم\\u200f.\\u200f كما نقله المسعودي عن الإسكندر لما صدته دواب البحر عن بناء الإسكندرية وكيف اتخذ تابوت الخشب وفي باطنه صندوق الزجاج وغاص فيه إلى قعر البحر حتى كتب صور تلك الدواب الشيطانية التي رآها وعمل تماثيلها من أجساد معدنية ونصبها حذاء البنيان ففرت تلك الدواب حين خرجت وعاينتها وتم له بناؤها في حكاية طويلة من أحاديث خرافة مستحيلة من قبل اتخاذه التابوت الزجاجي ومصادمة البحر وأمواجه بجرمه ومن قبل أن الملوك لا تحمل أنفسها على مثل هذا الغرر، ومن اعتمده منهم فقد عرض نفسه للهلكة وانتقاض العقدة واجتماع الناس إلى غيره وفي ذلك إتلافه ولا ينتظرون به رجوعه عن غروره ذلك طرفة عين، ومن قبل أن الجن لا يعرف لها صور ولا تماثيل تختص بها إنما هي قادرة على التشكل وما يذكر من كثرة الرؤوس لها فإنما المراد البشاعة والتهويل لا أنه حقيقة\\u200f.\\u200f وهذه كلها قادحة في تلك الحكاية\\u200f.\\u200f والقادح المحيل لها من طريق الوجود أبين من هذا كله\\u200f.\\u200f وهو أن المنغمس في الماء ولو كان في الصندوق يضيق عليه الهواء للتنفس الطبيعي وتسخن روحه بسرعة لقلته فيفقد صاحبه الهواء البارد المعدل لمزاج الرئة والروح القلبي ويهلك مكانه\\u200f.\\u200f وهذا هو السبب في هلاك أهل الحمامات إذا أطبقت عليهم عن الهواء البارد والمتدلين في الآبار والمطامير العميقة المهوى إذا سخن هواؤه بالعفونة ولم تداخلها الرياح فتخلخلها فإن المتدلي فيها يهلك لحينه\\u200f.\\u200f وبهذا السبب يكون موت الحوت إذا فارق البحر فإن الهواء لا يكفيه في تعديل رئته إذ هو حار بإفراط والماء الذي يعدله بارد والهواء الذي خرج إليه حار فيستولي الحار على روحه الحيواني ويهلك دفعة، ومنه هلاك المصعوقين وأمثال ذلك\\u200f.\\u200f ومن الأخبار المستحيلة ما نقله المسعودي أيض في تمثال الزرزور الذي برومة تجتمع إليه الزرازير في يوم معلوم من السنة حاملة للزيتون ومنه يتخذون زيتهم\\u200f.\\u200f وانظر ما أبعد ذلك عن المجرى الطبيعي في اتخاذ الزيت\\u200f.\\u200f ومنها ما نقله البكري في بناء المدينة المسماة ذات الأبواب تحيط بأكثر من ثلاثين مرحلة تشتمل على عشرة آلاف باب\\u200f.\\u200f والمدن إنما اتخذت للتحصن والاعتصام كما يأتي وهذه خرجت عن أن يحاط بها فلا يكون فيها حصن ولا معتصم\\u200f\\u200f\\u200f.\\u200f وكما نقله المسعودي أيض في حديث مدينة النحاس وأنها مدينة كل بنائها نحاس بصحراء سجلماسة ظفر بها موسى بن نصير في غزوته إلى المغرب وأنها مغلقة الأبواب وأن الصاعد إليها من أسوارها إذا أشرف على الحائط صفق ورمى بنفسه فلا يرجع آخر الدهر في حديث مستحيل عادة من خرافات القصاص\\u200f.\\u200f وصحراء سجلماسة قد نفضها الركاب والأدلاء ولم يقفوا لهذه المدينة على خبر\\u200f.\\u200f ثم إن هذه الأحوال التي ذكروا عنها كلها مستحيل عادة مناف للأمور الطبيعية في بناء المدن واختطاطها وأن المعادن غاية الموجود منها أن يصرف في الآنية والخرثي، وأمثال ذلك كثيرة وتمحيصه إنما هو بمعرفة طبائع العمران وهو أحسن الوجوه وأوثقها في تمحيص الأخبار وتمييز صدقها من كذبها وهو سابق على التمحيص بتعديل الرواة ولا يرجع إلى تعديل الرواة حتى يعلم أن ذلك الخبر في نفسه ممكن أو ممتنع\\u200f.\\u200f وأما إذا كان مستحيل فلا فائدة للنظر في التعديل والتجريح\\u200f.\\u200f ولقد عد أهل النظر من المطاعن في الخبر استحالة مدلول اللفظ وتأويله بما لا يقبله العقل\\u200f.\\u200f وإنما كان التعديل والتجريح هو المعتبر في صحة الأخبار الشرعية لأن معظمها تكاليف إنشائية أوجب الشارع العمل بها حتى حصل الظن بصدقها، وسبيل صحة الظن الثقة بالرواة بالعدالة والضبط\\u200f.\\u200f وأما الأخبار عن الواقعات فلا بد في صدقها وصحتها من اعتبار المطابقة\\u200f.\\u200f فلذلك وجب أن ينظر في إمكان وقوعه وصار في ذلك أهم من التعديل ومقدم عليه، إذ فائدة الإنشاء مقتبسة منه فقط، وفائدة الخبر منه ومن الخارج بالمطابقة\\u200f.\\u200f وإذا كان ذلك فالقانون في تمييز الحق من الباطل في الإخبار بالإمكان والاستحالة أن ننظر في الاجتماع البشري الذي هو العمران ونميز ما يلحقه من الأحوال لذاته وبمقتضى طبعه وما يكون عارض لا يعتد به وما لا يمكن أن يعرض له\\u200f.\\u200f وإذا فعلنا ذلك كان ذلك لنا قانون في تمييز الحق من الباطل في الأخبار والصور من الكذب بوجه برهاني لا مدخل للشك فيه، وحينئذ فإذا سمعنا عن شيء من الأحوال الواقعة في العمران علمنا ما نحكم بقبوله مما نحكم بتزييفه\\u200f.\\u200f وكان ذلك لنا معيار صحيح يتحرى به المؤرخون طريق الضد والصواب فيما ينقلونه\\u200f.\\u200f وهذا هو غرض هذا الكتاب الأول من تآليفنا\\u200f.\\u200f وكان هذا علم مستقلا بنفسه\\u200f.\\u200f فإنه ذو موضوع وهو العمران البشري والاجتماع الإنساني وذو مسائل وهي بيان ما يلحقه من العوارض والأحوال لذاته واحدة أخرى\\u200f.\\u200f وهذا شأن كل علم من العلوم وضعي كان أو عقلي\\u200f.\\u200f \\n'],\n",
              " ['الفصل الثالث: الإمبراطورية الأكدية وإمبراطورية أرو الثالثة:\\n'],\n",
              " ['الإمبراطورية الأكدية:\\n'],\n",
              " ['تمكن لوكال زاكيزي حاكم مدينة أوما أن يسيطر على عدد من المدن السومرية ويوحد بينها ويؤسس لأول مرة في تاريخ العراق القديم دولة ضمت معظم المدن السومرية. وكان ذلك بداية التحول في تاريخ العراق، حيث تبع تلك المحاولة محاولات ناجحة أخرى، وقامت في العراق دول وإمبراطوريات ضمت أنحاء العراق إضافة إلى بعض الأقاليم والبلدان المجاورة. لم يستمر حكم لوكال زاكيزي الذي شغل معظمه بالحروب والقضاء على حكام دويلات المدن السومرية المتفرقة مدة طويلة، فقد صادف وجود شخصية سياسية وعسكرية أخرى هي شخصية سرجون الأكدي. وتمكن سرجون الأكدي (ومعنى اسمه بالأكدية الملك الصادق أو الثابت) الذي كان يعمل في بلاط ملك كبش، من أن يستغل انشغال لوكال زاكيزي في حروبه في المدن الجنوبية من البلاد ويستقل عن ملك مدينة كبش، ويعد للقضاء على لوكال زاكيزي بهدف السيطرة على جميع أنحاء البلاد وتأسيس سلالة حاكمة جديدة. وقد تم له ذلك فعل وقام بتأسيس أول إمبراطورية عرفها التاريخ القديم. حيث شملت إضافة إلى المدن والدويلات السومرية أقاليم وبلدان بعيدة امتدت إلى ساحل البحر المتوسط شمال وإلى الخليج العربي جنوب. وقد تعاقب على حكم الدولة الأكدية خمسة ملوك استمر حكمهم مئة سنة.\\n'],\n",
              " ['وقبل الحديث عن قيام الدولة الأكدية وإيجاز أهم الأحداث السياسية والمميزات الحضارية لهذه الفترة من تاريخ العراق، لا بد من الحديث عن هوية الأقوام الأكدية وأصولها العرقية. ينسب الأكديون إلى مدينة أكد عاصمة الدولة الأكدية التي كان سرجون قد ابتناها ربما قبل أن يتولى زعامة البلاد، عندما كان يعمل في بلاط ملك كيش، ولا يعرف شيء مفصل عن هذه المدينة حيث لم يعثر على بقاياها بعد، ويظهر أنها كانت تقع بين المحمودية وبابل.\\n'],\n",
              " ['الأكديون من الأقوام العربية القديمة:\\n'],\n",
              " ['الأكديون فرع من الأقوام العربية القديمة التي كانت تقطن في شبه الجزيرة العربية منذ عصور سحيقة في القدم ثم هاجرت إلى بلدان الهلال الخصيب ومنها العراق. وقد أطلق الباحثون المحدثون على تلك الأقوام اسم الأقوام السامية مستندين بذلك إلى ما جاء في التوراة. ولو أمعنا النظر فيما جاء في التوراة عن أنساب سام بن نوح وجدنا بأنها وضعت من بين نسل سام بن نوح أقوام لا علاقة لها عرقي ببقية الأقوام المذكورة، كالأقوام الليدية والعيلامية، بينما أقصت الكنعانيين (الفنيقيين) وهي أولى الأقوام التي سكنت أرض فلسطين قادمة من شبه الجزيرة العربية. ولا يمكن تفسير هذا الخلط الذي جاء في التوراة إلا أنه ناتج عن تحيز كتاب التوراة وتعصبهم القومي البغيض ضد الأقوام الكنعانية أول وعدم معرفتهم بتاريخ الأقوام الليدية والعيلامية ثاني، إضافة إلى ذلك فليس هناك أدلة تاريخية مقنعة بأن الأقوام التي أطلق عليها اسم الأقوام السامية هي من نسل سام بن نوح. بل إن الحقائق التاريخية تشير إلى أن هذه الأقوام وهي الأقوام الأكدية والآشورية والكلدانية في العراق، والكنعانية والعبرية والآرامية في سوريا، والعرب في مختلف الأقطار العربية، تشترك في كثير من الخصائص الحضارية والفكرية واللغوية مما يشير إلى أصولها المشتركة.\\n'],\n",
              " ['ونتيجة البحوث والدراسات العلمية الكثيرة التي قام بها المختصون أصبح من الثابت حالي أن الموطن الأول للأقوام التي سميت بالسامية هو شبه الجزيرة العربية، وأنها هاجرت منذ أزمنة قديمة إلى بوادي الشام والعراق واستقرت في أنحاء سوريا وفلسطين، في حين ذهبت جماعات أخرى منها إلى مصر وشمال إفريقيا، وذلك بسبب حلول الجفاف في شبه الجزيرة العربية وضيق الحالة الاقتصادية فيها وقلة موارد العيش مقارنة مع المناطق التي هاجرت إليها. وكانت هجرة هذه الأقوام على هيئة جماعات وقبائل وعشائر كبيرة وصغيرة وبشكل سلمي أحيان. كما هي الحال بالنسبة لهجرة الأكديين، أو على شكل مجموعات كبيرة غازية، كما هي الحال بالنسبة للأموريين والآراميين والعرب.\\n'],\n",
              " ['وعلى هذا الأساس فإن تسمية الأقوام التي خرجت من شبه الجزيرة العربية واستقرت في بلاد الشام والعراق الأقوام السامية تسمية غير دقيقة ولا تستند إلى حقائق تاريخية. وحيث إن الموطن الأول لهذه الأقوام كما تشير إليه الدراسات العلمية الحديثة هو شبه الجزيرة العربية، وإن العرب كانوا وما زالوا يقطنون هذا الجزء من العالم ويؤلفون العنصر الرئيسي فيه منذ أقدم العصور المعروفة لدينا. وإن هجرة العرب إلى خارج الجزيرة العربية ما زالت مستمرة حتى الآن. وإن اللغة العربية هي أكثر لغات الأقوام التي دعيت بالسامية قرب من اللغة الأم التي يفترض أنها كانت تستخدم في شبه الجزيرة العربية قبل تفرق أقوامها وهجرتها. لذا فإن التسمية التي تتفق مع المعلومات التاريخية واللغوية والأثرية المتوفرة لدينا حالي هي الأقوام العربية القديمة، أو أقوام الجزيرة العربية. وتسمية اللغات التي تكلموا بها بعائلة اللغات العربية القديمة، وإن صفة القديمة هي من أجل التمييز عن العرب الحاليين ولغتهم، وإن كان العرب الحاليون ولغتهم ينتمون إلى المجموعة نفسها.\\n'],\n",
              " ['إن الحديث عن حضارة الأكديين والأموريين (البابليين) والآشوريين والكلدانيين في العراق هو حديث عن أصول وجذور الحضارة العربية التي تمت وازدهرت خلال العصور المتتابعة ابتداء من الألف الثالث قبل الميلاد وحتى الآن. بل إن الدراسات العلمية الحديثة قد رجحت وجود موجة أخرى من الأقوام العربية القديمة سبقت الأقوام الأكدية إلى السهل الرسوبي في العراق كما سبقت الأقوام السومرية نفسها، وقد امتزجت تلك الهجرة مع الأقوام المحلية ووضعت اللبنات الأساسية الأولى للحضارة التي ازدهرت في الألف الثالث قبل الميلاد ودعيت بالحضارة السومرية. وقد أطلق الباحثون على تلك الأقوام اسم الفراتيين الأوائل أو سكان طور العبيد، كما سبق وأشرنا إلى ذلك.\\n'],\n",
              " ['وكان مجيء الأقوام الأكدية إلى السهل الرسوبي على شكل جماعات صغيرة ثم ما لبثت أن امتزجت مع السكان المحليين وأثرت فيهم كما تأثرت بهم. وعندما سنحت الفرصة لأحد زعمائها السيطرة على عدد من الولايات والمدن السومرية أقامت أول إمبراطورية في العراق القديم، وكان زعيمها سرجون يحتل آنذاك مركز مرموق في بلاط ملك كيش.\\n'],\n",
              " ['سرجون الأكدي:\\n'],\n",
              " ['أسس سرجون الأكدي سلالة استمر حكمها أكثر من مئة عام، وحكم أربعة وخمسين عام أثبت خلالها بأنه كان قائد عسكري وإداري من الطراز الأول. وقد عد سرجون من الشخصيات البارزة في تاريخ العراق القديم، وظل اسمه عالق في أذهان الناس طويل إلى درجة أن بعض الملوك الآشوريين تسموا باسمه، في حين كتبت عنه القصص والأساطير، ومنها نص يتحدث عن أصله ومولده، وكيف أنه كان ابن لإحدى الكاهنات التي ولدته سر ورمته في النهر فانتشله بستاني ورباه حتى كبر، فأحبته الإلهة عشتار وقلدته حكم البلاد. ويمكن تفسير هذه القصة التي ترقى بأصولها إلى عهد سرجون بأنها محاولة من سرجون لإضفاء صفة شرعية على حكمه الذي انتزعه بالقوة من لوكال زكيزي.\\n'],\n",
              " ['اتصفت فترة سرجون بالحملات العسكرية التي امتدت حتى وصلت إلى ساحل البحر المتوسط وسواحل الخليج العربي. وتشير بعض النصوص المتأخرة أنها شملت بعض المناطق في آسيا الصغرى. أما السياسة الداخلية فكانت تعتمد تقليص نفوذ وسلطة حكام المدن والأقاليم التابعة وإزالة التحصينات العسكرية المحلية فيها.\\n'],\n",
              " ['قارة آسيا:\\n'],\n",
              " ['لقد فاقت معلومات الجغرافيين العرب والمسلمين عن قارة آسيا معلومات سابقيهم من الجغرافيين الإغريق والرومان بدرجة عظيمة. ففيما عدا إيران والعراق وآسيا الصغرى وبلاد الشام لم تكن معلومات الإغريق والرومان واضحة أو دقيقة عن مناطق وشعوب أواسط آسيا وشرقيها وجنوبها الشرقي وجنوبها. ويمكن القول إن معارف الإغريق والرومان ظلت قاصرة على الرقعة التي شملتها فتوحات الإسكندر الكبير. فلم يكونوا يعرفون سوى معلومات مشوشة وغير دقيقة عن أراضي ما وراء النهر وشعوبها. أما شمال آسيا (جهات سيبيريا) فكانت في عرفهم صحاري غير مأهولة. كما لم تكن لديهم أية فكرة عن الساحل الشرقي لآسيا إلى الشمال من الهند الصينية. بل إن معلوماتهم كانت ضئيلة جد عن مظهر جغرافي بارز في غربي آسيا وهو بحر الخزر الذي جعله إراثوستنس متصل بالمحيط الشمالي. وجعله أرسطو متصل بالبحر الأسود بقناة جوفية. ولقد أكد بليني بأن بعض الهنود قاموا برحلة من الهند إلى بلاد الخزر عن طريق المحيط الشمالي.\\n'],\n",
              " ['وظلت كذلك المنطقة الواقعة شمالي بحر الخزر وشرقيه شبه مجهولة لدى الكتاب الإغريق والرومان، فقد رسم بليني مثل ساحل إلى الشرق من خليج الخزر ونثر فيه صحاري جليدية متعاقبة واضع في هذه المنطقة الاسكيثيين آكلي لحوم البشر. أما بطليموس فقد جعل منطقة الاسكيثيين تتلاشى تجاه الشمال في أرض مجهولة تمتد فيها بعض سلاسل الجبال وتتناثر بعض القبائل.\\n'],\n",
              " ['ولم يكن لدى الجغرافيين الإغريق والرومان أيض فكرة عن الأنهار الكبرى التي تجري في شمال القارة الآسيوية وتصب في المحيط المتجمد الشمالي كنهري بنساي ولينا. بل إن نهر عظيم كنهر الفلوجا لم يكن معروف إلا بصورة مشوشة ولم يكتشفوا مصبه في بحر الخزر إلا في وقت متأخر.\\n'],\n",
              " ['أما الجغرافيون العرب والمسلمون فقد سجلوا معلومات دقيقة ومفصلة عن بحر الخزر وحوض الفلوجا والشعوب التي تقطن حوضه الأدنى. ولا يكاد يخلو أي كتاب من الكتب الجغرافية الإقليمية من وصف لبحر الخزر. وقد أجمع الجغرافيون المسلمون على كونه بحيرة مغلقة. ولقد تحدث العديد منهم عن نهر الفولجا الذي كانوا يسمونه نهر أتل، ووصفوا مجراه ومصبه في بحر الخزر، واعتبروه أحد أنهار الدنيا الكبرى. ولقد تحدث عنه ابن حوقل في كتابه صورة الأرض حديث مفصل ورسم له خارطة. كذلك يمكن القول إن ما ذكره أبو الفدا في كتابه تقويم البلدان عنه يمثل تلخيص طيب لمعرفة الجغرافيين العرب الأوائل عنه.\\n'],\n",
              " ['أما المعلومات الخاصة بشعوب حوض الفولجا الأدنى ومنطقة بحر الخزر فلا يكاد يخلو منها أي كتاب من كتب الجغرافية الإقليمية، لا سيما وأن بعض تلك الشعوب قد تبنى الديانة الإسلامية مبكر. وهناك تفصيلات واسعة في كتاب ابن حوقل والكتب الإقليمية التالية عن مدن هذه الجهات وإنتاجها الاقتصادي وعن عادات سكانها. غير أن أقدم تسجيل جغرافي عن منطقة الفولجا الأدنى هو ما ورد في مذكرات ابن فضلان الذي أرسله الخليفة المقتدر موفد إلى تلك الجهات سنة إحدى وعشرين وتسعمئة من الميلاد. فلقد تحدث في تلك المذكرات عن بلاد بلغار الفولجا وشعبها واصف بعض المظاهر الطبيعية والتقاليد الاجتماعية. ولقد كان أول من تحدث عن ظاهرة قصر الليل والنهار في تلك الجهات.\\n'],\n",
              " ['ومن الكتابات الهامة عن تلك الجهات أيض كتابات لأبي حامد الغرناطي والمسعودي وابن بطوطة. وتكتسب معلومات الغرناطي البشرية عن هذه المنطقة أهمية خاصة بالرغم مما يشوبها من خرافات.\\n'],\n",
              " ['أما معلومات الجغرافيين العرب والمسلمين عن أقاليم آسيا الوسطى وتركستان، والتي كان يطلق عليها اسم بلاد ما وراء النهر، فالتفصيلات عنها غزيرة للغاية، لا سيما وأن بعض الجغرافيين المسلمين ينتمون إلى تلك الأقطار كالبيروني مثل. وقد تنوعت التفصيلات الجغرافية عن جهات آسيا الوسطى تنوع عظيم، فهي طبوغرافية طور، ومناخية طور آخر، واقتصادية طور ثالث، كما أنها تناولت بصورة مفصلة المدن وخططها وتطورها التأريخي. وهناك معلومات أنثربولوجية من الدرجة الأولى تبعثرت في الكتب الجغرافية الإقليمية في بعض كتب الرحلات كرحلة ابن بطوطة مثل. ولعل من أفضل الكتب التي درست آسيا الوسطى كتاب صورة الأرض لابن حوقل، وكتاب أحسن التقاسيم للمقدسي، وكتاب المسالك والممالك للإصطخري، وجميعها من المؤلفات الجغرافية المبكرة. غير أن المعلومات البشرية المفصلة والقيمة عن تلك الجهات كانت تتناثر في صفحات كتب الرحلات من أمثال رحلة ابن بطوطة.\\n'],\n",
              " ['وكان للجغرافيين العرب والمسلمين أيض معلومات طيبة عن شمال آسيا. فقد كان البيروني أول من سمى نهر أنجارا وتحدث عن شعوب إقليم بيكال في سيبيريا الشرقية. وكانوا يطلقون على شمال آسيا اسم بلاد الظلمة. وقد أورد المسعودي بعض التفصيلات عنها في الجزء الأول من موسوعته مروج الذهب، كما تحدث ابن بطوطة عن أهم السلع التي كان يتاجر بها سكان تلك الجهات وشرح طريقتهم في المتاجرة، وهي الطريقة التي يطلق عليها التجارة الصامتة.\\n'],\n",
              " ['أما ما يتعلق بالصين فلم يكن الجغرافيون الإغريق يعرفون عنها شيئ، إلا أن معلومات الرومان عنها كانت تتنامى منذ القرن الثاني الميلادي بسبب اشتداد الرغبة لدى سكان روما المترفين للحصول على الحرير الصيني. وكانت القوافل التجارية التي تحمل الحرير الصيني عبر الأراضي الآسيوية تتخذ طريق معين يطلق عليه طريق الحرير العظيم. وكان هذا الطريق ذا شعبتين، الأولى تمر بخوتان وطشقرجان وتنتهي بكترا، بينما تمر الثانية إلى الشمال مجتازة قشغر وسمرقند وتنتهي بمرو، وكانت أقصى نقطة تصل إليها هي مدينة بلخ. وكان كلا الطريقين ينتهي في موضع يطلق عليه اسم برج الحجر، كانت تتجمع فيه تجارة الحرير. ولم تكن معلومات الجغرافيين الرومان لتتجاوز مدينتي مرو وبكترا، وهي معلومات غامضة، نقلها تجار الحرير عن بعض الأنهار والجبال والمدن الصينية. أما البحر الواقع شرقي الصين فلم تكن لديهم عنه سوى معرفة نظرية، ولذلك فلم تشتمل خريطة بطليموس على معلومات واضحة عن الصين، وكل ما هنالك أنها حددت موضع مدينة سيرا، واعتبرتها عاصمة لبلاد السيرس التي يشتغل سكانها بصناعة الحرير، وربما كان إقليم سيرس يمثل جزء من شمالي الصين. كذلك حددت الخارطة موقع مدينة ثيناي واعتبرتها عاصمة لإقليم سيناي الذي يقع إلى الجنوب من إقليم سيرس، وهي لا تبعد كثير عن ميناء كاتيغار. ولم يتفق الباحثون على حقيقة مدينة ثيناي أو مدينة كاتيغارا. وقد تساءلوا إن كانت مدينة ثيناي ما هي سوى كلمة مرادفة لكلمة سيناي، أم هي مدينة لويانج أم نانكينغ، كما تساءلوا عن حقيقة ميناء كاتيغارا هل هو كانتون أم هانوي، أم سايجون أم ميناء سنغافورة القديم. ولم يتوصلوا إلى جواب نهائي لهذه الأسئلة.\\n'],\n",
              " ['أما معلومات الجغرافيين العرب والمسلمين عن الصين فهي جيدة ومتنوعة عموم، وإن كانت أغنى بالجوانب البشرية منها بالجوانب الطبيعية. والحقيقة أن معلومات الجغرافيين المسلمين عن الصين ترجع إلى عهد مبكر، وقد استقيت من السفراء والتجار والبحارة. وقد استطاع الملاحون العرب أن يتوغلوا على امتداد الساحل الصيني نحو الشمال لغاية شبه جزيرة كوريا، وأطلقوا على بحر الصين الشمالي اسم بحر صنخي. ويبدو أن أقدم المعلومات الموثوقة عن الصين هي التي خلفها لنا الملاح والتاجر سليمان، والتي جمعها سليمان السيرافي في الكتاب المسمى أخبار الصين والهند.\\n'],\n",
              " ['مستقبل قطاع الأعمال على كف إدارة الأصول:\\n'],\n",
              " ['مع مجيء حكومة الدكتور أحمد نظيف تبلور ما يمكن اعتباره إستراتيجية جديدة للتعامل مع شركات قطاع الأعمال العام\\u200f.\\u200f\\n'],\n",
              " ['هذه الإستراتيجية تتضمن محاور عدة ومكونات متباينة تشمل الخصخصة للشركات التي تصلح للبيع، وتشمل كذلك ضخ استثمارات جديدة للشركات التي في حاجة لمثل هذه الاستثمارات، إلى جانب انتهاج آليات جديدة في مجالات الإدارة والتطوير والتحديث,\\u200f وتقوم هذه الإستراتيجية التي رسمت ملامحها التصريحات المتعاقبة لوزير الاستثمار على مدى الشهور الأربعة الماضية على فكرة أساسها التعامل مع كل شركة من شركات قطاع الأعمال العام على حدة، وباعتبارها حالة منفصلة، ومن ثم تستلزم حلول خاصة بها تضع في اعتبارها واقع الشركة الحالي وآفاق المستقبل المنظور أمامها\\u200f.\\u200f\\n'],\n",
              " ['من هنا كانت تسمية هذه الإستراتيجية ـ استناد لمفاهيم علم الإدارة ـ ببرنامج إدارة الأصول، أي تلك الإدارة الفاعلة التي تعظم الاستفادة القصوى من هذه الأصول بما يعود بالنفع على المجتمع الذي يعد هو المالك الحقيقي والنهائي لهذه الأصول العامة\\u200f.\\n'],\n",
              " ['هذا البرنامج الذي يصفه وزير الاستثمار في مقدمة أجندته الوزارية سوف ينتج بطبيعة الحال أوضاع لبعض وحدات قطاع الأعمال العام قد تكون مغايرة لأوضاعها الراهنة؛ نظر لاتباع آليات لم تتبع من قبل مثل خصخصة الإدارة في بعض الشركات\\u200f.\\u200f\\n'],\n",
              " ['من هنا تتساءل الدوائر الاقتصادية عما إذا كان برنامج إدارة الأصول سوف يصنع مستقبل مغاير للقطاع العام في مصر، وما هي ملامح هذا المستقبل، وكيف يمكن لهذا البرنامج تحقيق هدفه الرئيسي الخاص بتعظيم الاستفادة من الأصول المتاحة في ظل أوضاعها الحالية ومشاكلها التاريخية المتراكمة؟\\u200f!\\u200f \\n'],\n",
              " ['باختصار هل ستنجح وصفة وزير الاستثمار في إيقاظ العملاق النائم؟\\u200f!\\u200f\\n'],\n",
              " ['على الرغم من أن وزير الاستثمار بدأ مهامه بزيارات متتابعة لعدد كبير من وحدات قطاع الأعمال، شملت حتى الآن مصانع السكر والحديد والصلب والغزل والنسيج للتعرف عن قرب على واقع هذه الشركات، إلا أن هناك قواسم مشتركة بين هذه الشركات، وتشمل المديونيات المرحلة وضعف القدرات الإنتاجية أو التسويقية وعدم الاستخدام الأمثل للأصول المتاحة والعمالة الزائدة والتقادم التكنولوجي لمعدات الإنتاج\\u200f.\\u200f\\n'],\n",
              " ['ورغم هذه الروشتة العامة تبقى التفاصيل تختلف من شركة لأخرى، ومن هنا تأتي أهمية برنامج إدارة الأصول\\u200f.\\u200f\\n'],\n",
              " ['وفي قراءة تحليلية لتوجهات وزارة الاستثمار في هذه المرحلة، وعلى خلفية شرح تفسيري لأحد مسؤولي الوزارة فإن ملامح البرنامج الجديد تتمثل في تفعيل قواعد الحوكمة الرشيدة في إدارة الشركات، والسعي لخلق صف ثان من قيادات قطاع الأعمال العام\\u200f.\\u200f أيض الشركات الجاهزة للبيع وعليها طلب سيتم بيعها\\u200f.\\u200f أما فيما يتعلق بقضية ضخ الاستثمارات الجديدة فسوف تحكمها عوامل عدة تشمل ضرورة وجود دراسة جدوى اقتصادية واضحة، إلى جانب دراسة جدوى فنية واضحة، وبناء عليها يتم اتخاذ القرار الذي يهدف بالدرجة الأولى إلى الحفاظ على هذه الاستثمارات وتعظيمها\\u200f. وهاتان الدراستان تقوم بهما لجان علمية محايدة تضم خبراء متخصصين في الصناعة التي تنتمي إليها الشركة المعنية، إلى جانب خبراء في التمويل والتسويق والعمالة\\u200f.\\u200f أيض يستند البرنامج إلى إعادة النظر في مفهوم ما هو إستراتيجي، وما هو غير إستراتيجي، مع تغليب العوامل الاقتصادية، وعدم إغفال البعد الاجتماعي الذي يمثل أحد ثوابت الحكومة لحماية محدودي الدخل وتمكين الفقراء من مواجهة تكاليف الحياة المتزايدة\\u200f.\\n'],\n",
              " ['في البداية يؤكد اللواء رئيس مجلس إدارة شركة عمر أفندي ـ إحدى شركات التجارة الداخلية التي كثر الحديث عن خصخصتها في المرحلة الماضية ـ أن الهدف الرئيسي من برنامج إدارة الأصول الذي بدأت شركات قابضة وأخرى تابعة عديدة في تطبيقه يتمثل في ضرورة أن نحافظ وندعم ونطور الأصول التي تحت أيدي الدولة وعدم إهدار هذه الأصول؛ لأن الملكية لا تمثل هدف في حد ذاتها، بل الهدف هو كيف تدار هذه الملكية لصالح المجتمع والدولة، وعندما تتحول شركة من شركات قطاع الأعمال من الخسارة للربح أو تتوسع في أعمالها وتفتح آفاق من العمل الشريف أمام أبناء الشعب يكون بذلك قد تحقق الهدف من برنامج إدارة الأصول\\u200f.\\n'],\n",
              " ['وعلى سبيل المثال، فإن هذا الفكر يتم تطبيقه مذ سنوات عديدة في شركة عمر أفندي، وأسفر عن نتائج إيجابية على صعيد المركز المالي للشركة وأوضاعها الحالية. وقد تم إنفاق أكثر من \\u200fثلاثين\\u200f مليون جنيه خلال السنوات الثلاث الماضية وبتمويل ذاتي من الشركة على برنامج شامل للتحديث وتطوير الفروع وإدخال تقنية المعلومات في إدارة المخازن والمشتريات والمبيعات، بل وفي إدارة السيولة المنخفضة عن النشاط بما يخفف أعباء التمويل وعقد تحالفات تسويقية مع البنوك والشركات الكبرى من القطاعين العام والخاص والمؤسسات العامة وابتكار آليات جديدة في التسويق\\u200f.\\n'],\n",
              " ['إن هذه الإجراءات أدت إلى تعزيز الربحية وخفض معدل الفوائد الذي كانت تتحمله الشركة لصالح البنوك\\u200f,\\u200f وأنه يمكن استغلال بعض الأحوال العينية مثل الأراضي والعقارات والمخازن في تمويل النشاط والاستغناء كلية عن التمويل المصرفي، أي يصل السحب على المكشوف إلى صفر، وبالتالي نكون قد وصلنا إلى الاستغلال الأمثل للأصول\\u200f.\\n'],\n",
              " ['وحول انعكاس برنامج إدارة الأصول على شركة الحديد والصلب التي كانت تمثل في زمن ما ركيزة القاعدة الصناعية للقطاع العام يقول رئيس مجلس إدارة الشركة إن الشركة التي تأسست قبل خمسين\\u200f عام لها وضع تاريخي واعتباري، وتمثل صناعة ثقيلة ولها متطلبات\\u200f,\\u200f والدولة متفهمة لهذه المتطلبات\\u200f.\\n'],\n",
              " ['لذلك لم يكن هناك في يوم من الأيام توقف عن ضخ الاستثمارات الجديدة في شركة الحديد والصلب سواء جاء هذا الاستثمار عبر قروض خارجية أو قروض داخلية أو عبر التمويل الذاتي\\u200f.\\u200f\\n'],\n",
              " ['وبصرف النظر عن الآليات المتبعة في تطوير وتحديث شركة الحديد والصلب، فإنه يبقى مستقبل الشركة مرهون بأوضاع سوق الصلب العالمي\\u200f,\\u200f ومع ذلك فإن هناك استثمارات جديدة سوف يتم ضخها بناء على دراسات جدوى اقتصادية وفنية سليمة إلى جانب تمويل عمليات التشغيل\\u200f,\\u200f فالشركة تملك أسطول نقل يعمل بالمناجم منذ سنوات، ولا بد أن يتم تكهين جزء منه، وهذه عملية مكلفة جد، خاصة إذا علمنا أن تكلفة إجراء عمرة سيارة النقل الواحدة تبلغ ثلاثة أرباع مليون جنيه، وهذه نقوم بها بتمويل ذاتي من إيرادات الشركة\\u200f.\\n'],\n",
              " ['ولكن ما لا يعلمه الكثيرون أن صناعة مثل الحديد والصلب تحتاج أموال ضخمة، ويكفي أن نعلم أن ثمن سيارة نقل واحدة من السيارات التي تعمل في المناجم يصل إلى خمسة\\u200f ملايين جنيه، أي أنني إذا اشتريت عشرين\\u200f سيارة جديدة فهذا يعني أنني في حاجة إلى\\u200f مئة\\u200f مليون جنيه لتحديث أسطول النقل فقط\\u200f.\\u200f\\n'],\n",
              " ['إن الشركة شهدت خلال الفترة الماضية عدد من الإجراءات في اتجاه التحديث والتطوير، حيث تم تدبير مئتي\\u200f مليون جنيه ذاتي لتمويل عمليات المعاش المبكر، إلى جانب تحديث العمل في أحد الأفران المنتجة لمسطحات الصلب التي تستخدم في إنتاج كل ما يتعلق بالصناعات الهندسية، مثل الثلاجات والغسالات والبوتجازات وألواح الصلب الثقيلة التي يتم استخدامها في بناء المراكب والمنشآت المعدنية\\u200f.\\u200f\\n'],\n",
              " ['وإذا كان برنامج إدارة الأصول يتضمن في أحد جوانبه بيع وخصخصة بعض الشركات التي يوجد عليها طلب، فإن هذه الخصخصة يجب أن تخضع لضوابط وشروط\\u200f، حسبما يقول رائد علام استشاري تمويل الشركات\\u200f,\\u200f وهي ضوابط وشروط تضمن عدم تكرار أخطاء تجارب الخصخصة السابقة\\u200f.\\n'],\n",
              " ['الفصل الأول في فضل علم الأنساب وفائدته ومسيس الحاجة إليه:\\n'],\n",
              " ['لا خفاء أن المعرفة بعلم الأنساب من الأمور المطلوبة والمعارف المندوبة، لما يترتب عليها من الأحكام الشرعية والمعالم الدينية، فقد وردت الشريعة المطهرة باعتبارها في مواضع\\u200f.\\u200f\\n'],\n",
              " ['منها\\u200f:\\u200f العلم بنسب النبي صلى الله عليه وسلم، وأنه النبي القرشي الهاشمي الذي كان بمكة وهاجر منها إلى المدينة، فإنه لا بد لصحة الإيمان من معرفة ذلك، ولا يعذر مسلم في الجهل به، وناهيك بذلك\\u200f.\\u200f\\n'],\n",
              " ['ومنها\\u200f:\\u200f التعارف بين الناس حتى لا يعتزي أحد إلى غير آبائه ولا ينتسب إلى سوى أجداده، وإلى ذلك الإشارة بقوله تعالى\\u200f:\\u200f \\u200f\"يا أيها الناس إنا خلقناكم من ذكر وأنثى وجعلناكم شعوب وقبائل لتعارفوا\\u200f\".\\u200f وعلى ذلك تترتب أحكام الورثة، فيحجب بعضهم بعض، وأحكام الأولياء في النكاح فيقدم بعضهم على بعض، وأحكام الوقف إذا خص الواقف بعض الأقارب أو بعض الطبقات دون بعض، وأحكام العاقلة في الدية حتى تضرب الدية على بعض العصبة دون بعض، وما يجري مجرى ذلك، فلولا معرفة الأنساب لفات إدراك هذه الأمور وتعذر الوصول إليها\\u200f.\\u200f\\n'],\n",
              " ['ومنها: اعتبار النسب في الإمامة التي هي الزعامة العظمى، وقد حكى الماوردي في الأحكام السلطانية الإجماع على كون الإمام قرشي، ثم قال\\u200f:\\u200f ولا اعتبار بضرار حيث شد فجوزها في جميع الناس فقد ثبت أن النبي صلى الله عليه وسلم قال: \"الأئمة من قريش\"، ولذلك لما اجتمع الأنصار يوم وفاة رسول الله صلى الله عليه وسلم في سقيفة بني ساعدة، وأرادوا مبايعة سعد بن عبادة الأنصاري، احتج عليهم الصديق رضي الله تعالى عنه بهذا الحديث فرجعوا إليه وبايعوه. وقد روي أنه صلى الله عليه وسلم قال\\u200f:\\u200f \"قدموا قريش ولا تتقدموها\"\\u200f.\\u200f\\n'],\n",
              " ['قال أصحابنا الشافعية\\u200f:\\u200f فإن لم يوجد قرشي اعتبر كون الإمام كناني من ولد كنانة بن خزيمة، فإن تعذر اعتبر كونه من بني إسماعيل عليه السلام، فإن تعذر اعتبر كونه من إسحاق، فإن تعذر اعتبر كونه من جرهم لشرفهم بصهارة إسماعيل، بل قد نصوا أن الهاشمي أولى بالإمامة من غيره من قريش\\u200f.\\u200f\\n'],\n",
              " ['فلولا المعرفة بعلم النسب لفاتت معرفة هذه القبائل، وتعذر حكم الإمامة العظمى التي بها عموم صلاح الأمة وحماية البيضة وكف الفتنة وغير ذلك من المصالح\\u200f.\\u200f\\n'],\n",
              " ['ومنها: اعتبار النسب في كفاءة الزوج للزوجة في النكاح عند الشافعي رضي الله عنه حتى لا يكافئ الهاشمية والمطلبية غيرها من قريش، ولا يكافئ القرشية غيرها من العرب ممن ليس بقرشي. وفي الكنانية وجهان، أصحهما أنه لا يكافئها غيرها ممن ليس بكناني ولا قرشي. وفي اعتبار النسب في العجم أيض وجهان، أصحهما الاعتبار، فإذا لم يعرف النسب تعذرت معرفة هذه الأحكام. ومنها مراعاة النسب الشريف في المرأة المنكوحة، فقد ثبت في الصحيح أن النبي صلى الله عليه وسلم قال\\u200f:\\u200f تنكح المرأة لأربع: لدينها، وحسبها، ومالها، وجمالها. فراعى صلى الله عليه وسلم النسب. ومنها\\u200f:\\u200f التفريق بين جريان الرق على العجم دون العرب على مذهب يرى ذلك من العلماء، وهو أحد القولين للشافعي رضي الله عنه. فإذا لم يعرف النسب تعذر عليه ذلك. إلى غير ذلك من الأحكام الجارية هذا المجرى. وقد ذهب كثر من الأئمة المحدثين والفقهاء كالبخاري وابن إسحاق والطبري إلى جواز الرفع في الأنساب احتجاج بعمل السلف، فقد كان أبو بكر الصديق رضي الله عنه في علم النسب بالمقام الأرفع والجانب الأعلى، وذلك أول دليل وأعظم شاهد على شرف هذا العلم وجلالة قدره. وقد حكى صاحب الريحان والريعان عن أبي سليمان الخطابي رحمه الله أنه قال\\u200f:\\u200f كان أبو بكر رضي الله عنه نسابة، فخرج مع رسول الله صلى الله عليه وسلم ذات ليلة فوقف على قوم من ربيعة فقال\\u200f:\\u200f ممن القوم\\u200f؟ قالوا\\u200f:\\u200f من ربيعة\\u200f.\\u200f قال\\u200f:\\u200f وأي ربيعة أنتم، أمن هامتها أم من لهازمها؟ قالوا\\u200f:\\u200f بل من هامتها العظمى\\u200f. قال أبو بكر\\u200f:\\u200f ومن أيها؟ قالوا\\u200f:\\u200f من ذهل الأكبر\\u200f. قال أبو بكر\\u200f:\\u200f فمنكم عوف الذي يقال له: لا حر بوادي عوف\\u200f؟\\u200f قالوا: لا. قال\\u200f:\\u200f أفمنكم بسطام بن قيس ذو اللواء أبو القرى ومنتهى الأحياء؟\\u200f\\n'],\n",
              " ['قالوا: لا. قال\\u200f:\\u200f أفمنكم الحوفزان الحارث بن أريك\\u200f  قاتل الملوك وسالبها نعمها وأنفسها؟ قالوا: لا\\u200f.\\u200f\\n'],\n",
              " ['قال\\u200f:\\u200f أفمنكم المزدلف \\u200fبن أبي ربيعة بن ذهل بن شيبان الحر صاحب العمامة الفردة؟ قالوا\\u200f:\\u200f لا\\u200f. قال\\u200f:\\u200f أفمنكم الملوك من كندة؟ قالوا\\u200f:\\u200f لا\\u200f. قال\\u200f:\\u200f أفمنكم أصهار الملوك؟\\n'],\n",
              " ['فقام إليه غلام من شيبان يقال له دغفل، وقد بقل وجهه فقال\\u200f:\\u200f إن على سائلنا أن نسأله، والعبء لا تعرفه أو تحمله. يا هذا، إنك قد سألت فأخبرناك ولم نكتمك شيئ من خبرنا، فممن الرجل؟ قال أبو بكر\\u200f:\\u200f أنا من قريش\\u200f.\\u200f قال: بخ بخ، أهل الشرف والرئاسة\\u200f.\\u200f فمن أي القرشيين أنت؟ قال\\u200f:\\u200f من ولد تيم بن مرة\\u200f.\\u200f\\n'],\n",
              " ['قال الفتى\\u200f:\\u200f أمكنت والله الرامي من صفاء الثغرة\\u200f.\\u200f\\n'],\n",
              " ['أفمنكم قصي بن كلاب الذي جمع القبائل من فهر، وكان يدعى مجمع؟ قال\\u200f:\\u200f لا\\u200f.\\u200f\\n'],\n",
              " ['قال\\u200f:\\u200f أفمنكم هاشم الذي هشم الثريد لقومه؟ قال\\u200f:\\u200f لا\\u200f.\\u200f\\n'],\n",
              " ['قال\\u200f:\\u200f أفمنكم شيبة الحمد مطعم طير السماء الذي كأن وجهه قمر يضيء في الليلة الظلماء؟ قال: لا\\u200f.\\u200f\\n'],\n",
              " ['قال: أفمن المفيضين بالناس أنت؟ قال\\u200f:\\u200f لا\\u200f.\\u200f قال\\u200f:\\u200f أفمن أهل الندوة أنت؟ قال\\u200f:\\u200f لا\\u200f.\\u200f\\n'],\n",
              " ['قال\\u200f:\\u200f أفمن أهل السقاية أنت؟ قال\\u200f:\\u200f لا\\u200f. قال\\u200f:\\u200f أفمن أهل الرفادة أنت؟ قال\\u200f:\\u200f لا\\u200f.\\u200f\\n'],\n",
              " ['قال\\u200f:\\u200f أفمن أهل الحجاجة أنت؟\\u200f قال\\u200f:\\u200f لا\\u200f.\\u200f واجتذب أبو بكر رضي الله عنه زمام ناقته فرجع إلى رسول الله صلى الله عليه وسلم فقال الفتى\\u200f:\\u200f صادف درأ السيل درأ يدفعه يهيضه حين وحين يصدعه، أما والله يا أخا قريش، لو ثبت لأخبرتك أنك من زمعات قريش ولست من الذوائب أو ما أنا بدغفل\\u200f. قال\\u200f:\\u200f فأخبر رسول الله صلى الله عليه وسلم فتبسم\\u200f.\\u200f\\n'],\n",
              " ['فقال علي رضي الله عنه: يا أبا بكر لقد وقعت من الغلام الأعرابي على باقعة\\u200f.\\u200f قال: أجل يا أبا الحسن\\u200f،\\u200f ما من طامة إلا وفوقها طامة، وإن البلاء موكل بالمنطق\\u200f.\\u200f\\n'],\n",
              " ['ودغفل هذا هو دغفل بن حنظلة النسابة الذي يضرب به المثل في النسب، وقد كان له معرفة بالنجوم وغيرها أيض من علوم العرب، قدم مرة على معاوية بن أبي سفيان في خلافته فاختبره فوجد رجل عالم، فقال\\u200f:\\u200f بم نلت هذا يا دغفل؟ قال\\u200f:\\u200f بقلب عقول ولسان سؤول، وآفة العلم النسيان\\u200f.\\u200fفقال: اذهب إلى يزيد فعلمه النسب والنجوم\\u200f.\\u200f\\n'],\n",
              " ['وقد ذكر أبو عبيدة أن ممن يقاربه في العلم بالأنساب من العرب زيد بن الكيس النمري من بني عوف بن سعد بن تغلب بن وائل. وفي دغفل المقدم ذكره يقول مسكين بن عامر الشاعر: فحكم دغفل وارحل إليه، ولا تدع المطي من الكلال أو ابن الكيس النمري زيد ولو أمسى بمنخرق الشمال.\\n'],\n",
              " ['وممن كان مقدم في النسب من العرب النجار بن أوس بن الحارث بن سعيد بن هذيم العذري من قضاعة\\u200f؛ فقد قال أبو عبيدة\\u200f:\\u200f إنه أنسب العرب\\u200f.\\u200f\\n'],\n",
              " ['وقد صنف في علم الأنساب جماعة من جملة العلماء وأعيانهم كأبي عبيدة والبيهقي وابن عبد البر وابن هرم وغيرهم، وهو دليل شرفه ورفعة قدره\\u200f.\\u200f\\n'],\n",
              " ['كثير إذا ما طوينا صفحة أحداث الفتنة التي أطلت برأسها في مصر طيلة الأسبوعين الماضيين\\u200f,\\u200f وإذا ما تجاوزناها باعتبارها سحابة كدر وانقشعت\\u200f.\\u200f ذلك أنني أزعم بأن تلك الأحداث بما شابها من ملابسات وما كشفت عنه من مثالب وعورات\\u200f,\\u200f تمثل محطة مهمة في مسيرة الوطن\\u200f,\\u200f يتعين الوقوف عندها ملي\\u200f,\\u200f والتعامل معها بأعلى درجات الصدق والمسؤولية\\u200f.\\u200f\\n'],\n",
              " ['أول: لا أحد يكاد يصدق أن مصر كلها\\u200f, بطولها وعرضها وعمقها\\u200f,\\u200f اهتزت وتوترت طيلة أسبوعين على الأقل\\u200f,\\u200f بسبب شائعتين مكذوبتين\\u200f:\\u200f الأولى ادعت أن رجال الأمن في محافظة البحيرة اختطفوا زوجة كاهن لإدخالها في الإسلام\\u200f,\\u200f والثانية أن الزوجة أقامت علاقة خاصة مع رئيسها في العمل\\u200f,\\u200f وهو مسلم\\u200f,\\u200f مما أغراها بالتحول عن دينها\\u200f,\\u200f فاختطفها الرجل وأخفاها بعيد عن أسرتها\\u200f.\\u200f\\n'],\n",
              " ['سرت الشائعتان في أوساط أقباط مصر سريان النار في الهشيم\\u200f,\\u200f وتلقفها نفر من أقباط الخارج\\u200f,\\u200f وكان لها صدى مثير اتسم بالاحتجاج والغضب\\u200f,\\u200f الذي عبر عن نفسه بصور شتى\\u200f,\\u200f تراوحت بين التظاهرات والهتافات التي شهدتها بعض الكنائس الرئيسية في القاهرة\\u200f,\\u200f وبين الاشتباك مع رجال الأمن ورشقهم بالحجارة\\u200f,\\u200f مما أدى إلى إصابة اثنين وستين ضابط وشرطي ونقلهم إلى المستشفيات\\u200f.\\u200f لم يخل الأمر من أصداء في الخارج\\u200f,\\u200f تولاها المتربصون والمتصيدون الذين زادوا النار اشتعال\\u200f,\\u200f وراحوا يستثيرون الحكومة الأمريكية والمنظمات الدولية\\u200f,\\u200f مطالبين إياهم بالتدخل لإنقاذ أقباط مصر من القهر والإبادة\\u200f!\\u200f\\n'],\n",
              " ['وإذ تخللت التظاهرات في داخل مصر هتافات ونداءات بعضها كان جارح لمشاعر المسلمين\\u200f,\\u200f والبعض الآخر تطاول على هيبة الدولة والنظام\\u200f.\\u200f إلا أن ذلك فهم بحسبانه من تجليات الغضب غير المنضبط الذي استبد بالجميع\\u200f,\\u200f والذي أججه بعض المتعصبين والمتطرفين داخل الكنيسة وخارجها\\u200f.\\u200f \\n'],\n",
              " ['ولكن أكثر ما أجج المشاعر ورفع من درجة التوتر أن بطريرك الأقباط\\u200f\\u200f البابا شنودة انضم بدوره إلى الغاضبين\\u200f,\\u200f وامتنع عن إلقاء موعظة الأربعاء،\\u200f حين كانت الحشود التي جاءت من كل صوب بانتظاره في مقر البطريركية\\u200f,\\u200f لتسمع منه كلمة تهدئ الروع وتسكن الخواطر\\u200f,\\u200f وخرج من باب خلفي متجها إلى دير وادي النطرون في صحراء مصر\\u200f,\\u200f معلن الاعتكاف هناك، ومعبر عن الاحتجاج بطريقته الصامتة والصاخبة\\u200f.\\u200f وحين ذاع الخبر بين رواد الكنيسة المنتظرين\\u200f,\\u200f تضاعف الغضب وتحول عند بعض الشباب إلى ثورة جامحة انفلت عيارها على النحو الذي قدمت\\u200f.\\u200f \\n'],\n",
              " ['لقد اجتمع في المشهد مختلف عناصر الإثارة\\u200f.\\u200f فموضوعها ليس امرأة عادية\\u200f,\\u200f وإنما هي زوجة كاهن من رموز الكنيسة\\u200f.\\u200f كما أن ما شاع عن كيفية تحولها عن دينها بدا مستفز\\u200f,\\u200f فالأمن أقحم طرف فيه\\u200f,\\u200f أو أن رئيسها المسلم أغراها\\u200f,\\u200f وفي المسألة اختطاف واختفاء\\u200f,\\u200f اتهمت فيه أجهزة الأمن بالتواطؤ والتستر\\u200f.\\u200f وفي غيبة المعلومات الصحيحة لما جرى\\u200f,\\u200f كانت كل ظروف إشعال الحريق مواتية\\u200f.\\n'],\n",
              " ['\\u200fثاني: الحقيقة أعلنها بيان النائب العام\\u200f,\\u200f الذي نشرته صحف الجمعة الماضي\\u200f12، وكانت مجلة المصور في عددها قد سبقت بتجلية الأمر\\u200f,\\u200f وكذلك العدد الأخير من صحيفة الأسبوع.\\u200f البيان الرسمي جاء قاطع في تكذيب الشائعتين\\u200f,\\u200f حيث تبين أنه لم يكن هناك إكراه ولا اختطاف ولا علاقة عاطفية أو غير عاطفية\\u200f,\\u200f وأن السيدة وفاء زوجة الكاهن\\u200f,\\u200f اختارت طواعية أن تدخل في الإسلام\\u200f,\\u200f وأن كل الضجة التي حدثت لم يكن لها ما يبررها\\u200f,\\u200f من التظاهرات الغاضبة إلى اعتكاف البابا شنودة في الدير\\u200f.\\n'],\n",
              " ['ورغم وضوح الحقائق الأساسية للقضية إلا أن ثمة هوامش تكمل الصورة وتجلي بعض من جوانبها التي جرى إغفالها لسبب أو آخر\\u200f,\\u200f كما أن ثمة إشارات في المشهد ينبغي الوقوف عندها وتسلم رسائلها\\u200f.\\u200f\\n'],\n",
              " ['في إطار الهوامش أضيف إلى ما ذكر المعلومات التالية\\u200f,\\u200f التي استقيتها من الجهات التي باشرت الموضوع من أوله إلى آخره\\u200f.\\u200f\\n'],\n",
              " ['إن فكرة تحول السيدة وفاء\\u200f (ستة وأربعون\\u200f عام\\u200f)\\u200f إلى الإسلام خطرت لها منذ سنة ونصف سنة على الأقل\\u200f,\\u200f وبدأت حين تابعت إحدى الحلقات التلفزيونية التي تحدث فيها الدكتور زغلول النجار عن الإعجاز العلمي في القرآن\\u200f.\\u200f وقد شجعها ما سمعت منه ومن غيره على التمعن في الموضوع والتوسع فيه\\u200f.\\u200f فقرأت كتب عدة وسعت من معارفها وجذبتها إلى التعاليم الإسلامية\\u200f,\\u200f فتقدمت خطوات أبعد\\u200f,\\u200f حيث حفظت سبع من سور القرآن الطوال\\u200f,\\u200f كما حفظت جزء عم كله، وقد\\u200f تلت بعض مما حفظته على مسامع من سألوها,\\u200f كما صامت الأيام الستة البيض\\u200f,\\u200f والتزمت قدر الإمكان بأداء الصلوات الخمس اليومية\\u200f.\\n'],\n",
              " ['رعت السيدة وفاء زوجها قس أبي المطامير\\u200f,\\u200f الذي قطعت رجله بسبب تفاقم إصابته بمرض السكر\\u200f,\\u200f إلى أن استقرت حالته\\u200f,\\u200f ووجدت أن ثمة صعوبة في الجمع بين وضعها كزوجة للكاهن\\u200f,\\u200f وبين اقتناعها بالتحول إلى الإسلام\\u200f,\\u200f فقررت أن تلتحق بأسرة مسلمة في حي السلام بالقاهرة\\u200f,\\u200f ارتبطت منذ أيام الدراسة بعلاقة صداقة حميمة مع إحدى بناتها\\u200f.\\u200f وقبل ثلاثة أشهر من مغادرتها لبيت زوجها في أبي المطامير هيأت ابنتها شيرين المتخرجة في كلية العلوم لإدارة البيت في غيابها\\u200f.\\u200f ودونت لها في دفتر خاص ما يتعين عليها عمله لكي لا يختل شيء في وضع البيت\\u200f.\\n'],\n",
              " ['بعدما رتبت أمر بيتها بصورة نسبية\\u200f,\\u200f لجأت السيدة وفاء إلى أسرة صديقتها في القاهرة\\u200f,\\u200f وفي اليوم الأول من الشهر الحالي ذهبت مرتدية الحجاب بصحبة صديقتها وزميلتها القديمة إلى قسم الشرطة في الحي طالبة إشهار إسلامها\\u200f.\\u200f وحين استمع الضابط المختص إلى قصتها\\u200f,\\u200f وعرف أنها زوجة لكاهن\\u200f,\\u200f أدرك أن للأمر حساسية خاصة\\u200f,\\u200f فلم يشأ أن يستمر في الإجراءات الروتينية المتبعة في مثل هذه الحالة\\u200f,\\u200f وأبلغ رئاسته بالموقف\\u200f.\\n'],\n",
              " ['والإجراء المتبع في هذه الحالة\\u200f,\\u200f الذي تنص عليه التعليمات الإدارية\\u200f,\\u200f ألا يتم تسجيل إشهار تغيير الدين\\u200f,\\u200f إلا إذا رتب للشخص المتحول جلسة أو أكثر مع بعض رجال الدين الذي ينتمي إليه\\u200f,\\u200f معروفة باسم جلسات إسداء النصيحة، وبناء على ذلك تم إخطار مطران البحيرة بالأمر\\u200f.\\u200f\\n'],\n",
              " ['كانت تلك بداية مشكلة نشأت بين مطران البحيرة وبين جهاز الأمن\\u200f.\\u200f فقد رفض المطران فكرة عقد جلسة أو جلسات إسداء النصح\\u200f,\\u200f وطلب تسليم السيدة وفاء للكنيسة الأرثوذوكسية\\u200f.\\u200f في حين أن جهاز الأمن كان ملتزم بالتعليمات الإدارية\\u200f,\\u200f ولم يكن مخول في تجاوزها\\u200f.\\u200f واستمر هذا التجاذب لمدة خمسة أيام\\u200f,\\u200f في الفترة من الثالث إلى الثاني عشر من الشهر الثامن الميلادي،\\u200f وهي الفترة التي انتشرت فيها الشائعات واتهم جهاز الأمن بخطف السيدة والتستر عليها\\u200f,\\u200f كما اتهم من جانب البعض بتعمد تعويق تسليمها إلى الكنيسة\\u200f,\\u200f في حين أن مسؤوليه لم يفعلوا أكثر من التزامهم بالتعليمات الصادرة في الموضوع\\u200f.\\u200f\\n'],\n",
              " ['في هذه الأثناء رتبت بعض قيادات الكنيسة الأرثوذوكسية التظاهرة التي حدثت أثناء القداس الذي أقيم بمناسبة وفاة الزميل سعيد سنبل\\u200f,\\u200f وجرى استدعاء عناصر متعددة من مختلف أنحاء البلاد\\u200f.\\u200f وفي حضور عدد من كبار المسؤولين عبرت الحشود عن غضبها ورفعت لافتات الاحتجاج، وبدا أن الموقف موشك على الانفلات أو الانفجار\\u200f.\\n'],\n",
              " ['حينئذ رؤي تسليم السيدة وفاء إلى الكنيسة\\u200f.\\u200f وتم الاتفاق على إيداعها في بيت بضاحية عين شمس بالقاهرة\\u200f، مخصص لإقامة السيدات اللاتي يجري إعدادهن للانخراط في سلك الرهبنة \\u200f(\\u200fالمكرسات\\u200f)،\\u200f وكان ظنها أنها ذاهبة لكي تشهد جلسات إسداء النصح\\u200f,\\u200f ولذلك استغرق الأمر بعض الوقت لإقناعها بأخذ حوائجها والانتقال إلى بيت عين شمس\\u200f،\\u200f وقد ذكرت صحيفة الأسبوع أنها كانت صائمة في ذلك اليوم\\u200f,\\u200f وطلبت تأجيل الموعد لحين الإفطار وأداء صلاة المغرب.\\n'],\n",
              " ['جريدة الأهرام المصرية/ 12/12/2004/ الكاتب فهمي هويدي\\n'],\n",
              " ['http://www.ahram.org.eg/archive/Index.asp?CurFN=opin1.htm&DID=8342\\n'],\n",
              " ['بعد عودتي من رحلة الولايات المتحدة الأمريكية -ضمن الركب الملكي المهيب- التي كانت رحلة موفقة ناجحة، حافلة بالأنشطة، مليئة بالحركة، تردد فيها اسم بلدك على الشفاه مقرون بكثير من الإعجاب والفخر، وبدا علمه الأحمر القاني عالي خفاق، واستأثر وطنك باهتمام الأوساط والمحافل الدولية والسياسية، الرسمية والإعلامية، تقدير منها للمكانة المتميزة التي يشغلها، واقتناع بالسياسة الرشيدة التي ينهجها، واعتراف منها بجرأة الرأي، وحكمة القول، وسلامة التوجه، ونبل القصد، وصفاء الرؤية، التي ما فتئت تطبع سلوك موجهه الأول، وقائده الملهم الذي كان محل حفاوة بالغة، وتقدير فائق، مما أعطى وأفرد لبلدك نموذج خاص، بات علامة مميزة له، وصورة تعكس قيم نبيلة، وأخلاق عالية، وشمائل أصيلة، تزدان بها سجلات تاريخه، وملاحم نضاله، وتبرز كأوسمة شرف على صدر عظمائه، والمبرزين من رجالاته.\\n'],\n",
              " ['أقول: بعد عودتي أحسست برغبة صادقة للتحدث، ولكنني –على غير العادة المألوفة لدي- لم أحضر في ذهني سلف موضوع المحادثة، كما أني لم أشأ أن أترك قلمي يملي علي خواطره إملاء قد لا تكون لها هوى في نفسي، وقد تكون نوع من المكاشفة الداخلية التي تجد لها متنفس ومخرج عبر اليراع، دون أن يكون قد استأذن النفس، وأجاز له القلب أن يبوح بما يريد البوح به، ناهيك بالعواطف والمشاعر. إذن عن أي شيء ترى سيكون حديثي معك؟\\n'],\n",
              " ['لا أود أن تكون مناجاتي هاته مطبوعة بطابع حواراتنا السابقة والتي أشك أنها كانت غنية حية ذات متعة وأنس، اختلفت باختلاف مجالات الفكر التي خضنا فيها، والقضايا التي تطرقنا إليها، مما أعطاها حق التنافس مع باقة ورد أبدعتها يد صانع ماهر، بعد أن تكون قد ألبستها الطبيعة لباس زاهي، وأضفت عليها ألوان بهية، وأكسبتها رونق ونضرة، وجمال وفتنة.\\n'],\n",
              " ['كما أني لا أريد أيض أن أمثل دور المسدي للنصائح، المغرم بتلاوة كتاب الحياة، المليء بشتى التجارب، الطافح بقصص المغامرات التي نستأنس ونتلذذ بقراءتها، ونحن ننشد منها إما عبرة وعظة، أو نتعلم موقف وحكمة، أمل في إنارة طريقنا، وإضاءة سبيل كل منا، سيما وأنت - يا بني- في مراحل العمر الأولى منشأ وفكر، تجربة ورؤية.\\n'],\n",
              " ['تستوقفني هنا إذن يا بني فكرة عجيبة، وتستحوذ على الفكر والنفس والفؤاد، حاثة الإحساس والشعور، دافعة بهما في اتجاه قد لا يبعد كثير عن هذا التساؤل، لماذا لا يكون خطابي هذا متجه إلى نفسي، بقدر ما هو مخصوص بك، متجه إليك، معني بها قدر ما هو مهتم بك، حريص على إحاطتك بأصناف الثقافة، وأنواع المعارف.\\n'],\n",
              " ['إن الاستفادة من تجارب الحياة وعلوم مدرستها، لا تقف عند حد أو تنتهي بخط، كما أنها لا تتقيد بفترة معينة من العمر، أو مرحلة من مراحله.\\n'],\n",
              " ['إن الحياة بتجاربها كالبحر الذي نسبح فيه جميع، كل منا يمتلك قدرة، ويختزن طاقة، ويحسن ضرب من ضروب السياحة. واختلافنا إنما هو اختلاف في درجة تلك القدرة، في نوعية الاستيعاب وكيفية تشغيل تلكم الطاقة، ومعرفة استغلال الإمكانات الذهنية والحسية التي ننعم بها جميع، والتي هي عطاءات إلهية من الواحد الوهاب الذي خص بها سلالة سيدنا آدم عليه السلام.\\n'],\n",
              " ['إذن، فكلنا في باب المعرفة ودنيا الثقافة طالب علم. نعم، قد أكون متقدم عليك، متفوق في جزء منها، بحكم عامل السن والخبرة والمجيء المتقدم للحياة. وقد أبدو أسرع منك في التفاعل مع بعض مظاهرها، أو أكثر فهم لمراميها.\\n'],\n",
              " ['غير أن هذا لا يكفي سبب ولا ينهض مانع، ولا يعطي مسوغ، أو يقوم حجة ودليل على أن والدك قد استوفى حقه من المعرفة، وأن ما تلقاه من ثقافة العصر وعلوم الحياة قد أعطاه قناعة، وأكسبه تجربة، ومنحه رضى واطمئنان. ومن ثم لم تعد في نفسه إليها حاجة أو رغبة ملحة، ولا في عقله استعداد لها وعزيمة.\\n'],\n",
              " ['لا يا بني، فالمعرفة هاجس يشغلنا، ونبضة عرق تسري في أجسامنا، وشعور قوي يقض مضاجعنا، ويمسح الكرى من أجفاننا، ويثير في الفكرة ما تثيره في النفس حاسة الجوع والعطش من نوازع وحوافز التوجه والتطلع والتشوف والرغبة، وبتأمين هذه الحوافز والنوازع وتحقيقها، تنشأ أخرى. وهكذا، ما دام الفكر حي نابض، والعقل يقظ متأهب، أو النفسى مفتحة الشهية، مقبلة عليها، كموج البحر المتتابع، لا تكاد تغيب عن ناظرك واحدة منها حتى تنشأ أخرى، وكأنهما يعيدان أو يجسدان مشهد الحياة والموت أمامنا.\\n'],\n",
              " ['وكذلك مطامح النفس ودوافع الفكر، لا يكادان يشفيان غليلهما أو يطفئان لهب الظمإ المستعر المتأجج فيهما حتى تنبعث في أعماقهما رغبات أخرى.\\n'],\n",
              " ['وهكذا يمشي بنا قطار الحياة جنب إلى جنب مع موكب الثقافة والعلم، لا يتخلف الواحد عن الآخر أو يتأخر عنه. وكل اختلال يلاحظ، أو بطء يلمس، أو تعثر يراقب في موكب الثقافة تكون له عواقب وخيمة، ونتائج غير مرضية، هي أشبه ما تكون بحالة مرضية تتطلب إسعاف وعلاج. وحالة الدول والشعوب في هذا المجال –يا بني- تشبه إلى حد كبير حالة الأفراد، وكل تعثر أو تباطؤ أو تقاعس في ركبها الثقافي والحضاري والعلمي، بالموازاة مع سير قطار الحياة بها، من شأنه أن يحدث خلل في سيرها العام ويرمي به في زوايا التخلف، مما يكون له انعكاسات سلبية خطيرة على أوجه النشاط بها، يحول دون بروز عامل التقدم بها.\\n'],\n",
              " ['من هنا نفهم معنى تقدم بلاد علمي وحضاري، وتأتي أخرى في الماضي والحاضر والمستقبل أيض. وإطلالة سريعة على تاريخ الشعوب وحقبها السالفة، تعطينا إمكانية استخلاص النتائج، واستجلاء الحقائق، فندرك كيف أن بعض منها ترك له بصمات على حياة الأمم بالعلوم التي شهدت له فتح فيها، وإضافات وسبق في كثير من ميادينها، وأنواع التقدم التي غزت كل مجال من مجالات الفكر لديه، مبوئة إياها أعلى درجة، وأسمى مقام.\\n'],\n",
              " ['وكيف أن البعض الآخر ظل سجين دنياه المنغلقة عليه، بمعزل عن الحضارة، غير منشغل بها، لقلة الإحساس لديه بهاجس الثقافة وانعدام روح البحث والتتبع التي من شأنها أن تربي فيه ميل لمعانقة كل صعب، واستقطاب كل السبل الموصلة إلى رحاب العلم، فعاش كما تعيش وتحيا أضعف المجتمعات وأقلها في المستوى وأقصرها عمر.\\n'],\n",
              " ['وتجدني فخور معتز -يا بني- وأنا أعرض أمامك وأمام الشباب العربي الذي هو في مثل عمرك، صفحات من ماضي أمتك العربية، مقدم إياها كنموذج للبلد الذي عانق كل العلوم أيام نهضته، وافتتن بالمعرفة افتتان، ملأ عليه كل أجوائه، فانطلقت مواكب العلم من دنياه تجوب كل الآفاق تاركة لها بصمات هنا وهناك، محدثة بها ثورات فكرية وأخرى علمية، أضاءت معالم الطريق أمام كثير من الدول والشعوب التي كان كابوس الجهل مخيم عليها، وسلطان القهر مستحوذ على ملكات الإحساس بها، محكم إغلاق نوافذ الإشراف بها على عوالم أخذت من العلم حظ وافر، وتفجرت بها أنهار الحضارة فانتعشت وانتعش كل من أصابه فيض منها.\\n'],\n",
              " ['بيد أن أمتك -يا بني- بعد هذا المد الحضاري والتقدم العلمي والاكتساح الثقافي، يتوقف فجأة شراع الفكر بها دون إتمام جولاته، فتنطفئ شعلة العلم، وتجف روافد نهر الحضارة الذي عهدناه دفق المياه. \\n'],\n",
              " ['الفصل الثالث: الأساليب الإدارية: اتخاذ القرارات:\\n'],\n",
              " ['تعد عملية اتخاذ القرارات من أهم العمليات التي يقوم بها القادة والأفراد ذوو المسؤوليات الإدارية. وقد ذكر أن أساتذة الإدارة وفلاسفتها ينظرون إلى عملية اتخاذ القرار على أنها أهم عنصر له أثر محسوس في عمل وحياة المنظمات، فاتخاذ القرارات هو جوهر عمل القادة، وهو نقطة البدء بالنسبة لجميع الإجراءات وأوجه النشاط والتصرفات التي تتم في المنظمة. ومجال الرياضة والشباب يتطلب من القائمين عليه اتخاذ قرارات مستمرة قد يكون لها تأثيرات سلبية أو إيجابية خطيرة على مستقبل الشباب، وبالتالي على مستقبل الأمة. لذلك فإن دراسة هذه العملية تعد من أهم مستلزمات العاملين في هذا المجال. وقد يتبادر إلى الذهن أن عملية اتخاذ القرار عملية سهلة تتطلب من الفرد فقط الشجاعة لاتخاذه، وبالتالي الشجاعة لتحمل مسؤوليته، وقد يكون هذا صحيح في بعض الحالات إلا أن عملية اتخاذ القرارات عملية صعبة ومعقدة، وتتطلب خطوات دقيقة يتم من خلالها اتخاذ القرار على أحسن وجه.\\n'],\n",
              " ['تعريف عملية اتخاذ القرار:\\n'],\n",
              " ['القرار هو حكم معين بما يجب أن يفعله الفرد في موقف ما بعد التمعن في البدائل المختلفة التي يمكن اتباعها. واتخاذ القرارات عملية تتكون من مراحل عدة يتولى فيها متخذ القرار تحديد أهدافه ثم تحديد البدائل الممكنة لتحديد هذه الأهداف، يليها الاختيار النهائي لبديل من هذه البدائل تم تنفيذه. وعملية اتخاذ القرارات ليست عملية فردية بل هي عملية المفترض أن تكون جماعية منظمة ناتجة عن أفكار متعددة لأفراد متعددين في المؤسسة. كما أنها لا تؤخذ فقط على مستوى إداري واحد بل على مستويات إدارية مختلفة، فالمشرف يتخذ بعض القرارات، والمدير كذلك يتخذ قرارات أخرى، ومجلس الإدارة يتخذ بدوره قرارات أي أن اتخاذ القرار لا يرتبط بفرد واحد أو بمستوى إداري واحد.\\n'],\n",
              " ['مراحل اتخاذ القرار:\\n'],\n",
              " ['تمر عملية اتخاذ القرار بمراحل عدة هي:\\n'],\n",
              " ['أول: تحديد المشكلة: في بداية عملية اتخاذ القرار يجب أن تحدد المشكلة المفترض أن يتخذ القرار بشأنها تحديد دقيق. ومن الضروري تحديد جوهر المشكلة بوضوح حيث إن بعض المشكلات تنتج عن وجود مشكلة جوهرية أخرى. ونتيجة لذلك يجب تحديد الهدف المطلوب من خلال تحديد المشكلة.\\n'],\n",
              " ['ثاني: تجميع البيانات والمعلومات ودراستها: بعد تحديد المشكلة بدقة يتم تجميع البيانات والإحصائيات والمعلومات المطلوبة حول هذه المشكلة. ويتوقف نجاح أي قرار في كثير من الأحيان على صحة المعلومات ودقتها وكفايتها. وعادة ما تكون هذه المرحلة من المراحل الصعبة حيث إن تجميع المعلومات يتطلب عادة وقت وجهد، وتحوط به معوقات كثيرة. وفي الكثير من الأحيان تكون المعلومات غير موضوعية أو غير دقيقة. وبعد تجميع هذه البيانات تتم دراستها دراسة دقيقة ووافية.\\n'],\n",
              " ['ثالث: تحديد البدائل: بعد تحديد المشكلة وجمع المعلومات حولها وتحليلها، تظهر هذه الحلول لحل هذه المشكلة. ولذلك تتم دراسة جميع هذه الحلول مع إعطاء كل حل مقترح وقت كافي لمناقشة سلبياته وإيجابياته في كل الظروف التي تمر بها المشكلة. ثم ترتب البدائل حسب أولوياتها.\\n'],\n",
              " ['رابع: اتخاذ القرار:\\n'],\n",
              " ['بعد تحديد البدائل وترتيبها يتم اتخاذ القرار من بين أفضل هذه الحلول، وتتم عملية تحديد التوقيت والمكان المفضل لإصدار هذا القرار ووسيلة إعلانه وأسلوبه وإبلاغه إلى المعنيين بالأمر. ويجب أن تكون صيغة القرار واضحة ودقيقة وأن يكون متماثل مع أهداف المؤسسة مع مراعاة مخاطر اتخاذه وردود الفعل تجاهه وكيفية معالجتها كما يجب تهيئة البيئة الخارجية لاستقبال القرار. \\n'],\n",
              " ['خامس: متابعة القرار وتقويمه: تتم متابعة القرار في الجهات المعنية والتأكد من تطبيقه ورصد ردود الفعل حوله والتأكد من مدى نجاح حل المشكلة بعد تطبيقه. وقد يتطلب الأمر بعد متابعة القرار وتقويمه وإصدار قرارات أخرى مكملة له ومعدلة له إذا ما وجد القرار الأصلي صعوبة في التطبيق أو فشل في حل المشكلة أو إصدار تفسير له إذا ما لوحظ عدم استيعاب المعنيين بالأمر له.\\n'],\n",
              " ['هناك أربعة احتمالات لاتخاذ قرار ما:\\n'],\n",
              " ['أول: اتخاذ قرار خاطئ لمشكلة خاطئة. ثاني: اتخاذ قرار صحيح لمشكلة خاطئة. ثالث: اتخاذ قرار خاطئ لمشكلة صحيحة. رابع: اتخاذ قرار صحيح لمشكلة صحيحة.\\n'],\n",
              " ['فالاحتمال الأول هو أن يتم تحديد المشكلة خطأ، واتخاذ قرار خاطئ بشأنها، وهذا لن يؤدي إلى حل المشكلة. والاحتمال الثاني هو اتخاذ قرار صحيح لمشكلة حددت خطأ، وهذا أيض لن يحل المشكلة. والاحتمال الثالث هو اتخاذ قرار خاطئ لمشكلة تم تحديدها على نحو صحيح، وذلك أيض لن يحل المشكلة. أما الاحتمال الأخير فهو اتخاذ قرار صحيح بشأن مشكلة حددت على نحو صحيح، وهو القرار المطلوب. وكما ذكرنا سابق فإن عملية اتخاذ القرار ليست عملية فردية، بل يجب أن تكون باستمرار عملية جماعية يشارك فيها أعضاء مجلس الإدارة أو العاملون في المستويات الإدارية الأدنى. إلا أن هناك بعض القرارات الحاسمة التي تتطلب اتخاذ قرار فردي من القائد، حيث إنها لا تحتمل الانتظار أو التسويف، وهذه القرارات قليلة جد، ولا تبرز إلا في مناسبات محدودة.\\n'],\n",
              " ['أنواع القرارات:\\n'],\n",
              " ['يمكن أن تقسم القرارات إلى قسمين:\\n'],\n",
              " ['أول: قرارات روتينية أو تقليدية: وهي القرارات المتعلقة بالمشكلات البسيطة والمتكررة في المؤسسة، كالقرارات المتعلقة بالحضور والانصراف على سبيل المثال.\\n'],\n",
              " ['ثاني: القرارات غير التقليدية: وهي التي تتعلق بالمشكلات التي تعترض تنفيذ العملية الإدارية كالمشكلات التي تعترض التخطيط أو التنظيم. وهذه القرارات يتطلب حلها عقد الاجتماعات والمناقشات أو عقد اللجان المتخصصة لهذا الغرض. وقد يستدعي بعض هذه القرارات إصدار قرار عاجل أو التروي وقت أطول، ويتطلب لاتخاذ قرار بشأنها تسخير كافة الإمكانات والمعلومات والبحوث.\\n'],\n",
              " ['وهناك تقسيم آخر لأنواع القرارات مبني على متخذ القرار: \\n'],\n",
              " ['أول: قرار فردي: وهو القرار الذي يتطلب الأمر اتخاذه في حينه، وعادة يعطى للمسؤول الأول أو القائد في البرنامج الحق لاتخاذه، وهذه القرارات تتطلب السرعة. ويفضل أن تحدد الحالات التي يتم فيها اتخاذ قرار فردي في نظام المؤسسة بحيث يعطى الحق للفرد أن يتخذ القرار بدون الرجوع إلى مجلس الإدارة أو العاملين معه في المؤسسة. وهذا النوع من القرارات يجب أن يكون في أضيق الحدود. ثاني: قرار جماعي: وهو القرار الذي يتم اتخاذه بواسطة مجلس الإدارة أو الهيئة الإدارية بالتعاون مع العاملين في المؤسسة. وهذا النوع من القرارات هو المفضل في العمل الإداري.\\n'],\n",
              " ['مثال لعملية اتخاذ القرار في المجال الرياضي:\\n'],\n",
              " ['أول: تحديد المشكلة: الشغب في ملاعب كرة القدم: حيث لوحظ في الآونة الأخيرة أن الكثير من المباريات تنتهي بوجود حالات للشغب كمحاولة الإساءة للحكام أو دخول الجمهور للملعب أو المشاجرات في المدرجات. \\n'],\n",
              " ['ثاني: تجميع المعلومات والبيانات: يتم تحديد أسباب هذه الظاهرة من خلال عمل الدراسات والأبحاث أو من خلال الاطلاع على الأبحاث التي أجريت في هذا المجال في الدول الأخرى. كما تجمع معلومات حول عدد حالات الشغب وظروفها ودراسة التقارير بشأنها ومحاولة تجميع كل ما يمكن الحصول عليه من معلومات في الداخل أو من الدول الأخرى التي عالجت هذه المشكلة.\\n'],\n",
              " ['ثالث: وضع البدائل وترتيبها: قد تبرز بعض الحلول والبدائل لمعالجة هذه المشكلة:\\n'],\n",
              " ['الأول: زيادة قوات الأمن. الثاني: اتخاذ عقوبات رادعة بشأن اللاعب والنادي والأفراد المشاغبين. الثالث: رفع مستوى التحكيم،إذا كان التحكيم أحد الأسباب. الرابع: اتخاذ احتياطات أمنية في الملاعب كبناء الأسوار العالية.\\n'],\n",
              " ['الفصل الثالث: الفريق الصحي ودور الأخصائي الاجتماعي كعضو في الفريق:\\n'],\n",
              " ['رأينا في الفصل السابق اتساع مجالات ونشاطات الصحة العامة حيث تعتمد على المختصين في الصحة العامة الذين يتجمعون من مهن عديدة، هؤلاء يكونون فريق واحد يعمل في جميع مجالات الصحة العامة. فمن مهنة الطب نجد أطباء الصحة العامة، ومن مهنة الهندسة نجد مهندسي الصحة العامة، ومن مهنة التمريض ممرضات الصحة العامة، ومن التعليم موجهي الصحة العامة، ومن الأخصائيين اجتماعيين في الصحة العامة ومجال الخدمة الاجتماعية الطبية والنفسية. فكل يعمل من خلال تخصصه في مجالات الصحة العامة، ويستهدفون تحقيق السلامة والكفاية الصحية للفرد والمجتمع. ومن هنا نرى أن الصحة العامة أصبحت تخصص في كثير من المهن الاجتماعية، بل إنها قد أصبحت مهنة متخصصة لها مقومات وعناصر المهنة، منها: مهاراتها الخاصة بها ووجود اعتراف مجتمعي بها، حيث الجمعيات المهنية التي تعمل على رفع مستوى الممارسة الخاصة بالمهنة، مثل جمعية الصحة العامة المصرية أو جمعية الصحة العامة الأمريكية ومنظمة الصحة العالمية. كما أصبحت هناك معاهد متخصصة لتخريج الأخصائيين في الصحة العامة مثل معاهد الصحة العامة في بعض محافظات جمهورية مصر العربية. والاهتمام بمعدلات التدريب للمتخصصين في الصحة العامة، بالإضافة إلى مهنتهم الأصلية.\\n'],\n",
              " ['فريق العمل في مجالات الصحة العامة:\\n'],\n",
              " ['يتكون فريق العمل في الصحة العامة من متخصصين في مختلف مجالات الحياة الاجتماعية، فالطبيب والأخصائي الاجتماعي وأخصائي الإحصاء، بالإضافة إلى الأخصائيين في العلوم السلوكية من نفسيين واجتماعيين وأخصائيين في العلوم الطبيعية والتأهيل المهني، والأطباء البيطريين، والاقتصاديين والكيميائيين، جميعهم أعضاء في فريق واحد يعملون على الارتقاء بمستوى مهنة الصحة العامة ومجالاتها المختلفة.\\n'],\n",
              " ['والعاملون في مجالات الصحة أعضاء ينتمون إلى مهن مختلفة، يختلفون باختلاف المجال أو التخصص، ولكل طريقته ومبادئه الخاصة.\\n'],\n",
              " ['مما يجعل من تعدد الخدمات سمة من سمات فريق العمل حيث يعمل كل منهم بصورة مختلفة عن الآخر، ولكن في النهاية تتوافق الأهداف وتتحقق برامج الرعاية الصحية الشاملة. ومن عوامل نجاح فريق الرعاية الصحية إيمان كل فرد من أعضاء الفريق بقيمة العمل الذي يؤديه كل منهم مما يجعل الجميع يعمل ككل متعاونين للوصول إلى الهدف. ولهذا نجد أن جميع أعضاء الفريق يعرفون: لماذا يعمل كل منهم، وكيف يعمل، وأهمية عمله لتحقيق نجاح برامج الرعاية الصحية، بل يسعى كل منهم إلى المتخصصين في الميادين المختلفة لاستكمال العمل، أي أن هناك نوع من التعاون والتنسيق. ولا نستطيع أن نحدد الرئيس والمرؤوس في هذا الفريق، ولكن هناك نوع من التنظيم والتنسيق يساعد على احتفاظ كل قطاع مهني بأسس ممارسته للمهنة الأصلية التي يتبع لها مع الاعتراف بقيمة عمله وحقه في الممارسة المتخصصة في مجال الصحة العامة. ولذلك نجد أن كل عضو يكون قائد عند مناقشة أو تخطيط مشكلة ما تنتمي إلى مجال تخصصه. ورغم هذا نجد أن ممارسة العمل تقوم على فلسفة إدارية وتنظيمية تتميز بالمرونة، حيث استعداد كل عضو من أعضاء الفريق أن يكون قائد مرة أو مرات، ومرؤوس مرات أخرى.\\n'],\n",
              " ['ويتكون أعضاء الفريق الصحي من أعضاء لكل منهم اختصاصاته وأعماله وأساليبه المهنية المتخصصة في العمل، ويختلف إعداد كل منهم وتدريبه عن الآخر. ويمكن تقسيم أعضاء الفريق الصحي إلى:\\n'],\n",
              " ['أول: أعضاء ينتمون إلى المهن الطبية والصحية:\\n'],\n",
              " ['ويدخل تحت هذه الفئة الأطباء المتخصصون في الطب أو الصحة العامة، والممرضات سواء كن ممرضات صحة عامة أو مساعدات ممرضات؛ والصيادلة والحكيمات والمولدات وأخصائيو العلاج الطبيعي وأخصائيو التغذية.\\n'],\n",
              " ['ثاني: العاملون في صحة البيئة: وتشمل المهندسين الصحيين والمعاونين الصحيين والأطباء البيطريين.\\n'],\n",
              " ['ثالث: أطباء صحة الأسنان: ويشمل الأطباء والممرضين والفنيين العاملين في مجال صحة الأسنان.\\n'],\n",
              " ['رابع: أعضاء المعامل:\\n'],\n",
              " ['وهم أخصائيو المعامل سواء كانوا كيميائيين أو عاملين في مجال الطفيليات أو الميكروبيولوجي وفنيي المعامل والأشعة.\\n'],\n",
              " ['خامس: المعاونون في مجال الصحة: وتشمل الأخصائيين الاجتماعيين والمثقفين الصحيين والإداريين والأخصائيين النفسيين والسلوكيين.\\n'],\n",
              " ...]"
            ]
          },
          "metadata": {},
          "execution_count": 42
        }
      ]
    },
    {
      "cell_type": "code",
      "metadata": {
        "id": "-AjUkuCJHtHA"
      },
      "source": [
        "each_sentence_tokenaized_uvtxt_cell = []\n",
        "for each_utxr in uvtxt_cell:\n",
        "  each_utxr= str(each_utxr)\n",
        "  w = nltk.word_tokenize(each_utxr)\n",
        "  each_sentence_tokenaized_uvtxt_cell.append(w)"
      ],
      "execution_count": null,
      "outputs": []
    },
    {
      "cell_type": "code",
      "metadata": {
        "id": "z8nsirGcHwXg"
      },
      "source": [
        "each_sentence_tokenaized_updated_uvtxt_cell = []\n",
        "for sentence in each_sentence_tokenaized_uvtxt_cell:\n",
        "  words=[]\n",
        "  for each_word in sentence:\n",
        "    preprocessed_word=str(each_word).translate(w_nopun)\n",
        "    words.append(preprocessed_word)\n",
        "  each_sentence_tokenaized_updated_uvtxt_cell.append(words)"
      ],
      "execution_count": null,
      "outputs": []
    },
    {
      "cell_type": "code",
      "metadata": {
        "id": "vFHCF8UiHzhv"
      },
      "source": [
        "#remove_non_arabic_symbols fct\n",
        "final_version_Sentences_preprocessed_utxt = []\n",
        "for sentence in each_sentence_tokenaized_updated_uvtxt_cell:\n",
        "  wordssssss = []\n",
        "  for each_word in sentence:\n",
        "    ch = re.sub(r'[^\\u0600-\\u06FF]', '', each_word)\n",
        "    wordssssss.append(ch)\t\t\n",
        "  final_version_Sentences_preprocessed_utxt.append(wordssssss)"
      ],
      "execution_count": null,
      "outputs": []
    },
    {
      "cell_type": "code",
      "metadata": {
        "id": "qF8ALQtPH4Fr"
      },
      "source": [
        "for sentence in final_version_Sentences_preprocessed_utxt:\n",
        "  for each_word in sentence:\n",
        "    each_word =str(each_word).strip('[]').split()"
      ],
      "execution_count": null,
      "outputs": []
    },
    {
      "cell_type": "code",
      "metadata": {
        "colab": {
          "base_uri": "https://localhost:8080/"
        },
        "id": "LEl0M6W6H7Ao",
        "outputId": "b79edb20-063a-4600-e224-0178956f3f34"
      },
      "source": [
        "for sentence in final_version_Sentences_preprocessed_utxt:\n",
        "  for word in sentence:\n",
        "    if word == \"\":\n",
        "      sentence.remove(word)\n",
        "      final_version_Sentences_preprocessed_utxt.append(sentence)\n",
        "\n",
        "\n",
        "print(len(final_version_Sentences_preprocessed_utxt))\n",
        "print(final_version_Sentences_preprocessed_utxt[0])"
      ],
      "execution_count": null,
      "outputs": [
        {
          "output_type": "stream",
          "name": "stdout",
          "text": [
            "12826\n",
            "['للاستشراق', 'أهداف', 'كثيرة', 'منها', 'الدينية', 'والاستعمارية', 'والعلمية', 'والاقتصادية', 'والتجارية', 'وسوف', 'نلقي', 'ضوء', 'سريع', 'على', 'هذه', 'الأهداف']\n"
          ]
        }
      ]
    },
    {
      "cell_type": "code",
      "metadata": {
        "id": "bAJJhcsfH-x9"
      },
      "source": [
        "ssssssssssssss = []\n",
        "\n",
        "for sentence in final_version_Sentences_preprocessed_utxt:\n",
        "  for word in sentence:\n",
        "    ssssssssssssss.append(word)"
      ],
      "execution_count": null,
      "outputs": []
    },
    {
      "cell_type": "code",
      "metadata": {
        "colab": {
          "base_uri": "https://localhost:8080/"
        },
        "id": "GpmfTbDSI8ma",
        "outputId": "7dc806cb-cfc1-4c68-96a3-c5d4d23a16b9"
      },
      "source": [
        "print(len(ssssssssssssss))\n"
      ],
      "execution_count": null,
      "outputs": [
        {
          "output_type": "stream",
          "name": "stdout",
          "text": [
            "1144606\n"
          ]
        }
      ]
    },
    {
      "cell_type": "code",
      "metadata": {
        "id": "ho3CZbyGcY_P"
      },
      "source": [
        "import numpy "
      ],
      "execution_count": null,
      "outputs": []
    },
    {
      "cell_type": "markdown",
      "metadata": {
        "id": "OHRgWtEDcQ6s"
      },
      "source": [
        " Now we loop over each word in v and u array and convert them to word vector to be suitable to input to our model architecture "
      ]
    },
    {
      "cell_type": "code",
      "metadata": {
        "id": "2ebji9RlIHai"
      },
      "source": [
        "word_vec=[nlp(str(word)).vector for word in ssssssssssssss]\n",
        "\n",
        "X=numpy.array(word_vec)\n",
        "\n",
        "\n",
        "\"\"\"\n",
        "Note \n",
        "\n",
        "this word embedding calculation for (sssssssssss ) un-vowleized text (this Ahmed Eid 's calling for varibles )\n",
        " \n",
        "\"\"\""
      ],
      "execution_count": null,
      "outputs": []
    },
    {
      "cell_type": "markdown",
      "metadata": {
        "id": "jsTKDqzXegvU"
      },
      "source": [
        "## Now Creating Model architecture  "
      ]
    },
    {
      "cell_type": "code",
      "metadata": {
        "id": "1hkiYgc8MOVu"
      },
      "source": [
        "from tensorflow import keras\n",
        "from keras.models import Sequential\n",
        "from keras.layers import Dense\n",
        "from keras.layers import Activation"
      ],
      "execution_count": null,
      "outputs": []
    },
    {
      "cell_type": "markdown",
      "metadata": {
        "id": "ck60uJJrenrL"
      },
      "source": [
        "### input size is 100 (one word ) \n",
        "\n",
        "we used 300 size(3 input word size )  but this was not effiecient way for input the data to the architecture   "
      ]
    },
    {
      "cell_type": "code",
      "metadata": {
        "id": "KHC_Rz10MYwT"
      },
      "source": [
        "# define the architecture of the network\n",
        "model = Sequential()\n",
        "model.add(Dense(768, input_dim=100,activation=\"relu\"))\n",
        "model.add(Dense(384, activation=\"relu\", kernel_initializer=\"uniform\"))\n",
        "model.add(Dense(384, activation=\"relu\", kernel_initializer=\"uniform\"))\n",
        "model.add(Dense(384, activation=\"relu\", kernel_initializer=\"uniform\"))\n",
        "model.add(Dense(384, activation=\"relu\", kernel_initializer=\"uniform\"))\n",
        "model.add(Dense(100))\n",
        "model.add(Activation(\"softmax\"))"
      ],
      "execution_count": null,
      "outputs": []
    },
    {
      "cell_type": "markdown",
      "metadata": {
        "id": "zueCaZO2fhWq"
      },
      "source": [
        "### optmizer is SGD "
      ]
    },
    {
      "cell_type": "code",
      "metadata": {
        "id": "krzgqfmmMb77"
      },
      "source": [
        "from tensorflow.keras.optimizers import SGD"
      ],
      "execution_count": null,
      "outputs": []
    },
    {
      "cell_type": "markdown",
      "metadata": {
        "id": "-lF6wqkrflRz"
      },
      "source": [
        " one last step to also to convert v(vowelized )text to word embbeding as it will be used as (y_train,y_test) labels or target "
      ]
    },
    {
      "cell_type": "code",
      "metadata": {
        "id": "NenhIeYgNR2p"
      },
      "source": [
        "y_train=[nlp(str(word)).vector for word in qqq]\n",
        "y_train=numpy.array(y_train)"
      ],
      "execution_count": null,
      "outputs": []
    },
    {
      "cell_type": "markdown",
      "metadata": {
        "id": "N8ghL-TVf6Dd"
      },
      "source": [
        "#### Train test split to create [y_train,y_test,X_train,X_test]"
      ]
    },
    {
      "cell_type": "code",
      "metadata": {
        "id": "bwWYC3FGLFYs"
      },
      "source": [
        "from sklearn.model_selection import train_test_split\n",
        "X_train,X_test,y_train,y_test = train_test_split(word_vec,y_train,test_size = 0.1)"
      ],
      "execution_count": null,
      "outputs": []
    },
    {
      "cell_type": "markdown",
      "metadata": {
        "id": "Zdx0QiXcgLbw"
      },
      "source": [
        "## Fitting the data [X_train , y_train]\n",
        "\n",
        "The LOSS FUNCTION IS mean_squared_error\n",
        "\n",
        "number of epochs is 50  "
      ]
    },
    {
      "cell_type": "code",
      "metadata": {
        "colab": {
          "base_uri": "https://localhost:8080/",
          "height": 974
        },
        "id": "oAYHQFtsMehZ",
        "outputId": "2ada0cef-df9e-4cf9-9a3b-25bfef1c5a33"
      },
      "source": [
        "print(\"[INFO] compiling model...\")\n",
        "sgd = SGD(lr=0.01)\n",
        "model.compile(loss=\"mean_squared_error\", optimizer=sgd,\n",
        "metrics=[\"accuracy\"])\n",
        "model.fit(X_train,y_train,epochs=50, batch_size=128,verbose=1)"
      ],
      "execution_count": null,
      "outputs": [
        {
          "output_type": "stream",
          "name": "stdout",
          "text": [
            "[INFO] compiling model...\n",
            "Epoch 1/50\n"
          ]
        },
        {
          "output_type": "stream",
          "name": "stderr",
          "text": [
            "/usr/local/lib/python3.7/dist-packages/keras/optimizer_v2/gradient_descent.py:102: UserWarning: The `lr` argument is deprecated, use `learning_rate` instead.\n",
            "  super(SGD, self).__init__(name, **kwargs)\n"
          ]
        },
        {
          "output_type": "stream",
          "name": "stdout",
          "text": [
            "8943/8943 [==============================] - 192s 21ms/step - loss: 4.6764 - accuracy: 0.0235\n",
            "Epoch 2/50\n",
            "8943/8943 [==============================] - 188s 21ms/step - loss: 4.6748 - accuracy: 0.0366\n",
            "Epoch 3/50\n",
            "8943/8943 [==============================] - 187s 21ms/step - loss: 4.6536 - accuracy: 0.0668\n",
            "Epoch 4/50\n",
            "8943/8943 [==============================] - 186s 21ms/step - loss: 4.6398 - accuracy: 0.0930\n",
            "Epoch 5/50\n",
            "8943/8943 [==============================] - 188s 21ms/step - loss: 4.6381 - accuracy: 0.0947\n",
            "Epoch 6/50\n",
            "8943/8943 [==============================] - 186s 21ms/step - loss: 4.6378 - accuracy: 0.0949\n",
            "Epoch 7/50\n",
            "8943/8943 [==============================] - 188s 21ms/step - loss: 4.6377 - accuracy: 0.0950\n",
            "Epoch 8/50\n",
            "8943/8943 [==============================] - 187s 21ms/step - loss: 4.6376 - accuracy: 0.0952\n",
            "Epoch 9/50\n",
            "8943/8943 [==============================] - 188s 21ms/step - loss: 4.6376 - accuracy: 0.0953\n",
            "Epoch 10/50\n",
            "8943/8943 [==============================] - 188s 21ms/step - loss: 4.6375 - accuracy: 0.0953\n",
            "Epoch 11/50\n",
            "8943/8943 [==============================] - 186s 21ms/step - loss: 4.6375 - accuracy: 0.0953\n",
            "Epoch 12/50\n",
            "8943/8943 [==============================] - 185s 21ms/step - loss: 4.6375 - accuracy: 0.0954\n",
            "Epoch 13/50\n",
            "8943/8943 [==============================] - 186s 21ms/step - loss: 4.6375 - accuracy: 0.0954\n",
            "Epoch 14/50\n",
            "8943/8943 [==============================] - 186s 21ms/step - loss: 4.6375 - accuracy: 0.0954\n",
            "Epoch 15/50\n",
            "8943/8943 [==============================] - 186s 21ms/step - loss: 4.6375 - accuracy: 0.0954\n",
            "Epoch 16/50\n",
            " 866/8943 [=>............................] - ETA: 2:48 - loss: 4.6381 - accuracy: 0.0972"
          ]
        },
        {
          "output_type": "error",
          "ename": "KeyboardInterrupt",
          "evalue": "ignored",
          "traceback": [
            "\u001b[0;31m---------------------------------------------------------------------------\u001b[0m",
            "\u001b[0;31mKeyboardInterrupt\u001b[0m                         Traceback (most recent call last)",
            "\u001b[0;32m<ipython-input-108-22e79f5f5129>\u001b[0m in \u001b[0;36m<module>\u001b[0;34m()\u001b[0m\n\u001b[1;32m      3\u001b[0m model.compile(loss=\"mean_squared_error\", optimizer=sgd,\n\u001b[1;32m      4\u001b[0m metrics=[\"accuracy\"])\n\u001b[0;32m----> 5\u001b[0;31m \u001b[0mmodel\u001b[0m\u001b[0;34m.\u001b[0m\u001b[0mfit\u001b[0m\u001b[0;34m(\u001b[0m\u001b[0mX_train\u001b[0m\u001b[0;34m,\u001b[0m\u001b[0my_train\u001b[0m\u001b[0;34m,\u001b[0m\u001b[0mepochs\u001b[0m\u001b[0;34m=\u001b[0m\u001b[0;36m50\u001b[0m\u001b[0;34m,\u001b[0m \u001b[0mbatch_size\u001b[0m\u001b[0;34m=\u001b[0m\u001b[0;36m128\u001b[0m\u001b[0;34m,\u001b[0m\u001b[0mverbose\u001b[0m\u001b[0;34m=\u001b[0m\u001b[0;36m1\u001b[0m\u001b[0;34m)\u001b[0m\u001b[0;34m\u001b[0m\u001b[0;34m\u001b[0m\u001b[0m\n\u001b[0m",
            "\u001b[0;32m/usr/local/lib/python3.7/dist-packages/keras/utils/traceback_utils.py\u001b[0m in \u001b[0;36merror_handler\u001b[0;34m(*args, **kwargs)\u001b[0m\n\u001b[1;32m     62\u001b[0m     \u001b[0mfiltered_tb\u001b[0m \u001b[0;34m=\u001b[0m \u001b[0;32mNone\u001b[0m\u001b[0;34m\u001b[0m\u001b[0;34m\u001b[0m\u001b[0m\n\u001b[1;32m     63\u001b[0m     \u001b[0;32mtry\u001b[0m\u001b[0;34m:\u001b[0m\u001b[0;34m\u001b[0m\u001b[0;34m\u001b[0m\u001b[0m\n\u001b[0;32m---> 64\u001b[0;31m       \u001b[0;32mreturn\u001b[0m \u001b[0mfn\u001b[0m\u001b[0;34m(\u001b[0m\u001b[0;34m*\u001b[0m\u001b[0margs\u001b[0m\u001b[0;34m,\u001b[0m \u001b[0;34m**\u001b[0m\u001b[0mkwargs\u001b[0m\u001b[0;34m)\u001b[0m\u001b[0;34m\u001b[0m\u001b[0;34m\u001b[0m\u001b[0m\n\u001b[0m\u001b[1;32m     65\u001b[0m     \u001b[0;32mexcept\u001b[0m \u001b[0mException\u001b[0m \u001b[0;32mas\u001b[0m \u001b[0me\u001b[0m\u001b[0;34m:\u001b[0m  \u001b[0;31m# pylint: disable=broad-except\u001b[0m\u001b[0;34m\u001b[0m\u001b[0;34m\u001b[0m\u001b[0m\n\u001b[1;32m     66\u001b[0m       \u001b[0mfiltered_tb\u001b[0m \u001b[0;34m=\u001b[0m \u001b[0m_process_traceback_frames\u001b[0m\u001b[0;34m(\u001b[0m\u001b[0me\u001b[0m\u001b[0;34m.\u001b[0m\u001b[0m__traceback__\u001b[0m\u001b[0;34m)\u001b[0m\u001b[0;34m\u001b[0m\u001b[0;34m\u001b[0m\u001b[0m\n",
            "\u001b[0;32m/usr/local/lib/python3.7/dist-packages/keras/engine/training.py\u001b[0m in \u001b[0;36mfit\u001b[0;34m(self, x, y, batch_size, epochs, verbose, callbacks, validation_split, validation_data, shuffle, class_weight, sample_weight, initial_epoch, steps_per_epoch, validation_steps, validation_batch_size, validation_freq, max_queue_size, workers, use_multiprocessing)\u001b[0m\n\u001b[1;32m   1214\u001b[0m                 _r=1):\n\u001b[1;32m   1215\u001b[0m               \u001b[0mcallbacks\u001b[0m\u001b[0;34m.\u001b[0m\u001b[0mon_train_batch_begin\u001b[0m\u001b[0;34m(\u001b[0m\u001b[0mstep\u001b[0m\u001b[0;34m)\u001b[0m\u001b[0;34m\u001b[0m\u001b[0;34m\u001b[0m\u001b[0m\n\u001b[0;32m-> 1216\u001b[0;31m               \u001b[0mtmp_logs\u001b[0m \u001b[0;34m=\u001b[0m \u001b[0mself\u001b[0m\u001b[0;34m.\u001b[0m\u001b[0mtrain_function\u001b[0m\u001b[0;34m(\u001b[0m\u001b[0miterator\u001b[0m\u001b[0;34m)\u001b[0m\u001b[0;34m\u001b[0m\u001b[0;34m\u001b[0m\u001b[0m\n\u001b[0m\u001b[1;32m   1217\u001b[0m               \u001b[0;32mif\u001b[0m \u001b[0mdata_handler\u001b[0m\u001b[0;34m.\u001b[0m\u001b[0mshould_sync\u001b[0m\u001b[0;34m:\u001b[0m\u001b[0;34m\u001b[0m\u001b[0;34m\u001b[0m\u001b[0m\n\u001b[1;32m   1218\u001b[0m                 \u001b[0mcontext\u001b[0m\u001b[0;34m.\u001b[0m\u001b[0masync_wait\u001b[0m\u001b[0;34m(\u001b[0m\u001b[0;34m)\u001b[0m\u001b[0;34m\u001b[0m\u001b[0;34m\u001b[0m\u001b[0m\n",
            "\u001b[0;32m/usr/local/lib/python3.7/dist-packages/tensorflow/python/util/traceback_utils.py\u001b[0m in \u001b[0;36merror_handler\u001b[0;34m(*args, **kwargs)\u001b[0m\n\u001b[1;32m    148\u001b[0m     \u001b[0mfiltered_tb\u001b[0m \u001b[0;34m=\u001b[0m \u001b[0;32mNone\u001b[0m\u001b[0;34m\u001b[0m\u001b[0;34m\u001b[0m\u001b[0m\n\u001b[1;32m    149\u001b[0m     \u001b[0;32mtry\u001b[0m\u001b[0;34m:\u001b[0m\u001b[0;34m\u001b[0m\u001b[0;34m\u001b[0m\u001b[0m\n\u001b[0;32m--> 150\u001b[0;31m       \u001b[0;32mreturn\u001b[0m \u001b[0mfn\u001b[0m\u001b[0;34m(\u001b[0m\u001b[0;34m*\u001b[0m\u001b[0margs\u001b[0m\u001b[0;34m,\u001b[0m \u001b[0;34m**\u001b[0m\u001b[0mkwargs\u001b[0m\u001b[0;34m)\u001b[0m\u001b[0;34m\u001b[0m\u001b[0;34m\u001b[0m\u001b[0m\n\u001b[0m\u001b[1;32m    151\u001b[0m     \u001b[0;32mexcept\u001b[0m \u001b[0mException\u001b[0m \u001b[0;32mas\u001b[0m \u001b[0me\u001b[0m\u001b[0;34m:\u001b[0m\u001b[0;34m\u001b[0m\u001b[0;34m\u001b[0m\u001b[0m\n\u001b[1;32m    152\u001b[0m       \u001b[0mfiltered_tb\u001b[0m \u001b[0;34m=\u001b[0m \u001b[0m_process_traceback_frames\u001b[0m\u001b[0;34m(\u001b[0m\u001b[0me\u001b[0m\u001b[0;34m.\u001b[0m\u001b[0m__traceback__\u001b[0m\u001b[0;34m)\u001b[0m\u001b[0;34m\u001b[0m\u001b[0;34m\u001b[0m\u001b[0m\n",
            "\u001b[0;32m/usr/local/lib/python3.7/dist-packages/tensorflow/python/eager/def_function.py\u001b[0m in \u001b[0;36m__call__\u001b[0;34m(self, *args, **kwds)\u001b[0m\n\u001b[1;32m    908\u001b[0m \u001b[0;34m\u001b[0m\u001b[0m\n\u001b[1;32m    909\u001b[0m       \u001b[0;32mwith\u001b[0m \u001b[0mOptionalXlaContext\u001b[0m\u001b[0;34m(\u001b[0m\u001b[0mself\u001b[0m\u001b[0;34m.\u001b[0m\u001b[0m_jit_compile\u001b[0m\u001b[0;34m)\u001b[0m\u001b[0;34m:\u001b[0m\u001b[0;34m\u001b[0m\u001b[0;34m\u001b[0m\u001b[0m\n\u001b[0;32m--> 910\u001b[0;31m         \u001b[0mresult\u001b[0m \u001b[0;34m=\u001b[0m \u001b[0mself\u001b[0m\u001b[0;34m.\u001b[0m\u001b[0m_call\u001b[0m\u001b[0;34m(\u001b[0m\u001b[0;34m*\u001b[0m\u001b[0margs\u001b[0m\u001b[0;34m,\u001b[0m \u001b[0;34m**\u001b[0m\u001b[0mkwds\u001b[0m\u001b[0;34m)\u001b[0m\u001b[0;34m\u001b[0m\u001b[0;34m\u001b[0m\u001b[0m\n\u001b[0m\u001b[1;32m    911\u001b[0m \u001b[0;34m\u001b[0m\u001b[0m\n\u001b[1;32m    912\u001b[0m       \u001b[0mnew_tracing_count\u001b[0m \u001b[0;34m=\u001b[0m \u001b[0mself\u001b[0m\u001b[0;34m.\u001b[0m\u001b[0mexperimental_get_tracing_count\u001b[0m\u001b[0;34m(\u001b[0m\u001b[0;34m)\u001b[0m\u001b[0;34m\u001b[0m\u001b[0;34m\u001b[0m\u001b[0m\n",
            "\u001b[0;32m/usr/local/lib/python3.7/dist-packages/tensorflow/python/eager/def_function.py\u001b[0m in \u001b[0;36m_call\u001b[0;34m(self, *args, **kwds)\u001b[0m\n\u001b[1;32m    940\u001b[0m       \u001b[0;31m# In this case we have created variables on the first call, so we run the\u001b[0m\u001b[0;34m\u001b[0m\u001b[0;34m\u001b[0m\u001b[0;34m\u001b[0m\u001b[0m\n\u001b[1;32m    941\u001b[0m       \u001b[0;31m# defunned version which is guaranteed to never create variables.\u001b[0m\u001b[0;34m\u001b[0m\u001b[0;34m\u001b[0m\u001b[0;34m\u001b[0m\u001b[0m\n\u001b[0;32m--> 942\u001b[0;31m       \u001b[0;32mreturn\u001b[0m \u001b[0mself\u001b[0m\u001b[0;34m.\u001b[0m\u001b[0m_stateless_fn\u001b[0m\u001b[0;34m(\u001b[0m\u001b[0;34m*\u001b[0m\u001b[0margs\u001b[0m\u001b[0;34m,\u001b[0m \u001b[0;34m**\u001b[0m\u001b[0mkwds\u001b[0m\u001b[0;34m)\u001b[0m  \u001b[0;31m# pylint: disable=not-callable\u001b[0m\u001b[0;34m\u001b[0m\u001b[0;34m\u001b[0m\u001b[0m\n\u001b[0m\u001b[1;32m    943\u001b[0m     \u001b[0;32melif\u001b[0m \u001b[0mself\u001b[0m\u001b[0;34m.\u001b[0m\u001b[0m_stateful_fn\u001b[0m \u001b[0;32mis\u001b[0m \u001b[0;32mnot\u001b[0m \u001b[0;32mNone\u001b[0m\u001b[0;34m:\u001b[0m\u001b[0;34m\u001b[0m\u001b[0;34m\u001b[0m\u001b[0m\n\u001b[1;32m    944\u001b[0m       \u001b[0;31m# Release the lock early so that multiple threads can perform the call\u001b[0m\u001b[0;34m\u001b[0m\u001b[0;34m\u001b[0m\u001b[0;34m\u001b[0m\u001b[0m\n",
            "\u001b[0;32m/usr/local/lib/python3.7/dist-packages/tensorflow/python/eager/function.py\u001b[0m in \u001b[0;36m__call__\u001b[0;34m(self, *args, **kwargs)\u001b[0m\n\u001b[1;32m   3129\u001b[0m        filtered_flat_args) = self._maybe_define_function(args, kwargs)\n\u001b[1;32m   3130\u001b[0m     return graph_function._call_flat(\n\u001b[0;32m-> 3131\u001b[0;31m         filtered_flat_args, captured_inputs=graph_function.captured_inputs)  # pylint: disable=protected-access\n\u001b[0m\u001b[1;32m   3132\u001b[0m \u001b[0;34m\u001b[0m\u001b[0m\n\u001b[1;32m   3133\u001b[0m   \u001b[0;34m@\u001b[0m\u001b[0mproperty\u001b[0m\u001b[0;34m\u001b[0m\u001b[0;34m\u001b[0m\u001b[0m\n",
            "\u001b[0;32m/usr/local/lib/python3.7/dist-packages/tensorflow/python/eager/function.py\u001b[0m in \u001b[0;36m_call_flat\u001b[0;34m(self, args, captured_inputs, cancellation_manager)\u001b[0m\n\u001b[1;32m   1958\u001b[0m       \u001b[0;31m# No tape is watching; skip to running the function.\u001b[0m\u001b[0;34m\u001b[0m\u001b[0;34m\u001b[0m\u001b[0;34m\u001b[0m\u001b[0m\n\u001b[1;32m   1959\u001b[0m       return self._build_call_outputs(self._inference_function.call(\n\u001b[0;32m-> 1960\u001b[0;31m           ctx, args, cancellation_manager=cancellation_manager))\n\u001b[0m\u001b[1;32m   1961\u001b[0m     forward_backward = self._select_forward_and_backward_functions(\n\u001b[1;32m   1962\u001b[0m         \u001b[0margs\u001b[0m\u001b[0;34m,\u001b[0m\u001b[0;34m\u001b[0m\u001b[0;34m\u001b[0m\u001b[0m\n",
            "\u001b[0;32m/usr/local/lib/python3.7/dist-packages/tensorflow/python/eager/function.py\u001b[0m in \u001b[0;36mcall\u001b[0;34m(self, ctx, args, cancellation_manager)\u001b[0m\n\u001b[1;32m    601\u001b[0m               \u001b[0minputs\u001b[0m\u001b[0;34m=\u001b[0m\u001b[0margs\u001b[0m\u001b[0;34m,\u001b[0m\u001b[0;34m\u001b[0m\u001b[0;34m\u001b[0m\u001b[0m\n\u001b[1;32m    602\u001b[0m               \u001b[0mattrs\u001b[0m\u001b[0;34m=\u001b[0m\u001b[0mattrs\u001b[0m\u001b[0;34m,\u001b[0m\u001b[0;34m\u001b[0m\u001b[0;34m\u001b[0m\u001b[0m\n\u001b[0;32m--> 603\u001b[0;31m               ctx=ctx)\n\u001b[0m\u001b[1;32m    604\u001b[0m         \u001b[0;32melse\u001b[0m\u001b[0;34m:\u001b[0m\u001b[0;34m\u001b[0m\u001b[0;34m\u001b[0m\u001b[0m\n\u001b[1;32m    605\u001b[0m           outputs = execute.execute_with_cancellation(\n",
            "\u001b[0;32m/usr/local/lib/python3.7/dist-packages/tensorflow/python/eager/execute.py\u001b[0m in \u001b[0;36mquick_execute\u001b[0;34m(op_name, num_outputs, inputs, attrs, ctx, name)\u001b[0m\n\u001b[1;32m     57\u001b[0m     \u001b[0mctx\u001b[0m\u001b[0;34m.\u001b[0m\u001b[0mensure_initialized\u001b[0m\u001b[0;34m(\u001b[0m\u001b[0;34m)\u001b[0m\u001b[0;34m\u001b[0m\u001b[0;34m\u001b[0m\u001b[0m\n\u001b[1;32m     58\u001b[0m     tensors = pywrap_tfe.TFE_Py_Execute(ctx._handle, device_name, op_name,\n\u001b[0;32m---> 59\u001b[0;31m                                         inputs, attrs, num_outputs)\n\u001b[0m\u001b[1;32m     60\u001b[0m   \u001b[0;32mexcept\u001b[0m \u001b[0mcore\u001b[0m\u001b[0;34m.\u001b[0m\u001b[0m_NotOkStatusException\u001b[0m \u001b[0;32mas\u001b[0m \u001b[0me\u001b[0m\u001b[0;34m:\u001b[0m\u001b[0;34m\u001b[0m\u001b[0;34m\u001b[0m\u001b[0m\n\u001b[1;32m     61\u001b[0m     \u001b[0;32mif\u001b[0m \u001b[0mname\u001b[0m \u001b[0;32mis\u001b[0m \u001b[0;32mnot\u001b[0m \u001b[0;32mNone\u001b[0m\u001b[0;34m:\u001b[0m\u001b[0;34m\u001b[0m\u001b[0;34m\u001b[0m\u001b[0m\n",
            "\u001b[0;31mKeyboardInterrupt\u001b[0m: "
          ]
        }
      ]
    },
    {
      "cell_type": "markdown",
      "metadata": {
        "id": "BwnHhn40eOhI"
      },
      "source": [
        "# BIG NOTE "
      ]
    },
    {
      "cell_type": "markdown",
      "metadata": {
        "id": "nUw3qNsYg4NR"
      },
      "source": [
        "We noted that the accuracy saturated at epoch number 8 so , we stopped fitting process , because there will not be a big shot increase after this accuracy "
      ]
    }
  ]
}